{
  "nbformat": 4,
  "nbformat_minor": 0,
  "metadata": {
    "colab": {
      "name": "P4 - Clasifiación.ipynb",
      "provenance": [],
      "collapsed_sections": [
        "coklr2u2yZTW",
        "miCRSflx1s3J"
      ],
      "toc_visible": true
    },
    "kernelspec": {
      "name": "python3",
      "display_name": "Python 3"
    }
  },
  "cells": [
    {
      "cell_type": "markdown",
      "metadata": {
        "id": "Kez38-AZQUT2"
      },
      "source": [
        "# Práctica 4: Clasificación\n",
        "## Tratamiento Inteligente de Datos\n",
        "\n",
        "Autor: Pedro Manuel Flores Crespo\n"
      ]
    },
    {
      "cell_type": "markdown",
      "metadata": {
        "id": "X55TzNNagnN1"
      },
      "source": [
        "### Cargamos los datos"
      ]
    },
    {
      "cell_type": "markdown",
      "metadata": {
        "id": "6y1ZKTM4QceB"
      },
      "source": [
        "Primero unas importaciones básicas"
      ]
    },
    {
      "cell_type": "code",
      "metadata": {
        "id": "Qv96msSRUZwC"
      },
      "source": [
        "import pandas as pd \n",
        "from sklearn import tree\n",
        "import numpy as np\n",
        "import matplotlib.pyplot as plt"
      ],
      "execution_count": 302,
      "outputs": []
    },
    {
      "cell_type": "markdown",
      "metadata": {
        "id": "ZEockJTgjadi"
      },
      "source": [
        "Cargamos el archivo (es necesario subirlo al espacio de trabajo)"
      ]
    },
    {
      "cell_type": "code",
      "metadata": {
        "id": "xbh5IKaLWMJr",
        "colab": {
          "base_uri": "https://localhost:8080/",
          "height": 204
        },
        "outputId": "c62c4dfe-d7f8-4f39-ab1e-de9dc2252da8"
      },
      "source": [
        "subastas = pd.read_excel(\"eBayAuctions.xls\")\n",
        "subastas.head()"
      ],
      "execution_count": 303,
      "outputs": [
        {
          "output_type": "execute_result",
          "data": {
            "text/html": [
              "<div>\n",
              "<style scoped>\n",
              "    .dataframe tbody tr th:only-of-type {\n",
              "        vertical-align: middle;\n",
              "    }\n",
              "\n",
              "    .dataframe tbody tr th {\n",
              "        vertical-align: top;\n",
              "    }\n",
              "\n",
              "    .dataframe thead th {\n",
              "        text-align: right;\n",
              "    }\n",
              "</style>\n",
              "<table border=\"1\" class=\"dataframe\">\n",
              "  <thead>\n",
              "    <tr style=\"text-align: right;\">\n",
              "      <th></th>\n",
              "      <th>Category</th>\n",
              "      <th>currency</th>\n",
              "      <th>sellerRating</th>\n",
              "      <th>Duration</th>\n",
              "      <th>endDay</th>\n",
              "      <th>ClosePrice</th>\n",
              "      <th>OpenPrice</th>\n",
              "      <th>Competitive?</th>\n",
              "    </tr>\n",
              "  </thead>\n",
              "  <tbody>\n",
              "    <tr>\n",
              "      <th>0</th>\n",
              "      <td>Music/Movie/Game</td>\n",
              "      <td>US</td>\n",
              "      <td>3249</td>\n",
              "      <td>5</td>\n",
              "      <td>Mon</td>\n",
              "      <td>0.01</td>\n",
              "      <td>0.01</td>\n",
              "      <td>0</td>\n",
              "    </tr>\n",
              "    <tr>\n",
              "      <th>1</th>\n",
              "      <td>Music/Movie/Game</td>\n",
              "      <td>US</td>\n",
              "      <td>3249</td>\n",
              "      <td>5</td>\n",
              "      <td>Mon</td>\n",
              "      <td>0.01</td>\n",
              "      <td>0.01</td>\n",
              "      <td>0</td>\n",
              "    </tr>\n",
              "    <tr>\n",
              "      <th>2</th>\n",
              "      <td>Music/Movie/Game</td>\n",
              "      <td>US</td>\n",
              "      <td>3249</td>\n",
              "      <td>5</td>\n",
              "      <td>Mon</td>\n",
              "      <td>0.01</td>\n",
              "      <td>0.01</td>\n",
              "      <td>0</td>\n",
              "    </tr>\n",
              "    <tr>\n",
              "      <th>3</th>\n",
              "      <td>Music/Movie/Game</td>\n",
              "      <td>US</td>\n",
              "      <td>3249</td>\n",
              "      <td>5</td>\n",
              "      <td>Mon</td>\n",
              "      <td>0.01</td>\n",
              "      <td>0.01</td>\n",
              "      <td>0</td>\n",
              "    </tr>\n",
              "    <tr>\n",
              "      <th>4</th>\n",
              "      <td>Music/Movie/Game</td>\n",
              "      <td>US</td>\n",
              "      <td>3249</td>\n",
              "      <td>5</td>\n",
              "      <td>Mon</td>\n",
              "      <td>0.01</td>\n",
              "      <td>0.01</td>\n",
              "      <td>0</td>\n",
              "    </tr>\n",
              "  </tbody>\n",
              "</table>\n",
              "</div>"
            ],
            "text/plain": [
              "           Category currency  sellerRating  ...  ClosePrice OpenPrice  Competitive?\n",
              "0  Music/Movie/Game       US          3249  ...        0.01      0.01             0\n",
              "1  Music/Movie/Game       US          3249  ...        0.01      0.01             0\n",
              "2  Music/Movie/Game       US          3249  ...        0.01      0.01             0\n",
              "3  Music/Movie/Game       US          3249  ...        0.01      0.01             0\n",
              "4  Music/Movie/Game       US          3249  ...        0.01      0.01             0\n",
              "\n",
              "[5 rows x 8 columns]"
            ]
          },
          "metadata": {
            "tags": []
          },
          "execution_count": 303
        }
      ]
    },
    {
      "cell_type": "code",
      "metadata": {
        "colab": {
          "base_uri": "https://localhost:8080/"
        },
        "id": "zg4ad6t5fPGK",
        "outputId": "13d1a6ac-e8ed-47b3-e8a9-b878987c93a0"
      },
      "source": [
        "subastas['Category'].value_counts()"
      ],
      "execution_count": 304,
      "outputs": [
        {
          "output_type": "execute_result",
          "data": {
            "text/plain": [
              "Music/Movie/Game        403\n",
              "Collectibles            239\n",
              "Toys/Hobbies            234\n",
              "Automotive              178\n",
              "Antique/Art/Craft       177\n",
              "SportingGoods           124\n",
              "Clothing/Accessories    119\n",
              "Home/Garden             102\n",
              "Jewelry                  82\n",
              "Health/Beauty            64\n",
              "Electronics              55\n",
              "Books                    54\n",
              "Coins/Stamps             37\n",
              "Computer                 36\n",
              "Pottery/Glass            20\n",
              "Business/Industrial      18\n",
              "EverythingElse           17\n",
              "Photography              13\n",
              "Name: Category, dtype: int64"
            ]
          },
          "metadata": {
            "tags": []
          },
          "execution_count": 304
        }
      ]
    },
    {
      "cell_type": "code",
      "metadata": {
        "colab": {
          "base_uri": "https://localhost:8080/"
        },
        "id": "jKTokUMbfVoD",
        "outputId": "4f9308b8-12f0-41fd-ebdc-9bc1ef3b6468"
      },
      "source": [
        "subastas['currency'].value_counts()"
      ],
      "execution_count": 305,
      "outputs": [
        {
          "output_type": "execute_result",
          "data": {
            "text/plain": [
              "US     1292\n",
              "EUR     533\n",
              "GBP     147\n",
              "Name: currency, dtype: int64"
            ]
          },
          "metadata": {
            "tags": []
          },
          "execution_count": 305
        }
      ]
    },
    {
      "cell_type": "code",
      "metadata": {
        "colab": {
          "base_uri": "https://localhost:8080/"
        },
        "id": "FKf_Wt-xfbwQ",
        "outputId": "a9da02e4-2933-4900-afa7-b5a38c808149"
      },
      "source": [
        "subastas['endDay'].value_counts()"
      ],
      "execution_count": 306,
      "outputs": [
        {
          "output_type": "execute_result",
          "data": {
            "text/plain": [
              "Mon    548\n",
              "Sat    351\n",
              "Sun    338\n",
              "Fri    287\n",
              "Thu    202\n",
              "Tue    171\n",
              "Wed     75\n",
              "Name: endDay, dtype: int64"
            ]
          },
          "metadata": {
            "tags": []
          },
          "execution_count": 306
        }
      ]
    },
    {
      "cell_type": "markdown",
      "metadata": {
        "id": "5X9hiqOmtagw"
      },
      "source": [
        "Vemos los tipos de dato que son cada columna"
      ]
    },
    {
      "cell_type": "code",
      "metadata": {
        "colab": {
          "base_uri": "https://localhost:8080/"
        },
        "id": "lUwjhy5fkOjX",
        "outputId": "e8cac02c-b1be-42d2-a4f6-498c263a392a"
      },
      "source": [
        "subastas.dtypes"
      ],
      "execution_count": 307,
      "outputs": [
        {
          "output_type": "execute_result",
          "data": {
            "text/plain": [
              "Category         object\n",
              "currency         object\n",
              "sellerRating      int64\n",
              "Duration          int64\n",
              "endDay           object\n",
              "ClosePrice      float64\n",
              "OpenPrice       float64\n",
              "Competitive?      int64\n",
              "dtype: object"
            ]
          },
          "metadata": {
            "tags": []
          },
          "execution_count": 307
        }
      ]
    },
    {
      "cell_type": "code",
      "metadata": {
        "colab": {
          "base_uri": "https://localhost:8080/",
          "height": 297
        },
        "id": "YebWAuPpyiCj",
        "outputId": "2802a2f5-5b73-41be-cf98-5872af952140"
      },
      "source": [
        "subastas.describe()"
      ],
      "execution_count": 308,
      "outputs": [
        {
          "output_type": "execute_result",
          "data": {
            "text/html": [
              "<div>\n",
              "<style scoped>\n",
              "    .dataframe tbody tr th:only-of-type {\n",
              "        vertical-align: middle;\n",
              "    }\n",
              "\n",
              "    .dataframe tbody tr th {\n",
              "        vertical-align: top;\n",
              "    }\n",
              "\n",
              "    .dataframe thead th {\n",
              "        text-align: right;\n",
              "    }\n",
              "</style>\n",
              "<table border=\"1\" class=\"dataframe\">\n",
              "  <thead>\n",
              "    <tr style=\"text-align: right;\">\n",
              "      <th></th>\n",
              "      <th>sellerRating</th>\n",
              "      <th>Duration</th>\n",
              "      <th>ClosePrice</th>\n",
              "      <th>OpenPrice</th>\n",
              "      <th>Competitive?</th>\n",
              "    </tr>\n",
              "  </thead>\n",
              "  <tbody>\n",
              "    <tr>\n",
              "      <th>count</th>\n",
              "      <td>1972.000000</td>\n",
              "      <td>1972.000000</td>\n",
              "      <td>1972.000000</td>\n",
              "      <td>1972.000000</td>\n",
              "      <td>1972.000000</td>\n",
              "    </tr>\n",
              "    <tr>\n",
              "      <th>mean</th>\n",
              "      <td>3560.238337</td>\n",
              "      <td>6.486308</td>\n",
              "      <td>36.449087</td>\n",
              "      <td>23.583208</td>\n",
              "      <td>0.540568</td>\n",
              "    </tr>\n",
              "    <tr>\n",
              "      <th>std</th>\n",
              "      <td>5973.011033</td>\n",
              "      <td>2.052906</td>\n",
              "      <td>89.493858</td>\n",
              "      <td>246.719772</td>\n",
              "      <td>0.498478</td>\n",
              "    </tr>\n",
              "    <tr>\n",
              "      <th>min</th>\n",
              "      <td>0.000000</td>\n",
              "      <td>1.000000</td>\n",
              "      <td>0.010000</td>\n",
              "      <td>0.010000</td>\n",
              "      <td>0.000000</td>\n",
              "    </tr>\n",
              "    <tr>\n",
              "      <th>25%</th>\n",
              "      <td>595.000000</td>\n",
              "      <td>5.000000</td>\n",
              "      <td>4.907500</td>\n",
              "      <td>1.230000</td>\n",
              "      <td>0.000000</td>\n",
              "    </tr>\n",
              "    <tr>\n",
              "      <th>50%</th>\n",
              "      <td>1853.000000</td>\n",
              "      <td>7.000000</td>\n",
              "      <td>9.995000</td>\n",
              "      <td>4.873549</td>\n",
              "      <td>1.000000</td>\n",
              "    </tr>\n",
              "    <tr>\n",
              "      <th>75%</th>\n",
              "      <td>3380.000000</td>\n",
              "      <td>7.000000</td>\n",
              "      <td>28.000000</td>\n",
              "      <td>9.990000</td>\n",
              "      <td>1.000000</td>\n",
              "    </tr>\n",
              "    <tr>\n",
              "      <th>max</th>\n",
              "      <td>37727.000000</td>\n",
              "      <td>10.000000</td>\n",
              "      <td>999.000000</td>\n",
              "      <td>8925.000000</td>\n",
              "      <td>1.000000</td>\n",
              "    </tr>\n",
              "  </tbody>\n",
              "</table>\n",
              "</div>"
            ],
            "text/plain": [
              "       sellerRating     Duration   ClosePrice    OpenPrice  Competitive?\n",
              "count   1972.000000  1972.000000  1972.000000  1972.000000   1972.000000\n",
              "mean    3560.238337     6.486308    36.449087    23.583208      0.540568\n",
              "std     5973.011033     2.052906    89.493858   246.719772      0.498478\n",
              "min        0.000000     1.000000     0.010000     0.010000      0.000000\n",
              "25%      595.000000     5.000000     4.907500     1.230000      0.000000\n",
              "50%     1853.000000     7.000000     9.995000     4.873549      1.000000\n",
              "75%     3380.000000     7.000000    28.000000     9.990000      1.000000\n",
              "max    37727.000000    10.000000   999.000000  8925.000000      1.000000"
            ]
          },
          "metadata": {
            "tags": []
          },
          "execution_count": 308
        }
      ]
    },
    {
      "cell_type": "markdown",
      "metadata": {
        "id": "Izk0h42Mjijg"
      },
      "source": [
        "### Preprocesamiento\n",
        "\n"
      ]
    },
    {
      "cell_type": "markdown",
      "metadata": {
        "id": "C0QqIMAjj7jv"
      },
      "source": [
        "Lo que vamos a hacer es convertir los atributos nominales/categóricos a numéricos "
      ]
    },
    {
      "cell_type": "code",
      "metadata": {
        "id": "6mO0yOvRk-tf"
      },
      "source": [
        "from sklearn.preprocessing import LabelEncoder"
      ],
      "execution_count": 309,
      "outputs": []
    },
    {
      "cell_type": "code",
      "metadata": {
        "colab": {
          "base_uri": "https://localhost:8080/",
          "height": 204
        },
        "id": "oHqxchjUjh8N",
        "outputId": "955b02ba-10ad-4d03-f0a5-760cbdbd0d5b"
      },
      "source": [
        "lb_make = LabelEncoder()\n",
        "subastas[\"Category\"] = lb_make.fit_transform(subastas[\"Category\"])\n",
        "subastas[\"currency\"] = lb_make.fit_transform(subastas[\"currency\"])\n",
        "subastas[\"endDay\"] = lb_make.fit_transform(subastas[\"endDay\"])\n",
        "subastas.head()"
      ],
      "execution_count": 310,
      "outputs": [
        {
          "output_type": "execute_result",
          "data": {
            "text/html": [
              "<div>\n",
              "<style scoped>\n",
              "    .dataframe tbody tr th:only-of-type {\n",
              "        vertical-align: middle;\n",
              "    }\n",
              "\n",
              "    .dataframe tbody tr th {\n",
              "        vertical-align: top;\n",
              "    }\n",
              "\n",
              "    .dataframe thead th {\n",
              "        text-align: right;\n",
              "    }\n",
              "</style>\n",
              "<table border=\"1\" class=\"dataframe\">\n",
              "  <thead>\n",
              "    <tr style=\"text-align: right;\">\n",
              "      <th></th>\n",
              "      <th>Category</th>\n",
              "      <th>currency</th>\n",
              "      <th>sellerRating</th>\n",
              "      <th>Duration</th>\n",
              "      <th>endDay</th>\n",
              "      <th>ClosePrice</th>\n",
              "      <th>OpenPrice</th>\n",
              "      <th>Competitive?</th>\n",
              "    </tr>\n",
              "  </thead>\n",
              "  <tbody>\n",
              "    <tr>\n",
              "      <th>0</th>\n",
              "      <td>13</td>\n",
              "      <td>2</td>\n",
              "      <td>3249</td>\n",
              "      <td>5</td>\n",
              "      <td>1</td>\n",
              "      <td>0.01</td>\n",
              "      <td>0.01</td>\n",
              "      <td>0</td>\n",
              "    </tr>\n",
              "    <tr>\n",
              "      <th>1</th>\n",
              "      <td>13</td>\n",
              "      <td>2</td>\n",
              "      <td>3249</td>\n",
              "      <td>5</td>\n",
              "      <td>1</td>\n",
              "      <td>0.01</td>\n",
              "      <td>0.01</td>\n",
              "      <td>0</td>\n",
              "    </tr>\n",
              "    <tr>\n",
              "      <th>2</th>\n",
              "      <td>13</td>\n",
              "      <td>2</td>\n",
              "      <td>3249</td>\n",
              "      <td>5</td>\n",
              "      <td>1</td>\n",
              "      <td>0.01</td>\n",
              "      <td>0.01</td>\n",
              "      <td>0</td>\n",
              "    </tr>\n",
              "    <tr>\n",
              "      <th>3</th>\n",
              "      <td>13</td>\n",
              "      <td>2</td>\n",
              "      <td>3249</td>\n",
              "      <td>5</td>\n",
              "      <td>1</td>\n",
              "      <td>0.01</td>\n",
              "      <td>0.01</td>\n",
              "      <td>0</td>\n",
              "    </tr>\n",
              "    <tr>\n",
              "      <th>4</th>\n",
              "      <td>13</td>\n",
              "      <td>2</td>\n",
              "      <td>3249</td>\n",
              "      <td>5</td>\n",
              "      <td>1</td>\n",
              "      <td>0.01</td>\n",
              "      <td>0.01</td>\n",
              "      <td>0</td>\n",
              "    </tr>\n",
              "  </tbody>\n",
              "</table>\n",
              "</div>"
            ],
            "text/plain": [
              "   Category  currency  sellerRating  ...  ClosePrice  OpenPrice  Competitive?\n",
              "0        13         2          3249  ...        0.01       0.01             0\n",
              "1        13         2          3249  ...        0.01       0.01             0\n",
              "2        13         2          3249  ...        0.01       0.01             0\n",
              "3        13         2          3249  ...        0.01       0.01             0\n",
              "4        13         2          3249  ...        0.01       0.01             0\n",
              "\n",
              "[5 rows x 8 columns]"
            ]
          },
          "metadata": {
            "tags": []
          },
          "execution_count": 310
        }
      ]
    },
    {
      "cell_type": "markdown",
      "metadata": {
        "id": "xnA5D4XXf87Q"
      },
      "source": [
        "Contamos los valores para ver la correspondia entre la categoría y el número asignado"
      ]
    },
    {
      "cell_type": "code",
      "metadata": {
        "colab": {
          "base_uri": "https://localhost:8080/"
        },
        "id": "boTYbU0kfllM",
        "outputId": "1e9ae744-6dcb-4d56-9604-a34f4afac6da"
      },
      "source": [
        "subastas['Category'].value_counts()"
      ],
      "execution_count": 311,
      "outputs": [
        {
          "output_type": "execute_result",
          "data": {
            "text/plain": [
              "13    403\n",
              "6     239\n",
              "17    234\n",
              "1     178\n",
              "0     177\n",
              "16    124\n",
              "4     119\n",
              "11    102\n",
              "12     82\n",
              "10     64\n",
              "8      55\n",
              "2      54\n",
              "5      37\n",
              "7      36\n",
              "15     20\n",
              "3      18\n",
              "9      17\n",
              "14     13\n",
              "Name: Category, dtype: int64"
            ]
          },
          "metadata": {
            "tags": []
          },
          "execution_count": 311
        }
      ]
    },
    {
      "cell_type": "code",
      "metadata": {
        "colab": {
          "base_uri": "https://localhost:8080/"
        },
        "id": "3KyCQXnZfqVp",
        "outputId": "744ba846-1728-49cd-9cd4-07526f518fe2"
      },
      "source": [
        "subastas['currency'].value_counts()"
      ],
      "execution_count": 312,
      "outputs": [
        {
          "output_type": "execute_result",
          "data": {
            "text/plain": [
              "2    1292\n",
              "0     533\n",
              "1     147\n",
              "Name: currency, dtype: int64"
            ]
          },
          "metadata": {
            "tags": []
          },
          "execution_count": 312
        }
      ]
    },
    {
      "cell_type": "code",
      "metadata": {
        "colab": {
          "base_uri": "https://localhost:8080/"
        },
        "id": "NYCxZrdYfwOL",
        "outputId": "5a48a308-e6e6-44bf-8a2b-560620b52e1b"
      },
      "source": [
        "subastas['endDay'].value_counts()"
      ],
      "execution_count": 313,
      "outputs": [
        {
          "output_type": "execute_result",
          "data": {
            "text/plain": [
              "1    548\n",
              "2    351\n",
              "3    338\n",
              "0    287\n",
              "4    202\n",
              "5    171\n",
              "6     75\n",
              "Name: endDay, dtype: int64"
            ]
          },
          "metadata": {
            "tags": []
          },
          "execution_count": 313
        }
      ]
    },
    {
      "cell_type": "markdown",
      "metadata": {
        "id": "DhjAqAffl8LG"
      },
      "source": [
        "También vemos que columnas como 'sellerRaring', 'ClosePrice' y 'OpenPrince' tienen demsiados atributos por lo que vamos a realizar una discretización mediante `pd.qcut` (Quantile-based discretization function). Primero vemos las separaciones que hace y luego las asignamos."
      ]
    },
    {
      "cell_type": "code",
      "metadata": {
        "colab": {
          "base_uri": "https://localhost:8080/"
        },
        "id": "0zIIwBymwOwS",
        "outputId": "9d247cb0-6fd4-4e8e-92c6-8ffe74613ad4"
      },
      "source": [
        "pd.qcut(subastas['sellerRating'], 10, labels=False, retbins=True)"
      ],
      "execution_count": 314,
      "outputs": [
        {
          "output_type": "execute_result",
          "data": {
            "text/plain": [
              "(0       6\n",
              " 1       6\n",
              " 2       6\n",
              " 3       6\n",
              " 4       6\n",
              "        ..\n",
              " 1967    6\n",
              " 1968    0\n",
              " 1969    4\n",
              " 1970    0\n",
              " 1971    1\n",
              " Name: sellerRating, Length: 1972, dtype: int64,\n",
              " array([    0. ,   112.1,   404.2,   743. ,  1184.8,  1853. ,  2380.4,\n",
              "         3249. ,  3613. ,  5702.8, 37727. ]))"
            ]
          },
          "metadata": {
            "tags": []
          },
          "execution_count": 314
        }
      ]
    },
    {
      "cell_type": "code",
      "metadata": {
        "colab": {
          "base_uri": "https://localhost:8080/"
        },
        "id": "s0wTOthqxth8",
        "outputId": "bb3f298d-ebc7-4227-b3e9-e56ae480aeaa"
      },
      "source": [
        "pd.qcut(subastas['OpenPrice'], 10, labels=False, retbins=True)"
      ],
      "execution_count": 315,
      "outputs": [
        {
          "output_type": "execute_result",
          "data": {
            "text/plain": [
              "(0       0\n",
              " 1       0\n",
              " 2       0\n",
              " 3       0\n",
              " 4       0\n",
              "        ..\n",
              " 1967    9\n",
              " 1968    9\n",
              " 1969    9\n",
              " 1970    9\n",
              " 1971    9\n",
              " Name: OpenPrice, Length: 1972, dtype: int64,\n",
              " array([1.00000000e-02, 9.90000000e-01, 1.22975254e+00, 1.99000000e+00,\n",
              "        3.00000000e+00, 4.87354906e+00, 6.50000000e+00, 9.97800000e+00,\n",
              "        1.21750675e+01, 2.49900000e+01, 8.92500000e+03]))"
            ]
          },
          "metadata": {
            "tags": []
          },
          "execution_count": 315
        }
      ]
    },
    {
      "cell_type": "code",
      "metadata": {
        "colab": {
          "base_uri": "https://localhost:8080/"
        },
        "id": "AB7S8STWx4Ad",
        "outputId": "1900dfb5-95fa-4481-9dd5-3f2ef63b7b47"
      },
      "source": [
        "pd.qcut(subastas['ClosePrice'], 10, labels=False, retbins=True)"
      ],
      "execution_count": 316,
      "outputs": [
        {
          "output_type": "execute_result",
          "data": {
            "text/plain": [
              "(0       0\n",
              " 1       0\n",
              " 2       0\n",
              " 3       0\n",
              " 4       0\n",
              "        ..\n",
              " 1967    9\n",
              " 1968    9\n",
              " 1969    9\n",
              " 1970    9\n",
              " 1971    9\n",
              " Name: ClosePrice, Length: 1972, dtype: int64,\n",
              " array([1.0000e-02, 2.2410e+00, 3.8540e+00, 5.5860e+00, 7.5000e+00,\n",
              "        9.9950e+00, 1.4974e+01, 2.2147e+01, 3.6770e+01, 8.0999e+01,\n",
              "        9.9900e+02]))"
            ]
          },
          "metadata": {
            "tags": []
          },
          "execution_count": 316
        }
      ]
    },
    {
      "cell_type": "code",
      "metadata": {
        "colab": {
          "base_uri": "https://localhost:8080/",
          "height": 204
        },
        "id": "ooXCcRleeuP_",
        "outputId": "d4c0c627-241f-421c-b470-909c153ce016"
      },
      "source": [
        "subastas['sellerRating'] = pd.qcut(subastas['sellerRating'], 10, labels=False)\n",
        "subastas['OpenPrice'] = pd.qcut(subastas['OpenPrice'], 10, labels=False)\n",
        "subastas['ClosePrice'] = pd.qcut(subastas['ClosePrice'], 10, labels=False)\n",
        "subastas.head()"
      ],
      "execution_count": 317,
      "outputs": [
        {
          "output_type": "execute_result",
          "data": {
            "text/html": [
              "<div>\n",
              "<style scoped>\n",
              "    .dataframe tbody tr th:only-of-type {\n",
              "        vertical-align: middle;\n",
              "    }\n",
              "\n",
              "    .dataframe tbody tr th {\n",
              "        vertical-align: top;\n",
              "    }\n",
              "\n",
              "    .dataframe thead th {\n",
              "        text-align: right;\n",
              "    }\n",
              "</style>\n",
              "<table border=\"1\" class=\"dataframe\">\n",
              "  <thead>\n",
              "    <tr style=\"text-align: right;\">\n",
              "      <th></th>\n",
              "      <th>Category</th>\n",
              "      <th>currency</th>\n",
              "      <th>sellerRating</th>\n",
              "      <th>Duration</th>\n",
              "      <th>endDay</th>\n",
              "      <th>ClosePrice</th>\n",
              "      <th>OpenPrice</th>\n",
              "      <th>Competitive?</th>\n",
              "    </tr>\n",
              "  </thead>\n",
              "  <tbody>\n",
              "    <tr>\n",
              "      <th>0</th>\n",
              "      <td>13</td>\n",
              "      <td>2</td>\n",
              "      <td>6</td>\n",
              "      <td>5</td>\n",
              "      <td>1</td>\n",
              "      <td>0</td>\n",
              "      <td>0</td>\n",
              "      <td>0</td>\n",
              "    </tr>\n",
              "    <tr>\n",
              "      <th>1</th>\n",
              "      <td>13</td>\n",
              "      <td>2</td>\n",
              "      <td>6</td>\n",
              "      <td>5</td>\n",
              "      <td>1</td>\n",
              "      <td>0</td>\n",
              "      <td>0</td>\n",
              "      <td>0</td>\n",
              "    </tr>\n",
              "    <tr>\n",
              "      <th>2</th>\n",
              "      <td>13</td>\n",
              "      <td>2</td>\n",
              "      <td>6</td>\n",
              "      <td>5</td>\n",
              "      <td>1</td>\n",
              "      <td>0</td>\n",
              "      <td>0</td>\n",
              "      <td>0</td>\n",
              "    </tr>\n",
              "    <tr>\n",
              "      <th>3</th>\n",
              "      <td>13</td>\n",
              "      <td>2</td>\n",
              "      <td>6</td>\n",
              "      <td>5</td>\n",
              "      <td>1</td>\n",
              "      <td>0</td>\n",
              "      <td>0</td>\n",
              "      <td>0</td>\n",
              "    </tr>\n",
              "    <tr>\n",
              "      <th>4</th>\n",
              "      <td>13</td>\n",
              "      <td>2</td>\n",
              "      <td>6</td>\n",
              "      <td>5</td>\n",
              "      <td>1</td>\n",
              "      <td>0</td>\n",
              "      <td>0</td>\n",
              "      <td>0</td>\n",
              "    </tr>\n",
              "  </tbody>\n",
              "</table>\n",
              "</div>"
            ],
            "text/plain": [
              "   Category  currency  sellerRating  ...  ClosePrice  OpenPrice  Competitive?\n",
              "0        13         2             6  ...           0          0             0\n",
              "1        13         2             6  ...           0          0             0\n",
              "2        13         2             6  ...           0          0             0\n",
              "3        13         2             6  ...           0          0             0\n",
              "4        13         2             6  ...           0          0             0\n",
              "\n",
              "[5 rows x 8 columns]"
            ]
          },
          "metadata": {
            "tags": []
          },
          "execution_count": 317
        }
      ]
    },
    {
      "cell_type": "markdown",
      "metadata": {
        "id": "pn9YMPy6ouxu"
      },
      "source": [
        "## Clasificadores"
      ]
    },
    {
      "cell_type": "code",
      "metadata": {
        "id": "pL4GrH6moxcy"
      },
      "source": [
        "'''\n",
        "Separamos las columnas para predecir de la columna 'clase'\n",
        "'''\n",
        "seed = 77\n",
        "test = 0.2\n",
        "def splitClase(df):\n",
        "  datos = df.iloc[:, :-1]\n",
        "  labels = df['Competitive?']\n",
        "  return datos, labels"
      ],
      "execution_count": 318,
      "outputs": []
    },
    {
      "cell_type": "markdown",
      "metadata": {
        "id": "kSytoW3Mtz81"
      },
      "source": [
        "### Árboles de decisión"
      ]
    },
    {
      "cell_type": "code",
      "metadata": {
        "id": "V19ZkJGlpC3K"
      },
      "source": [
        "from sklearn import tree\n",
        "from sklearn.model_selection import cross_val_score, KFold, train_test_split\n",
        "from sklearn import metrics"
      ],
      "execution_count": 319,
      "outputs": []
    },
    {
      "cell_type": "code",
      "metadata": {
        "id": "3yk4Oxkipxvx"
      },
      "source": [
        "data, label = splitClase(subastas)"
      ],
      "execution_count": 320,
      "outputs": []
    },
    {
      "cell_type": "code",
      "metadata": {
        "id": "e-RpZFMpvd88"
      },
      "source": [
        "k_fold = KFold(n_splits=5, shuffle=True, random_state=seed)"
      ],
      "execution_count": 321,
      "outputs": []
    },
    {
      "cell_type": "code",
      "metadata": {
        "colab": {
          "base_uri": "https://localhost:8080/"
        },
        "id": "l0j0kyIeouX0",
        "outputId": "5a6f777b-be53-49b0-a3ef-9edfeb71c258"
      },
      "source": [
        "depth = []\n",
        "for i in range(3,15):\n",
        "    clf = tree.DecisionTreeClassifier(max_depth=i, random_state=seed, criterion='entropy')\n",
        "    scores = cross_val_score(estimator=clf, X=data, y=label, cv=k_fold)\n",
        "    depth.append((i,scores.mean(), 'entropy'))\n",
        "    clf = tree.DecisionTreeClassifier(max_depth=i, random_state=seed, criterion='gini')\n",
        "    scores = cross_val_score(estimator=clf, X=data, y=label, cv=k_fold)\n",
        "    depth.append((i,scores.mean(), 'gini'))\n",
        "    #depth.append((i,scores))\n",
        "print(depth)\n"
      ],
      "execution_count": 322,
      "outputs": [
        {
          "output_type": "stream",
          "text": [
            "[(3, 0.734278738032513, 'entropy'), (3, 0.734278738032513, 'gini'), (4, 0.7895508578037653, 'entropy'), (4, 0.7946308552335668, 'gini'), (5, 0.8143918267686179, 'entropy'), (5, 0.8113589924821693, 'gini'), (6, 0.8164197134228619, 'entropy'), (6, 0.8240352117201054, 'gini'), (7, 0.8336631754803058, 'entropy'), (7, 0.8397442652444902, 'gini'), (8, 0.8453254513911201, 'entropy'), (8, 0.8498926942106276, 'gini'), (9, 0.8468470089314399, 'entropy'), (9, 0.8473571933431858, 'gini'), (10, 0.8478648075563837, 'entropy'), (10, 0.8463432500160637, 'gini'), (11, 0.8387290368180942, 'entropy'), (11, 0.8432962796376021, 'gini'), (12, 0.8356794962410847, 'entropy'), (12, 0.838225277902718, 'gini'), (13, 0.8392392212298401, 'entropy'), (13, 0.8392405063291137, 'gini'), (14, 0.8351770224249824, 'entropy'), (14, 0.8361999614470218, 'gini')]\n"
          ],
          "name": "stdout"
        }
      ]
    },
    {
      "cell_type": "code",
      "metadata": {
        "colab": {
          "base_uri": "https://localhost:8080/"
        },
        "id": "mrofLGb5eTA9",
        "outputId": "87cc654b-9997-48d0-dbc1-42042cd2cb51"
      },
      "source": [
        "max = -1\n",
        "pos_max = -1\n",
        "for i,j in enumerate(depth):\n",
        "  if j[1] > max:\n",
        "    max = j[1]\n",
        "    pos_max = i\n",
        "\n",
        "print(depth[pos_max])"
      ],
      "execution_count": 323,
      "outputs": [
        {
          "output_type": "stream",
          "text": [
            "(8, 0.8498926942106276, 'gini')\n"
          ],
          "name": "stdout"
        }
      ]
    },
    {
      "cell_type": "code",
      "metadata": {
        "id": "-PghEUN8uhfK"
      },
      "source": [
        " datos_train, datos_test, labels_train, labels_test = train_test_split( data, label, test_size=test, random_state=seed)"
      ],
      "execution_count": 324,
      "outputs": []
    },
    {
      "cell_type": "code",
      "metadata": {
        "id": "nkGQ9hqere0N"
      },
      "source": [
        "tree_var = tree.DecisionTreeClassifier(max_depth=8, random_state=seed, criterion='gini')\n",
        "tree_var = tree_var.fit(datos_train, labels_train)\n",
        "predictions = tree_var.predict(datos_test)"
      ],
      "execution_count": 334,
      "outputs": []
    },
    {
      "cell_type": "code",
      "metadata": {
        "colab": {
          "base_uri": "https://localhost:8080/"
        },
        "id": "gooAcuMpvAlB",
        "outputId": "57574273-568a-46e8-85df-c4e36ab625ec"
      },
      "source": [
        "print(metrics.confusion_matrix(labels_test, predictions, labels=[0, 1]))\n",
        "print(metrics.classification_report(labels_test, predictions, labels=[0, 1]))"
      ],
      "execution_count": 335,
      "outputs": [
        {
          "output_type": "stream",
          "text": [
            "[[167  16]\n",
            " [ 37 175]]\n",
            "              precision    recall  f1-score   support\n",
            "\n",
            "           0       0.82      0.91      0.86       183\n",
            "           1       0.92      0.83      0.87       212\n",
            "\n",
            "    accuracy                           0.87       395\n",
            "   macro avg       0.87      0.87      0.87       395\n",
            "weighted avg       0.87      0.87      0.87       395\n",
            "\n"
          ],
          "name": "stdout"
        }
      ]
    },
    {
      "cell_type": "code",
      "metadata": {
        "colab": {
          "base_uri": "https://localhost:8080/"
        },
        "id": "2hild0Kkrinj",
        "outputId": "13fb298e-a224-4d75-892d-25c59f989cc2"
      },
      "source": [
        "fpr_tree, tpr_tree, _ = metrics.roc_curve(labels_test, predictions)\n",
        "area = metrics.roc_auc_score(labels_test, predictions)\n",
        "area"
      ],
      "execution_count": 336,
      "outputs": [
        {
          "output_type": "execute_result",
          "data": {
            "text/plain": [
              "0.8690200020620683"
            ]
          },
          "metadata": {
            "tags": []
          },
          "execution_count": 336
        }
      ]
    },
    {
      "cell_type": "code",
      "metadata": {
        "colab": {
          "base_uri": "https://localhost:8080/",
          "height": 295
        },
        "id": "62XdBAvzw0is",
        "outputId": "0dc61045-2d95-48d7-c857-3347b500f7c1"
      },
      "source": [
        "plt.figure(1)\n",
        "plt.plot([0, 1], [0, 1], 'k--')\n",
        "plt.plot(fpr_tree, tpr_tree, label='Tree Classifier')\n",
        "plt.xlabel('False positive rate')\n",
        "plt.ylabel('True positive rate')\n",
        "plt.title('ROC curve')\n",
        "plt.legend(loc='best')\n",
        "plt.show()"
      ],
      "execution_count": 337,
      "outputs": [
        {
          "output_type": "display_data",
          "data": {
            "image/png": "[encoded data removed]",
            "text/plain": [
              "<Figure size 432x288 with 1 Axes>"
            ]
          },
          "metadata": {
            "tags": [],
            "needs_background": "light"
          }
        }
      ]
    },
    {
      "cell_type": "code",
      "metadata": {
        "colab": {
          "base_uri": "https://localhost:8080/",
          "height": 35
        },
        "id": "JUX9oMLm_TgB",
        "outputId": "b9d73b35-ff4a-486b-e64c-368191523bc2"
      },
      "source": [
        "# Para obtener un PDF con el árbol de decisión generado\n",
        "\n",
        "names = subastas.columns.tolist()[:-1]\n",
        "\n",
        "import graphviz \n",
        "dot_data = tree.export_graphviz(tree_var, out_file=None, \n",
        "                      feature_names=names, \n",
        "                      class_names = [\"1\",\"0\"],         \n",
        "                      filled=True, rounded=True,  \n",
        "                    special_characters=True)  \n",
        "graph = graphviz.Source(dot_data)  \n",
        "graph.render(\"subastas\")"
      ],
      "execution_count": 338,
      "outputs": [
        {
          "output_type": "execute_result",
          "data": {
            "application/vnd.google.colaboratory.intrinsic+json": {
              "type": "string"
            },
            "text/plain": [
              "'subastas.pdf'"
            ]
          },
          "metadata": {
            "tags": []
          },
          "execution_count": 338
        }
      ]
    },
    {
      "cell_type": "markdown",
      "metadata": {
        "id": "coklr2u2yZTW"
      },
      "source": [
        "### Regresión logística"
      ]
    },
    {
      "cell_type": "code",
      "metadata": {
        "id": "4boSdvA4yY3f"
      },
      "source": [
        "from sklearn.linear_model import LogisticRegression"
      ],
      "execution_count": null,
      "outputs": []
    },
    {
      "cell_type": "code",
      "metadata": {
        "id": "7wq17otl1h6U"
      },
      "source": [
        "logReg = LogisticRegression(max_iter=50, random_state=seed)"
      ],
      "execution_count": null,
      "outputs": []
    },
    {
      "cell_type": "code",
      "metadata": {
        "colab": {
          "base_uri": "https://localhost:8080/"
        },
        "id": "gZXWBvDM1d8Q",
        "outputId": "d0ad59f4-7f6b-462d-994a-3835860da9a1"
      },
      "source": [
        "scores = cross_val_score(estimator=logReg, X=data, y=label, cv=k_fold)\n",
        "scores.mean()"
      ],
      "execution_count": null,
      "outputs": [
        {
          "output_type": "execute_result",
          "data": {
            "text/plain": [
              "0.8007093747992032"
            ]
          },
          "metadata": {
            "tags": []
          },
          "execution_count": 247
        }
      ]
    },
    {
      "cell_type": "code",
      "metadata": {
        "id": "cnu-tP13yg0k"
      },
      "source": [
        "logReg = logReg.fit(datos_train, labels_train)\n",
        "predictions = logReg.predict(datos_test)"
      ],
      "execution_count": null,
      "outputs": []
    },
    {
      "cell_type": "code",
      "metadata": {
        "colab": {
          "base_uri": "https://localhost:8080/"
        },
        "id": "cksVe4o80fn2",
        "outputId": "27f7bf53-bff5-46c9-c0df-5019fa720571"
      },
      "source": [
        "print(metrics.confusion_matrix(labels_test, predictions, labels=[0, 1]))\n",
        "print(metrics.classification_report(labels_test, predictions, labels=[0, 1]))"
      ],
      "execution_count": null,
      "outputs": [
        {
          "output_type": "stream",
          "text": [
            "[[158  25]\n",
            " [ 45 167]]\n",
            "              precision    recall  f1-score   support\n",
            "\n",
            "           0       0.78      0.86      0.82       183\n",
            "           1       0.87      0.79      0.83       212\n",
            "\n",
            "    accuracy                           0.82       395\n",
            "   macro avg       0.82      0.83      0.82       395\n",
            "weighted avg       0.83      0.82      0.82       395\n",
            "\n"
          ],
          "name": "stdout"
        }
      ]
    },
    {
      "cell_type": "code",
      "metadata": {
        "id": "oKyc7KAw0tGO",
        "colab": {
          "base_uri": "https://localhost:8080/"
        },
        "outputId": "40c56c0d-5584-4f2b-ed9c-db267bf84f64"
      },
      "source": [
        "fpr_log, tpr_log, _ = metrics.roc_curve(labels_test, predictions)\n",
        "area = metrics.roc_auc_score(labels_test, predictions)\n",
        "area"
      ],
      "execution_count": null,
      "outputs": [
        {
          "output_type": "execute_result",
          "data": {
            "text/plain": [
              "0.8255619135993402"
            ]
          },
          "metadata": {
            "tags": []
          },
          "execution_count": 250
        }
      ]
    },
    {
      "cell_type": "code",
      "metadata": {
        "colab": {
          "base_uri": "https://localhost:8080/",
          "height": 295
        },
        "id": "RCSfYB8X0rA-",
        "outputId": "d74e8267-f93f-4101-dea4-355563232ea0"
      },
      "source": [
        "plt.figure(1)\n",
        "plt.plot([0, 1], [0, 1], 'k--')\n",
        "plt.plot(fpr_tree, tpr_tree, label='Tree Classifier')\n",
        "plt.plot(fpr_log, tpr_log, label='Logistic')\n",
        "plt.xlabel('False positive rate')\n",
        "plt.ylabel('True positive rate')\n",
        "plt.title('ROC curve')\n",
        "plt.legend(loc='best')\n",
        "plt.show()"
      ],
      "execution_count": null,
      "outputs": [
        {
          "output_type": "display_data",
          "data": {
            "image/png": "[encoded data removed]",
            "text/plain": [
              "<Figure size 432x288 with 1 Axes>"
            ]
          },
          "metadata": {
            "tags": [],
            "needs_background": "light"
          }
        }
      ]
    },
    {
      "cell_type": "markdown",
      "metadata": {
        "id": "miCRSflx1s3J"
      },
      "source": [
        "### Naive Bayes"
      ]
    },
    {
      "cell_type": "code",
      "metadata": {
        "id": "jFEQue9P1tgw"
      },
      "source": [
        "from sklearn.naive_bayes import GaussianNB"
      ],
      "execution_count": null,
      "outputs": []
    },
    {
      "cell_type": "code",
      "metadata": {
        "id": "MBMTSHhP1uDc"
      },
      "source": [
        "naive = GaussianNB()"
      ],
      "execution_count": null,
      "outputs": []
    },
    {
      "cell_type": "code",
      "metadata": {
        "colab": {
          "base_uri": "https://localhost:8080/"
        },
        "id": "AB76NTqd1uLB",
        "outputId": "eff15e0e-88f4-4b4b-e82d-cc124266e1a1"
      },
      "source": [
        "scores = cross_val_score(estimator=naive, X=data, y=label, cv=k_fold)\n",
        "scores.mean()"
      ],
      "execution_count": null,
      "outputs": [
        {
          "output_type": "execute_result",
          "data": {
            "text/plain": [
              "0.7221114181070488"
            ]
          },
          "metadata": {
            "tags": []
          },
          "execution_count": 253
        }
      ]
    },
    {
      "cell_type": "code",
      "metadata": {
        "id": "N9tJ-vEs1uHO"
      },
      "source": [
        "naive = naive.fit(datos_train, labels_train)\n",
        "predictions = naive.predict(datos_test)"
      ],
      "execution_count": null,
      "outputs": []
    },
    {
      "cell_type": "code",
      "metadata": {
        "colab": {
          "base_uri": "https://localhost:8080/"
        },
        "id": "Jx8q36Cc1t6x",
        "outputId": "9710b0a5-6da2-4efc-d25a-d2feea7ecedd"
      },
      "source": [
        "print(metrics.confusion_matrix(labels_test, predictions, labels=[0, 1]))\n",
        "print(metrics.classification_report(labels_test, predictions, labels=[0, 1]))"
      ],
      "execution_count": null,
      "outputs": [
        {
          "output_type": "stream",
          "text": [
            "[[135  48]\n",
            " [ 58 154]]\n",
            "              precision    recall  f1-score   support\n",
            "\n",
            "           0       0.70      0.74      0.72       183\n",
            "           1       0.76      0.73      0.74       212\n",
            "\n",
            "    accuracy                           0.73       395\n",
            "   macro avg       0.73      0.73      0.73       395\n",
            "weighted avg       0.73      0.73      0.73       395\n",
            "\n"
          ],
          "name": "stdout"
        }
      ]
    },
    {
      "cell_type": "code",
      "metadata": {
        "id": "uml_pEkF1tMC",
        "colab": {
          "base_uri": "https://localhost:8080/"
        },
        "outputId": "3ad6bf3b-f5f2-4f94-d788-075600118984"
      },
      "source": [
        "fpr_naive, tpr_naive, _ = metrics.roc_curve(labels_test, predictions)\n",
        "area = metrics.roc_auc_score(labels_test, predictions)\n",
        "area"
      ],
      "execution_count": null,
      "outputs": [
        {
          "output_type": "execute_result",
          "data": {
            "text/plain": [
              "0.7320600061862047"
            ]
          },
          "metadata": {
            "tags": []
          },
          "execution_count": 256
        }
      ]
    },
    {
      "cell_type": "code",
      "metadata": {
        "colab": {
          "base_uri": "https://localhost:8080/",
          "height": 295
        },
        "id": "8WzmBaxC2aGb",
        "outputId": "fd4818b4-1e7e-461a-de3b-29f36bf57e0c"
      },
      "source": [
        "plt.figure(1)\n",
        "plt.plot([0, 1], [0, 1], 'k--')\n",
        "plt.plot(fpr_tree, tpr_tree, label='Tree Classifier')\n",
        "plt.plot(fpr_log, tpr_log, label='Logistic')\n",
        "plt.plot(fpr_naive, tpr_naive, label='Naive')\n",
        "plt.xlabel('False positive rate')\n",
        "plt.ylabel('True positive rate')\n",
        "plt.title('ROC curve')\n",
        "plt.legend(loc='best')\n",
        "plt.show()"
      ],
      "execution_count": null,
      "outputs": [
        {
          "output_type": "display_data",
          "data": {
            "image/png": "[encoded data removed]",
            "text/plain": [
              "<Figure size 432x288 with 1 Axes>"
            ]
          },
          "metadata": {
            "tags": [],
            "needs_background": "light"
          }
        }
      ]
    },
    {
      "cell_type": "markdown",
      "metadata": {
        "id": "FOZiXrun3bBD"
      },
      "source": [
        "### Support Vector Machines"
      ]
    },
    {
      "cell_type": "code",
      "metadata": {
        "id": "jsaSfHYh3l8-"
      },
      "source": [
        "from sklearn.svm import SVC"
      ],
      "execution_count": null,
      "outputs": []
    },
    {
      "cell_type": "code",
      "metadata": {
        "colab": {
          "base_uri": "https://localhost:8080/"
        },
        "id": "bP6f_rDh4OFz",
        "outputId": "27598b41-0599-4ae5-d0ff-4523b9c87464"
      },
      "source": [
        "depth = []\n",
        "for i in np.arange(1.0,2.75,0.15):\n",
        "    clf = SVC(C=i)\n",
        "    scores = cross_val_score(estimator=clf, X=data, y=label, cv=k_fold)\n",
        "    depth.append((i,scores.mean()))\n",
        "    #depth.append((i,scores))\n",
        "print(depth)\n"
      ],
      "execution_count": null,
      "outputs": [
        {
          "output_type": "stream",
          "text": [
            "[(1.0, 0.7936066311122534), (1.15, 0.7961408468804215), (1.2999999999999998, 0.7986814881449593), (1.4499999999999997, 0.7986814881449592), (1.5999999999999996, 0.7986814881449592), (1.7499999999999996, 0.8002017605860055), (1.8999999999999995, 0.8012144188138535), (2.0499999999999994, 0.8017207479277776), (2.1999999999999993, 0.8027359763541734), (2.349999999999999, 0.8057803765340873), (2.499999999999999, 0.8073019340744072), (2.649999999999999, 0.8067956049604831)]\n"
          ],
          "name": "stdout"
        }
      ]
    },
    {
      "cell_type": "code",
      "metadata": {
        "colab": {
          "base_uri": "https://localhost:8080/"
        },
        "id": "a291FdmXeGM0",
        "outputId": "81ba55b7-31dd-48a8-f6fd-32c18e2bde11"
      },
      "source": [
        "max = -1\n",
        "pos_max = -1\n",
        "for i,j in enumerate(depth):\n",
        "  if j[1] > max:\n",
        "    max = j[1]\n",
        "    pos_max = i\n",
        "\n",
        "print(depth[pos_max])"
      ],
      "execution_count": null,
      "outputs": [
        {
          "output_type": "stream",
          "text": [
            "(2.499999999999999, 0.8073019340744072)\n"
          ],
          "name": "stdout"
        }
      ]
    },
    {
      "cell_type": "code",
      "metadata": {
        "id": "HwrY76ON5c7u"
      },
      "source": [
        "svc = SVC(C=2.5)\n",
        "svc = svc.fit(datos_train, labels_train)\n",
        "predictions = svc.predict(datos_test)"
      ],
      "execution_count": null,
      "outputs": []
    },
    {
      "cell_type": "code",
      "metadata": {
        "colab": {
          "base_uri": "https://localhost:8080/"
        },
        "id": "C40Y0uZH5wBT",
        "outputId": "24f391b4-d124-4a12-ef09-a61ccf3c55e4"
      },
      "source": [
        "print(metrics.confusion_matrix(labels_test, predictions, labels=[0, 1]))\n",
        "print(metrics.classification_report(labels_test, predictions, labels=[0, 1]))"
      ],
      "execution_count": null,
      "outputs": [
        {
          "output_type": "stream",
          "text": [
            "[[161  22]\n",
            " [ 42 170]]\n",
            "              precision    recall  f1-score   support\n",
            "\n",
            "           0       0.79      0.88      0.83       183\n",
            "           1       0.89      0.80      0.84       212\n",
            "\n",
            "    accuracy                           0.84       395\n",
            "   macro avg       0.84      0.84      0.84       395\n",
            "weighted avg       0.84      0.84      0.84       395\n",
            "\n"
          ],
          "name": "stdout"
        }
      ]
    },
    {
      "cell_type": "code",
      "metadata": {
        "colab": {
          "base_uri": "https://localhost:8080/"
        },
        "id": "jAM-Vm-05168",
        "outputId": "2a320adc-171a-4bcf-ea80-fcdbf5c3911e"
      },
      "source": [
        "fpr_svc, tpr_svc, _ = metrics.roc_curve(labels_test, predictions)\n",
        "area = metrics.roc_auc_score(labels_test, predictions)\n",
        "area"
      ],
      "execution_count": null,
      "outputs": [
        {
          "output_type": "execute_result",
          "data": {
            "text/plain": [
              "0.8408341066089287"
            ]
          },
          "metadata": {
            "tags": []
          },
          "execution_count": 263
        }
      ]
    },
    {
      "cell_type": "code",
      "metadata": {
        "colab": {
          "base_uri": "https://localhost:8080/",
          "height": 295
        },
        "id": "ZkCbug4i5y0A",
        "outputId": "9587761f-2cae-457b-a888-ec595fd597a9"
      },
      "source": [
        "plt.figure(1)\n",
        "plt.plot([0, 1], [0, 1], 'k--')\n",
        "plt.plot(fpr_tree, tpr_tree, label='Tree Classifier')\n",
        "plt.plot(fpr_log, tpr_log, label='Logistic')\n",
        "plt.plot(fpr_naive, tpr_naive, label='Naive')\n",
        "plt.plot(fpr_svc, tpr_svc, label='SVM')\n",
        "plt.xlabel('False positive rate')\n",
        "plt.ylabel('True positive rate')\n",
        "plt.title('ROC curve')\n",
        "plt.legend(loc='best')\n",
        "plt.show()"
      ],
      "execution_count": null,
      "outputs": [
        {
          "output_type": "display_data",
          "data": {
            "image/png": "[encoded data removed]",
            "text/plain": [
              "<Figure size 432x288 with 1 Axes>"
            ]
          },
          "metadata": {
            "tags": [],
            "needs_background": "light"
          }
        }
      ]
    },
    {
      "cell_type": "markdown",
      "metadata": {
        "id": "o_knobl97NnV"
      },
      "source": [
        "### Stochastic Gradient Descent\n"
      ]
    },
    {
      "cell_type": "code",
      "metadata": {
        "id": "otbAPt3A7Qpl"
      },
      "source": [
        "from sklearn.linear_model import SGDClassifier"
      ],
      "execution_count": null,
      "outputs": []
    },
    {
      "cell_type": "code",
      "metadata": {
        "colab": {
          "base_uri": "https://localhost:8080/"
        },
        "id": "30d0gi0r7eUw",
        "outputId": "594140bf-5e36-49c6-e5d5-6897b53dc413"
      },
      "source": [
        "depth = []\n",
        "for i in np.arange(0.0001,0.2,0.002):\n",
        "    clf = SGDClassifier(alpha=i, random_state=seed)\n",
        "    scores = cross_val_score(estimator=clf, X=data, y=label, cv=k_fold)\n",
        "    depth.append((i,scores.mean()))\n",
        "    #depth.append((i,scores))\n",
        "print(depth)\n"
      ],
      "execution_count": null,
      "outputs": [
        {
          "output_type": "stream",
          "text": [
            "[(0.0001, 0.7571072415344086), (0.0021, 0.7048114116815525), (0.0041, 0.7778718756023904), (0.0061, 0.7875204009509734), (0.0081, 0.7804240827603932), (0.0101, 0.7677504337210049), (0.0121, 0.7743262867056481), (0.0141, 0.7687630919488531), (0.0161, 0.7788999550215254), (0.0181, 0.7667262095996916), (0.0201, 0.7788858189295123), (0.022099999999999998, 0.7880280151641714), (0.0241, 0.7890406733920197), (0.0261, 0.7712883120221037), (0.0281, 0.7890432435905674), (0.0301, 0.7799036175544561), (0.032100000000000004, 0.786003983807749), (0.034100000000000005, 0.7814316005911456), (0.03610000000000001, 0.7773745421833838), (0.0381, 0.7783910557090534), (0.040100000000000004, 0.7768694981687336), (0.042100000000000005, 0.7778847265951295), (0.0441, 0.7738263830880936), (0.0461, 0.7753466555291396), (0.048100000000000004, 0.7748364711173938), (0.050100000000000006, 0.7758542697423376), (0.05210000000000001, 0.7748416115144895), (0.0541, 0.7738276681873675), (0.056100000000000004, 0.7748403264152156), (0.058100000000000006, 0.7748428966137635), (0.0601, 0.7738263830880936), (0.0621, 0.776369594551179), (0.0641, 0.7738276681873675), (0.0661, 0.7738315234851892), (0.06810000000000001, 0.775355651224057), (0.07010000000000001, 0.7733213390734435), (0.07210000000000001, 0.7728111546616976), (0.0741, 0.7707871233052753), (0.0761, 0.7723099659448691), (0.0781, 0.7748467519115853), (0.0801, 0.7718010666323973), (0.0821, 0.7712921673199254), (0.08410000000000001, 0.7733226241727172), (0.08610000000000001, 0.7707858382060014), (0.0881, 0.7702807941913513), (0.0901, 0.7753530810255091), (0.0921, 0.7753556512240569), (0.0941, 0.7728137248602455), (0.0961, 0.7733200539741695), (0.0981, 0.7707845531067276), (0.10010000000000001, 0.7728111546616976), (0.10210000000000001, 0.776369594551179), (0.10410000000000001, 0.7738302383859155), (0.1061, 0.7707845531067276), (0.1081, 0.7702795090920774), (0.1101, 0.7738328085844631), (0.1121, 0.7707858382060014), (0.11410000000000001, 0.7738302383859152), (0.11610000000000001, 0.7718010666323974), (0.11810000000000001, 0.7733226241727175), (0.1201, 0.7748454668123113), (0.1221, 0.776370879650453), (0.1241, 0.776369594551179), (0.1261, 0.7753505108269614), (0.1281, 0.7758594101394333), (0.1301, 0.7768746385658292), (0.1321, 0.775355651224057), (0.1341, 0.774849322110133), (0.1361, 0.7728175801580672), (0.1381, 0.7748441817130374), (0.1401, 0.7743404227976611), (0.1421, 0.7723086808455953), (0.1441, 0.7743404227976611), (0.14609999999999998, 0.7814354558889673), (0.14809999999999998, 0.773327764569813), (0.15009999999999998, 0.7773758272826575), (0.15209999999999999, 0.7753466555291396), (0.1541, 0.7728188652573411), (0.1561, 0.7707896935038232), (0.1581, 0.7687605217503052), (0.1601, 0.7743314271027437), (0.1621, 0.7783923408083274), (0.1641, 0.7768694981687335), (0.1661, 0.7743404227976611), (0.1681, 0.7799151834479213), (0.1701, 0.7712973077170211), (0.1721, 0.7773758272826575), (0.1741, 0.7788986699222515), (0.17609999999999998, 0.7758516995437897), (0.17809999999999998, 0.7763605988562616), (0.18009999999999998, 0.7788973848229775), (0.18209999999999998, 0.7758606952387073), (0.18409999999999999, 0.7794062841354494), (0.1861, 0.7733277645698131), (0.1881, 0.7773758272826575), (0.1901, 0.7778885818929512), (0.1921, 0.7778834414958555), (0.1941, 0.7783910557090535), (0.1961, 0.7778911520914991), (0.1981, 0.7768810640621988)]\n"
          ],
          "name": "stdout"
        }
      ]
    },
    {
      "cell_type": "code",
      "metadata": {
        "colab": {
          "base_uri": "https://localhost:8080/"
        },
        "id": "tSBCaFubd9jO",
        "outputId": "0b28f7e5-e2c9-4887-dcf6-4a8d256dea41"
      },
      "source": [
        "max = -1\n",
        "pos_max = -1\n",
        "for i,j in enumerate(depth):\n",
        "  if j[1] > max:\n",
        "    max = j[1]\n",
        "    pos_max = i\n",
        "\n",
        "print(depth[pos_max])"
      ],
      "execution_count": null,
      "outputs": [
        {
          "output_type": "stream",
          "text": [
            "(0.0281, 0.7890432435905674)\n"
          ],
          "name": "stdout"
        }
      ]
    },
    {
      "cell_type": "code",
      "metadata": {
        "id": "NfYCMDsh-I6x"
      },
      "source": [
        "sgd = SGDClassifier(alpha=0.0281, random_state=seed)\n",
        "sgd = sgd.fit(datos_train, labels_train)\n",
        "predictions = svc.predict(datos_test)"
      ],
      "execution_count": null,
      "outputs": []
    },
    {
      "cell_type": "code",
      "metadata": {
        "colab": {
          "base_uri": "https://localhost:8080/"
        },
        "id": "mR0nB7nz-iZI",
        "outputId": "cbd8aa92-d6c9-44e9-89dd-c58d02f02011"
      },
      "source": [
        "print(metrics.confusion_matrix(labels_test, predictions, labels=[0, 1]))\n",
        "print(metrics.classification_report(labels_test, predictions, labels=[0, 1]))"
      ],
      "execution_count": null,
      "outputs": [
        {
          "output_type": "stream",
          "text": [
            "[[161  22]\n",
            " [ 42 170]]\n",
            "              precision    recall  f1-score   support\n",
            "\n",
            "           0       0.79      0.88      0.83       183\n",
            "           1       0.89      0.80      0.84       212\n",
            "\n",
            "    accuracy                           0.84       395\n",
            "   macro avg       0.84      0.84      0.84       395\n",
            "weighted avg       0.84      0.84      0.84       395\n",
            "\n"
          ],
          "name": "stdout"
        }
      ]
    },
    {
      "cell_type": "code",
      "metadata": {
        "colab": {
          "base_uri": "https://localhost:8080/"
        },
        "id": "v3A4raQ4-mVW",
        "outputId": "4fa6d7fa-28d0-4471-f030-2d36717bedd8"
      },
      "source": [
        "fpr_sgd, tpr_sgd, _ = metrics.roc_curve(labels_test, predictions)\n",
        "area = metrics.roc_auc_score(labels_test, predictions)\n",
        "area"
      ],
      "execution_count": null,
      "outputs": [
        {
          "output_type": "execute_result",
          "data": {
            "text/plain": [
              "0.8408341066089287"
            ]
          },
          "metadata": {
            "tags": []
          },
          "execution_count": 281
        }
      ]
    },
    {
      "cell_type": "code",
      "metadata": {
        "colab": {
          "base_uri": "https://localhost:8080/",
          "height": 295
        },
        "id": "jX7gpmS0-p2T",
        "outputId": "800e75a4-3262-4705-aa4f-a71b578a9754"
      },
      "source": [
        "plt.figure(1)\n",
        "plt.plot([0, 1], [0, 1], 'k--')\n",
        "plt.plot(fpr_tree, tpr_tree, label='Tree Classifier')\n",
        "plt.plot(fpr_log, tpr_log, label='Logistic')\n",
        "plt.plot(fpr_naive, tpr_naive, label='Naive')\n",
        "plt.plot(fpr_svc, tpr_svc, label='SVM')\n",
        "plt.plot(fpr_sgd, tpr_sgd, label='SGD')\n",
        "plt.xlabel('False positive rate')\n",
        "plt.ylabel('True positive rate')\n",
        "plt.title('ROC curve')\n",
        "plt.legend(loc='best')\n",
        "plt.show()"
      ],
      "execution_count": null,
      "outputs": [
        {
          "output_type": "display_data",
          "data": {
            "image/png": "[encoded data removed]",
            "text/plain": [
              "<Figure size 432x288 with 1 Axes>"
            ]
          },
          "metadata": {
            "tags": [],
            "needs_background": "light"
          }
        }
      ]
    },
    {
      "cell_type": "markdown",
      "metadata": {
        "id": "0bkOeZ1Pa8VQ"
      },
      "source": [
        "### KNeighborsClassifier"
      ]
    },
    {
      "cell_type": "code",
      "metadata": {
        "id": "41nFrV6mbCA0"
      },
      "source": [
        "from sklearn.neighbors import KNeighborsClassifier"
      ],
      "execution_count": null,
      "outputs": []
    },
    {
      "cell_type": "code",
      "metadata": {
        "colab": {
          "base_uri": "https://localhost:8080/"
        },
        "id": "qX8QbtdVbiPs",
        "outputId": "1fc74ac5-7089-4c3e-f782-816516503fe3"
      },
      "source": [
        "depth = []\n",
        "for i in range(3,15):\n",
        "    clf =  KNeighborsClassifier(n_neighbors=i, weights='uniform')\n",
        "    scores = cross_val_score(estimator=clf, X=data, y=label, cv=k_fold)\n",
        "    depth.append((i,scores.mean(),\"uniform\"))\n",
        "    clf =  KNeighborsClassifier(n_neighbors=i, weights='distance')\n",
        "    scores = cross_val_score(estimator=clf, X=data, y=label, cv=k_fold)\n",
        "    depth.append((i,scores.mean(),\"distance\"))\n",
        "    #depth.append((i,scores))\n",
        "print(depth)\n"
      ],
      "execution_count": null,
      "outputs": [
        {
          "output_type": "stream",
          "text": [
            "[(3, 0.7768874895585685, 'uniform'), (3, 0.7885459101715607, 'distance'), (4, 0.7804317933560367, 'uniform'), (4, 0.7951423247445865, 'distance'), (5, 0.7778988626871426, 'uniform'), (5, 0.7966651673841805, 'distance'), (6, 0.7850028914733663, 'uniform'), (6, 0.79869819443552, 'distance'), (7, 0.7829750048191222, 'uniform'), (7, 0.8002210370751139, 'distance'), (8, 0.7738469446764762, 'uniform'), (8, 0.7997108526633683, 'distance'), (9, 0.7773963888710403, 'uniform'), (9, 0.7971702113988305, 'distance'), (10, 0.78247253100302, 'uniform'), (10, 0.8017335989205167, 'distance'), (11, 0.7753672171175224, 'uniform'), (11, 0.8007209406926685, 'distance'), (12, 0.7723202467390606, 'uniform'), (12, 0.8078223992803444, 'distance'), (13, 0.7789038103193471, 'uniform'), (13, 0.8057893722290048, 'distance'), (14, 0.7829608687271091, 'uniform'), (14, 0.8073109297693246, 'distance')]\n"
          ],
          "name": "stdout"
        }
      ]
    },
    {
      "cell_type": "code",
      "metadata": {
        "colab": {
          "base_uri": "https://localhost:8080/"
        },
        "id": "Q9UyAOGQbxwN",
        "outputId": "1bfd5240-147e-46cf-d3c3-1b43cc57568e"
      },
      "source": [
        "max = -1\n",
        "pos_max = -1\n",
        "for i,j in enumerate(depth):\n",
        "  if j[1] > max:\n",
        "    max = j[1]\n",
        "    pos_max = i\n",
        "\n",
        "print(depth[pos_max])"
      ],
      "execution_count": null,
      "outputs": [
        {
          "output_type": "stream",
          "text": [
            "(12, 0.8078223992803444, 'distance')\n"
          ],
          "name": "stdout"
        }
      ]
    },
    {
      "cell_type": "code",
      "metadata": {
        "id": "-2l0Qn5tebEp"
      },
      "source": [
        "kn = KNeighborsClassifier(n_neighbors=12, weights='distance')\n",
        "kn = kn.fit(datos_train, labels_train)\n",
        "predictions = kn.predict(datos_test)"
      ],
      "execution_count": null,
      "outputs": []
    },
    {
      "cell_type": "code",
      "metadata": {
        "colab": {
          "base_uri": "https://localhost:8080/"
        },
        "id": "XdEH0OXXemFa",
        "outputId": "53e1c149-cf63-4904-b8de-f87948bb00ba"
      },
      "source": [
        "print(metrics.confusion_matrix(labels_test, predictions, labels=[0, 1]))\n",
        "print(metrics.classification_report(labels_test, predictions, labels=[0, 1]))"
      ],
      "execution_count": null,
      "outputs": [
        {
          "output_type": "stream",
          "text": [
            "[[152  31]\n",
            " [ 47 165]]\n",
            "              precision    recall  f1-score   support\n",
            "\n",
            "           0       0.76      0.83      0.80       183\n",
            "           1       0.84      0.78      0.81       212\n",
            "\n",
            "    accuracy                           0.80       395\n",
            "   macro avg       0.80      0.80      0.80       395\n",
            "weighted avg       0.81      0.80      0.80       395\n",
            "\n"
          ],
          "name": "stdout"
        }
      ]
    },
    {
      "cell_type": "code",
      "metadata": {
        "colab": {
          "base_uri": "https://localhost:8080/"
        },
        "id": "3gHcV-0iessA",
        "outputId": "40240a7a-467a-45bc-de9c-4cf461829c08"
      },
      "source": [
        "fpr_kn, tpr_kn, _ = metrics.roc_curve(labels_test, predictions)\n",
        "area = metrics.roc_auc_score(labels_test, predictions)\n",
        "area"
      ],
      "execution_count": null,
      "outputs": [
        {
          "output_type": "execute_result",
          "data": {
            "text/plain": [
              "0.8044514898443139"
            ]
          },
          "metadata": {
            "tags": []
          },
          "execution_count": 288
        }
      ]
    },
    {
      "cell_type": "code",
      "metadata": {
        "colab": {
          "base_uri": "https://localhost:8080/",
          "height": 295
        },
        "id": "t5Cc7rEDea9M",
        "outputId": "fbbbeb97-12b9-4c7b-f702-c78eb7519ea6"
      },
      "source": [
        "plt.figure(1)\n",
        "plt.plot([0, 1], [0, 1], 'k--')\n",
        "plt.plot(fpr_tree, tpr_tree, label='Tree Classifier')\n",
        "plt.plot(fpr_log, tpr_log, label='Logistic')\n",
        "plt.plot(fpr_naive, tpr_naive, label='Naive')\n",
        "plt.plot(fpr_svc, tpr_svc, label='SVm')\n",
        "plt.plot(fpr_sgd, tpr_sgd, label='SGD')\n",
        "plt.plot(fpr_kn, tpr_kn, label='KN')\n",
        "plt.xlabel('False positive rate')\n",
        "plt.ylabel('True positive rate')\n",
        "plt.title('ROC curve')\n",
        "plt.legend(loc='best')\n",
        "plt.show()"
      ],
      "execution_count": null,
      "outputs": [
        {
          "output_type": "display_data",
          "data": {
            "image/png": "[encoded data removed]",
            "text/plain": [
              "<Figure size 432x288 with 1 Axes>"
            ]
          },
          "metadata": {
            "tags": [],
            "needs_background": "light"
          }
        }
      ]
    }
  ]
}