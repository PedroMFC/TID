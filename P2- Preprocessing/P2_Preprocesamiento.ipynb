{
  "nbformat": 4,
  "nbformat_minor": 0,
  "metadata": {
    "colab": {
      "name": "P2-Preprocesamiento.ipynb",
      "provenance": [],
      "collapsed_sections": [],
      "toc_visible": true
    },
    "kernelspec": {
      "name": "python3",
      "display_name": "Python 3"
    }
  },
  "cells": [
    {
      "cell_type": "markdown",
      "metadata": {
        "id": "Kez38-AZQUT2"
      },
      "source": [
        "# Práctica 2: Preprocesamiento\n",
        "## Tratamiento Inteligente de Datos\n",
        "\n",
        "Autor: Pedro Manuel Flores Crespo\n"
      ]
    },
    {
      "cell_type": "markdown",
      "metadata": {
        "id": "6y1ZKTM4QceB"
      },
      "source": [
        "\n",
        "Primero unas importaciones básicas"
      ]
    },
    {
      "cell_type": "code",
      "metadata": {
        "id": "Qv96msSRUZwC"
      },
      "source": [
        "import pandas as pd \n",
        "from sklearn import tree\n",
        "import numpy as np\n",
        "\n",
        "seed = 77"
      ],
      "execution_count": 1,
      "outputs": []
    },
    {
      "cell_type": "code",
      "metadata": {
        "id": "ypiqcui8qGd9",
        "colab": {
          "base_uri": "https://localhost:8080/"
        },
        "outputId": "14f3a017-9b37-463e-8974-25ad57d27d42"
      },
      "source": [
        "pip install odfpy"
      ],
      "execution_count": 2,
      "outputs": [
        {
          "output_type": "stream",
          "text": [
            "Collecting odfpy\n",
            "\u001b[?25l  Downloading https://files.pythonhosted.org/packages/97/73/8ade73f6749177003f7ce3304f524774adda96e6aaab30ea79fd8fda7934/odfpy-1.4.1.tar.gz (717kB)\n",
            "\r\u001b[K     |▌                               | 10kB 15.5MB/s eta 0:00:01\r\u001b[K     |█                               | 20kB 20.0MB/s eta 0:00:01\r\u001b[K     |█▍                              | 30kB 19.0MB/s eta 0:00:01\r\u001b[K     |█▉                              | 40kB 19.3MB/s eta 0:00:01\r\u001b[K     |██▎                             | 51kB 16.5MB/s eta 0:00:01\r\u001b[K     |██▊                             | 61kB 18.1MB/s eta 0:00:01\r\u001b[K     |███▏                            | 71kB 12.7MB/s eta 0:00:01\r\u001b[K     |███▋                            | 81kB 13.8MB/s eta 0:00:01\r\u001b[K     |████▏                           | 92kB 13.1MB/s eta 0:00:01\r\u001b[K     |████▋                           | 102kB 12.3MB/s eta 0:00:01\r\u001b[K     |█████                           | 112kB 12.3MB/s eta 0:00:01\r\u001b[K     |█████▌                          | 122kB 12.3MB/s eta 0:00:01\r\u001b[K     |██████                          | 133kB 12.3MB/s eta 0:00:01\r\u001b[K     |██████▍                         | 143kB 12.3MB/s eta 0:00:01\r\u001b[K     |██████▉                         | 153kB 12.3MB/s eta 0:00:01\r\u001b[K     |███████▎                        | 163kB 12.3MB/s eta 0:00:01\r\u001b[K     |███████▊                        | 174kB 12.3MB/s eta 0:00:01\r\u001b[K     |████████▎                       | 184kB 12.3MB/s eta 0:00:01\r\u001b[K     |████████▊                       | 194kB 12.3MB/s eta 0:00:01\r\u001b[K     |█████████▏                      | 204kB 12.3MB/s eta 0:00:01\r\u001b[K     |█████████▋                      | 215kB 12.3MB/s eta 0:00:01\r\u001b[K     |██████████                      | 225kB 12.3MB/s eta 0:00:01\r\u001b[K     |██████████▌                     | 235kB 12.3MB/s eta 0:00:01\r\u001b[K     |███████████                     | 245kB 12.3MB/s eta 0:00:01\r\u001b[K     |███████████▍                    | 256kB 12.3MB/s eta 0:00:01\r\u001b[K     |███████████▉                    | 266kB 12.3MB/s eta 0:00:01\r\u001b[K     |████████████▍                   | 276kB 12.3MB/s eta 0:00:01\r\u001b[K     |████████████▉                   | 286kB 12.3MB/s eta 0:00:01\r\u001b[K     |█████████████▎                  | 296kB 12.3MB/s eta 0:00:01\r\u001b[K     |█████████████▊                  | 307kB 12.3MB/s eta 0:00:01\r\u001b[K     |██████████████▏                 | 317kB 12.3MB/s eta 0:00:01\r\u001b[K     |██████████████▋                 | 327kB 12.3MB/s eta 0:00:01\r\u001b[K     |███████████████                 | 337kB 12.3MB/s eta 0:00:01\r\u001b[K     |███████████████▌                | 348kB 12.3MB/s eta 0:00:01\r\u001b[K     |████████████████                | 358kB 12.3MB/s eta 0:00:01\r\u001b[K     |████████████████▌               | 368kB 12.3MB/s eta 0:00:01\r\u001b[K     |█████████████████               | 378kB 12.3MB/s eta 0:00:01\r\u001b[K     |█████████████████▍              | 389kB 12.3MB/s eta 0:00:01\r\u001b[K     |█████████████████▉              | 399kB 12.3MB/s eta 0:00:01\r\u001b[K     |██████████████████▎             | 409kB 12.3MB/s eta 0:00:01\r\u001b[K     |██████████████████▊             | 419kB 12.3MB/s eta 0:00:01\r\u001b[K     |███████████████████▏            | 430kB 12.3MB/s eta 0:00:01\r\u001b[K     |███████████████████▋            | 440kB 12.3MB/s eta 0:00:01\r\u001b[K     |████████████████████            | 450kB 12.3MB/s eta 0:00:01\r\u001b[K     |████████████████████▋           | 460kB 12.3MB/s eta 0:00:01\r\u001b[K     |█████████████████████           | 471kB 12.3MB/s eta 0:00:01\r\u001b[K     |█████████████████████▌          | 481kB 12.3MB/s eta 0:00:01\r\u001b[K     |██████████████████████          | 491kB 12.3MB/s eta 0:00:01\r\u001b[K     |██████████████████████▍         | 501kB 12.3MB/s eta 0:00:01\r\u001b[K     |██████████████████████▉         | 512kB 12.3MB/s eta 0:00:01\r\u001b[K     |███████████████████████▎        | 522kB 12.3MB/s eta 0:00:01\r\u001b[K     |███████████████████████▊        | 532kB 12.3MB/s eta 0:00:01\r\u001b[K     |████████████████████████▏       | 542kB 12.3MB/s eta 0:00:01\r\u001b[K     |████████████████████████▊       | 552kB 12.3MB/s eta 0:00:01\r\u001b[K     |█████████████████████████▏      | 563kB 12.3MB/s eta 0:00:01\r\u001b[K     |█████████████████████████▋      | 573kB 12.3MB/s eta 0:00:01\r\u001b[K     |██████████████████████████      | 583kB 12.3MB/s eta 0:00:01\r\u001b[K     |██████████████████████████▌     | 593kB 12.3MB/s eta 0:00:01\r\u001b[K     |███████████████████████████     | 604kB 12.3MB/s eta 0:00:01\r\u001b[K     |███████████████████████████▍    | 614kB 12.3MB/s eta 0:00:01\r\u001b[K     |███████████████████████████▉    | 624kB 12.3MB/s eta 0:00:01\r\u001b[K     |████████████████████████████▎   | 634kB 12.3MB/s eta 0:00:01\r\u001b[K     |████████████████████████████▉   | 645kB 12.3MB/s eta 0:00:01\r\u001b[K     |█████████████████████████████▎  | 655kB 12.3MB/s eta 0:00:01\r\u001b[K     |█████████████████████████████▊  | 665kB 12.3MB/s eta 0:00:01\r\u001b[K     |██████████████████████████████▏ | 675kB 12.3MB/s eta 0:00:01\r\u001b[K     |██████████████████████████████▋ | 686kB 12.3MB/s eta 0:00:01\r\u001b[K     |███████████████████████████████ | 696kB 12.3MB/s eta 0:00:01\r\u001b[K     |███████████████████████████████▌| 706kB 12.3MB/s eta 0:00:01\r\u001b[K     |████████████████████████████████| 716kB 12.3MB/s eta 0:00:01\r\u001b[K     |████████████████████████████████| 727kB 12.3MB/s \n",
            "\u001b[?25hRequirement already satisfied: defusedxml in /usr/local/lib/python3.6/dist-packages (from odfpy) (0.6.0)\n",
            "Building wheels for collected packages: odfpy\n",
            "  Building wheel for odfpy (setup.py) ... \u001b[?25l\u001b[?25hdone\n",
            "  Created wheel for odfpy: filename=odfpy-1.4.1-py2.py3-none-any.whl size=160692 sha256=67566fbc8cbebd43aeec31c6fce235603edbc6c8d3fedca20b9da65155016d78\n",
            "  Stored in directory: /root/.cache/pip/wheels/ce/6b/93/ec330f2991c5f1546abf640360e5a2022f76cb16e5d99ed2fd\n",
            "Successfully built odfpy\n",
            "Installing collected packages: odfpy\n",
            "Successfully installed odfpy-1.4.1\n"
          ],
          "name": "stdout"
        }
      ]
    },
    {
      "cell_type": "markdown",
      "metadata": {
        "id": "rgEbCdsnQgMu"
      },
      "source": [
        "Cargamos el conjunto de datos (debemos añadirlo al especio de trabajo en un formato csv) y mostramos las cinco primeras instancias"
      ]
    },
    {
      "cell_type": "code",
      "metadata": {
        "id": "xbh5IKaLWMJr",
        "colab": {
          "base_uri": "https://localhost:8080/",
          "height": 218
        },
        "outputId": "4c3ec21b-23a2-4551-fc0c-310ff520786e"
      },
      "source": [
        "autos = pd.read_csv(\"accidentes.csv\")\n",
        "autos.head()"
      ],
      "execution_count": 3,
      "outputs": [
        {
          "output_type": "execute_result",
          "data": {
            "text/html": [
              "<div>\n",
              "<style scoped>\n",
              "    .dataframe tbody tr th:only-of-type {\n",
              "        vertical-align: middle;\n",
              "    }\n",
              "\n",
              "    .dataframe tbody tr th {\n",
              "        vertical-align: top;\n",
              "    }\n",
              "\n",
              "    .dataframe thead th {\n",
              "        text-align: right;\n",
              "    }\n",
              "</style>\n",
              "<table border=\"1\" class=\"dataframe\">\n",
              "  <thead>\n",
              "    <tr style=\"text-align: right;\">\n",
              "      <th></th>\n",
              "      <th>MONTH</th>\n",
              "      <th>WEEKDAY</th>\n",
              "      <th>WKDY_I</th>\n",
              "      <th>HOUR</th>\n",
              "      <th>HOUR_I</th>\n",
              "      <th>VEH_INVL</th>\n",
              "      <th>NON_INVL</th>\n",
              "      <th>LAND_USE</th>\n",
              "      <th>MAN_COL</th>\n",
              "      <th>MANCOL_I</th>\n",
              "      <th>INT_HWY</th>\n",
              "      <th>REL_JCT</th>\n",
              "      <th>RELJCT_I</th>\n",
              "      <th>REL_RWY</th>\n",
              "      <th>TRAF_WAY</th>\n",
              "      <th>NUM_LAN</th>\n",
              "      <th>ALIGN</th>\n",
              "      <th>ALIGN_I</th>\n",
              "      <th>PROFILE</th>\n",
              "      <th>PROFIL_I</th>\n",
              "      <th>SUR_COND</th>\n",
              "      <th>SURCON_I</th>\n",
              "      <th>TRAF_CON</th>\n",
              "      <th>TRFCON_I</th>\n",
              "      <th>SPD_LIM</th>\n",
              "      <th>SPDLIM_H</th>\n",
              "      <th>LGHT_CON</th>\n",
              "      <th>LGTCON_I</th>\n",
              "      <th>WEATHER</th>\n",
              "      <th>WEATHR_I</th>\n",
              "      <th>SCHL_BUS</th>\n",
              "      <th>PED_ACC</th>\n",
              "      <th>ALCOHOL</th>\n",
              "      <th>ALCHL_I</th>\n",
              "      <th>REGION</th>\n",
              "      <th>WRK_ZONE</th>\n",
              "      <th>FATALITIES</th>\n",
              "      <th>INJURY_CRASH</th>\n",
              "      <th>PRPTYDMG_CRASH</th>\n",
              "    </tr>\n",
              "  </thead>\n",
              "  <tbody>\n",
              "    <tr>\n",
              "      <th>0</th>\n",
              "      <td>1</td>\n",
              "      <td>5</td>\n",
              "      <td>5</td>\n",
              "      <td>22</td>\n",
              "      <td>22</td>\n",
              "      <td>1</td>\n",
              "      <td>0</td>\n",
              "      <td>1</td>\n",
              "      <td>0</td>\n",
              "      <td>0</td>\n",
              "      <td>0</td>\n",
              "      <td>0</td>\n",
              "      <td>0</td>\n",
              "      <td>1</td>\n",
              "      <td>9</td>\n",
              "      <td>9</td>\n",
              "      <td>1</td>\n",
              "      <td>1</td>\n",
              "      <td>2</td>\n",
              "      <td>2</td>\n",
              "      <td>1</td>\n",
              "      <td>1</td>\n",
              "      <td>0</td>\n",
              "      <td>0</td>\n",
              "      <td>99</td>\n",
              "      <td>30</td>\n",
              "      <td>2</td>\n",
              "      <td>2</td>\n",
              "      <td>1</td>\n",
              "      <td>1</td>\n",
              "      <td>0</td>\n",
              "      <td>0</td>\n",
              "      <td>2</td>\n",
              "      <td>2</td>\n",
              "      <td>1</td>\n",
              "      <td>0</td>\n",
              "      <td>0</td>\n",
              "      <td>0</td>\n",
              "      <td>1</td>\n",
              "    </tr>\n",
              "    <tr>\n",
              "      <th>1</th>\n",
              "      <td>1</td>\n",
              "      <td>7</td>\n",
              "      <td>7</td>\n",
              "      <td>14</td>\n",
              "      <td>14</td>\n",
              "      <td>2</td>\n",
              "      <td>0</td>\n",
              "      <td>1</td>\n",
              "      <td>2</td>\n",
              "      <td>2</td>\n",
              "      <td>0</td>\n",
              "      <td>0</td>\n",
              "      <td>0</td>\n",
              "      <td>1</td>\n",
              "      <td>9</td>\n",
              "      <td>9</td>\n",
              "      <td>1</td>\n",
              "      <td>1</td>\n",
              "      <td>1</td>\n",
              "      <td>1</td>\n",
              "      <td>1</td>\n",
              "      <td>1</td>\n",
              "      <td>0</td>\n",
              "      <td>0</td>\n",
              "      <td>99</td>\n",
              "      <td>55</td>\n",
              "      <td>1</td>\n",
              "      <td>1</td>\n",
              "      <td>1</td>\n",
              "      <td>1</td>\n",
              "      <td>0</td>\n",
              "      <td>0</td>\n",
              "      <td>2</td>\n",
              "      <td>2</td>\n",
              "      <td>1</td>\n",
              "      <td>0</td>\n",
              "      <td>0</td>\n",
              "      <td>1</td>\n",
              "      <td>0</td>\n",
              "    </tr>\n",
              "    <tr>\n",
              "      <th>2</th>\n",
              "      <td>1</td>\n",
              "      <td>3</td>\n",
              "      <td>3</td>\n",
              "      <td>8</td>\n",
              "      <td>8</td>\n",
              "      <td>2</td>\n",
              "      <td>0</td>\n",
              "      <td>3</td>\n",
              "      <td>1</td>\n",
              "      <td>1</td>\n",
              "      <td>0</td>\n",
              "      <td>0</td>\n",
              "      <td>0</td>\n",
              "      <td>1</td>\n",
              "      <td>9</td>\n",
              "      <td>9</td>\n",
              "      <td>2</td>\n",
              "      <td>2</td>\n",
              "      <td>1</td>\n",
              "      <td>1</td>\n",
              "      <td>4</td>\n",
              "      <td>4</td>\n",
              "      <td>0</td>\n",
              "      <td>0</td>\n",
              "      <td>99</td>\n",
              "      <td>25</td>\n",
              "      <td>1</td>\n",
              "      <td>1</td>\n",
              "      <td>1</td>\n",
              "      <td>1</td>\n",
              "      <td>0</td>\n",
              "      <td>0</td>\n",
              "      <td>2</td>\n",
              "      <td>2</td>\n",
              "      <td>1</td>\n",
              "      <td>0</td>\n",
              "      <td>0</td>\n",
              "      <td>0</td>\n",
              "      <td>1</td>\n",
              "    </tr>\n",
              "    <tr>\n",
              "      <th>3</th>\n",
              "      <td>1</td>\n",
              "      <td>3</td>\n",
              "      <td>3</td>\n",
              "      <td>15</td>\n",
              "      <td>15</td>\n",
              "      <td>2</td>\n",
              "      <td>0</td>\n",
              "      <td>3</td>\n",
              "      <td>4</td>\n",
              "      <td>4</td>\n",
              "      <td>0</td>\n",
              "      <td>2</td>\n",
              "      <td>2</td>\n",
              "      <td>1</td>\n",
              "      <td>9</td>\n",
              "      <td>9</td>\n",
              "      <td>1</td>\n",
              "      <td>1</td>\n",
              "      <td>1</td>\n",
              "      <td>1</td>\n",
              "      <td>1</td>\n",
              "      <td>1</td>\n",
              "      <td>0</td>\n",
              "      <td>0</td>\n",
              "      <td>99</td>\n",
              "      <td>45</td>\n",
              "      <td>1</td>\n",
              "      <td>1</td>\n",
              "      <td>1</td>\n",
              "      <td>1</td>\n",
              "      <td>0</td>\n",
              "      <td>0</td>\n",
              "      <td>2</td>\n",
              "      <td>2</td>\n",
              "      <td>1</td>\n",
              "      <td>0</td>\n",
              "      <td>0</td>\n",
              "      <td>1</td>\n",
              "      <td>0</td>\n",
              "    </tr>\n",
              "    <tr>\n",
              "      <th>4</th>\n",
              "      <td>1</td>\n",
              "      <td>5</td>\n",
              "      <td>5</td>\n",
              "      <td>7</td>\n",
              "      <td>7</td>\n",
              "      <td>1</td>\n",
              "      <td>1</td>\n",
              "      <td>1</td>\n",
              "      <td>0</td>\n",
              "      <td>0</td>\n",
              "      <td>0</td>\n",
              "      <td>0</td>\n",
              "      <td>0</td>\n",
              "      <td>1</td>\n",
              "      <td>9</td>\n",
              "      <td>9</td>\n",
              "      <td>1</td>\n",
              "      <td>1</td>\n",
              "      <td>1</td>\n",
              "      <td>1</td>\n",
              "      <td>1</td>\n",
              "      <td>1</td>\n",
              "      <td>0</td>\n",
              "      <td>0</td>\n",
              "      <td>99</td>\n",
              "      <td>35</td>\n",
              "      <td>1</td>\n",
              "      <td>1</td>\n",
              "      <td>1</td>\n",
              "      <td>1</td>\n",
              "      <td>0</td>\n",
              "      <td>531</td>\n",
              "      <td>2</td>\n",
              "      <td>2</td>\n",
              "      <td>1</td>\n",
              "      <td>0</td>\n",
              "      <td>0</td>\n",
              "      <td>1</td>\n",
              "      <td>0</td>\n",
              "    </tr>\n",
              "  </tbody>\n",
              "</table>\n",
              "</div>"
            ],
            "text/plain": [
              "   MONTH  WEEKDAY  WKDY_I  ...  FATALITIES  INJURY_CRASH  PRPTYDMG_CRASH\n",
              "0      1        5       5  ...           0             0               1\n",
              "1      1        7       7  ...           0             1               0\n",
              "2      1        3       3  ...           0             0               1\n",
              "3      1        3       3  ...           0             1               0\n",
              "4      1        5       5  ...           0             1               0\n",
              "\n",
              "[5 rows x 39 columns]"
            ]
          },
          "metadata": {
            "tags": []
          },
          "execution_count": 3
        }
      ]
    },
    {
      "cell_type": "markdown",
      "metadata": {
        "id": "lTguE0nwWZJr"
      },
      "source": [
        "### Creamos la variable clase\n",
        "Lo hacemos mediante la fórmula \n",
        "$$ clase = 3*FATALITIES + 2*INJUTY\\_CRASH + PRPTYDMG\\_CRASH'$$\n",
        "\n",
        "De este modo, $clase \\in \\{1,2,3\\} $ según el tipo de accidente que haya sido. También eliminamos las columnas con las que las hemos construido porque queremos predecir la clase en base a las otras."
      ]
    },
    {
      "cell_type": "code",
      "metadata": {
        "id": "n5_P0YOeWYUl",
        "colab": {
          "base_uri": "https://localhost:8080/",
          "height": 218
        },
        "outputId": "588e1bfe-2478-4a37-970d-8c5744df8d89"
      },
      "source": [
        "autos['clase'] = 3*autos['FATALITIES'] + 2*autos['INJURY_CRASH'] + autos['PRPTYDMG_CRASH']\n",
        "autos = autos.drop(columns=['FATALITIES', 'INJURY_CRASH','PRPTYDMG_CRASH'])\n",
        "autos.head()"
      ],
      "execution_count": 4,
      "outputs": [
        {
          "output_type": "execute_result",
          "data": {
            "text/html": [
              "<div>\n",
              "<style scoped>\n",
              "    .dataframe tbody tr th:only-of-type {\n",
              "        vertical-align: middle;\n",
              "    }\n",
              "\n",
              "    .dataframe tbody tr th {\n",
              "        vertical-align: top;\n",
              "    }\n",
              "\n",
              "    .dataframe thead th {\n",
              "        text-align: right;\n",
              "    }\n",
              "</style>\n",
              "<table border=\"1\" class=\"dataframe\">\n",
              "  <thead>\n",
              "    <tr style=\"text-align: right;\">\n",
              "      <th></th>\n",
              "      <th>MONTH</th>\n",
              "      <th>WEEKDAY</th>\n",
              "      <th>WKDY_I</th>\n",
              "      <th>HOUR</th>\n",
              "      <th>HOUR_I</th>\n",
              "      <th>VEH_INVL</th>\n",
              "      <th>NON_INVL</th>\n",
              "      <th>LAND_USE</th>\n",
              "      <th>MAN_COL</th>\n",
              "      <th>MANCOL_I</th>\n",
              "      <th>INT_HWY</th>\n",
              "      <th>REL_JCT</th>\n",
              "      <th>RELJCT_I</th>\n",
              "      <th>REL_RWY</th>\n",
              "      <th>TRAF_WAY</th>\n",
              "      <th>NUM_LAN</th>\n",
              "      <th>ALIGN</th>\n",
              "      <th>ALIGN_I</th>\n",
              "      <th>PROFILE</th>\n",
              "      <th>PROFIL_I</th>\n",
              "      <th>SUR_COND</th>\n",
              "      <th>SURCON_I</th>\n",
              "      <th>TRAF_CON</th>\n",
              "      <th>TRFCON_I</th>\n",
              "      <th>SPD_LIM</th>\n",
              "      <th>SPDLIM_H</th>\n",
              "      <th>LGHT_CON</th>\n",
              "      <th>LGTCON_I</th>\n",
              "      <th>WEATHER</th>\n",
              "      <th>WEATHR_I</th>\n",
              "      <th>SCHL_BUS</th>\n",
              "      <th>PED_ACC</th>\n",
              "      <th>ALCOHOL</th>\n",
              "      <th>ALCHL_I</th>\n",
              "      <th>REGION</th>\n",
              "      <th>WRK_ZONE</th>\n",
              "      <th>clase</th>\n",
              "    </tr>\n",
              "  </thead>\n",
              "  <tbody>\n",
              "    <tr>\n",
              "      <th>0</th>\n",
              "      <td>1</td>\n",
              "      <td>5</td>\n",
              "      <td>5</td>\n",
              "      <td>22</td>\n",
              "      <td>22</td>\n",
              "      <td>1</td>\n",
              "      <td>0</td>\n",
              "      <td>1</td>\n",
              "      <td>0</td>\n",
              "      <td>0</td>\n",
              "      <td>0</td>\n",
              "      <td>0</td>\n",
              "      <td>0</td>\n",
              "      <td>1</td>\n",
              "      <td>9</td>\n",
              "      <td>9</td>\n",
              "      <td>1</td>\n",
              "      <td>1</td>\n",
              "      <td>2</td>\n",
              "      <td>2</td>\n",
              "      <td>1</td>\n",
              "      <td>1</td>\n",
              "      <td>0</td>\n",
              "      <td>0</td>\n",
              "      <td>99</td>\n",
              "      <td>30</td>\n",
              "      <td>2</td>\n",
              "      <td>2</td>\n",
              "      <td>1</td>\n",
              "      <td>1</td>\n",
              "      <td>0</td>\n",
              "      <td>0</td>\n",
              "      <td>2</td>\n",
              "      <td>2</td>\n",
              "      <td>1</td>\n",
              "      <td>0</td>\n",
              "      <td>1</td>\n",
              "    </tr>\n",
              "    <tr>\n",
              "      <th>1</th>\n",
              "      <td>1</td>\n",
              "      <td>7</td>\n",
              "      <td>7</td>\n",
              "      <td>14</td>\n",
              "      <td>14</td>\n",
              "      <td>2</td>\n",
              "      <td>0</td>\n",
              "      <td>1</td>\n",
              "      <td>2</td>\n",
              "      <td>2</td>\n",
              "      <td>0</td>\n",
              "      <td>0</td>\n",
              "      <td>0</td>\n",
              "      <td>1</td>\n",
              "      <td>9</td>\n",
              "      <td>9</td>\n",
              "      <td>1</td>\n",
              "      <td>1</td>\n",
              "      <td>1</td>\n",
              "      <td>1</td>\n",
              "      <td>1</td>\n",
              "      <td>1</td>\n",
              "      <td>0</td>\n",
              "      <td>0</td>\n",
              "      <td>99</td>\n",
              "      <td>55</td>\n",
              "      <td>1</td>\n",
              "      <td>1</td>\n",
              "      <td>1</td>\n",
              "      <td>1</td>\n",
              "      <td>0</td>\n",
              "      <td>0</td>\n",
              "      <td>2</td>\n",
              "      <td>2</td>\n",
              "      <td>1</td>\n",
              "      <td>0</td>\n",
              "      <td>2</td>\n",
              "    </tr>\n",
              "    <tr>\n",
              "      <th>2</th>\n",
              "      <td>1</td>\n",
              "      <td>3</td>\n",
              "      <td>3</td>\n",
              "      <td>8</td>\n",
              "      <td>8</td>\n",
              "      <td>2</td>\n",
              "      <td>0</td>\n",
              "      <td>3</td>\n",
              "      <td>1</td>\n",
              "      <td>1</td>\n",
              "      <td>0</td>\n",
              "      <td>0</td>\n",
              "      <td>0</td>\n",
              "      <td>1</td>\n",
              "      <td>9</td>\n",
              "      <td>9</td>\n",
              "      <td>2</td>\n",
              "      <td>2</td>\n",
              "      <td>1</td>\n",
              "      <td>1</td>\n",
              "      <td>4</td>\n",
              "      <td>4</td>\n",
              "      <td>0</td>\n",
              "      <td>0</td>\n",
              "      <td>99</td>\n",
              "      <td>25</td>\n",
              "      <td>1</td>\n",
              "      <td>1</td>\n",
              "      <td>1</td>\n",
              "      <td>1</td>\n",
              "      <td>0</td>\n",
              "      <td>0</td>\n",
              "      <td>2</td>\n",
              "      <td>2</td>\n",
              "      <td>1</td>\n",
              "      <td>0</td>\n",
              "      <td>1</td>\n",
              "    </tr>\n",
              "    <tr>\n",
              "      <th>3</th>\n",
              "      <td>1</td>\n",
              "      <td>3</td>\n",
              "      <td>3</td>\n",
              "      <td>15</td>\n",
              "      <td>15</td>\n",
              "      <td>2</td>\n",
              "      <td>0</td>\n",
              "      <td>3</td>\n",
              "      <td>4</td>\n",
              "      <td>4</td>\n",
              "      <td>0</td>\n",
              "      <td>2</td>\n",
              "      <td>2</td>\n",
              "      <td>1</td>\n",
              "      <td>9</td>\n",
              "      <td>9</td>\n",
              "      <td>1</td>\n",
              "      <td>1</td>\n",
              "      <td>1</td>\n",
              "      <td>1</td>\n",
              "      <td>1</td>\n",
              "      <td>1</td>\n",
              "      <td>0</td>\n",
              "      <td>0</td>\n",
              "      <td>99</td>\n",
              "      <td>45</td>\n",
              "      <td>1</td>\n",
              "      <td>1</td>\n",
              "      <td>1</td>\n",
              "      <td>1</td>\n",
              "      <td>0</td>\n",
              "      <td>0</td>\n",
              "      <td>2</td>\n",
              "      <td>2</td>\n",
              "      <td>1</td>\n",
              "      <td>0</td>\n",
              "      <td>2</td>\n",
              "    </tr>\n",
              "    <tr>\n",
              "      <th>4</th>\n",
              "      <td>1</td>\n",
              "      <td>5</td>\n",
              "      <td>5</td>\n",
              "      <td>7</td>\n",
              "      <td>7</td>\n",
              "      <td>1</td>\n",
              "      <td>1</td>\n",
              "      <td>1</td>\n",
              "      <td>0</td>\n",
              "      <td>0</td>\n",
              "      <td>0</td>\n",
              "      <td>0</td>\n",
              "      <td>0</td>\n",
              "      <td>1</td>\n",
              "      <td>9</td>\n",
              "      <td>9</td>\n",
              "      <td>1</td>\n",
              "      <td>1</td>\n",
              "      <td>1</td>\n",
              "      <td>1</td>\n",
              "      <td>1</td>\n",
              "      <td>1</td>\n",
              "      <td>0</td>\n",
              "      <td>0</td>\n",
              "      <td>99</td>\n",
              "      <td>35</td>\n",
              "      <td>1</td>\n",
              "      <td>1</td>\n",
              "      <td>1</td>\n",
              "      <td>1</td>\n",
              "      <td>0</td>\n",
              "      <td>531</td>\n",
              "      <td>2</td>\n",
              "      <td>2</td>\n",
              "      <td>1</td>\n",
              "      <td>0</td>\n",
              "      <td>2</td>\n",
              "    </tr>\n",
              "  </tbody>\n",
              "</table>\n",
              "</div>"
            ],
            "text/plain": [
              "   MONTH  WEEKDAY  WKDY_I  HOUR  ...  ALCHL_I  REGION  WRK_ZONE  clase\n",
              "0      1        5       5    22  ...        2       1         0      1\n",
              "1      1        7       7    14  ...        2       1         0      2\n",
              "2      1        3       3     8  ...        2       1         0      1\n",
              "3      1        3       3    15  ...        2       1         0      2\n",
              "4      1        5       5     7  ...        2       1         0      2\n",
              "\n",
              "[5 rows x 37 columns]"
            ]
          },
          "metadata": {
            "tags": []
          },
          "execution_count": 4
        }
      ]
    },
    {
      "cell_type": "code",
      "metadata": {
        "colab": {
          "base_uri": "https://localhost:8080/"
        },
        "id": "g15oZ4bz04Ru",
        "outputId": "7f007d97-3edc-48a7-e451-251223c03b67"
      },
      "source": [
        "autos.dtypes"
      ],
      "execution_count": 5,
      "outputs": [
        {
          "output_type": "execute_result",
          "data": {
            "text/plain": [
              "MONTH       int64\n",
              "WEEKDAY     int64\n",
              "WKDY_I      int64\n",
              "HOUR        int64\n",
              "HOUR_I      int64\n",
              "VEH_INVL    int64\n",
              "NON_INVL    int64\n",
              "LAND_USE    int64\n",
              "MAN_COL     int64\n",
              "MANCOL_I    int64\n",
              "INT_HWY     int64\n",
              "REL_JCT     int64\n",
              "RELJCT_I    int64\n",
              "REL_RWY     int64\n",
              "TRAF_WAY    int64\n",
              "NUM_LAN     int64\n",
              "ALIGN       int64\n",
              "ALIGN_I     int64\n",
              "PROFILE     int64\n",
              "PROFIL_I    int64\n",
              "SUR_COND    int64\n",
              "SURCON_I    int64\n",
              "TRAF_CON    int64\n",
              "TRFCON_I    int64\n",
              "SPD_LIM     int64\n",
              "SPDLIM_H    int64\n",
              "LGHT_CON    int64\n",
              "LGTCON_I    int64\n",
              "WEATHER     int64\n",
              "WEATHR_I    int64\n",
              "SCHL_BUS    int64\n",
              "PED_ACC     int64\n",
              "ALCOHOL     int64\n",
              "ALCHL_I     int64\n",
              "REGION      int64\n",
              "WRK_ZONE    int64\n",
              "clase       int64\n",
              "dtype: object"
            ]
          },
          "metadata": {
            "tags": []
          },
          "execution_count": 5
        }
      ]
    },
    {
      "cell_type": "markdown",
      "metadata": {
        "id": "L1hTI1mjRYwt"
      },
      "source": [
        "Obtenemos los conjuntos con valores pre-inputados y sin imputar"
      ]
    },
    {
      "cell_type": "code",
      "metadata": {
        "id": "kpQE5QLCW8mD"
      },
      "source": [
        "\n",
        "autos_NI = autos.drop(columns=['WKDY_I',  'HOUR_I', 'MANCOL_I', 'RELJCT_I', 'ALIGN_I', 'PROFIL_I', 'SURCON_I', 'TRFCON_I', 'SPDLIM_H', 'LGTCON_I', 'WEATHR_I', 'ALCHL_I'])\n",
        "autos_I  = autos.drop(columns=['WEEKDAY', 'HOUR',    'MAN_COL', 'REL_JCT',  'ALIGN',   'PROFILE', 'SUR_COND',  'TRAF_CON', 'SPD_LIM',  'LGHT_CON', 'WEATHER',  'ALCOHOL'])\n",
        "#print( str(len(autos_I.columns)) + \" \" + str(len(autos_NI.columns)) )\n"
      ],
      "execution_count": 6,
      "outputs": []
    },
    {
      "cell_type": "markdown",
      "metadata": {
        "id": "Ocjql2O6R4xd"
      },
      "source": [
        "Definimos algunas funciones que nos van a hacer más fácil aplicar el algoritmo a los diferentes preprocesamientos"
      ]
    },
    {
      "cell_type": "code",
      "metadata": {
        "id": "plvJPfNGSUv8"
      },
      "source": [
        "'''\n",
        "Función para obtener la exactitud tras haber realizados la clasifiación\n",
        "'''\n",
        "def exactitud(predictions, labels):\n",
        "  igualdad = predictions == labels\n",
        "  igualdad.value_counts()\n",
        "  verdaderos = igualdad[ igualdad== True  ] \n",
        "  falsos = igualdad[ igualdad== False  ] \n",
        "  # print( \"Tamaños de los conjuntos de datos: \" + str(len(verdaderos))+ \"/\" + str(len(falsos)) + \"/\" + str(len(igualdad)) )\n",
        "  print(\"Bien clasificados: \" + str(len(verdaderos)) + \" de \" + str(len(igualdad)) +'\\n' +\n",
        "        \"Exactitud:\" + str( round(len(verdaderos)/len(igualdad)*100, 2) ))"
      ],
      "execution_count": 7,
      "outputs": []
    },
    {
      "cell_type": "code",
      "metadata": {
        "id": "rMS_6bD8VnD8"
      },
      "source": [
        "from sklearn.model_selection import train_test_split\n",
        "from sklearn import metrics\n",
        "\n",
        "test = 0.2\n",
        "'''\n",
        "Separamos las columnas para predecir de la columna 'clase'\n",
        "'''\n",
        "def splitClase(df):\n",
        "  datos = df.iloc[:, :-1]\n",
        "  labels = df['clase']\n",
        "  return datos, labels\n",
        "'''\n",
        "Crea el árbol de decisión y devuelve la exactitud y la matriz de confusión\n",
        "'''\n",
        "\n",
        "def arbol(df):\n",
        "  datos, labels = splitClase(df)\n",
        "  datos_train, datos_test, labels_train, labels_test = train_test_split( datos, labels, test_size=test, random_state=seed)\n",
        "\n",
        "  tree_var = tree.DecisionTreeClassifier(random_state=seed)\n",
        "  tree_var = tree_var.fit(datos_train, labels_train)\n",
        "  predictions = tree_var.predict(datos_test)\n",
        "\n",
        "  exactitud(predictions, labels_test)\n",
        "  print(\"      \")\n",
        "  print(metrics.confusion_matrix(labels_test, predictions, labels=[1, 2, 3]))\n",
        "  print(metrics.classification_report(labels_test, predictions, labels=[1, 2, 3]))\n",
        "\n",
        "def arbol_dl(datos, labels):\n",
        "  datos_train, datos_test, labels_train, labels_test = train_test_split( datos, labels, test_size=test, random_state=seed)\n",
        "\n",
        "  tree_var = tree.DecisionTreeClassifier(random_state=seed)\n",
        "  tree_var = tree_var.fit(datos_train, labels_train)\n",
        "  predictions = tree_var.predict(datos_test)\n",
        "\n",
        "  exactitud(predictions, labels_test)\n",
        "  print(\"      \")\n",
        "  print(metrics.confusion_matrix(labels_test, predictions, labels=[1, 2, 3]))\n",
        "  print(metrics.classification_report(labels_test, predictions, labels=[1, 2, 3]))"
      ],
      "execution_count": 8,
      "outputs": []
    },
    {
      "cell_type": "markdown",
      "metadata": {
        "id": "3RFTFdVIe59k"
      },
      "source": [
        "### Aplicamos el árbol de decisión a los conjuntos sin procesar\n",
        "\n"
      ]
    },
    {
      "cell_type": "code",
      "metadata": {
        "id": "yD5TYw-SWUL2",
        "colab": {
          "base_uri": "https://localhost:8080/"
        },
        "outputId": "302a8735-9f40-4ccb-eca7-4dc181fa90d1"
      },
      "source": [
        "arbol(autos_NI)"
      ],
      "execution_count": 9,
      "outputs": [
        {
          "output_type": "stream",
          "text": [
            "Bien clasificados: 6206 de 11193\n",
            "Exactitud:55.45\n",
            "      \n",
            "[[3231 2424   49]\n",
            " [2344 2969   68]\n",
            " [  45   57    6]]\n",
            "              precision    recall  f1-score   support\n",
            "\n",
            "           1       0.57      0.57      0.57      5704\n",
            "           2       0.54      0.55      0.55      5381\n",
            "           3       0.05      0.06      0.05       108\n",
            "\n",
            "    accuracy                           0.55     11193\n",
            "   macro avg       0.39      0.39      0.39     11193\n",
            "weighted avg       0.56      0.55      0.55     11193\n",
            "\n"
          ],
          "name": "stdout"
        }
      ]
    },
    {
      "cell_type": "markdown",
      "metadata": {
        "id": "W5JnxeINj-nI"
      },
      "source": [
        "### Aplicamos el árbol de decisión a los datos preinputados"
      ]
    },
    {
      "cell_type": "code",
      "metadata": {
        "id": "QraKEoeGkNfw",
        "colab": {
          "base_uri": "https://localhost:8080/"
        },
        "outputId": "b6a4b31b-7d04-4ddc-ffe4-855c515de464"
      },
      "source": [
        "arbol(autos_I)"
      ],
      "execution_count": 10,
      "outputs": [
        {
          "output_type": "stream",
          "text": [
            "Bien clasificados: 6201 de 11193\n",
            "Exactitud:55.4\n",
            "      \n",
            "[[3264 2384   56]\n",
            " [2371 2931   79]\n",
            " [  38   64    6]]\n",
            "              precision    recall  f1-score   support\n",
            "\n",
            "           1       0.58      0.57      0.57      5704\n",
            "           2       0.54      0.54      0.54      5381\n",
            "           3       0.04      0.06      0.05       108\n",
            "\n",
            "    accuracy                           0.55     11193\n",
            "   macro avg       0.39      0.39      0.39     11193\n",
            "weighted avg       0.56      0.55      0.55     11193\n",
            "\n"
          ],
          "name": "stdout"
        }
      ]
    },
    {
      "cell_type": "markdown",
      "metadata": {
        "id": "tnczFOP3UwYL"
      },
      "source": [
        "### Discretización\n",
        "Para poder llevar a cabo la discretización, necesitamos separar las variables a predecir de las etiquetas"
      ]
    },
    {
      "cell_type": "markdown",
      "metadata": {
        "id": "ZfnYOGxaZ2dx"
      },
      "source": [
        "Lo que vamos a hacer es una discretización en base a si los accidentes ocurrieron en hoa punta o no"
      ]
    },
    {
      "cell_type": "code",
      "metadata": {
        "colab": {
          "base_uri": "https://localhost:8080/",
          "height": 218
        },
        "id": "VG-WbTtTaRyu",
        "outputId": "b7173cad-7f7d-4560-c492-ead5ad667ef0"
      },
      "source": [
        "autos_DISC = autos_I.copy()\n",
        "autos_DISC['HOUR_I']=pd.cut(x=autos_DISC['HOUR_I'], bins=[-1,12,17,24], labels=[1,2,3])\n",
        "autos_DISC['SPDLIM_H'] = pd.cut(x=autos_DISC['SPDLIM_H'], bins=[-1,30,50,80], labels=[1,2,3])\n",
        "autos_DISC['WKDY_I'] = pd.cut(x=autos_DISC['WKDY_I'], bins=[0,1,6,7], labels=[1,2,3])\n",
        "autos_DISC.head()"
      ],
      "execution_count": 11,
      "outputs": [
        {
          "output_type": "execute_result",
          "data": {
            "text/html": [
              "<div>\n",
              "<style scoped>\n",
              "    .dataframe tbody tr th:only-of-type {\n",
              "        vertical-align: middle;\n",
              "    }\n",
              "\n",
              "    .dataframe tbody tr th {\n",
              "        vertical-align: top;\n",
              "    }\n",
              "\n",
              "    .dataframe thead th {\n",
              "        text-align: right;\n",
              "    }\n",
              "</style>\n",
              "<table border=\"1\" class=\"dataframe\">\n",
              "  <thead>\n",
              "    <tr style=\"text-align: right;\">\n",
              "      <th></th>\n",
              "      <th>MONTH</th>\n",
              "      <th>WKDY_I</th>\n",
              "      <th>HOUR_I</th>\n",
              "      <th>VEH_INVL</th>\n",
              "      <th>NON_INVL</th>\n",
              "      <th>LAND_USE</th>\n",
              "      <th>MANCOL_I</th>\n",
              "      <th>INT_HWY</th>\n",
              "      <th>RELJCT_I</th>\n",
              "      <th>REL_RWY</th>\n",
              "      <th>TRAF_WAY</th>\n",
              "      <th>NUM_LAN</th>\n",
              "      <th>ALIGN_I</th>\n",
              "      <th>PROFIL_I</th>\n",
              "      <th>SURCON_I</th>\n",
              "      <th>TRFCON_I</th>\n",
              "      <th>SPDLIM_H</th>\n",
              "      <th>LGTCON_I</th>\n",
              "      <th>WEATHR_I</th>\n",
              "      <th>SCHL_BUS</th>\n",
              "      <th>PED_ACC</th>\n",
              "      <th>ALCHL_I</th>\n",
              "      <th>REGION</th>\n",
              "      <th>WRK_ZONE</th>\n",
              "      <th>clase</th>\n",
              "    </tr>\n",
              "  </thead>\n",
              "  <tbody>\n",
              "    <tr>\n",
              "      <th>0</th>\n",
              "      <td>1</td>\n",
              "      <td>2</td>\n",
              "      <td>3</td>\n",
              "      <td>1</td>\n",
              "      <td>0</td>\n",
              "      <td>1</td>\n",
              "      <td>0</td>\n",
              "      <td>0</td>\n",
              "      <td>0</td>\n",
              "      <td>1</td>\n",
              "      <td>9</td>\n",
              "      <td>9</td>\n",
              "      <td>1</td>\n",
              "      <td>2</td>\n",
              "      <td>1</td>\n",
              "      <td>0</td>\n",
              "      <td>1</td>\n",
              "      <td>2</td>\n",
              "      <td>1</td>\n",
              "      <td>0</td>\n",
              "      <td>0</td>\n",
              "      <td>2</td>\n",
              "      <td>1</td>\n",
              "      <td>0</td>\n",
              "      <td>1</td>\n",
              "    </tr>\n",
              "    <tr>\n",
              "      <th>1</th>\n",
              "      <td>1</td>\n",
              "      <td>3</td>\n",
              "      <td>2</td>\n",
              "      <td>2</td>\n",
              "      <td>0</td>\n",
              "      <td>1</td>\n",
              "      <td>2</td>\n",
              "      <td>0</td>\n",
              "      <td>0</td>\n",
              "      <td>1</td>\n",
              "      <td>9</td>\n",
              "      <td>9</td>\n",
              "      <td>1</td>\n",
              "      <td>1</td>\n",
              "      <td>1</td>\n",
              "      <td>0</td>\n",
              "      <td>3</td>\n",
              "      <td>1</td>\n",
              "      <td>1</td>\n",
              "      <td>0</td>\n",
              "      <td>0</td>\n",
              "      <td>2</td>\n",
              "      <td>1</td>\n",
              "      <td>0</td>\n",
              "      <td>2</td>\n",
              "    </tr>\n",
              "    <tr>\n",
              "      <th>2</th>\n",
              "      <td>1</td>\n",
              "      <td>2</td>\n",
              "      <td>1</td>\n",
              "      <td>2</td>\n",
              "      <td>0</td>\n",
              "      <td>3</td>\n",
              "      <td>1</td>\n",
              "      <td>0</td>\n",
              "      <td>0</td>\n",
              "      <td>1</td>\n",
              "      <td>9</td>\n",
              "      <td>9</td>\n",
              "      <td>2</td>\n",
              "      <td>1</td>\n",
              "      <td>4</td>\n",
              "      <td>0</td>\n",
              "      <td>1</td>\n",
              "      <td>1</td>\n",
              "      <td>1</td>\n",
              "      <td>0</td>\n",
              "      <td>0</td>\n",
              "      <td>2</td>\n",
              "      <td>1</td>\n",
              "      <td>0</td>\n",
              "      <td>1</td>\n",
              "    </tr>\n",
              "    <tr>\n",
              "      <th>3</th>\n",
              "      <td>1</td>\n",
              "      <td>2</td>\n",
              "      <td>2</td>\n",
              "      <td>2</td>\n",
              "      <td>0</td>\n",
              "      <td>3</td>\n",
              "      <td>4</td>\n",
              "      <td>0</td>\n",
              "      <td>2</td>\n",
              "      <td>1</td>\n",
              "      <td>9</td>\n",
              "      <td>9</td>\n",
              "      <td>1</td>\n",
              "      <td>1</td>\n",
              "      <td>1</td>\n",
              "      <td>0</td>\n",
              "      <td>2</td>\n",
              "      <td>1</td>\n",
              "      <td>1</td>\n",
              "      <td>0</td>\n",
              "      <td>0</td>\n",
              "      <td>2</td>\n",
              "      <td>1</td>\n",
              "      <td>0</td>\n",
              "      <td>2</td>\n",
              "    </tr>\n",
              "    <tr>\n",
              "      <th>4</th>\n",
              "      <td>1</td>\n",
              "      <td>2</td>\n",
              "      <td>1</td>\n",
              "      <td>1</td>\n",
              "      <td>1</td>\n",
              "      <td>1</td>\n",
              "      <td>0</td>\n",
              "      <td>0</td>\n",
              "      <td>0</td>\n",
              "      <td>1</td>\n",
              "      <td>9</td>\n",
              "      <td>9</td>\n",
              "      <td>1</td>\n",
              "      <td>1</td>\n",
              "      <td>1</td>\n",
              "      <td>0</td>\n",
              "      <td>2</td>\n",
              "      <td>1</td>\n",
              "      <td>1</td>\n",
              "      <td>0</td>\n",
              "      <td>531</td>\n",
              "      <td>2</td>\n",
              "      <td>1</td>\n",
              "      <td>0</td>\n",
              "      <td>2</td>\n",
              "    </tr>\n",
              "  </tbody>\n",
              "</table>\n",
              "</div>"
            ],
            "text/plain": [
              "   MONTH WKDY_I HOUR_I  VEH_INVL  ...  ALCHL_I  REGION  WRK_ZONE  clase\n",
              "0      1      2      3         1  ...        2       1         0      1\n",
              "1      1      3      2         2  ...        2       1         0      2\n",
              "2      1      2      1         2  ...        2       1         0      1\n",
              "3      1      2      2         2  ...        2       1         0      2\n",
              "4      1      2      1         1  ...        2       1         0      2\n",
              "\n",
              "[5 rows x 25 columns]"
            ]
          },
          "metadata": {
            "tags": []
          },
          "execution_count": 11
        }
      ]
    },
    {
      "cell_type": "code",
      "metadata": {
        "colab": {
          "base_uri": "https://localhost:8080/"
        },
        "id": "MkIqDinhbR1D",
        "outputId": "d04022d0-e3b7-4f95-8eef-172d96ebd8cc"
      },
      "source": [
        "arbol(autos_DISC)"
      ],
      "execution_count": 12,
      "outputs": [
        {
          "output_type": "stream",
          "text": [
            "Bien clasificados: 6187 de 11193\n",
            "Exactitud:55.28\n",
            "      \n",
            "[[3296 2359   49]\n",
            " [2426 2879   76]\n",
            " [  38   58   12]]\n",
            "              precision    recall  f1-score   support\n",
            "\n",
            "           1       0.57      0.58      0.58      5704\n",
            "           2       0.54      0.54      0.54      5381\n",
            "           3       0.09      0.11      0.10       108\n",
            "\n",
            "    accuracy                           0.55     11193\n",
            "   macro avg       0.40      0.41      0.40     11193\n",
            "weighted avg       0.55      0.55      0.55     11193\n",
            "\n"
          ],
          "name": "stdout"
        }
      ]
    },
    {
      "cell_type": "markdown",
      "metadata": {
        "id": "VcwhauBHqkub"
      },
      "source": [
        "### Trabajamos con los valores perdidos\n",
        "\n",
        "Sustituimos los valores que indican un valor desconocido po un NaN para que sea más fácil tratarlo por las librerías. Luego, vemos también cuáles son las columnas con mayor número de números perdidos"
      ]
    },
    {
      "cell_type": "code",
      "metadata": {
        "id": "PE7BtN9mqoB4",
        "colab": {
          "base_uri": "https://localhost:8080/"
        },
        "outputId": "27372c6d-8cb5-423e-9a89-743ca31f895f"
      },
      "source": [
        "autos_NA = autos_NI.copy()\n",
        "#'WEEKDAY', 'HOUR',    'MAN_COL', 'REL_JCT',  'ALIGN',   'PROFILE', 'SUR_COND',  'TRAF_CON', 'SPD_LIM',  'LGHT_CON', 'WEATHER',  'ALCOHOL'\n",
        "autos_NA['WEEKDAY'] = autos_NA['WEEKDAY'].replace(9, np.nan)\n",
        "autos_NA['HOUR'] = autos_NA['HOUR'].replace(99, np.nan)\n",
        "autos_NA['MAN_COL'] = autos_NA['MAN_COL'].replace(99, np.nan)\n",
        "autos_NA['REL_JCT'] = autos_NA['REL_JCT'].replace(99, np.nan)\n",
        "autos_NA['ALIGN'] = autos_NA['ALIGN'].replace(9, np.nan)\n",
        "autos_NA['PROFILE'] = autos_NA['PROFILE'].replace(9, np.nan)\n",
        "autos_NA['SUR_COND'] = autos_NA['SUR_COND'].replace(9, np.nan)\n",
        "autos_NA['TRAF_CON'] = autos_NA['TRAF_CON'].replace(99, np.nan)\n",
        "autos_NA['SPD_LIM'] = autos_NA['SPD_LIM'].replace(99, np.nan)\n",
        "autos_NA['LGHT_CON'] = autos_NA['LGHT_CON'].replace(9, np.nan)\n",
        "autos_NA['WEATHER'] = autos_NA['WEATHER'].replace(9, np.nan)\n",
        "autos_NA['ALCOHOL'] = autos_NA['ALCOHOL'].replace(9, np.nan)\n",
        "autos_NA.isna().sum()"
      ],
      "execution_count": 13,
      "outputs": [
        {
          "output_type": "execute_result",
          "data": {
            "text/plain": [
              "MONTH           0\n",
              "WEEKDAY         0\n",
              "HOUR          267\n",
              "VEH_INVL        0\n",
              "NON_INVL        0\n",
              "LAND_USE        0\n",
              "MAN_COL         0\n",
              "INT_HWY         0\n",
              "REL_JCT        61\n",
              "REL_RWY         0\n",
              "TRAF_WAY        0\n",
              "NUM_LAN         0\n",
              "ALIGN        7433\n",
              "PROFILE     16125\n",
              "SUR_COND      682\n",
              "TRAF_CON     1345\n",
              "SPD_LIM      8798\n",
              "LGHT_CON      546\n",
              "WEATHER       718\n",
              "SCHL_BUS        0\n",
              "PED_ACC         0\n",
              "ALCOHOL      2719\n",
              "REGION          0\n",
              "WRK_ZONE        0\n",
              "clase           0\n",
              "dtype: int64"
            ]
          },
          "metadata": {
            "tags": []
          },
          "execution_count": 13
        }
      ]
    },
    {
      "cell_type": "markdown",
      "metadata": {
        "id": "cyhvJhiMYWqk"
      },
      "source": [
        "### Eliminamos las FILAS que tiene valores perdidos\n",
        "Efectivamente, comprbamos que no tienen NaNs"
      ]
    },
    {
      "cell_type": "code",
      "metadata": {
        "id": "bH6ujejVYKc4",
        "colab": {
          "base_uri": "https://localhost:8080/"
        },
        "outputId": "808f2184-da60-45e2-888f-68aed88aeb53"
      },
      "source": [
        "autos_Not_NA = autos.dropna()\n",
        "autos_Not_NA.isna().sum()"
      ],
      "execution_count": 14,
      "outputs": [
        {
          "output_type": "execute_result",
          "data": {
            "text/plain": [
              "MONTH       0\n",
              "WEEKDAY     0\n",
              "WKDY_I      0\n",
              "HOUR        0\n",
              "HOUR_I      0\n",
              "VEH_INVL    0\n",
              "NON_INVL    0\n",
              "LAND_USE    0\n",
              "MAN_COL     0\n",
              "MANCOL_I    0\n",
              "INT_HWY     0\n",
              "REL_JCT     0\n",
              "RELJCT_I    0\n",
              "REL_RWY     0\n",
              "TRAF_WAY    0\n",
              "NUM_LAN     0\n",
              "ALIGN       0\n",
              "ALIGN_I     0\n",
              "PROFILE     0\n",
              "PROFIL_I    0\n",
              "SUR_COND    0\n",
              "SURCON_I    0\n",
              "TRAF_CON    0\n",
              "TRFCON_I    0\n",
              "SPD_LIM     0\n",
              "SPDLIM_H    0\n",
              "LGHT_CON    0\n",
              "LGTCON_I    0\n",
              "WEATHER     0\n",
              "WEATHR_I    0\n",
              "SCHL_BUS    0\n",
              "PED_ACC     0\n",
              "ALCOHOL     0\n",
              "ALCHL_I     0\n",
              "REGION      0\n",
              "WRK_ZONE    0\n",
              "clase       0\n",
              "dtype: int64"
            ]
          },
          "metadata": {
            "tags": []
          },
          "execution_count": 14
        }
      ]
    },
    {
      "cell_type": "code",
      "metadata": {
        "id": "bgPg5Jf9Ykfm",
        "colab": {
          "base_uri": "https://localhost:8080/"
        },
        "outputId": "91646617-d0e6-44a0-8bf8-10fd4c078af3"
      },
      "source": [
        "arbol(autos_Not_NA)"
      ],
      "execution_count": 15,
      "outputs": [
        {
          "output_type": "stream",
          "text": [
            "Bien clasificados: 6254 de 11193\n",
            "Exactitud:55.87\n",
            "      \n",
            "[[3291 2378   35]\n",
            " [2337 2956   88]\n",
            " [  37   64    7]]\n",
            "              precision    recall  f1-score   support\n",
            "\n",
            "           1       0.58      0.58      0.58      5704\n",
            "           2       0.55      0.55      0.55      5381\n",
            "           3       0.05      0.06      0.06       108\n",
            "\n",
            "    accuracy                           0.56     11193\n",
            "   macro avg       0.39      0.40      0.40     11193\n",
            "weighted avg       0.56      0.56      0.56     11193\n",
            "\n"
          ],
          "name": "stdout"
        }
      ]
    },
    {
      "cell_type": "markdown",
      "metadata": {
        "id": "62d2sBF6Y0G4"
      },
      "source": [
        "### Eliminar columnas con algún NA\n",
        "Eliminamos las columnas o características que tienen algún valor perdido. "
      ]
    },
    {
      "cell_type": "code",
      "metadata": {
        "id": "b1_1V71HYzxS",
        "colab": {
          "base_uri": "https://localhost:8080/"
        },
        "outputId": "85d599e8-cbd7-4d6d-a26b-ea7dec900b1d"
      },
      "source": [
        "autos_Not_NA_col = autos_NA.dropna(how='any', axis=1)\n",
        "autos_Not_NA_col.isna().sum()"
      ],
      "execution_count": 16,
      "outputs": [
        {
          "output_type": "execute_result",
          "data": {
            "text/plain": [
              "MONTH       0\n",
              "WEEKDAY     0\n",
              "VEH_INVL    0\n",
              "NON_INVL    0\n",
              "LAND_USE    0\n",
              "MAN_COL     0\n",
              "INT_HWY     0\n",
              "REL_RWY     0\n",
              "TRAF_WAY    0\n",
              "NUM_LAN     0\n",
              "SCHL_BUS    0\n",
              "PED_ACC     0\n",
              "REGION      0\n",
              "WRK_ZONE    0\n",
              "clase       0\n",
              "dtype: int64"
            ]
          },
          "metadata": {
            "tags": []
          },
          "execution_count": 16
        }
      ]
    },
    {
      "cell_type": "code",
      "metadata": {
        "id": "P-j6B8fBe4ox",
        "colab": {
          "base_uri": "https://localhost:8080/"
        },
        "outputId": "eb0afe25-2337-4431-b0ec-e3c6f9c3f944"
      },
      "source": [
        "arbol(autos_Not_NA_col)"
      ],
      "execution_count": 17,
      "outputs": [
        {
          "output_type": "stream",
          "text": [
            "Bien clasificados: 6135 de 11193\n",
            "Exactitud:54.81\n",
            "      \n",
            "[[3519 2157   28]\n",
            " [2719 2611   51]\n",
            " [  38   65    5]]\n",
            "              precision    recall  f1-score   support\n",
            "\n",
            "           1       0.56      0.62      0.59      5704\n",
            "           2       0.54      0.49      0.51      5381\n",
            "           3       0.06      0.05      0.05       108\n",
            "\n",
            "    accuracy                           0.55     11193\n",
            "   macro avg       0.39      0.38      0.38     11193\n",
            "weighted avg       0.55      0.55      0.55     11193\n",
            "\n"
          ],
          "name": "stdout"
        }
      ]
    },
    {
      "cell_type": "markdown",
      "metadata": {
        "id": "0R-1nKkcube4"
      },
      "source": [
        "### Rellenamos con la media o moda"
      ]
    },
    {
      "cell_type": "code",
      "metadata": {
        "id": "C_V0sCC3uz-F",
        "colab": {
          "base_uri": "https://localhost:8080/"
        },
        "outputId": "a8ddfca9-51b4-4d07-9c21-6b79583c0a80"
      },
      "source": [
        "autos_MEAN = autos_NA.copy()\n",
        "autos_MEAN['HOUR'] = autos_MEAN['HOUR'].fillna(autos_MEAN['HOUR'].mean())\n",
        "autos_MEAN['SPD_LIM'] = autos_MEAN['SPD_LIM'].fillna(autos_MEAN['SPD_LIM'].mean())\n",
        "mode = autos_MEAN['ALCOHOL'].mode()[0]\n",
        "autos_MEAN['ALCOHOL'] = autos_MEAN['ALCOHOL'].fillna(mode)\n",
        "mode = autos_MEAN['WEATHER'].mode()[0]\n",
        "autos_MEAN['WEATHER'] = autos_MEAN['WEATHER'].fillna(mode)\n",
        "mode = autos_MEAN['REL_JCT'].mode()[0]\n",
        "autos_MEAN['REL_JCT'] = autos_MEAN['REL_JCT'].fillna(mode)\n",
        "mode = autos_MEAN['ALIGN'].mode()[0]\n",
        "autos_MEAN['ALIGN'] = autos_MEAN['ALIGN'].fillna(mode)\n",
        "mode = autos_MEAN['PROFILE'].mode()[0]\n",
        "autos_MEAN['PROFILE'] = autos_MEAN['PROFILE'].fillna(mode)\n",
        "mode = autos_MEAN['SUR_COND'].mode()[0]\n",
        "autos_MEAN['SUR_COND'] = autos_MEAN['SUR_COND'].fillna(mode)\n",
        "mode = autos_MEAN['TRAF_CON'].mode()[0]\n",
        "autos_MEAN['TRAF_CON'] = autos_MEAN['TRAF_CON'].fillna(mode)\n",
        "mode = autos_MEAN['LGHT_CON'].mode()[0]\n",
        "autos_MEAN['LGHT_CON'] = autos_MEAN['LGHT_CON'].fillna(mode)\n",
        "\n",
        "autos_MEAN.isna().sum()"
      ],
      "execution_count": 18,
      "outputs": [
        {
          "output_type": "execute_result",
          "data": {
            "text/plain": [
              "MONTH       0\n",
              "WEEKDAY     0\n",
              "HOUR        0\n",
              "VEH_INVL    0\n",
              "NON_INVL    0\n",
              "LAND_USE    0\n",
              "MAN_COL     0\n",
              "INT_HWY     0\n",
              "REL_JCT     0\n",
              "REL_RWY     0\n",
              "TRAF_WAY    0\n",
              "NUM_LAN     0\n",
              "ALIGN       0\n",
              "PROFILE     0\n",
              "SUR_COND    0\n",
              "TRAF_CON    0\n",
              "SPD_LIM     0\n",
              "LGHT_CON    0\n",
              "WEATHER     0\n",
              "SCHL_BUS    0\n",
              "PED_ACC     0\n",
              "ALCOHOL     0\n",
              "REGION      0\n",
              "WRK_ZONE    0\n",
              "clase       0\n",
              "dtype: int64"
            ]
          },
          "metadata": {
            "tags": []
          },
          "execution_count": 18
        }
      ]
    },
    {
      "cell_type": "code",
      "metadata": {
        "id": "XflQX4OWxQtr",
        "colab": {
          "base_uri": "https://localhost:8080/"
        },
        "outputId": "97b186c5-c7ab-4cf7-f33a-dd8a42816d85"
      },
      "source": [
        "arbol(autos_MEAN)"
      ],
      "execution_count": 19,
      "outputs": [
        {
          "output_type": "stream",
          "text": [
            "Bien clasificados: 6166 de 11193\n",
            "Exactitud:55.09\n",
            "      \n",
            "[[3227 2441   36]\n",
            " [2382 2934   65]\n",
            " [  48   55    5]]\n",
            "              precision    recall  f1-score   support\n",
            "\n",
            "           1       0.57      0.57      0.57      5704\n",
            "           2       0.54      0.55      0.54      5381\n",
            "           3       0.05      0.05      0.05       108\n",
            "\n",
            "    accuracy                           0.55     11193\n",
            "   macro avg       0.39      0.39      0.39     11193\n",
            "weighted avg       0.55      0.55      0.55     11193\n",
            "\n"
          ],
          "name": "stdout"
        }
      ]
    },
    {
      "cell_type": "markdown",
      "metadata": {
        "id": "fISMwtbQ08a9"
      },
      "source": [
        "### PCA\n",
        "Vamos a realizar un análisis de componente principales para reducir el número de características.\n",
        "Para ello, vamos a usar el conjunto con los datos discretizados"
      ]
    },
    {
      "cell_type": "code",
      "metadata": {
        "id": "OliFkkSX0903"
      },
      "source": [
        "from sklearn.decomposition import PCA"
      ],
      "execution_count": 20,
      "outputs": []
    },
    {
      "cell_type": "code",
      "metadata": {
        "id": "RONRevi01S2X",
        "colab": {
          "base_uri": "https://localhost:8080/",
          "height": 427
        },
        "outputId": "51506b9b-52d5-4159-ec03-9c616dc49f08"
      },
      "source": [
        "autos_PCA = autos_DISC.copy()\n",
        "labels = autos_PCA['clase']\n",
        "autos_PCA.drop(columns=['clase'])"
      ],
      "execution_count": 21,
      "outputs": [
        {
          "output_type": "execute_result",
          "data": {
            "text/html": [
              "<div>\n",
              "<style scoped>\n",
              "    .dataframe tbody tr th:only-of-type {\n",
              "        vertical-align: middle;\n",
              "    }\n",
              "\n",
              "    .dataframe tbody tr th {\n",
              "        vertical-align: top;\n",
              "    }\n",
              "\n",
              "    .dataframe thead th {\n",
              "        text-align: right;\n",
              "    }\n",
              "</style>\n",
              "<table border=\"1\" class=\"dataframe\">\n",
              "  <thead>\n",
              "    <tr style=\"text-align: right;\">\n",
              "      <th></th>\n",
              "      <th>MONTH</th>\n",
              "      <th>WKDY_I</th>\n",
              "      <th>HOUR_I</th>\n",
              "      <th>VEH_INVL</th>\n",
              "      <th>NON_INVL</th>\n",
              "      <th>LAND_USE</th>\n",
              "      <th>MANCOL_I</th>\n",
              "      <th>INT_HWY</th>\n",
              "      <th>RELJCT_I</th>\n",
              "      <th>REL_RWY</th>\n",
              "      <th>TRAF_WAY</th>\n",
              "      <th>NUM_LAN</th>\n",
              "      <th>ALIGN_I</th>\n",
              "      <th>PROFIL_I</th>\n",
              "      <th>SURCON_I</th>\n",
              "      <th>TRFCON_I</th>\n",
              "      <th>SPDLIM_H</th>\n",
              "      <th>LGTCON_I</th>\n",
              "      <th>WEATHR_I</th>\n",
              "      <th>SCHL_BUS</th>\n",
              "      <th>PED_ACC</th>\n",
              "      <th>ALCHL_I</th>\n",
              "      <th>REGION</th>\n",
              "      <th>WRK_ZONE</th>\n",
              "    </tr>\n",
              "  </thead>\n",
              "  <tbody>\n",
              "    <tr>\n",
              "      <th>0</th>\n",
              "      <td>1</td>\n",
              "      <td>2</td>\n",
              "      <td>3</td>\n",
              "      <td>1</td>\n",
              "      <td>0</td>\n",
              "      <td>1</td>\n",
              "      <td>0</td>\n",
              "      <td>0</td>\n",
              "      <td>0</td>\n",
              "      <td>1</td>\n",
              "      <td>9</td>\n",
              "      <td>9</td>\n",
              "      <td>1</td>\n",
              "      <td>2</td>\n",
              "      <td>1</td>\n",
              "      <td>0</td>\n",
              "      <td>1</td>\n",
              "      <td>2</td>\n",
              "      <td>1</td>\n",
              "      <td>0</td>\n",
              "      <td>0</td>\n",
              "      <td>2</td>\n",
              "      <td>1</td>\n",
              "      <td>0</td>\n",
              "    </tr>\n",
              "    <tr>\n",
              "      <th>1</th>\n",
              "      <td>1</td>\n",
              "      <td>3</td>\n",
              "      <td>2</td>\n",
              "      <td>2</td>\n",
              "      <td>0</td>\n",
              "      <td>1</td>\n",
              "      <td>2</td>\n",
              "      <td>0</td>\n",
              "      <td>0</td>\n",
              "      <td>1</td>\n",
              "      <td>9</td>\n",
              "      <td>9</td>\n",
              "      <td>1</td>\n",
              "      <td>1</td>\n",
              "      <td>1</td>\n",
              "      <td>0</td>\n",
              "      <td>3</td>\n",
              "      <td>1</td>\n",
              "      <td>1</td>\n",
              "      <td>0</td>\n",
              "      <td>0</td>\n",
              "      <td>2</td>\n",
              "      <td>1</td>\n",
              "      <td>0</td>\n",
              "    </tr>\n",
              "    <tr>\n",
              "      <th>2</th>\n",
              "      <td>1</td>\n",
              "      <td>2</td>\n",
              "      <td>1</td>\n",
              "      <td>2</td>\n",
              "      <td>0</td>\n",
              "      <td>3</td>\n",
              "      <td>1</td>\n",
              "      <td>0</td>\n",
              "      <td>0</td>\n",
              "      <td>1</td>\n",
              "      <td>9</td>\n",
              "      <td>9</td>\n",
              "      <td>2</td>\n",
              "      <td>1</td>\n",
              "      <td>4</td>\n",
              "      <td>0</td>\n",
              "      <td>1</td>\n",
              "      <td>1</td>\n",
              "      <td>1</td>\n",
              "      <td>0</td>\n",
              "      <td>0</td>\n",
              "      <td>2</td>\n",
              "      <td>1</td>\n",
              "      <td>0</td>\n",
              "    </tr>\n",
              "    <tr>\n",
              "      <th>3</th>\n",
              "      <td>1</td>\n",
              "      <td>2</td>\n",
              "      <td>2</td>\n",
              "      <td>2</td>\n",
              "      <td>0</td>\n",
              "      <td>3</td>\n",
              "      <td>4</td>\n",
              "      <td>0</td>\n",
              "      <td>2</td>\n",
              "      <td>1</td>\n",
              "      <td>9</td>\n",
              "      <td>9</td>\n",
              "      <td>1</td>\n",
              "      <td>1</td>\n",
              "      <td>1</td>\n",
              "      <td>0</td>\n",
              "      <td>2</td>\n",
              "      <td>1</td>\n",
              "      <td>1</td>\n",
              "      <td>0</td>\n",
              "      <td>0</td>\n",
              "      <td>2</td>\n",
              "      <td>1</td>\n",
              "      <td>0</td>\n",
              "    </tr>\n",
              "    <tr>\n",
              "      <th>4</th>\n",
              "      <td>1</td>\n",
              "      <td>2</td>\n",
              "      <td>1</td>\n",
              "      <td>1</td>\n",
              "      <td>1</td>\n",
              "      <td>1</td>\n",
              "      <td>0</td>\n",
              "      <td>0</td>\n",
              "      <td>0</td>\n",
              "      <td>1</td>\n",
              "      <td>9</td>\n",
              "      <td>9</td>\n",
              "      <td>1</td>\n",
              "      <td>1</td>\n",
              "      <td>1</td>\n",
              "      <td>0</td>\n",
              "      <td>2</td>\n",
              "      <td>1</td>\n",
              "      <td>1</td>\n",
              "      <td>0</td>\n",
              "      <td>531</td>\n",
              "      <td>2</td>\n",
              "      <td>1</td>\n",
              "      <td>0</td>\n",
              "    </tr>\n",
              "    <tr>\n",
              "      <th>...</th>\n",
              "      <td>...</td>\n",
              "      <td>...</td>\n",
              "      <td>...</td>\n",
              "      <td>...</td>\n",
              "      <td>...</td>\n",
              "      <td>...</td>\n",
              "      <td>...</td>\n",
              "      <td>...</td>\n",
              "      <td>...</td>\n",
              "      <td>...</td>\n",
              "      <td>...</td>\n",
              "      <td>...</td>\n",
              "      <td>...</td>\n",
              "      <td>...</td>\n",
              "      <td>...</td>\n",
              "      <td>...</td>\n",
              "      <td>...</td>\n",
              "      <td>...</td>\n",
              "      <td>...</td>\n",
              "      <td>...</td>\n",
              "      <td>...</td>\n",
              "      <td>...</td>\n",
              "      <td>...</td>\n",
              "      <td>...</td>\n",
              "    </tr>\n",
              "    <tr>\n",
              "      <th>55959</th>\n",
              "      <td>12</td>\n",
              "      <td>3</td>\n",
              "      <td>1</td>\n",
              "      <td>2</td>\n",
              "      <td>0</td>\n",
              "      <td>3</td>\n",
              "      <td>4</td>\n",
              "      <td>0</td>\n",
              "      <td>3</td>\n",
              "      <td>1</td>\n",
              "      <td>1</td>\n",
              "      <td>2</td>\n",
              "      <td>1</td>\n",
              "      <td>1</td>\n",
              "      <td>1</td>\n",
              "      <td>0</td>\n",
              "      <td>1</td>\n",
              "      <td>1</td>\n",
              "      <td>1</td>\n",
              "      <td>0</td>\n",
              "      <td>0</td>\n",
              "      <td>1</td>\n",
              "      <td>2</td>\n",
              "      <td>0</td>\n",
              "    </tr>\n",
              "    <tr>\n",
              "      <th>55960</th>\n",
              "      <td>12</td>\n",
              "      <td>2</td>\n",
              "      <td>2</td>\n",
              "      <td>2</td>\n",
              "      <td>0</td>\n",
              "      <td>3</td>\n",
              "      <td>4</td>\n",
              "      <td>0</td>\n",
              "      <td>1</td>\n",
              "      <td>1</td>\n",
              "      <td>1</td>\n",
              "      <td>4</td>\n",
              "      <td>1</td>\n",
              "      <td>1</td>\n",
              "      <td>4</td>\n",
              "      <td>0</td>\n",
              "      <td>2</td>\n",
              "      <td>1</td>\n",
              "      <td>1</td>\n",
              "      <td>0</td>\n",
              "      <td>0</td>\n",
              "      <td>2</td>\n",
              "      <td>2</td>\n",
              "      <td>0</td>\n",
              "    </tr>\n",
              "    <tr>\n",
              "      <th>55961</th>\n",
              "      <td>12</td>\n",
              "      <td>2</td>\n",
              "      <td>1</td>\n",
              "      <td>3</td>\n",
              "      <td>0</td>\n",
              "      <td>2</td>\n",
              "      <td>1</td>\n",
              "      <td>0</td>\n",
              "      <td>2</td>\n",
              "      <td>1</td>\n",
              "      <td>1</td>\n",
              "      <td>5</td>\n",
              "      <td>1</td>\n",
              "      <td>1</td>\n",
              "      <td>1</td>\n",
              "      <td>1</td>\n",
              "      <td>2</td>\n",
              "      <td>1</td>\n",
              "      <td>1</td>\n",
              "      <td>0</td>\n",
              "      <td>0</td>\n",
              "      <td>2</td>\n",
              "      <td>2</td>\n",
              "      <td>0</td>\n",
              "    </tr>\n",
              "    <tr>\n",
              "      <th>55962</th>\n",
              "      <td>12</td>\n",
              "      <td>2</td>\n",
              "      <td>2</td>\n",
              "      <td>3</td>\n",
              "      <td>0</td>\n",
              "      <td>2</td>\n",
              "      <td>1</td>\n",
              "      <td>0</td>\n",
              "      <td>1</td>\n",
              "      <td>1</td>\n",
              "      <td>1</td>\n",
              "      <td>5</td>\n",
              "      <td>1</td>\n",
              "      <td>2</td>\n",
              "      <td>2</td>\n",
              "      <td>0</td>\n",
              "      <td>2</td>\n",
              "      <td>1</td>\n",
              "      <td>4</td>\n",
              "      <td>0</td>\n",
              "      <td>0</td>\n",
              "      <td>2</td>\n",
              "      <td>2</td>\n",
              "      <td>0</td>\n",
              "    </tr>\n",
              "    <tr>\n",
              "      <th>55963</th>\n",
              "      <td>7</td>\n",
              "      <td>2</td>\n",
              "      <td>2</td>\n",
              "      <td>2</td>\n",
              "      <td>0</td>\n",
              "      <td>3</td>\n",
              "      <td>6</td>\n",
              "      <td>0</td>\n",
              "      <td>0</td>\n",
              "      <td>1</td>\n",
              "      <td>2</td>\n",
              "      <td>2</td>\n",
              "      <td>1</td>\n",
              "      <td>1</td>\n",
              "      <td>2</td>\n",
              "      <td>0</td>\n",
              "      <td>2</td>\n",
              "      <td>1</td>\n",
              "      <td>1</td>\n",
              "      <td>0</td>\n",
              "      <td>0</td>\n",
              "      <td>2</td>\n",
              "      <td>3</td>\n",
              "      <td>0</td>\n",
              "    </tr>\n",
              "  </tbody>\n",
              "</table>\n",
              "<p>55964 rows × 24 columns</p>\n",
              "</div>"
            ],
            "text/plain": [
              "       MONTH WKDY_I HOUR_I  VEH_INVL  ...  PED_ACC  ALCHL_I  REGION  WRK_ZONE\n",
              "0          1      2      3         1  ...        0        2       1         0\n",
              "1          1      3      2         2  ...        0        2       1         0\n",
              "2          1      2      1         2  ...        0        2       1         0\n",
              "3          1      2      2         2  ...        0        2       1         0\n",
              "4          1      2      1         1  ...      531        2       1         0\n",
              "...      ...    ...    ...       ...  ...      ...      ...     ...       ...\n",
              "55959     12      3      1         2  ...        0        1       2         0\n",
              "55960     12      2      2         2  ...        0        2       2         0\n",
              "55961     12      2      1         3  ...        0        2       2         0\n",
              "55962     12      2      2         3  ...        0        2       2         0\n",
              "55963      7      2      2         2  ...        0        2       3         0\n",
              "\n",
              "[55964 rows x 24 columns]"
            ]
          },
          "metadata": {
            "tags": []
          },
          "execution_count": 21
        }
      ]
    },
    {
      "cell_type": "markdown",
      "metadata": {
        "id": "oiA_raWXmx8I"
      },
      "source": [
        "Vamos a reducir el conjunto a un total de 7 características"
      ]
    },
    {
      "cell_type": "code",
      "metadata": {
        "id": "D8Sj9P321d1l",
        "colab": {
          "base_uri": "https://localhost:8080/"
        },
        "outputId": "bf567c27-9426-4356-8cb8-919f4bfe1b47"
      },
      "source": [
        "pca = PCA(n_components=7)\n",
        "pca.fit(autos_PCA)\n",
        "autos_PCA = pca.transform(autos_PCA)\n",
        "arbol_dl(autos_PCA, labels)"
      ],
      "execution_count": 22,
      "outputs": [
        {
          "output_type": "stream",
          "text": [
            "Bien clasificados: 7215 de 11193\n",
            "Exactitud:64.46\n",
            "      \n",
            "[[3787 1900   17]\n",
            " [1901 3422   58]\n",
            " [  24   78    6]]\n",
            "              precision    recall  f1-score   support\n",
            "\n",
            "           1       0.66      0.66      0.66      5704\n",
            "           2       0.63      0.64      0.63      5381\n",
            "           3       0.07      0.06      0.06       108\n",
            "\n",
            "    accuracy                           0.64     11193\n",
            "   macro avg       0.46      0.45      0.45     11193\n",
            "weighted avg       0.64      0.64      0.64     11193\n",
            "\n"
          ],
          "name": "stdout"
        }
      ]
    },
    {
      "cell_type": "markdown",
      "metadata": {
        "id": "-B08DQ6InPEr"
      },
      "source": [
        "### Balanceamos\n",
        "\n",
        "Como vemos, hay un número mucho menos frecuente de tipo 3"
      ]
    },
    {
      "cell_type": "code",
      "metadata": {
        "colab": {
          "base_uri": "https://localhost:8080/"
        },
        "id": "shw34yDI-Xuc",
        "outputId": "a10a00ea-db17-45db-e119-517a709d102e"
      },
      "source": [
        "autos['clase'].value_counts()"
      ],
      "execution_count": 23,
      "outputs": [
        {
          "output_type": "execute_result",
          "data": {
            "text/plain": [
              "1    28536\n",
              "2    26897\n",
              "3      531\n",
              "Name: clase, dtype: int64"
            ]
          },
          "metadata": {
            "tags": []
          },
          "execution_count": 23
        }
      ]
    },
    {
      "cell_type": "code",
      "metadata": {
        "colab": {
          "base_uri": "https://localhost:8080/"
        },
        "id": "o-i8HtIj-bcR",
        "outputId": "0fad836c-a20b-4760-a274-5015d8b43079"
      },
      "source": [
        "autos_1_3 = autos_DISC.copy()\n",
        "autos_1_3['clase']=pd.cut(x=autos_1_3['clase'], bins=[0,2,4], labels=[1,3])\n",
        "autos_1_3['clase'].value_counts()"
      ],
      "execution_count": 24,
      "outputs": [
        {
          "output_type": "execute_result",
          "data": {
            "text/plain": [
              "1    55433\n",
              "3      531\n",
              "Name: clase, dtype: int64"
            ]
          },
          "metadata": {
            "tags": []
          },
          "execution_count": 24
        }
      ]
    },
    {
      "cell_type": "code",
      "metadata": {
        "colab": {
          "base_uri": "https://localhost:8080/"
        },
        "id": "gd-LpwmC-8lM",
        "outputId": "51347873-4a86-4f66-e81f-a0234b40f9c5"
      },
      "source": [
        "arbol(autos_1_3)"
      ],
      "execution_count": 25,
      "outputs": [
        {
          "output_type": "stream",
          "text": [
            "Bien clasificados: 10954 de 11193\n",
            "Exactitud:97.86\n",
            "      \n",
            "[[10942     0   143]\n",
            " [    0     0     0]\n",
            " [   96     0    12]]\n",
            "              precision    recall  f1-score   support\n",
            "\n",
            "           1       0.99      0.99      0.99     11085\n",
            "           2       0.00      0.00      0.00         0\n",
            "           3       0.08      0.11      0.09       108\n",
            "\n",
            "   micro avg       0.98      0.98      0.98     11193\n",
            "   macro avg       0.36      0.37      0.36     11193\n",
            "weighted avg       0.98      0.98      0.98     11193\n",
            "\n"
          ],
          "name": "stdout"
        },
        {
          "output_type": "stream",
          "text": [
            "/usr/local/lib/python3.6/dist-packages/sklearn/metrics/_classification.py:1272: UndefinedMetricWarning: Precision and F-score are ill-defined and being set to 0.0 in labels with no predicted samples. Use `zero_division` parameter to control this behavior.\n",
            "  _warn_prf(average, modifier, msg_start, len(result))\n",
            "/usr/local/lib/python3.6/dist-packages/sklearn/metrics/_classification.py:1272: UndefinedMetricWarning: Recall and F-score are ill-defined and being set to 0.0 in labels with no true samples. Use `zero_division` parameter to control this behavior.\n",
            "  _warn_prf(average, modifier, msg_start, len(result))\n"
          ],
          "name": "stderr"
        }
      ]
    },
    {
      "cell_type": "code",
      "metadata": {
        "id": "NPqRwo5bnS3q"
      },
      "source": [
        "data = autos_DISC.copy()\n",
        "autos_1 = data[ data['clase'] == 1]\n",
        "autos_2 = data[ data['clase'] == 2]\n",
        "autos_3 = data[ data['clase'] == 3]"
      ],
      "execution_count": 26,
      "outputs": []
    },
    {
      "cell_type": "code",
      "metadata": {
        "id": "7FFP9ohn2EhQ",
        "colab": {
          "base_uri": "https://localhost:8080/",
          "height": 218
        },
        "outputId": "8d0bb2d0-9041-4a4f-ce9d-38141104283e"
      },
      "source": [
        "from random import shuffle\n",
        "\n",
        "autos_1 = autos_1.sample(frac = 1)[:int(len(autos_3)/2)]\n",
        "autos_2 = autos_2.sample(frac = 1)[:int(len(autos_3)/2)]\n",
        "autos_BALANCED = pd.concat([autos_1, autos_2, autos_3])\n",
        "#autos_BALANCED = autos_BALANCED.sample(frac = 1)\n",
        "autos_BALANCED.head()"
      ],
      "execution_count": 27,
      "outputs": [
        {
          "output_type": "execute_result",
          "data": {
            "text/html": [
              "<div>\n",
              "<style scoped>\n",
              "    .dataframe tbody tr th:only-of-type {\n",
              "        vertical-align: middle;\n",
              "    }\n",
              "\n",
              "    .dataframe tbody tr th {\n",
              "        vertical-align: top;\n",
              "    }\n",
              "\n",
              "    .dataframe thead th {\n",
              "        text-align: right;\n",
              "    }\n",
              "</style>\n",
              "<table border=\"1\" class=\"dataframe\">\n",
              "  <thead>\n",
              "    <tr style=\"text-align: right;\">\n",
              "      <th></th>\n",
              "      <th>MONTH</th>\n",
              "      <th>WKDY_I</th>\n",
              "      <th>HOUR_I</th>\n",
              "      <th>VEH_INVL</th>\n",
              "      <th>NON_INVL</th>\n",
              "      <th>LAND_USE</th>\n",
              "      <th>MANCOL_I</th>\n",
              "      <th>INT_HWY</th>\n",
              "      <th>RELJCT_I</th>\n",
              "      <th>REL_RWY</th>\n",
              "      <th>TRAF_WAY</th>\n",
              "      <th>NUM_LAN</th>\n",
              "      <th>ALIGN_I</th>\n",
              "      <th>PROFIL_I</th>\n",
              "      <th>SURCON_I</th>\n",
              "      <th>TRFCON_I</th>\n",
              "      <th>SPDLIM_H</th>\n",
              "      <th>LGTCON_I</th>\n",
              "      <th>WEATHR_I</th>\n",
              "      <th>SCHL_BUS</th>\n",
              "      <th>PED_ACC</th>\n",
              "      <th>ALCHL_I</th>\n",
              "      <th>REGION</th>\n",
              "      <th>WRK_ZONE</th>\n",
              "      <th>clase</th>\n",
              "    </tr>\n",
              "  </thead>\n",
              "  <tbody>\n",
              "    <tr>\n",
              "      <th>28384</th>\n",
              "      <td>9</td>\n",
              "      <td>2</td>\n",
              "      <td>1</td>\n",
              "      <td>2</td>\n",
              "      <td>0</td>\n",
              "      <td>8</td>\n",
              "      <td>4</td>\n",
              "      <td>0</td>\n",
              "      <td>1</td>\n",
              "      <td>1</td>\n",
              "      <td>1</td>\n",
              "      <td>3</td>\n",
              "      <td>1</td>\n",
              "      <td>1</td>\n",
              "      <td>1</td>\n",
              "      <td>1</td>\n",
              "      <td>2</td>\n",
              "      <td>1</td>\n",
              "      <td>1</td>\n",
              "      <td>0</td>\n",
              "      <td>0</td>\n",
              "      <td>2</td>\n",
              "      <td>3</td>\n",
              "      <td>0</td>\n",
              "      <td>1</td>\n",
              "    </tr>\n",
              "    <tr>\n",
              "      <th>28977</th>\n",
              "      <td>4</td>\n",
              "      <td>2</td>\n",
              "      <td>2</td>\n",
              "      <td>2</td>\n",
              "      <td>0</td>\n",
              "      <td>2</td>\n",
              "      <td>4</td>\n",
              "      <td>0</td>\n",
              "      <td>3</td>\n",
              "      <td>1</td>\n",
              "      <td>1</td>\n",
              "      <td>7</td>\n",
              "      <td>1</td>\n",
              "      <td>1</td>\n",
              "      <td>1</td>\n",
              "      <td>0</td>\n",
              "      <td>2</td>\n",
              "      <td>1</td>\n",
              "      <td>1</td>\n",
              "      <td>0</td>\n",
              "      <td>0</td>\n",
              "      <td>2</td>\n",
              "      <td>3</td>\n",
              "      <td>0</td>\n",
              "      <td>1</td>\n",
              "    </tr>\n",
              "    <tr>\n",
              "      <th>22084</th>\n",
              "      <td>2</td>\n",
              "      <td>2</td>\n",
              "      <td>1</td>\n",
              "      <td>2</td>\n",
              "      <td>0</td>\n",
              "      <td>8</td>\n",
              "      <td>4</td>\n",
              "      <td>0</td>\n",
              "      <td>1</td>\n",
              "      <td>1</td>\n",
              "      <td>1</td>\n",
              "      <td>5</td>\n",
              "      <td>1</td>\n",
              "      <td>1</td>\n",
              "      <td>2</td>\n",
              "      <td>1</td>\n",
              "      <td>2</td>\n",
              "      <td>1</td>\n",
              "      <td>2</td>\n",
              "      <td>0</td>\n",
              "      <td>0</td>\n",
              "      <td>2</td>\n",
              "      <td>3</td>\n",
              "      <td>0</td>\n",
              "      <td>1</td>\n",
              "    </tr>\n",
              "    <tr>\n",
              "      <th>49574</th>\n",
              "      <td>2</td>\n",
              "      <td>2</td>\n",
              "      <td>1</td>\n",
              "      <td>2</td>\n",
              "      <td>0</td>\n",
              "      <td>8</td>\n",
              "      <td>4</td>\n",
              "      <td>0</td>\n",
              "      <td>1</td>\n",
              "      <td>1</td>\n",
              "      <td>1</td>\n",
              "      <td>3</td>\n",
              "      <td>1</td>\n",
              "      <td>3</td>\n",
              "      <td>1</td>\n",
              "      <td>1</td>\n",
              "      <td>2</td>\n",
              "      <td>1</td>\n",
              "      <td>1</td>\n",
              "      <td>0</td>\n",
              "      <td>0</td>\n",
              "      <td>2</td>\n",
              "      <td>3</td>\n",
              "      <td>0</td>\n",
              "      <td>1</td>\n",
              "    </tr>\n",
              "    <tr>\n",
              "      <th>20397</th>\n",
              "      <td>8</td>\n",
              "      <td>2</td>\n",
              "      <td>1</td>\n",
              "      <td>2</td>\n",
              "      <td>0</td>\n",
              "      <td>2</td>\n",
              "      <td>5</td>\n",
              "      <td>0</td>\n",
              "      <td>0</td>\n",
              "      <td>1</td>\n",
              "      <td>1</td>\n",
              "      <td>4</td>\n",
              "      <td>1</td>\n",
              "      <td>1</td>\n",
              "      <td>1</td>\n",
              "      <td>0</td>\n",
              "      <td>2</td>\n",
              "      <td>1</td>\n",
              "      <td>1</td>\n",
              "      <td>0</td>\n",
              "      <td>0</td>\n",
              "      <td>2</td>\n",
              "      <td>2</td>\n",
              "      <td>0</td>\n",
              "      <td>1</td>\n",
              "    </tr>\n",
              "  </tbody>\n",
              "</table>\n",
              "</div>"
            ],
            "text/plain": [
              "       MONTH WKDY_I HOUR_I  VEH_INVL  ...  ALCHL_I  REGION  WRK_ZONE  clase\n",
              "28384      9      2      1         2  ...        2       3         0      1\n",
              "28977      4      2      2         2  ...        2       3         0      1\n",
              "22084      2      2      1         2  ...        2       3         0      1\n",
              "49574      2      2      1         2  ...        2       3         0      1\n",
              "20397      8      2      1         2  ...        2       2         0      1\n",
              "\n",
              "[5 rows x 25 columns]"
            ]
          },
          "metadata": {
            "tags": []
          },
          "execution_count": 27
        }
      ]
    },
    {
      "cell_type": "code",
      "metadata": {
        "id": "NureEDgopqkM",
        "colab": {
          "base_uri": "https://localhost:8080/"
        },
        "outputId": "0208b506-4e03-470a-8fd4-b949d185f4ac"
      },
      "source": [
        "autos_BALANCED['clase'].value_counts()"
      ],
      "execution_count": 28,
      "outputs": [
        {
          "output_type": "execute_result",
          "data": {
            "text/plain": [
              "3    531\n",
              "2    265\n",
              "1    265\n",
              "Name: clase, dtype: int64"
            ]
          },
          "metadata": {
            "tags": []
          },
          "execution_count": 28
        }
      ]
    },
    {
      "cell_type": "code",
      "metadata": {
        "colab": {
          "base_uri": "https://localhost:8080/"
        },
        "id": "8n1twcSRsJit",
        "outputId": "1564a1b2-bf37-44fb-d221-0c4fd334d65e"
      },
      "source": [
        "autos_BALANCED['clase']=pd.cut(x=autos_BALANCED['clase'], bins=[0,2,4], labels=[1,3])\n",
        "autos_BALANCED['clase'].value_counts()"
      ],
      "execution_count": 29,
      "outputs": [
        {
          "output_type": "execute_result",
          "data": {
            "text/plain": [
              "3    531\n",
              "1    530\n",
              "Name: clase, dtype: int64"
            ]
          },
          "metadata": {
            "tags": []
          },
          "execution_count": 29
        }
      ]
    },
    {
      "cell_type": "code",
      "metadata": {
        "id": "iO9jPw-XpqqQ",
        "colab": {
          "base_uri": "https://localhost:8080/"
        },
        "outputId": "7f0f68cb-73da-43fc-c931-87b0b50796db"
      },
      "source": [
        "arbol(autos_BALANCED)"
      ],
      "execution_count": 30,
      "outputs": [
        {
          "output_type": "stream",
          "text": [
            "Bien clasificados: 133 de 213\n",
            "Exactitud:62.44\n",
            "      \n",
            "[[70  0 36]\n",
            " [ 0  0  0]\n",
            " [44  0 63]]\n",
            "              precision    recall  f1-score   support\n",
            "\n",
            "           1       0.61      0.66      0.64       106\n",
            "           2       0.00      0.00      0.00         0\n",
            "           3       0.64      0.59      0.61       107\n",
            "\n",
            "   micro avg       0.62      0.62      0.62       213\n",
            "   macro avg       0.42      0.42      0.42       213\n",
            "weighted avg       0.63      0.62      0.62       213\n",
            "\n"
          ],
          "name": "stdout"
        },
        {
          "output_type": "stream",
          "text": [
            "/usr/local/lib/python3.6/dist-packages/sklearn/metrics/_classification.py:1272: UndefinedMetricWarning: Precision and F-score are ill-defined and being set to 0.0 in labels with no predicted samples. Use `zero_division` parameter to control this behavior.\n",
            "  _warn_prf(average, modifier, msg_start, len(result))\n",
            "/usr/local/lib/python3.6/dist-packages/sklearn/metrics/_classification.py:1272: UndefinedMetricWarning: Recall and F-score are ill-defined and being set to 0.0 in labels with no true samples. Use `zero_division` parameter to control this behavior.\n",
            "  _warn_prf(average, modifier, msg_start, len(result))\n"
          ],
          "name": "stderr"
        }
      ]
    },
    {
      "cell_type": "markdown",
      "metadata": {
        "id": "LtWommL-_f9d"
      },
      "source": [
        "### Conclusiones"
      ]
    },
    {
      "cell_type": "code",
      "metadata": {
        "colab": {
          "base_uri": "https://localhost:8080/",
          "height": 387
        },
        "id": "ntF9kwDTGHm2",
        "outputId": "050fb377-5de5-4968-a500-63fb940187a3"
      },
      "source": [
        "import seaborn as sns\n",
        "\n",
        "sns.displot(autos, x=\"NUM_LAN\", hue=\"clase\", kind=\"kde\", multiple=\"stack\", fill=True)"
      ],
      "execution_count": 36,
      "outputs": [
        {
          "output_type": "execute_result",
          "data": {
            "text/plain": [
              "<seaborn.axisgrid.FacetGrid at 0x7fa6640375c0>"
            ]
          },
          "metadata": {
            "tags": []
          },
          "execution_count": 36
        },
        {
          "output_type": "display_data",
          "data": {
            "image/png": "[encoded data removed]",
            "text/plain": [
              "<Figure size 402.375x360 with 1 Axes>"
            ]
          },
          "metadata": {
            "tags": [],
            "needs_background": "light"
          }
        }
      ]
    },
    {
      "cell_type": "code",
      "metadata": {
        "colab": {
          "base_uri": "https://localhost:8080/",
          "height": 387
        },
        "id": "pZptH71FG2kA",
        "outputId": "ca80d77d-416e-4bcb-ef2c-35b14f821ee2"
      },
      "source": [
        "sns.displot(autos, x=\"HOUR_I\", hue=\"clase\", kind=\"kde\", multiple=\"stack\", fill=True)"
      ],
      "execution_count": 32,
      "outputs": [
        {
          "output_type": "execute_result",
          "data": {
            "text/plain": [
              "<seaborn.axisgrid.FacetGrid at 0x7fa6678186a0>"
            ]
          },
          "metadata": {
            "tags": []
          },
          "execution_count": 32
        },
        {
          "output_type": "display_data",
          "data": {
            "image/png": "[encoded data removed]",
            "text/plain": [
              "<Figure size 402.375x360 with 1 Axes>"
            ]
          },
          "metadata": {
            "tags": [],
            "needs_background": "light"
          }
        }
      ]
    },
    {
      "cell_type": "code",
      "metadata": {
        "colab": {
          "base_uri": "https://localhost:8080/",
          "height": 387
        },
        "id": "b4AfmEn_HlyP",
        "outputId": "5a3b6059-2988-4d8b-e546-7e8e1ae59f45"
      },
      "source": [
        "sns.displot(autos, x=\"LAND_USE\", hue=\"clase\", kind=\"kde\", multiple=\"stack\", fill=True)"
      ],
      "execution_count": 33,
      "outputs": [
        {
          "output_type": "execute_result",
          "data": {
            "text/plain": [
              "<seaborn.axisgrid.FacetGrid at 0x7fa66418c240>"
            ]
          },
          "metadata": {
            "tags": []
          },
          "execution_count": 33
        },
        {
          "output_type": "display_data",
          "data": {
            "image/png": "[encoded data removed]",
            "text/plain": [
              "<Figure size 402.375x360 with 1 Axes>"
            ]
          },
          "metadata": {
            "tags": [],
            "needs_background": "light"
          }
        }
      ]
    },
    {
      "cell_type": "code",
      "metadata": {
        "colab": {
          "base_uri": "https://localhost:8080/",
          "height": 387
        },
        "id": "41ihqaEOHrNN",
        "outputId": "b6a354d0-be73-4173-a3d0-9f219733deee"
      },
      "source": [
        "sns.displot(autos, x=\"SPDLIM_H\", hue=\"clase\", kind=\"kde\", multiple=\"stack\", fill=True)"
      ],
      "execution_count": 34,
      "outputs": [
        {
          "output_type": "execute_result",
          "data": {
            "text/plain": [
              "<seaborn.axisgrid.FacetGrid at 0x7fa6641b3cc0>"
            ]
          },
          "metadata": {
            "tags": []
          },
          "execution_count": 34
        },
        {
          "output_type": "display_data",
          "data": {
            "image/png": "[encoded data removed]",
            "text/plain": [
              "<Figure size 402.375x360 with 1 Axes>"
            ]
          },
          "metadata": {
            "tags": [],
            "needs_background": "light"
          }
        }
      ]
    }
  ]
}