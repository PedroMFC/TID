{
  "nbformat": 4,
  "nbformat_minor": 0,
  "metadata": {
    "colab": {
      "name": "P3-clustering.ipynb",
      "provenance": [],
      "collapsed_sections": [
        "yCL-4irehFbx"
      ],
      "toc_visible": true
    },
    "kernelspec": {
      "display_name": "Python 3",
      "name": "python3"
    }
  },
  "cells": [
    {
      "cell_type": "markdown",
      "metadata": {
        "id": "J9CILWbUd5tZ"
      },
      "source": [
        "# Práctica 2: *Clustering*\n",
        "## Tratamiento Inteligente de Datos\n",
        "\n",
        "Autor: Pedro Manuel Flores Crespoo"
      ]
    },
    {
      "cell_type": "markdown",
      "metadata": {
        "id": "JWthDyPNhBDy"
      },
      "source": [
        "Primero realizamos algunos imports necesarios"
      ]
    },
    {
      "cell_type": "code",
      "metadata": {
        "id": "qw8pSGXCd5Na"
      },
      "source": [
        "import pandas as pd \n",
        "from sklearn.cluster import AgglomerativeClustering\n",
        "import numpy as np\n",
        "import matplotlib.pyplot as plt\n",
        "\n",
        "seed = 75"
      ],
      "execution_count": null,
      "outputs": []
    },
    {
      "cell_type": "markdown",
      "metadata": {
        "id": "XvTFBXnIhOoF"
      },
      "source": [
        "Importamos el archivo y eliminamos la primera columna (que es la que queremos \"adivinar\")"
      ]
    },
    {
      "cell_type": "code",
      "metadata": {
        "colab": {
          "base_uri": "https://localhost:8080/"
        },
        "id": "v_5rle4FhOa0",
        "outputId": "95505f2b-651a-4c3c-93ca-81883adef4e9"
      },
      "source": [
        "wine = pd.read_csv(\"wine.data\", header=None)\n",
        "data = wine.iloc[:,1:]\n",
        "data.shape"
      ],
      "execution_count": null,
      "outputs": [
        {
          "output_type": "execute_result",
          "data": {
            "text/plain": [
              "(178, 13)"
            ]
          },
          "metadata": {
            "tags": []
          },
          "execution_count": 2
        }
      ]
    },
    {
      "cell_type": "code",
      "metadata": {
        "colab": {
          "base_uri": "https://localhost:8080/",
          "height": 204
        },
        "id": "tB0YLpXMVAsT",
        "outputId": "29fa5367-9a61-431d-a2dc-934f806037b5"
      },
      "source": [
        "data.head()"
      ],
      "execution_count": null,
      "outputs": [
        {
          "output_type": "execute_result",
          "data": {
            "text/html": [
              "<div>\n",
              "<style scoped>\n",
              "    .dataframe tbody tr th:only-of-type {\n",
              "        vertical-align: middle;\n",
              "    }\n",
              "\n",
              "    .dataframe tbody tr th {\n",
              "        vertical-align: top;\n",
              "    }\n",
              "\n",
              "    .dataframe thead th {\n",
              "        text-align: right;\n",
              "    }\n",
              "</style>\n",
              "<table border=\"1\" class=\"dataframe\">\n",
              "  <thead>\n",
              "    <tr style=\"text-align: right;\">\n",
              "      <th></th>\n",
              "      <th>1</th>\n",
              "      <th>2</th>\n",
              "      <th>3</th>\n",
              "      <th>4</th>\n",
              "      <th>5</th>\n",
              "      <th>6</th>\n",
              "      <th>7</th>\n",
              "      <th>8</th>\n",
              "      <th>9</th>\n",
              "      <th>10</th>\n",
              "      <th>11</th>\n",
              "      <th>12</th>\n",
              "      <th>13</th>\n",
              "    </tr>\n",
              "  </thead>\n",
              "  <tbody>\n",
              "    <tr>\n",
              "      <th>0</th>\n",
              "      <td>14.23</td>\n",
              "      <td>1.71</td>\n",
              "      <td>2.43</td>\n",
              "      <td>15.6</td>\n",
              "      <td>127</td>\n",
              "      <td>2.80</td>\n",
              "      <td>3.06</td>\n",
              "      <td>0.28</td>\n",
              "      <td>2.29</td>\n",
              "      <td>5.64</td>\n",
              "      <td>1.04</td>\n",
              "      <td>3.92</td>\n",
              "      <td>1065</td>\n",
              "    </tr>\n",
              "    <tr>\n",
              "      <th>1</th>\n",
              "      <td>13.20</td>\n",
              "      <td>1.78</td>\n",
              "      <td>2.14</td>\n",
              "      <td>11.2</td>\n",
              "      <td>100</td>\n",
              "      <td>2.65</td>\n",
              "      <td>2.76</td>\n",
              "      <td>0.26</td>\n",
              "      <td>1.28</td>\n",
              "      <td>4.38</td>\n",
              "      <td>1.05</td>\n",
              "      <td>3.40</td>\n",
              "      <td>1050</td>\n",
              "    </tr>\n",
              "    <tr>\n",
              "      <th>2</th>\n",
              "      <td>13.16</td>\n",
              "      <td>2.36</td>\n",
              "      <td>2.67</td>\n",
              "      <td>18.6</td>\n",
              "      <td>101</td>\n",
              "      <td>2.80</td>\n",
              "      <td>3.24</td>\n",
              "      <td>0.30</td>\n",
              "      <td>2.81</td>\n",
              "      <td>5.68</td>\n",
              "      <td>1.03</td>\n",
              "      <td>3.17</td>\n",
              "      <td>1185</td>\n",
              "    </tr>\n",
              "    <tr>\n",
              "      <th>3</th>\n",
              "      <td>14.37</td>\n",
              "      <td>1.95</td>\n",
              "      <td>2.50</td>\n",
              "      <td>16.8</td>\n",
              "      <td>113</td>\n",
              "      <td>3.85</td>\n",
              "      <td>3.49</td>\n",
              "      <td>0.24</td>\n",
              "      <td>2.18</td>\n",
              "      <td>7.80</td>\n",
              "      <td>0.86</td>\n",
              "      <td>3.45</td>\n",
              "      <td>1480</td>\n",
              "    </tr>\n",
              "    <tr>\n",
              "      <th>4</th>\n",
              "      <td>13.24</td>\n",
              "      <td>2.59</td>\n",
              "      <td>2.87</td>\n",
              "      <td>21.0</td>\n",
              "      <td>118</td>\n",
              "      <td>2.80</td>\n",
              "      <td>2.69</td>\n",
              "      <td>0.39</td>\n",
              "      <td>1.82</td>\n",
              "      <td>4.32</td>\n",
              "      <td>1.04</td>\n",
              "      <td>2.93</td>\n",
              "      <td>735</td>\n",
              "    </tr>\n",
              "  </tbody>\n",
              "</table>\n",
              "</div>"
            ],
            "text/plain": [
              "      1     2     3     4    5     6     7     8     9     10    11    12    13\n",
              "0  14.23  1.71  2.43  15.6  127  2.80  3.06  0.28  2.29  5.64  1.04  3.92  1065\n",
              "1  13.20  1.78  2.14  11.2  100  2.65  2.76  0.26  1.28  4.38  1.05  3.40  1050\n",
              "2  13.16  2.36  2.67  18.6  101  2.80  3.24  0.30  2.81  5.68  1.03  3.17  1185\n",
              "3  14.37  1.95  2.50  16.8  113  3.85  3.49  0.24  2.18  7.80  0.86  3.45  1480\n",
              "4  13.24  2.59  2.87  21.0  118  2.80  2.69  0.39  1.82  4.32  1.04  2.93   735"
            ]
          },
          "metadata": {
            "tags": []
          },
          "execution_count": 3
        }
      ]
    },
    {
      "cell_type": "markdown",
      "metadata": {
        "id": "1PGlnr2mdIrE"
      },
      "source": [
        "Visualizamos los datos tras la reducción de 3 dimensiones"
      ]
    },
    {
      "cell_type": "code",
      "metadata": {
        "id": "Np4zYE_5qeNC"
      },
      "source": [
        "from sklearn.manifold import TSNE\n",
        "\n",
        "data_tsne = TSNE(n_components=3, random_state=seed).fit_transform(data)"
      ],
      "execution_count": null,
      "outputs": []
    },
    {
      "cell_type": "code",
      "metadata": {
        "colab": {
          "base_uri": "https://localhost:8080/",
          "height": 542
        },
        "id": "ybDSdljhVFKw",
        "outputId": "087d405c-3cfb-469c-cb24-dfbd024740c2"
      },
      "source": [
        "import plotly.express as px\n",
        "\n",
        "fig = px.scatter_3d(data_tsne, x=0, y=1, z=2,\n",
        "              color=wine[0], size=[0.1 for i in range(178)], symbol=wine[0])\n",
        "fig.show()"
      ],
      "execution_count": null,
      "outputs": [
        {
          "output_type": "display_data",
          "data": {
            "text/html": [
              "<html>\n",
              "<head><meta charset=\"utf-8\" /></head>\n",
              "<body>\n",
              "    <div>\n",
              "            <script src=\"https://cdnjs.cloudflare.com/ajax/libs/mathjax/2.7.5/MathJax.js?config=TeX-AMS-MML_SVG\"></script><script type=\"text/javascript\">if (window.MathJax) {MathJax.Hub.Config({SVG: {font: \"STIX-Web\"}});}</script>\n",
              "                <script type=\"text/javascript\">window.PlotlyConfig = {MathJaxConfig: 'local'};</script>\n",
              "        <script src=\"https://cdn.plot.ly/plotly-latest.min.js\"></script>    \n",
              "            <div id=\"c495cc94-3b7b-4c0d-8e38-36a91059662d\" class=\"plotly-graph-div\" style=\"height:525px; width:100%;\"></div>\n",
              "            <script type=\"text/javascript\">\n",
              "                \n",
              "                    window.PLOTLYENV=window.PLOTLYENV || {};\n",
              "                    \n",
              "                if (document.getElementById(\"c495cc94-3b7b-4c0d-8e38-36a91059662d\")) {\n",
              "                    Plotly.newPlot(\n",
              "                        'c495cc94-3b7b-4c0d-8e38-36a91059662d',\n",
              "                        [{\"hoverlabel\": {\"namelength\": 0}, \"hovertemplate\": \"symbol=1<br>0=%{x}<br>1=%{y}<br>2=%{z}<br>size=%{marker.size}<br>color=%{marker.color}\", \"legendgroup\": \"symbol=1\", \"marker\": {\"color\": [1, 1, 1, 1, 1, 1, 1, 1, 1, 1, 1, 1, 1, 1, 1, 1, 1, 1, 1, 1, 1, 1, 1, 1, 1, 1, 1, 1, 1, 1, 1, 1, 1, 1, 1, 1, 1, 1, 1, 1, 1, 1, 1, 1, 1, 1, 1, 1, 1, 1, 1, 1, 1, 1, 1, 1, 1, 1, 1], \"coloraxis\": \"coloraxis\", \"size\": [0.1, 0.1, 0.1, 0.1, 0.1, 0.1, 0.1, 0.1, 0.1, 0.1, 0.1, 0.1, 0.1, 0.1, 0.1, 0.1, 0.1, 0.1, 0.1, 0.1, 0.1, 0.1, 0.1, 0.1, 0.1, 0.1, 0.1, 0.1, 0.1, 0.1, 0.1, 0.1, 0.1, 0.1, 0.1, 0.1, 0.1, 0.1, 0.1, 0.1, 0.1, 0.1, 0.1, 0.1, 0.1, 0.1, 0.1, 0.1, 0.1, 0.1, 0.1, 0.1, 0.1, 0.1, 0.1, 0.1, 0.1, 0.1, 0.1], \"sizemode\": \"area\", \"sizeref\": 0.00025, \"symbol\": \"circle\"}, \"mode\": \"markers\", \"name\": \"symbol=1\", \"scene\": \"scene\", \"showlegend\": true, \"type\": \"scatter3d\", \"x\": [-41.921382904052734, -2.2606329917907715, -81.97598266601562, -133.83859252929688, 63.063880920410156, -63.22792434692383, -67.25444793701172, -88.43571472167969, 4.220130920410156, -42.79279708862305, -132.626953125, -105.1575698852539, -100.2225341796875, -54.841148376464844, -163.78367614746094, -49.00096130371094, 82.56867980957031, -23.33650779724121, -138.26312255859375, 105.43985748291016, 40.10280227661133, 85.14315032958984, -12.629487037658691, 8.26115608215332, 22.727863311767578, 95.45232391357422, -89.00695037841797, -57.76607131958008, 70.32886505126953, -40.84818649291992, -70.94087982177734, -142.6409454345703, 27.139270782470703, 122.70526885986328, -35.11731719970703, 71.28622436523438, 99.81414794921875, -63.36687469482422, -1.253692626953125, 70.88553619384766, 53.17543411254883, -17.01038360595703, -22.86330223083496, 83.95330810546875, 78.11892700195312, -24.379953384399414, -8.291034698486328, 25.994686126708984, -4.698835372924805, -35.31101989746094, -77.1351089477539, -73.82859802246094, -56.132484436035156, -114.48871612548828, -20.55289649963379, -48.27554702758789, 35.83856964111328, -93.53392028808594, -95.26380920410156], \"y\": [-82.0268325805664, -85.3500747680664, -109.16029357910156, -52.20712661743164, 46.179595947265625, -15.081052780151367, -30.803199768066406, -24.280071258544922, -115.84729766845703, -117.37383270263672, -91.82542419433594, -21.954050064086914, -86.90650177001953, -71.72863006591797, -69.0538330078125, -30.032390594482422, -71.83466339111328, 147.87335205078125, -56.39162826538086, -51.87498474121094, -9.673653602600098, -22.241796493530273, -91.9334487915039, -123.06031036376953, -32.332366943359375, -49.701202392578125, -80.3252944946289, -91.43765258789062, -119.50804901123047, -149.17257690429688, -54.8063850402832, -85.74844360351562, -90.79866027832031, -66.2354965209961, -103.80935668945312, -103.32496643066406, -90.83522033691406, -114.49213409423828, -147.5672149658203, 10.843504905700684, -43.556034088134766, -54.645240783691406, -142.28697204589844, 55.0336799621582, -79.23088836669922, -115.5086669921875, -80.10296630859375, -152.17550659179688, -114.09786987304688, -65.42326354980469, 92.9608154296875, -60.7940559387207, -92.83019256591797, -51.26353454589844, -43.49736404418945, -130.93653869628906, -122.86040496826172, -58.081573486328125, -85.07125091552734], \"z\": [-0.8642921447753906, -10.226807594299316, -50.900760650634766, -73.22545623779297, -98.70154571533203, -133.3319549560547, -63.335269927978516, -99.1878890991211, -25.540485382080078, 27.09138298034668, -52.043739318847656, -65.01832580566406, -82.92415618896484, -40.28431701660156, -58.789939880371094, -96.82650756835938, 48.44178009033203, -68.56478118896484, -30.762126922607422, -29.268638610839844, -110.31285858154297, -105.02420043945312, 24.64588737487793, 27.820331573486328, -67.93352508544922, -67.21672058105469, -25.084766387939453, -113.07160186767578, -29.27863883972168, -1.3942508697509766, -123.49761199951172, -90.44104766845703, 11.901934623718262, 30.105995178222656, -36.83207321166992, 3.162139415740967, -31.965240478515625, -13.395176887512207, 1.9453507661819458, -115.03565979003906, -99.63394927978516, -13.549256324768066, -37.3954963684082, -20.448728561401367, -84.98710632324219, -4.97804594039917, -46.04331588745117, -26.13182830810547, -63.77266311645508, -93.15223693847656, -70.51742553710938, -86.96927642822266, -72.20459747314453, -107.18527221679688, -49.255733489990234, -61.8619270324707, -47.95811462402344, -56.797149658203125, -119.39259338378906]}, {\"hoverlabel\": {\"namelength\": 0}, \"hovertemplate\": \"symbol=2<br>0=%{x}<br>1=%{y}<br>2=%{z}<br>size=%{marker.size}<br>color=%{marker.color}\", \"legendgroup\": \"symbol=2\", \"marker\": {\"color\": [2, 2, 2, 2, 2, 2, 2, 2, 2, 2, 2, 2, 2, 2, 2, 2, 2, 2, 2, 2, 2, 2, 2, 2, 2, 2, 2, 2, 2, 2, 2, 2, 2, 2, 2, 2, 2, 2, 2, 2, 2, 2, 2, 2, 2, 2, 2, 2, 2, 2, 2, 2, 2, 2, 2, 2, 2, 2, 2, 2, 2, 2, 2, 2, 2, 2, 2, 2, 2, 2, 2], \"coloraxis\": \"coloraxis\", \"size\": [0.1, 0.1, 0.1, 0.1, 0.1, 0.1, 0.1, 0.1, 0.1, 0.1, 0.1, 0.1, 0.1, 0.1, 0.1, 0.1, 0.1, 0.1, 0.1, 0.1, 0.1, 0.1, 0.1, 0.1, 0.1, 0.1, 0.1, 0.1, 0.1, 0.1, 0.1, 0.1, 0.1, 0.1, 0.1, 0.1, 0.1, 0.1, 0.1, 0.1, 0.1, 0.1, 0.1, 0.1, 0.1, 0.1, 0.1, 0.1, 0.1, 0.1, 0.1, 0.1, 0.1, 0.1, 0.1, 0.1, 0.1, 0.1, 0.1, 0.1, 0.1, 0.1, 0.1, 0.1, 0.1, 0.1, 0.1, 0.1, 0.1, 0.1, 0.1], \"sizemode\": \"area\", \"sizeref\": 0.00025, \"symbol\": \"diamond\"}, \"mode\": \"markers\", \"name\": \"symbol=2\", \"scene\": \"scene\", \"showlegend\": true, \"type\": \"scatter3d\", \"x\": [-22.13843536376953, -92.69749450683594, -34.28171920776367, 63.37700653076172, -23.581409454345703, 20.67980194091797, 123.60344696044922, 17.837600708007812, 3.6824538707733154, 40.79058074951172, 96.7391128540039, 43.3572883605957, -16.271894454956055, -38.20072555541992, 35.38883590698242, 77.50025177001953, -53.83546829223633, -6.445496082305908, -29.128639221191406, 107.16741180419922, -64.49504089355469, 37.08408737182617, 84.95838928222656, 106.1993637084961, 13.989962577819824, -0.352530837059021, -50.14215087890625, 103.38286590576172, 16.432645797729492, 122.57659912109375, 59.80583190917969, -34.40077590942383, -22.447845458984375, -11.584320068359375, -18.49406623840332, 63.786476135253906, 42.8603401184082, -55.69028854370117, -80.47358703613281, 72.94487762451172, -47.58174133300781, 120.45858001708984, -5.4229841232299805, -48.84541702270508, -46.53125, 92.47373962402344, 20.067472457885742, 27.46017074584961, 1.9733951091766357, 4.8620147705078125, 60.4728889465332, -7.855462074279785, 8.816253662109375, 54.05733108520508, -79.85151672363281, 2.833934783935547, 63.121368408203125, -17.61407470703125, -37.038719177246094, -31.0692195892334, -30.621774673461914, -9.072480201721191, -91.58397674560547, -136.0472412109375, -21.265241622924805, -34.131710052490234, -53.52342987060547, -9.141778945922852, -60.522220611572266, -67.39224243164062, 3.6045215129852295], \"y\": [-18.2937068939209, 64.5073471069336, 34.467350006103516, 71.91719055175781, 80.41742706298828, 127.10425567626953, 1.349858045578003, 87.20518493652344, 24.40522003173828, 18.7315616607666, 62.95410919189453, -81.5804672241211, 97.69706726074219, 76.95343780517578, -125.48673248291016, -104.51496887207031, 92.23200225830078, 113.9646224975586, 22.766286849975586, -7.957644462585449, 31.74435043334961, 151.33160400390625, 19.614501953125, 78.44136810302734, 21.153148651123047, 44.83908462524414, 40.3614501953125, -149.09585571289062, -54.259498596191406, 70.07123565673828, -7.503633499145508, 42.06767272949219, 60.80482864379883, 49.004703521728516, 172.8058624267578, -81.54350280761719, -91.4931869506836, -6.694714069366455, 94.7960205078125, 28.42188835144043, 109.90727233886719, 13.038145065307617, -27.42598533630371, 65.70861053466797, 103.92391204833984, 57.86199188232422, 114.92318725585938, 34.73448181152344, 64.7657470703125, 146.71087646484375, 35.56002426147461, -79.59072875976562, 167.5127716064453, 42.12135314941406, 68.30540466308594, 152.72727966308594, 131.6385040283203, 87.50621032714844, 133.48220825195312, 168.8202362060547, -54.052452087402344, -2.307905435562134, 34.56248092651367, -6.548863887786865, 134.14837646484375, 143.11917114257812, 137.17599487304688, 134.47695922851562, 35.54535675048828, 154.127197265625, -4.176446914672852], \"z\": [138.56581115722656, 104.27765655517578, -60.13105773925781, 46.33052062988281, 4.803529739379883, 32.62040328979492, 6.612555980682373, -79.34176635742188, 84.68458557128906, -83.51229858398438, -84.59097290039062, -67.38797760009766, 38.3202018737793, 93.11924743652344, -1.2840358018875122, -60.86792755126953, 52.27881622314453, -0.7568641304969788, 147.98768615722656, -76.23993682861328, 22.78705406188965, 69.17174530029297, -37.96287155151367, 58.117469787597656, 148.48509216308594, -14.16861629486084, -24.551593780517578, -7.825510501861572, 99.25968933105469, -3.2816927433013916, 50.67628479003906, 85.01531982421875, 49.500030517578125, 119.60387420654297, 75.13187408447266, 96.9142074584961, -25.018184661865234, -17.94315528869629, 11.744040489196777, 30.080060958862305, 17.74272918701172, -41.278079986572266, 77.5840072631836, 25.218713760375977, -18.38924217224121, 17.014785766601562, 75.97904968261719, 114.2154312133789, 87.14966583251953, 94.8107681274414, -4.571704864501953, 84.35443115234375, 45.83187484741211, 76.6799545288086, 42.352535247802734, 2.9478979110717773, -46.252296447753906, -57.092411041259766, 84.37313842773438, 27.537546157836914, 69.83193969726562, 12.05306625366211, 0.5389601588249207, 49.48942565917969, 25.744007110595703, -8.974374771118164, 46.829917907714844, 58.90610885620117, 59.70669174194336, 13.451512336730957, 51.02782440185547]}, {\"hoverlabel\": {\"namelength\": 0}, \"hovertemplate\": \"symbol=3<br>0=%{x}<br>1=%{y}<br>2=%{z}<br>size=%{marker.size}<br>color=%{marker.color}\", \"legendgroup\": \"symbol=3\", \"marker\": {\"color\": [3, 3, 3, 3, 3, 3, 3, 3, 3, 3, 3, 3, 3, 3, 3, 3, 3, 3, 3, 3, 3, 3, 3, 3, 3, 3, 3, 3, 3, 3, 3, 3, 3, 3, 3, 3, 3, 3, 3, 3, 3, 3, 3, 3, 3, 3, 3, 3], \"coloraxis\": \"coloraxis\", \"size\": [0.1, 0.1, 0.1, 0.1, 0.1, 0.1, 0.1, 0.1, 0.1, 0.1, 0.1, 0.1, 0.1, 0.1, 0.1, 0.1, 0.1, 0.1, 0.1, 0.1, 0.1, 0.1, 0.1, 0.1, 0.1, 0.1, 0.1, 0.1, 0.1, 0.1, 0.1, 0.1, 0.1, 0.1, 0.1, 0.1, 0.1, 0.1, 0.1, 0.1, 0.1, 0.1, 0.1, 0.1, 0.1, 0.1, 0.1, 0.1], \"sizemode\": \"area\", \"sizeref\": 0.00025, \"symbol\": \"square\"}, \"mode\": \"markers\", \"name\": \"symbol=3\", \"scene\": \"scene\", \"showlegend\": true, \"type\": \"scatter3d\", \"x\": [32.288780212402344, 7.5473432540893555, -63.426292419433594, -39.09306716918945, -97.9572982788086, 90.77491760253906, 64.1750259399414, 1.559194564819336, -95.83564758300781, -18.1085262298584, 16.97706413269043, 63.130916595458984, 28.895198822021484, -20.68821144104004, 72.34033966064453, 52.86028289794922, 84.09048461914062, -80.86477661132812, 94.63371276855469, 32.696598052978516, -59.579872131347656, -115.78665924072266, -61.22579574584961, 142.3280029296875, 66.26766967773438, 49.29032516479492, -69.5346450805664, 74.48136901855469, 125.66776275634766, 33.096805572509766, -29.6639347076416, 31.027976989746094, 13.552687644958496, 105.85243225097656, -48.37604904174805, 20.12777328491211, 114.02400207519531, 83.09163665771484, -129.28953552246094, -68.51750183105469, 23.168140411376953, -29.992130279541016, 103.17060089111328, 78.97981262207031, 104.76237487792969, 76.88046264648438, 46.12109375, -7.3787455558776855], \"y\": [41.80099868774414, 49.822933197021484, 49.255470275878906, -15.830917358398438, -18.466472625732422, 88.20063018798828, 51.11698532104492, 3.610888719558716, 44.549339294433594, -38.52006912231445, -30.337005615234375, -13.075007438659668, -15.931571960449219, -44.642276763916016, -69.82560729980469, -46.64691162109375, 16.501182556152344, -14.684867858886719, 40.4522705078125, -22.34805679321289, 29.133886337280273, 60.39737319946289, 69.9159164428711, 35.52755355834961, 89.73728942871094, 15.129508018493652, 13.172877311706543, -66.64179992675781, 40.16889953613281, 5.034063339233398, 3.069448232650757, 116.19163513183594, -53.716148376464844, 31.57071304321289, -16.725820541381836, 60.14130783081055, 52.92321014404297, 2.393342971801758, 77.60823059082031, -49.67681884765625, 76.30799865722656, 28.830883026123047, 7.767517566680908, 21.2419376373291, 21.592910766601562, -30.337068557739258, -42.702484130859375, 5.653745174407959], \"z\": [45.361873626708984, -52.63119125366211, -88.21279907226562, 52.859275817871094, 7.949702739715576, -20.962953567504883, -54.91935348510742, 116.83473205566406, -47.219139099121094, 33.74545669555664, 23.02476692199707, -75.94287109375, 130.23892211914062, 106.79772186279297, -43.85319900512695, -60.64261245727539, 110.16592407226562, 47.525596618652344, 58.739749908447266, 85.00054931640625, 128.76687622070312, 10.732361793518066, -7.775752067565918, -6.554966449737549, 34.895755767822266, -43.601722717285156, 89.56595611572266, -6.898021221160889, 32.37091827392578, 21.578893661499023, 101.370361328125, -33.44840621948242, 58.305511474609375, -4.713954925537109, 17.488359451293945, 12.284041404724121, -44.55188751220703, -0.10573332011699677, 65.41604614257812, 32.247047424316406, -25.276281356811523, 38.29160690307617, 39.82652282714844, -73.5854721069336, -99.41983795166016, -38.7562370300293, -22.38728904724121, -27.035282135009766]}],\n",
              "                        {\"coloraxis\": {\"colorbar\": {\"title\": {\"text\": \"color\"}}, \"colorscale\": [[0.0, \"#0d0887\"], [0.1111111111111111, \"#46039f\"], [0.2222222222222222, \"#7201a8\"], [0.3333333333333333, \"#9c179e\"], [0.4444444444444444, \"#bd3786\"], [0.5555555555555556, \"#d8576b\"], [0.6666666666666666, \"#ed7953\"], [0.7777777777777778, \"#fb9f3a\"], [0.8888888888888888, \"#fdca26\"], [1.0, \"#f0f921\"]]}, \"legend\": {\"itemsizing\": \"constant\", \"tracegroupgap\": 0}, \"margin\": {\"t\": 60}, \"scene\": {\"domain\": {\"x\": [0.0, 1.0], \"y\": [0.0, 1.0]}, \"xaxis\": {\"title\": {\"text\": \"0\"}}, \"yaxis\": {\"title\": {\"text\": \"1\"}}, \"zaxis\": {\"title\": {\"text\": \"2\"}}}, \"template\": {\"data\": {\"bar\": [{\"error_x\": {\"color\": \"#2a3f5f\"}, \"error_y\": {\"color\": \"#2a3f5f\"}, \"marker\": {\"line\": {\"color\": \"#E5ECF6\", \"width\": 0.5}}, \"type\": \"bar\"}], \"barpolar\": [{\"marker\": {\"line\": {\"color\": \"#E5ECF6\", \"width\": 0.5}}, \"type\": \"barpolar\"}], \"carpet\": [{\"aaxis\": {\"endlinecolor\": \"#2a3f5f\", \"gridcolor\": \"white\", \"linecolor\": \"white\", \"minorgridcolor\": \"white\", \"startlinecolor\": \"#2a3f5f\"}, \"baxis\": {\"endlinecolor\": \"#2a3f5f\", \"gridcolor\": \"white\", \"linecolor\": \"white\", \"minorgridcolor\": \"white\", \"startlinecolor\": \"#2a3f5f\"}, \"type\": \"carpet\"}], \"choropleth\": [{\"colorbar\": {\"outlinewidth\": 0, \"ticks\": \"\"}, \"type\": \"choropleth\"}], \"contour\": [{\"colorbar\": {\"outlinewidth\": 0, \"ticks\": \"\"}, \"colorscale\": [[0.0, \"#0d0887\"], [0.1111111111111111, \"#46039f\"], [0.2222222222222222, \"#7201a8\"], [0.3333333333333333, \"#9c179e\"], [0.4444444444444444, \"#bd3786\"], [0.5555555555555556, \"#d8576b\"], [0.6666666666666666, \"#ed7953\"], [0.7777777777777778, \"#fb9f3a\"], [0.8888888888888888, \"#fdca26\"], [1.0, \"#f0f921\"]], \"type\": \"contour\"}], \"contourcarpet\": [{\"colorbar\": {\"outlinewidth\": 0, \"ticks\": \"\"}, \"type\": \"contourcarpet\"}], \"heatmap\": [{\"colorbar\": {\"outlinewidth\": 0, \"ticks\": \"\"}, \"colorscale\": [[0.0, \"#0d0887\"], [0.1111111111111111, \"#46039f\"], [0.2222222222222222, \"#7201a8\"], [0.3333333333333333, \"#9c179e\"], [0.4444444444444444, \"#bd3786\"], [0.5555555555555556, \"#d8576b\"], [0.6666666666666666, \"#ed7953\"], [0.7777777777777778, \"#fb9f3a\"], [0.8888888888888888, \"#fdca26\"], [1.0, \"#f0f921\"]], \"type\": \"heatmap\"}], \"heatmapgl\": [{\"colorbar\": {\"outlinewidth\": 0, \"ticks\": \"\"}, \"colorscale\": [[0.0, \"#0d0887\"], [0.1111111111111111, \"#46039f\"], [0.2222222222222222, \"#7201a8\"], [0.3333333333333333, \"#9c179e\"], [0.4444444444444444, \"#bd3786\"], [0.5555555555555556, \"#d8576b\"], [0.6666666666666666, \"#ed7953\"], [0.7777777777777778, \"#fb9f3a\"], [0.8888888888888888, \"#fdca26\"], [1.0, \"#f0f921\"]], \"type\": \"heatmapgl\"}], \"histogram\": [{\"marker\": {\"colorbar\": {\"outlinewidth\": 0, \"ticks\": \"\"}}, \"type\": \"histogram\"}], \"histogram2d\": [{\"colorbar\": {\"outlinewidth\": 0, \"ticks\": \"\"}, \"colorscale\": [[0.0, \"#0d0887\"], [0.1111111111111111, \"#46039f\"], [0.2222222222222222, \"#7201a8\"], [0.3333333333333333, \"#9c179e\"], [0.4444444444444444, \"#bd3786\"], [0.5555555555555556, \"#d8576b\"], [0.6666666666666666, \"#ed7953\"], [0.7777777777777778, \"#fb9f3a\"], [0.8888888888888888, \"#fdca26\"], [1.0, \"#f0f921\"]], \"type\": \"histogram2d\"}], \"histogram2dcontour\": [{\"colorbar\": {\"outlinewidth\": 0, \"ticks\": \"\"}, \"colorscale\": [[0.0, \"#0d0887\"], [0.1111111111111111, \"#46039f\"], [0.2222222222222222, \"#7201a8\"], [0.3333333333333333, \"#9c179e\"], [0.4444444444444444, \"#bd3786\"], [0.5555555555555556, \"#d8576b\"], [0.6666666666666666, \"#ed7953\"], [0.7777777777777778, \"#fb9f3a\"], [0.8888888888888888, \"#fdca26\"], [1.0, \"#f0f921\"]], \"type\": \"histogram2dcontour\"}], \"mesh3d\": [{\"colorbar\": {\"outlinewidth\": 0, \"ticks\": \"\"}, \"type\": \"mesh3d\"}], \"parcoords\": [{\"line\": {\"colorbar\": {\"outlinewidth\": 0, \"ticks\": \"\"}}, \"type\": \"parcoords\"}], \"pie\": [{\"automargin\": true, \"type\": \"pie\"}], \"scatter\": [{\"marker\": {\"colorbar\": {\"outlinewidth\": 0, \"ticks\": \"\"}}, \"type\": \"scatter\"}], \"scatter3d\": [{\"line\": {\"colorbar\": {\"outlinewidth\": 0, \"ticks\": \"\"}}, \"marker\": {\"colorbar\": {\"outlinewidth\": 0, \"ticks\": \"\"}}, \"type\": \"scatter3d\"}], \"scattercarpet\": [{\"marker\": {\"colorbar\": {\"outlinewidth\": 0, \"ticks\": \"\"}}, \"type\": \"scattercarpet\"}], \"scattergeo\": [{\"marker\": {\"colorbar\": {\"outlinewidth\": 0, \"ticks\": \"\"}}, \"type\": \"scattergeo\"}], \"scattergl\": [{\"marker\": {\"colorbar\": {\"outlinewidth\": 0, \"ticks\": \"\"}}, \"type\": \"scattergl\"}], \"scattermapbox\": [{\"marker\": {\"colorbar\": {\"outlinewidth\": 0, \"ticks\": \"\"}}, \"type\": \"scattermapbox\"}], \"scatterpolar\": [{\"marker\": {\"colorbar\": {\"outlinewidth\": 0, \"ticks\": \"\"}}, \"type\": \"scatterpolar\"}], \"scatterpolargl\": [{\"marker\": {\"colorbar\": {\"outlinewidth\": 0, \"ticks\": \"\"}}, \"type\": \"scatterpolargl\"}], \"scatterternary\": [{\"marker\": {\"colorbar\": {\"outlinewidth\": 0, \"ticks\": \"\"}}, \"type\": \"scatterternary\"}], \"surface\": [{\"colorbar\": {\"outlinewidth\": 0, \"ticks\": \"\"}, \"colorscale\": [[0.0, \"#0d0887\"], [0.1111111111111111, \"#46039f\"], [0.2222222222222222, \"#7201a8\"], [0.3333333333333333, \"#9c179e\"], [0.4444444444444444, \"#bd3786\"], [0.5555555555555556, \"#d8576b\"], [0.6666666666666666, \"#ed7953\"], [0.7777777777777778, \"#fb9f3a\"], [0.8888888888888888, \"#fdca26\"], [1.0, \"#f0f921\"]], \"type\": \"surface\"}], \"table\": [{\"cells\": {\"fill\": {\"color\": \"#EBF0F8\"}, \"line\": {\"color\": \"white\"}}, \"header\": {\"fill\": {\"color\": \"#C8D4E3\"}, \"line\": {\"color\": \"white\"}}, \"type\": \"table\"}]}, \"layout\": {\"annotationdefaults\": {\"arrowcolor\": \"#2a3f5f\", \"arrowhead\": 0, \"arrowwidth\": 1}, \"coloraxis\": {\"colorbar\": {\"outlinewidth\": 0, \"ticks\": \"\"}}, \"colorscale\": {\"diverging\": [[0, \"#8e0152\"], [0.1, \"#c51b7d\"], [0.2, \"#de77ae\"], [0.3, \"#f1b6da\"], [0.4, \"#fde0ef\"], [0.5, \"#f7f7f7\"], [0.6, \"#e6f5d0\"], [0.7, \"#b8e186\"], [0.8, \"#7fbc41\"], [0.9, \"#4d9221\"], [1, \"#276419\"]], \"sequential\": [[0.0, \"#0d0887\"], [0.1111111111111111, \"#46039f\"], [0.2222222222222222, \"#7201a8\"], [0.3333333333333333, \"#9c179e\"], [0.4444444444444444, \"#bd3786\"], [0.5555555555555556, \"#d8576b\"], [0.6666666666666666, \"#ed7953\"], [0.7777777777777778, \"#fb9f3a\"], [0.8888888888888888, \"#fdca26\"], [1.0, \"#f0f921\"]], \"sequentialminus\": [[0.0, \"#0d0887\"], [0.1111111111111111, \"#46039f\"], [0.2222222222222222, \"#7201a8\"], [0.3333333333333333, \"#9c179e\"], [0.4444444444444444, \"#bd3786\"], [0.5555555555555556, \"#d8576b\"], [0.6666666666666666, \"#ed7953\"], [0.7777777777777778, \"#fb9f3a\"], [0.8888888888888888, \"#fdca26\"], [1.0, \"#f0f921\"]]}, \"colorway\": [\"#636efa\", \"#EF553B\", \"#00cc96\", \"#ab63fa\", \"#FFA15A\", \"#19d3f3\", \"#FF6692\", \"#B6E880\", \"#FF97FF\", \"#FECB52\"], \"font\": {\"color\": \"#2a3f5f\"}, \"geo\": {\"bgcolor\": \"white\", \"lakecolor\": \"white\", \"landcolor\": \"#E5ECF6\", \"showlakes\": true, \"showland\": true, \"subunitcolor\": \"white\"}, \"hoverlabel\": {\"align\": \"left\"}, \"hovermode\": \"closest\", \"mapbox\": {\"style\": \"light\"}, \"paper_bgcolor\": \"white\", \"plot_bgcolor\": \"#E5ECF6\", \"polar\": {\"angularaxis\": {\"gridcolor\": \"white\", \"linecolor\": \"white\", \"ticks\": \"\"}, \"bgcolor\": \"#E5ECF6\", \"radialaxis\": {\"gridcolor\": \"white\", \"linecolor\": \"white\", \"ticks\": \"\"}}, \"scene\": {\"xaxis\": {\"backgroundcolor\": \"#E5ECF6\", \"gridcolor\": \"white\", \"gridwidth\": 2, \"linecolor\": \"white\", \"showbackground\": true, \"ticks\": \"\", \"zerolinecolor\": \"white\"}, \"yaxis\": {\"backgroundcolor\": \"#E5ECF6\", \"gridcolor\": \"white\", \"gridwidth\": 2, \"linecolor\": \"white\", \"showbackground\": true, \"ticks\": \"\", \"zerolinecolor\": \"white\"}, \"zaxis\": {\"backgroundcolor\": \"#E5ECF6\", \"gridcolor\": \"white\", \"gridwidth\": 2, \"linecolor\": \"white\", \"showbackground\": true, \"ticks\": \"\", \"zerolinecolor\": \"white\"}}, \"shapedefaults\": {\"line\": {\"color\": \"#2a3f5f\"}}, \"ternary\": {\"aaxis\": {\"gridcolor\": \"white\", \"linecolor\": \"white\", \"ticks\": \"\"}, \"baxis\": {\"gridcolor\": \"white\", \"linecolor\": \"white\", \"ticks\": \"\"}, \"bgcolor\": \"#E5ECF6\", \"caxis\": {\"gridcolor\": \"white\", \"linecolor\": \"white\", \"ticks\": \"\"}}, \"title\": {\"x\": 0.05}, \"xaxis\": {\"automargin\": true, \"gridcolor\": \"white\", \"linecolor\": \"white\", \"ticks\": \"\", \"title\": {\"standoff\": 15}, \"zerolinecolor\": \"white\", \"zerolinewidth\": 2}, \"yaxis\": {\"automargin\": true, \"gridcolor\": \"white\", \"linecolor\": \"white\", \"ticks\": \"\", \"title\": {\"standoff\": 15}, \"zerolinecolor\": \"white\", \"zerolinewidth\": 2}}}},\n",
              "                        {\"responsive\": true}\n",
              "                    ).then(function(){\n",
              "                            \n",
              "var gd = document.getElementById('c495cc94-3b7b-4c0d-8e38-36a91059662d');\n",
              "var x = new MutationObserver(function (mutations, observer) {{\n",
              "        var display = window.getComputedStyle(gd).display;\n",
              "        if (!display || display === 'none') {{\n",
              "            console.log([gd, 'removed!']);\n",
              "            Plotly.purge(gd);\n",
              "            observer.disconnect();\n",
              "        }}\n",
              "}});\n",
              "\n",
              "// Listen for the removal of the full notebook cells\n",
              "var notebookContainer = gd.closest('#notebook-container');\n",
              "if (notebookContainer) {{\n",
              "    x.observe(notebookContainer, {childList: true});\n",
              "}}\n",
              "\n",
              "// Listen for the clearing of the current output cell\n",
              "var outputEl = gd.closest('.output');\n",
              "if (outputEl) {{\n",
              "    x.observe(outputEl, {childList: true});\n",
              "}}\n",
              "\n",
              "                        })\n",
              "                };\n",
              "                \n",
              "            </script>\n",
              "        </div>\n",
              "</body>\n",
              "</html>"
            ]
          },
          "metadata": {
            "tags": []
          }
        }
      ]
    },
    {
      "cell_type": "markdown",
      "metadata": {
        "id": "yCL-4irehFbx"
      },
      "source": [
        "### *Clustering* jerárquico"
      ]
    },
    {
      "cell_type": "code",
      "metadata": {
        "id": "adptZNhBmpa-"
      },
      "source": [
        "import scipy.cluster.hierarchy as shc"
      ],
      "execution_count": null,
      "outputs": []
    },
    {
      "cell_type": "markdown",
      "metadata": {
        "id": "rAaCF1CCmi_G"
      },
      "source": [
        "Dendograma: \n",
        " * Métrica: euclídea.\n",
        " * Distancia entre clústeres *ward*"
      ]
    },
    {
      "cell_type": "code",
      "metadata": {
        "colab": {
          "base_uri": "https://localhost:8080/",
          "height": 451
        },
        "id": "i_QSZi8NhFIS",
        "outputId": "81bd6afb-9a0a-4143-882b-c7464933a0ed"
      },
      "source": [
        "plt.figure(figsize=(10, 7))\n",
        "plt.title(\"Dendrogram: euclidean-ward\")\n",
        "dend = shc.dendrogram(shc.linkage(data, method='ward', metric='euclidean'), \n",
        "                      truncate_mode='lastp',  # show only the last p merged clusters\n",
        "                      p = 50)"
      ],
      "execution_count": null,
      "outputs": [
        {
          "output_type": "display_data",
          "data": {
            "image/png": "[encoded data removed]",
            "text/plain": [
              "<Figure size 720x504 with 1 Axes>"
            ]
          },
          "metadata": {
            "tags": [],
            "needs_background": "light"
          }
        }
      ]
    },
    {
      "cell_type": "markdown",
      "metadata": {
        "id": "fEa03rY4pRdL"
      },
      "source": [
        "Dendograma: \n",
        " * Métrica: euclídea.\n",
        " * Distancia entre clústeres *single*"
      ]
    },
    {
      "cell_type": "code",
      "metadata": {
        "colab": {
          "base_uri": "https://localhost:8080/",
          "height": 459
        },
        "id": "jMreP3czpuNQ",
        "outputId": "5221da68-a0a6-48e6-b7e8-9691871a6696"
      },
      "source": [
        "plt.figure(figsize=(10, 7))\n",
        "plt.title(\"Dendrogram: euclidean-single\")\n",
        "dend = shc.dendrogram(shc.linkage(data, method='single', metric='euclidean'),\n",
        "                      truncate_mode='lastp',  # show only the last p merged clusters\n",
        "                      leaf_font_size = 12,\n",
        "                      p = 50)"
      ],
      "execution_count": null,
      "outputs": [
        {
          "output_type": "display_data",
          "data": {
            "image/png": "[encoded data removed]",
            "text/plain": [
              "<Figure size 720x504 with 1 Axes>"
            ]
          },
          "metadata": {
            "tags": [],
            "needs_background": "light"
          }
        }
      ]
    },
    {
      "cell_type": "markdown",
      "metadata": {
        "id": "mEfvrSJoqfhA"
      },
      "source": [
        "Dendograma: \n",
        " * Métrica: euclídea.\n",
        " * Distancia entre clústeres *centroid*"
      ]
    },
    {
      "cell_type": "code",
      "metadata": {
        "colab": {
          "base_uri": "https://localhost:8080/",
          "height": 451
        },
        "id": "jr8QPNU0qbbd",
        "outputId": "598e6869-9f17-40bb-d39f-2738ce3dd190"
      },
      "source": [
        "plt.figure(figsize=(10, 7))\n",
        "plt.title(\"Dendrogram: euclidean-centroid\")\n",
        "dend = shc.dendrogram(shc.linkage(data, method='centroid', metric='euclidean'), \n",
        "                      truncate_mode='lastp',  # show only the last p merged clusters\n",
        "                      p = 50)"
      ],
      "execution_count": null,
      "outputs": [
        {
          "output_type": "display_data",
          "data": {
            "image/png": "[encoded data removed]",
            "text/plain": [
              "<Figure size 720x504 with 1 Axes>"
            ]
          },
          "metadata": {
            "tags": [],
            "needs_background": "light"
          }
        }
      ]
    },
    {
      "cell_type": "markdown",
      "metadata": {
        "id": "72LydVc0qzeG"
      },
      "source": [
        "Dendograma: \n",
        " * Métrica: euclídea.\n",
        " * Distancia entre clústeres *complete*"
      ]
    },
    {
      "cell_type": "code",
      "metadata": {
        "colab": {
          "base_uri": "https://localhost:8080/",
          "height": 451
        },
        "id": "iS-2ddnFqy59",
        "outputId": "a5472454-0f16-4f06-91d6-1731314c326c"
      },
      "source": [
        "plt.figure(figsize=(10, 7))\n",
        "plt.title(\"Dendrogram: euclidean-complete\")\n",
        "dend = shc.dendrogram(shc.linkage(data, method='complete', metric='euclidean'), \n",
        "                      truncate_mode='lastp',  # show only the last p merged clusters\n",
        "                      p = 50)"
      ],
      "execution_count": null,
      "outputs": [
        {
          "output_type": "display_data",
          "data": {
            "image/png": "[encoded data removed]",
            "text/plain": [
              "<Figure size 720x504 with 1 Axes>"
            ]
          },
          "metadata": {
            "tags": [],
            "needs_background": "light"
          }
        }
      ]
    },
    {
      "cell_type": "markdown",
      "metadata": {
        "id": "K_0gloJiwV5K"
      },
      "source": [
        "### *Outliers*"
      ]
    },
    {
      "cell_type": "markdown",
      "metadata": {
        "id": "GLc4zaGglYz3"
      },
      "source": [
        "Usamos el algoritmo kNN para detectarlos"
      ]
    },
    {
      "cell_type": "code",
      "metadata": {
        "colab": {
          "base_uri": "https://localhost:8080/"
        },
        "id": "EovXDJ3xK-RE",
        "outputId": "736fa6c4-2cf0-4946-a0da-5324aa93724b"
      },
      "source": [
        "!pip install pyod"
      ],
      "execution_count": null,
      "outputs": [
        {
          "output_type": "stream",
          "text": [
            "Requirement already satisfied: pyod in /usr/local/lib/python3.6/dist-packages (0.8.4)\n",
            "Requirement already satisfied: suod in /usr/local/lib/python3.6/dist-packages (from pyod) (0.0.4)\n",
            "Requirement already satisfied: matplotlib in /usr/local/lib/python3.6/dist-packages (from pyod) (3.2.2)\n",
            "Requirement already satisfied: joblib in /usr/local/lib/python3.6/dist-packages (from pyod) (0.17.0)\n",
            "Requirement already satisfied: scipy>=0.19.1 in /usr/local/lib/python3.6/dist-packages (from pyod) (1.4.1)\n",
            "Requirement already satisfied: pandas>=0.25 in /usr/local/lib/python3.6/dist-packages (from pyod) (1.1.4)\n",
            "Requirement already satisfied: statsmodels in /usr/local/lib/python3.6/dist-packages (from pyod) (0.10.2)\n",
            "Requirement already satisfied: scikit-learn>=0.19.1 in /usr/local/lib/python3.6/dist-packages (from pyod) (0.22.2.post1)\n",
            "Requirement already satisfied: combo in /usr/local/lib/python3.6/dist-packages (from pyod) (0.1.1)\n",
            "Requirement already satisfied: six in /usr/local/lib/python3.6/dist-packages (from pyod) (1.15.0)\n",
            "Requirement already satisfied: numba>=0.35 in /usr/local/lib/python3.6/dist-packages (from pyod) (0.48.0)\n",
            "Requirement already satisfied: numpy>=1.13 in /usr/local/lib/python3.6/dist-packages (from pyod) (1.18.5)\n",
            "Requirement already satisfied: python-dateutil>=2.1 in /usr/local/lib/python3.6/dist-packages (from matplotlib->pyod) (2.8.1)\n",
            "Requirement already satisfied: cycler>=0.10 in /usr/local/lib/python3.6/dist-packages (from matplotlib->pyod) (0.10.0)\n",
            "Requirement already satisfied: kiwisolver>=1.0.1 in /usr/local/lib/python3.6/dist-packages (from matplotlib->pyod) (1.3.1)\n",
            "Requirement already satisfied: pyparsing!=2.0.4,!=2.1.2,!=2.1.6,>=2.0.1 in /usr/local/lib/python3.6/dist-packages (from matplotlib->pyod) (2.4.7)\n",
            "Requirement already satisfied: pytz>=2017.2 in /usr/local/lib/python3.6/dist-packages (from pandas>=0.25->pyod) (2018.9)\n",
            "Requirement already satisfied: patsy>=0.4.0 in /usr/local/lib/python3.6/dist-packages (from statsmodels->pyod) (0.5.1)\n",
            "Requirement already satisfied: llvmlite<0.32.0,>=0.31.0dev0 in /usr/local/lib/python3.6/dist-packages (from numba>=0.35->pyod) (0.31.0)\n",
            "Requirement already satisfied: setuptools in /usr/local/lib/python3.6/dist-packages (from numba>=0.35->pyod) (50.3.2)\n"
          ],
          "name": "stdout"
        }
      ]
    },
    {
      "cell_type": "code",
      "metadata": {
        "colab": {
          "base_uri": "https://localhost:8080/"
        },
        "id": "QzACJ6kZcvtK",
        "outputId": "45024400-cc4a-4213-e067-5633e23e2ed6"
      },
      "source": [
        "from pyod.models.knn import KNN\n",
        "import pandas as pd\n",
        "\n",
        "X = data # data NO contiene la característica clase\n",
        "\n",
        "clf = KNN(contamination=0.2)\n",
        "clf.fit(X)\n",
        "y_pred = clf.predict(X)\n",
        "X[y_pred == 1]\n",
        "\n",
        "outliers = []\n",
        "for i,j in enumerate(y_pred):\n",
        "  if j == 1:\n",
        "    outliers.append(i)\n",
        "\n",
        "print(outliers)"
      ],
      "execution_count": null,
      "outputs": [
        {
          "output_type": "stream",
          "text": [
            "[2, 3, 5, 10, 12, 13, 14, 17, 18, 20, 26, 28, 31, 33, 35, 40, 47, 50, 52, 53, 56, 69, 73, 78, 80, 93, 95, 96, 141, 150]\n"
          ],
          "name": "stdout"
        }
      ]
    },
    {
      "cell_type": "code",
      "metadata": {
        "colab": {
          "base_uri": "https://localhost:8080/"
        },
        "id": "V7pREzjRl4DG",
        "outputId": "61753a55-5711-4097-aa9d-5cb13b434a9e"
      },
      "source": [
        "len(outliers)"
      ],
      "execution_count": null,
      "outputs": [
        {
          "output_type": "execute_result",
          "data": {
            "text/plain": [
              "30"
            ]
          },
          "metadata": {
            "tags": []
          },
          "execution_count": 13
        }
      ]
    },
    {
      "cell_type": "code",
      "metadata": {
        "id": "NvCaawWSdcqY"
      },
      "source": [
        "wine_no = wine.copy()\n",
        "wine_no = wine_no.drop(outliers)\n",
        "data_no = wine_no.iloc[:,1:]\n",
        "\n",
        "data_tsne_no = TSNE(n_components=3, random_state=seed).fit_transform(data_no)"
      ],
      "execution_count": null,
      "outputs": []
    },
    {
      "cell_type": "code",
      "metadata": {
        "colab": {
          "base_uri": "https://localhost:8080/"
        },
        "id": "P4_53Ic5eDlo",
        "outputId": "89aeb601-58f9-468d-bc45-8e9d57916423"
      },
      "source": [
        "fig = px.scatter_3d(data_tsne_no, x=0, y=1, z=2,\n",
        "              color=wine_no[0], size=[0.1 for i in range(148)], symbol=wine_no[0] )\n",
        "fig.show()"
      ],
      "execution_count": null,
      "outputs": [
        {
          "output_type": "display_data",
          "data": {
            "text/html": [
              "<html>\n",
              "<head><meta charset=\"utf-8\" /></head>\n",
              "<body>\n",
              "    <div>\n",
              "            <script src=\"https://cdnjs.cloudflare.com/ajax/libs/mathjax/2.7.5/MathJax.js?config=TeX-AMS-MML_SVG\"></script><script type=\"text/javascript\">if (window.MathJax) {MathJax.Hub.Config({SVG: {font: \"STIX-Web\"}});}</script>\n",
              "                <script type=\"text/javascript\">window.PlotlyConfig = {MathJaxConfig: 'local'};</script>\n",
              "        <script src=\"https://cdn.plot.ly/plotly-latest.min.js\"></script>    \n",
              "            <div id=\"801fb829-5163-4c88-9899-bb7283ab4459\" class=\"plotly-graph-div\" style=\"height:525px; width:100%;\"></div>\n",
              "            <script type=\"text/javascript\">\n",
              "                \n",
              "                    window.PLOTLYENV=window.PLOTLYENV || {};\n",
              "                    \n",
              "                if (document.getElementById(\"801fb829-5163-4c88-9899-bb7283ab4459\")) {\n",
              "                    Plotly.newPlot(\n",
              "                        '801fb829-5163-4c88-9899-bb7283ab4459',\n",
              "                        [{\"hoverlabel\": {\"namelength\": 0}, \"hovertemplate\": \"symbol=1<br>0=%{x}<br>1=%{y}<br>2=%{z}<br>size=%{marker.size}<br>color=%{marker.color}\", \"legendgroup\": \"symbol=1\", \"marker\": {\"color\": [1, 1, 1, 1, 1, 1, 1, 1, 1, 1, 1, 1, 1, 1, 1, 1, 1, 1, 1, 1, 1, 1, 1, 1, 1, 1, 1, 1, 1, 1, 1, 1, 1, 1, 1, 1, 1, 1], \"coloraxis\": \"coloraxis\", \"size\": [0.1, 0.1, 0.1, 0.1, 0.1, 0.1, 0.1, 0.1, 0.1, 0.1, 0.1, 0.1, 0.1, 0.1, 0.1, 0.1, 0.1, 0.1, 0.1, 0.1, 0.1, 0.1, 0.1, 0.1, 0.1, 0.1, 0.1, 0.1, 0.1, 0.1, 0.1, 0.1, 0.1, 0.1, 0.1, 0.1, 0.1, 0.1], \"sizemode\": \"area\", \"sizeref\": 0.00025, \"symbol\": \"circle\"}, \"mode\": \"markers\", \"name\": \"symbol=1\", \"scene\": \"scene\", \"showlegend\": true, \"type\": \"scatter3d\", \"x\": [80.54785919189453, 43.00130081176758, 5.404175758361816, 139.9099884033203, 126.22264099121094, 69.45803833007812, 30.350421905517578, 130.56976318359375, 168.06777954101562, 157.7893829345703, 10.663302421569824, 77.92527770996094, 98.9842758178711, 68.6832275390625, 20.78907585144043, 65.34273529052734, 122.34588623046875, 92.96034240722656, 159.78021240234375, 56.25621795654297, 38.1205940246582, 51.670372009277344, 89.01399993896484, 78.94425201416016, -9.772010803222656, 77.36827087402344, 0.3856886923313141, 22.717082977294922, 19.98479652404785, 119.69538879394531, 92.68626403808594, 64.19465637207031, 94.74568939208984, 133.33990478515625, 94.87886047363281, 29.217741012573242, 132.45306396484375, 161.80328369140625], \"y\": [104.82971954345703, -73.48065185546875, -60.07997131347656, -72.8401870727539, -128.53988647460938, -63.88763427734375, -39.783729553222656, -106.91202545166016, -105.74626922607422, -75.94029998779297, -172.17880249023438, -69.49774932861328, 74.57039642333984, -145.8490447998047, -130.63412475585938, -138.8506622314453, -90.73004913330078, -48.70132827758789, -48.09622573852539, -76.41864013671875, -119.87760162353516, -169.9443359375, -21.56580352783203, -101.59664154052734, -104.02488708496094, -108.07940673828125, -94.59972381591797, 2.7243189811706543, -149.51510620117188, -29.899747848510742, -55.1101188659668, -33.6881103515625, -114.69754028320312, -109.21590423583984, -68.5898666381836, -90.9439697265625, -137.33021545410156, -110.07881164550781], \"z\": [-49.54701232910156, -88.11294555664062, -44.26899719238281, 1.6305454969406128, -6.656826019287109, -133.3470001220703, -119.32972717285156, 54.775421142578125, -29.96824836730957, -68.53903198242188, 29.817562103271484, 57.03670883178711, -93.38016510009766, -66.47209167480469, 21.991317749023438, 40.94167709350586, -36.95947265625, -50.29766082763672, -31.18465232849121, -42.78479766845703, -90.7330322265625, 8.241275787353516, -122.81188201904297, -68.35366821289062, -35.51622772216797, -116.16531372070312, -95.83984375, 23.822132110595703, -22.168149948120117, -86.02499389648438, 112.78498077392578, -84.3729248046875, 93.25088500976562, -89.47599792480469, -95.24856567382812, -134.7269744873047, -51.846519470214844, 18.67884635925293]}, {\"hoverlabel\": {\"namelength\": 0}, \"hovertemplate\": \"symbol=2<br>0=%{x}<br>1=%{y}<br>2=%{z}<br>size=%{marker.size}<br>color=%{marker.color}\", \"legendgroup\": \"symbol=2\", \"marker\": {\"color\": [2, 2, 2, 2, 2, 2, 2, 2, 2, 2, 2, 2, 2, 2, 2, 2, 2, 2, 2, 2, 2, 2, 2, 2, 2, 2, 2, 2, 2, 2, 2, 2, 2, 2, 2, 2, 2, 2, 2, 2, 2, 2, 2, 2, 2, 2, 2, 2, 2, 2, 2, 2, 2, 2, 2, 2, 2, 2, 2, 2, 2, 2, 2, 2], \"coloraxis\": \"coloraxis\", \"size\": [0.1, 0.1, 0.1, 0.1, 0.1, 0.1, 0.1, 0.1, 0.1, 0.1, 0.1, 0.1, 0.1, 0.1, 0.1, 0.1, 0.1, 0.1, 0.1, 0.1, 0.1, 0.1, 0.1, 0.1, 0.1, 0.1, 0.1, 0.1, 0.1, 0.1, 0.1, 0.1, 0.1, 0.1, 0.1, 0.1, 0.1, 0.1, 0.1, 0.1, 0.1, 0.1, 0.1, 0.1, 0.1, 0.1, 0.1, 0.1, 0.1, 0.1, 0.1, 0.1, 0.1, 0.1, 0.1, 0.1, 0.1, 0.1, 0.1, 0.1, 0.1, 0.1, 0.1, 0.1], \"sizemode\": \"area\", \"sizeref\": 0.00025, \"symbol\": \"diamond\"}, \"mode\": \"markers\", \"name\": \"symbol=2\", \"scene\": \"scene\", \"showlegend\": true, \"type\": \"scatter3d\", \"x\": [-77.05023193359375, -48.94105529785156, -46.339622497558594, 10.499612808227539, -46.80424118041992, -105.07771301269531, -6.7136101722717285, -81.67974090576172, -71.76583099365234, -88.20191192626953, 32.734371185302734, -17.823514938354492, -33.31385040283203, 74.84941864013672, -21.782548904418945, -94.05326843261719, -51.185489654541016, -69.52680206298828, -49.27138137817383, 128.77381896972656, -28.581090927124023, -9.321002006530762, -106.1280288696289, -7.644183158874512, 68.25950622558594, -109.11455535888672, -118.60514831542969, -52.938297271728516, -0.7121583223342896, -48.074527740478516, -133.20753479003906, -8.435002326965332, 49.04421615600586, -56.47062683105469, -22.341880798339844, 52.88718795776367, 123.17604064941406, 13.224584579467773, -30.078941345214844, -152.0491180419922, 20.38992691040039, -13.283729553222656, -174.51919555664062, 10.10390853881836, -126.77468872070312, -113.86461639404297, 100.9723892211914, -52.644630432128906, -90.73886108398438, -62.9007682800293, -93.6100082397461, -155.91908264160156, -114.11862182617188, -72.78301239013672, -120.60810089111328, -64.13571166992188, -140.47828674316406, -93.07874298095703, -96.44708251953125, -112.70033264160156, -151.83929443359375, -18.85615348815918, -122.30876922607422, 56.15445327758789], \"y\": [-1.6948738098144531, -56.91891098022461, 87.37008666992188, 29.62383460998535, 125.51769256591797, -101.8324966430664, -69.03742980957031, 25.8658390045166, 25.009634017944336, 109.68831634521484, -101.94652557373047, 166.86752319335938, 47.09940719604492, -100.74897766113281, 111.42302703857422, 158.83651733398438, 50.493019104003906, 47.19268035888672, -90.65797424316406, 60.41059875488281, 16.7493896484375, 47.10641860961914, -32.45615768432617, 52.42283630371094, 26.43662452697754, 7.656752109527588, -1.6541359424591064, 72.36664581298828, 119.12268829345703, 92.47342681884766, 97.69229125976562, 130.25616455078125, -14.070971488952637, 132.66368103027344, -5.991026878356934, 10.114691734313965, 62.34795379638672, -163.50205993652344, -48.938053131103516, 45.08500671386719, 83.68656921386719, 92.40604400634766, 85.73272705078125, -27.20561408996582, -9.31278133392334, 60.314781188964844, 50.070030212402344, 127.08212280273438, 114.90882873535156, 167.88502502441406, 55.9848747253418, 78.24150085449219, 114.26012420654297, -46.59637451171875, -47.82277297973633, 59.72718048095703, 123.76419830322266, -101.97301483154297, 139.1361083984375, 159.81527709960938, 135.51231384277344, 56.94319534301758, 76.68521118164062, 44.78095626831055], \"z\": [62.145992279052734, -49.946319580078125, -45.581905364990234, 160.5139923095703, -22.886789321899414, 47.61178207397461, 16.295866012573242, 97.4764175415039, 25.796358108520508, 120.05977630615234, -4.568948268890381, -17.37148666381836, -16.62326431274414, 9.86679458618164, -84.71488952636719, 29.057178497314453, 142.82342529296875, -41.581382751464844, -7.261695861816406, -16.19205665588379, 39.48908996582031, 69.17082977294922, -99.32742309570312, 22.517627716064453, 87.21218872070312, 144.78440856933594, -52.55727767944336, 14.4669828414917, -2.312716007232666, 63.713172912597656, -10.734930038452148, -48.2251091003418, -29.359506607055664, 22.36258316040039, -33.4729118347168, 125.91961669921875, 78.55268096923828, -127.52595520019531, 59.212989807128906, -20.23868751525879, 66.00209045410156, 36.80313491821289, -27.51862907409668, -7.914094924926758, 32.94544219970703, 1.2100114822387695, 24.642362594604492, -113.44444274902344, -10.430373191833496, -8.118446350097656, 60.929805755615234, 24.956483840942383, 31.647523880004883, 95.95133209228516, -32.110084533691406, -87.94377136230469, -49.180606842041016, -62.583187103271484, -49.51233673095703, -14.057292938232422, 2.3002498149871826, -63.63241195678711, -49.88753890991211, 47.47413635253906]}, {\"hoverlabel\": {\"namelength\": 0}, \"hovertemplate\": \"symbol=3<br>0=%{x}<br>1=%{y}<br>2=%{z}<br>size=%{marker.size}<br>color=%{marker.color}\", \"legendgroup\": \"symbol=3\", \"marker\": {\"color\": [3, 3, 3, 3, 3, 3, 3, 3, 3, 3, 3, 3, 3, 3, 3, 3, 3, 3, 3, 3, 3, 3, 3, 3, 3, 3, 3, 3, 3, 3, 3, 3, 3, 3, 3, 3, 3, 3, 3, 3, 3, 3, 3, 3, 3, 3], \"coloraxis\": \"coloraxis\", \"size\": [0.1, 0.1, 0.1, 0.1, 0.1, 0.1, 0.1, 0.1, 0.1, 0.1, 0.1, 0.1, 0.1, 0.1, 0.1, 0.1, 0.1, 0.1, 0.1, 0.1, 0.1, 0.1, 0.1, 0.1, 0.1, 0.1, 0.1, 0.1, 0.1, 0.1, 0.1, 0.1, 0.1, 0.1, 0.1, 0.1, 0.1, 0.1, 0.1, 0.1, 0.1, 0.1, 0.1, 0.1, 0.1, 0.1], \"sizemode\": \"area\", \"sizeref\": 0.00025, \"symbol\": \"square\"}, \"mode\": \"markers\", \"name\": \"symbol=3\", \"scene\": \"scene\", \"showlegend\": true, \"type\": \"scatter3d\", \"x\": [-95.54389953613281, 38.84433364868164, -122.68761444091797, 95.92972564697266, -53.596527099609375, 13.920418739318848, 31.064693450927734, -54.914424896240234, 55.88509750366211, -62.09099578857422, 77.20990753173828, -13.319252967834473, 15.811245918273926, 66.39190673828125, 22.865760803222656, -50.107574462890625, 111.95249938964844, 66.14496612548828, 24.791011810302734, 3.0876145362854004, -73.89654541015625, 42.22438430786133, -47.94509506225586, -9.824477195739746, -51.90302276611328, 61.502296447753906, -0.864130973815918, 32.86442184448242, -38.16818618774414, 41.59294891357422, -26.594581604003906, 12.025805473327637, 52.2226676940918, -23.318614959716797, -27.73138427734375, -26.905879974365234, -39.0992317199707, -79.43042755126953, -50.381778717041016, -34.92317199707031, 20.305904388427734, 99.05351257324219, 96.76225280761719, 40.68997573852539, -19.113386154174805, 11.314996719360352], \"y\": [-58.918643951416016, 80.33224487304688, -22.190706253051758, 29.43677520751953, -33.691131591796875, -62.54091262817383, 54.97213363647461, 61.7005500793457, 78.23871612548828, 2.0586297512054443, 49.365142822265625, 73.97602081298828, 5.492475986480713, 144.71360778808594, -139.94888305664062, 157.1536865234375, 13.170806884765625, 2.0670692920684814, 41.374568939208984, 76.11412811279297, 107.48231506347656, -28.137737274169922, -55.862911224365234, -24.521766662597656, -10.99377155303955, -134.17276000976562, -29.75359344482422, 15.899876594543457, 5.676970958709717, -47.6558837890625, 18.54224395751953, 135.539306640625, 51.08602523803711, 27.342479705810547, -46.10356903076172, -92.43589782714844, 126.27018737792969, -19.24298095703125, 47.50519943237305, -93.70613098144531, 18.004505157470703, -18.26899528503418, -43.63045120239258, -100.84162139892578, -141.44557189941406, -16.113725662231445], \"z\": [6.194519519805908, 115.969970703125, 81.365478515625, -54.72489929199219, 21.084430694580078, 72.4042739868164, -112.03820037841797, 98.51941680908203, 15.22701644897461, -84.98360443115234, -14.270516395568848, 105.89583587646484, 82.35420227050781, 9.239370346069336, 65.9638442993164, -56.796600341796875, -9.609358787536621, 8.46362018585205, 103.94821166992188, -23.893781661987305, -78.07427978515625, 52.22446823120117, -109.76914978027344, -72.98362731933594, 133.2244415283203, -13.280550003051758, 34.752933502197266, -69.85478210449219, 80.159423828125, 11.9146089553833, -122.24613189697266, 88.07887268066406, -49.87213897705078, 110.83613586425781, -13.591157913208008, 50.43970489501953, 129.57681274414062, -22.02400016784668, 59.14958572387695, 116.62660217285156, -17.47985076904297, 60.851837158203125, 22.13585662841797, 46.06159591674805, 8.038243293762207, 122.66654205322266]}],\n",
              "                        {\"coloraxis\": {\"colorbar\": {\"title\": {\"text\": \"color\"}}, \"colorscale\": [[0.0, \"#0d0887\"], [0.1111111111111111, \"#46039f\"], [0.2222222222222222, \"#7201a8\"], [0.3333333333333333, \"#9c179e\"], [0.4444444444444444, \"#bd3786\"], [0.5555555555555556, \"#d8576b\"], [0.6666666666666666, \"#ed7953\"], [0.7777777777777778, \"#fb9f3a\"], [0.8888888888888888, \"#fdca26\"], [1.0, \"#f0f921\"]]}, \"legend\": {\"itemsizing\": \"constant\", \"tracegroupgap\": 0}, \"margin\": {\"t\": 60}, \"scene\": {\"domain\": {\"x\": [0.0, 1.0], \"y\": [0.0, 1.0]}, \"xaxis\": {\"title\": {\"text\": \"0\"}}, \"yaxis\": {\"title\": {\"text\": \"1\"}}, \"zaxis\": {\"title\": {\"text\": \"2\"}}}, \"template\": {\"data\": {\"bar\": [{\"error_x\": {\"color\": \"#2a3f5f\"}, \"error_y\": {\"color\": \"#2a3f5f\"}, \"marker\": {\"line\": {\"color\": \"#E5ECF6\", \"width\": 0.5}}, \"type\": \"bar\"}], \"barpolar\": [{\"marker\": {\"line\": {\"color\": \"#E5ECF6\", \"width\": 0.5}}, \"type\": \"barpolar\"}], \"carpet\": [{\"aaxis\": {\"endlinecolor\": \"#2a3f5f\", \"gridcolor\": \"white\", \"linecolor\": \"white\", \"minorgridcolor\": \"white\", \"startlinecolor\": \"#2a3f5f\"}, \"baxis\": {\"endlinecolor\": \"#2a3f5f\", \"gridcolor\": \"white\", \"linecolor\": \"white\", \"minorgridcolor\": \"white\", \"startlinecolor\": \"#2a3f5f\"}, \"type\": \"carpet\"}], \"choropleth\": [{\"colorbar\": {\"outlinewidth\": 0, \"ticks\": \"\"}, \"type\": \"choropleth\"}], \"contour\": [{\"colorbar\": {\"outlinewidth\": 0, \"ticks\": \"\"}, \"colorscale\": [[0.0, \"#0d0887\"], [0.1111111111111111, \"#46039f\"], [0.2222222222222222, \"#7201a8\"], [0.3333333333333333, \"#9c179e\"], [0.4444444444444444, \"#bd3786\"], [0.5555555555555556, \"#d8576b\"], [0.6666666666666666, \"#ed7953\"], [0.7777777777777778, \"#fb9f3a\"], [0.8888888888888888, \"#fdca26\"], [1.0, \"#f0f921\"]], \"type\": \"contour\"}], \"contourcarpet\": [{\"colorbar\": {\"outlinewidth\": 0, \"ticks\": \"\"}, \"type\": \"contourcarpet\"}], \"heatmap\": [{\"colorbar\": {\"outlinewidth\": 0, \"ticks\": \"\"}, \"colorscale\": [[0.0, \"#0d0887\"], [0.1111111111111111, \"#46039f\"], [0.2222222222222222, \"#7201a8\"], [0.3333333333333333, \"#9c179e\"], [0.4444444444444444, \"#bd3786\"], [0.5555555555555556, \"#d8576b\"], [0.6666666666666666, \"#ed7953\"], [0.7777777777777778, \"#fb9f3a\"], [0.8888888888888888, \"#fdca26\"], [1.0, \"#f0f921\"]], \"type\": \"heatmap\"}], \"heatmapgl\": [{\"colorbar\": {\"outlinewidth\": 0, \"ticks\": \"\"}, \"colorscale\": [[0.0, \"#0d0887\"], [0.1111111111111111, \"#46039f\"], [0.2222222222222222, \"#7201a8\"], [0.3333333333333333, \"#9c179e\"], [0.4444444444444444, \"#bd3786\"], [0.5555555555555556, \"#d8576b\"], [0.6666666666666666, \"#ed7953\"], [0.7777777777777778, \"#fb9f3a\"], [0.8888888888888888, \"#fdca26\"], [1.0, \"#f0f921\"]], \"type\": \"heatmapgl\"}], \"histogram\": [{\"marker\": {\"colorbar\": {\"outlinewidth\": 0, \"ticks\": \"\"}}, \"type\": \"histogram\"}], \"histogram2d\": [{\"colorbar\": {\"outlinewidth\": 0, \"ticks\": \"\"}, \"colorscale\": [[0.0, \"#0d0887\"], [0.1111111111111111, \"#46039f\"], [0.2222222222222222, \"#7201a8\"], [0.3333333333333333, \"#9c179e\"], [0.4444444444444444, \"#bd3786\"], [0.5555555555555556, \"#d8576b\"], [0.6666666666666666, \"#ed7953\"], [0.7777777777777778, \"#fb9f3a\"], [0.8888888888888888, \"#fdca26\"], [1.0, \"#f0f921\"]], \"type\": \"histogram2d\"}], \"histogram2dcontour\": [{\"colorbar\": {\"outlinewidth\": 0, \"ticks\": \"\"}, \"colorscale\": [[0.0, \"#0d0887\"], [0.1111111111111111, \"#46039f\"], [0.2222222222222222, \"#7201a8\"], [0.3333333333333333, \"#9c179e\"], [0.4444444444444444, \"#bd3786\"], [0.5555555555555556, \"#d8576b\"], [0.6666666666666666, \"#ed7953\"], [0.7777777777777778, \"#fb9f3a\"], [0.8888888888888888, \"#fdca26\"], [1.0, \"#f0f921\"]], \"type\": \"histogram2dcontour\"}], \"mesh3d\": [{\"colorbar\": {\"outlinewidth\": 0, \"ticks\": \"\"}, \"type\": \"mesh3d\"}], \"parcoords\": [{\"line\": {\"colorbar\": {\"outlinewidth\": 0, \"ticks\": \"\"}}, \"type\": \"parcoords\"}], \"pie\": [{\"automargin\": true, \"type\": \"pie\"}], \"scatter\": [{\"marker\": {\"colorbar\": {\"outlinewidth\": 0, \"ticks\": \"\"}}, \"type\": \"scatter\"}], \"scatter3d\": [{\"line\": {\"colorbar\": {\"outlinewidth\": 0, \"ticks\": \"\"}}, \"marker\": {\"colorbar\": {\"outlinewidth\": 0, \"ticks\": \"\"}}, \"type\": \"scatter3d\"}], \"scattercarpet\": [{\"marker\": {\"colorbar\": {\"outlinewidth\": 0, \"ticks\": \"\"}}, \"type\": \"scattercarpet\"}], \"scattergeo\": [{\"marker\": {\"colorbar\": {\"outlinewidth\": 0, \"ticks\": \"\"}}, \"type\": \"scattergeo\"}], \"scattergl\": [{\"marker\": {\"colorbar\": {\"outlinewidth\": 0, \"ticks\": \"\"}}, \"type\": \"scattergl\"}], \"scattermapbox\": [{\"marker\": {\"colorbar\": {\"outlinewidth\": 0, \"ticks\": \"\"}}, \"type\": \"scattermapbox\"}], \"scatterpolar\": [{\"marker\": {\"colorbar\": {\"outlinewidth\": 0, \"ticks\": \"\"}}, \"type\": \"scatterpolar\"}], \"scatterpolargl\": [{\"marker\": {\"colorbar\": {\"outlinewidth\": 0, \"ticks\": \"\"}}, \"type\": \"scatterpolargl\"}], \"scatterternary\": [{\"marker\": {\"colorbar\": {\"outlinewidth\": 0, \"ticks\": \"\"}}, \"type\": \"scatterternary\"}], \"surface\": [{\"colorbar\": {\"outlinewidth\": 0, \"ticks\": \"\"}, \"colorscale\": [[0.0, \"#0d0887\"], [0.1111111111111111, \"#46039f\"], [0.2222222222222222, \"#7201a8\"], [0.3333333333333333, \"#9c179e\"], [0.4444444444444444, \"#bd3786\"], [0.5555555555555556, \"#d8576b\"], [0.6666666666666666, \"#ed7953\"], [0.7777777777777778, \"#fb9f3a\"], [0.8888888888888888, \"#fdca26\"], [1.0, \"#f0f921\"]], \"type\": \"surface\"}], \"table\": [{\"cells\": {\"fill\": {\"color\": \"#EBF0F8\"}, \"line\": {\"color\": \"white\"}}, \"header\": {\"fill\": {\"color\": \"#C8D4E3\"}, \"line\": {\"color\": \"white\"}}, \"type\": \"table\"}]}, \"layout\": {\"annotationdefaults\": {\"arrowcolor\": \"#2a3f5f\", \"arrowhead\": 0, \"arrowwidth\": 1}, \"coloraxis\": {\"colorbar\": {\"outlinewidth\": 0, \"ticks\": \"\"}}, \"colorscale\": {\"diverging\": [[0, \"#8e0152\"], [0.1, \"#c51b7d\"], [0.2, \"#de77ae\"], [0.3, \"#f1b6da\"], [0.4, \"#fde0ef\"], [0.5, \"#f7f7f7\"], [0.6, \"#e6f5d0\"], [0.7, \"#b8e186\"], [0.8, \"#7fbc41\"], [0.9, \"#4d9221\"], [1, \"#276419\"]], \"sequential\": [[0.0, \"#0d0887\"], [0.1111111111111111, \"#46039f\"], [0.2222222222222222, \"#7201a8\"], [0.3333333333333333, \"#9c179e\"], [0.4444444444444444, \"#bd3786\"], [0.5555555555555556, \"#d8576b\"], [0.6666666666666666, \"#ed7953\"], [0.7777777777777778, \"#fb9f3a\"], [0.8888888888888888, \"#fdca26\"], [1.0, \"#f0f921\"]], \"sequentialminus\": [[0.0, \"#0d0887\"], [0.1111111111111111, \"#46039f\"], [0.2222222222222222, \"#7201a8\"], [0.3333333333333333, \"#9c179e\"], [0.4444444444444444, \"#bd3786\"], [0.5555555555555556, \"#d8576b\"], [0.6666666666666666, \"#ed7953\"], [0.7777777777777778, \"#fb9f3a\"], [0.8888888888888888, \"#fdca26\"], [1.0, \"#f0f921\"]]}, \"colorway\": [\"#636efa\", \"#EF553B\", \"#00cc96\", \"#ab63fa\", \"#FFA15A\", \"#19d3f3\", \"#FF6692\", \"#B6E880\", \"#FF97FF\", \"#FECB52\"], \"font\": {\"color\": \"#2a3f5f\"}, \"geo\": {\"bgcolor\": \"white\", \"lakecolor\": \"white\", \"landcolor\": \"#E5ECF6\", \"showlakes\": true, \"showland\": true, \"subunitcolor\": \"white\"}, \"hoverlabel\": {\"align\": \"left\"}, \"hovermode\": \"closest\", \"mapbox\": {\"style\": \"light\"}, \"paper_bgcolor\": \"white\", \"plot_bgcolor\": \"#E5ECF6\", \"polar\": {\"angularaxis\": {\"gridcolor\": \"white\", \"linecolor\": \"white\", \"ticks\": \"\"}, \"bgcolor\": \"#E5ECF6\", \"radialaxis\": {\"gridcolor\": \"white\", \"linecolor\": \"white\", \"ticks\": \"\"}}, \"scene\": {\"xaxis\": {\"backgroundcolor\": \"#E5ECF6\", \"gridcolor\": \"white\", \"gridwidth\": 2, \"linecolor\": \"white\", \"showbackground\": true, \"ticks\": \"\", \"zerolinecolor\": \"white\"}, \"yaxis\": {\"backgroundcolor\": \"#E5ECF6\", \"gridcolor\": \"white\", \"gridwidth\": 2, \"linecolor\": \"white\", \"showbackground\": true, \"ticks\": \"\", \"zerolinecolor\": \"white\"}, \"zaxis\": {\"backgroundcolor\": \"#E5ECF6\", \"gridcolor\": \"white\", \"gridwidth\": 2, \"linecolor\": \"white\", \"showbackground\": true, \"ticks\": \"\", \"zerolinecolor\": \"white\"}}, \"shapedefaults\": {\"line\": {\"color\": \"#2a3f5f\"}}, \"ternary\": {\"aaxis\": {\"gridcolor\": \"white\", \"linecolor\": \"white\", \"ticks\": \"\"}, \"baxis\": {\"gridcolor\": \"white\", \"linecolor\": \"white\", \"ticks\": \"\"}, \"bgcolor\": \"#E5ECF6\", \"caxis\": {\"gridcolor\": \"white\", \"linecolor\": \"white\", \"ticks\": \"\"}}, \"title\": {\"x\": 0.05}, \"xaxis\": {\"automargin\": true, \"gridcolor\": \"white\", \"linecolor\": \"white\", \"ticks\": \"\", \"title\": {\"standoff\": 15}, \"zerolinecolor\": \"white\", \"zerolinewidth\": 2}, \"yaxis\": {\"automargin\": true, \"gridcolor\": \"white\", \"linecolor\": \"white\", \"ticks\": \"\", \"title\": {\"standoff\": 15}, \"zerolinecolor\": \"white\", \"zerolinewidth\": 2}}}},\n",
              "                        {\"responsive\": true}\n",
              "                    ).then(function(){\n",
              "                            \n",
              "var gd = document.getElementById('801fb829-5163-4c88-9899-bb7283ab4459');\n",
              "var x = new MutationObserver(function (mutations, observer) {{\n",
              "        var display = window.getComputedStyle(gd).display;\n",
              "        if (!display || display === 'none') {{\n",
              "            console.log([gd, 'removed!']);\n",
              "            Plotly.purge(gd);\n",
              "            observer.disconnect();\n",
              "        }}\n",
              "}});\n",
              "\n",
              "// Listen for the removal of the full notebook cells\n",
              "var notebookContainer = gd.closest('#notebook-container');\n",
              "if (notebookContainer) {{\n",
              "    x.observe(notebookContainer, {childList: true});\n",
              "}}\n",
              "\n",
              "// Listen for the clearing of the current output cell\n",
              "var outputEl = gd.closest('.output');\n",
              "if (outputEl) {{\n",
              "    x.observe(outputEl, {childList: true});\n",
              "}}\n",
              "\n",
              "                        })\n",
              "                };\n",
              "                \n",
              "            </script>\n",
              "        </div>\n",
              "</body>\n",
              "</html>"
            ]
          },
          "metadata": {
            "tags": []
          }
        }
      ]
    },
    {
      "cell_type": "markdown",
      "metadata": {
        "id": "cxiRvLRXw_fK"
      },
      "source": [
        "Dendograma: \n",
        " * Métrica: euclídea.\n",
        " * Distancia entre clústeres *ward*"
      ]
    },
    {
      "cell_type": "code",
      "metadata": {
        "colab": {
          "base_uri": "https://localhost:8080/",
          "height": 450
        },
        "id": "nllVmvSdw_fK",
        "outputId": "39e511f3-ab87-412a-e3a9-28ab19facc88"
      },
      "source": [
        "plt.figure(figsize=(10, 7))\n",
        "plt.title(\"Dendrogram: euclidean-ward-no\")\n",
        "dend = shc.dendrogram(shc.linkage(data_no, method='ward', metric='euclidean'), \n",
        "                      truncate_mode='lastp',  # show only the last p merged clusters\n",
        "                      p = 50)"
      ],
      "execution_count": null,
      "outputs": [
        {
          "output_type": "display_data",
          "data": {
            "image/png": "[encoded data removed]",
            "text/plain": [
              "<Figure size 720x504 with 1 Axes>"
            ]
          },
          "metadata": {
            "tags": [],
            "needs_background": "light"
          }
        }
      ]
    },
    {
      "cell_type": "markdown",
      "metadata": {
        "id": "EQnajYMyw_fq"
      },
      "source": [
        "Dendograma: \n",
        " * Métrica: euclídea.\n",
        " * Distancia entre clústeres *single*"
      ]
    },
    {
      "cell_type": "code",
      "metadata": {
        "colab": {
          "base_uri": "https://localhost:8080/",
          "height": 451
        },
        "id": "xmvcAHeqw_fr",
        "outputId": "288ee491-7111-4ad9-db3f-81f620a1997f"
      },
      "source": [
        "plt.figure(figsize=(10, 7))\n",
        "plt.title(\"Dendrogram: euclidean-single-no\")\n",
        "dend = shc.dendrogram(shc.linkage(data_no, method='single', metric='euclidean'), \n",
        "                      truncate_mode='lastp',  # show only the last p merged clusters\n",
        "                      p = 50)"
      ],
      "execution_count": null,
      "outputs": [
        {
          "output_type": "display_data",
          "data": {
            "image/png": "[encoded data removed]",
            "text/plain": [
              "<Figure size 720x504 with 1 Axes>"
            ]
          },
          "metadata": {
            "tags": [],
            "needs_background": "light"
          }
        }
      ]
    },
    {
      "cell_type": "markdown",
      "metadata": {
        "id": "3Q9ci1D2w_fr"
      },
      "source": [
        "Dendograma: \n",
        " * Métrica: euclídea.\n",
        " * Distancia entre clústeres *centroid*"
      ]
    },
    {
      "cell_type": "code",
      "metadata": {
        "colab": {
          "base_uri": "https://localhost:8080/",
          "height": 451
        },
        "id": "tWjgIVamw_fr",
        "outputId": "92941bb5-0dc9-4b89-f1bf-3a92ee27830b"
      },
      "source": [
        "plt.figure(figsize=(10, 7))\n",
        "plt.title(\"Dendrogram: euclidean-centroid-no\")\n",
        "dend = shc.dendrogram(shc.linkage(data_no, method='centroid', metric='euclidean'), \n",
        "                      truncate_mode='lastp',  # show only the last p merged clusters\n",
        "                      p = 50)"
      ],
      "execution_count": null,
      "outputs": [
        {
          "output_type": "display_data",
          "data": {
            "image/png": "[encoded data removed]",
            "text/plain": [
              "<Figure size 720x504 with 1 Axes>"
            ]
          },
          "metadata": {
            "tags": [],
            "needs_background": "light"
          }
        }
      ]
    },
    {
      "cell_type": "markdown",
      "metadata": {
        "id": "1qPZXRZGw_fs"
      },
      "source": [
        "Dendograma: \n",
        " * Métrica: euclídea.\n",
        " * Distancia entre clústeres *complete*"
      ]
    },
    {
      "cell_type": "code",
      "metadata": {
        "colab": {
          "base_uri": "https://localhost:8080/",
          "height": 450
        },
        "id": "ShCljWl2w_fs",
        "outputId": "4020e917-d8a2-456f-e275-3d7973c5756a"
      },
      "source": [
        "plt.figure(figsize=(10, 7))\n",
        "plt.title(\"Dendrogram: euclidean-complete-no\")\n",
        "dend = shc.dendrogram(shc.linkage(data_no, method='complete', metric='euclidean'), \n",
        "                      truncate_mode='lastp',  # show only the last p merged clusters\n",
        "                      p = 50)"
      ],
      "execution_count": null,
      "outputs": [
        {
          "output_type": "display_data",
          "data": {
            "image/png": "[encoded data removed]",
            "text/plain": [
              "<Figure size 720x504 with 1 Axes>"
            ]
          },
          "metadata": {
            "tags": [],
            "needs_background": "light"
          }
        }
      ]
    },
    {
      "cell_type": "markdown",
      "metadata": {
        "id": "TOrH73-A0RtQ"
      },
      "source": [
        "### K-medias\n",
        "\n",
        "Primero, normalizaomos los datos"
      ]
    },
    {
      "cell_type": "code",
      "metadata": {
        "colab": {
          "base_uri": "https://localhost:8080/",
          "height": 204
        },
        "id": "uKJ636V4Np3f",
        "outputId": "9d2119ca-7931-4f83-a226-ca1540c91721"
      },
      "source": [
        "from sklearn import preprocessing\n",
        "\n",
        "x = data_no.values #returns a numpy array\n",
        "min_max_scaler = preprocessing.MinMaxScaler()\n",
        "x_scaled = min_max_scaler.fit_transform(x)\n",
        "data_norm = pd.DataFrame(x_scaled)\n",
        "data_norm.head()"
      ],
      "execution_count": null,
      "outputs": [
        {
          "output_type": "execute_result",
          "data": {
            "text/html": [
              "<div>\n",
              "<style scoped>\n",
              "    .dataframe tbody tr th:only-of-type {\n",
              "        vertical-align: middle;\n",
              "    }\n",
              "\n",
              "    .dataframe tbody tr th {\n",
              "        vertical-align: top;\n",
              "    }\n",
              "\n",
              "    .dataframe thead th {\n",
              "        text-align: right;\n",
              "    }\n",
              "</style>\n",
              "<table border=\"1\" class=\"dataframe\">\n",
              "  <thead>\n",
              "    <tr style=\"text-align: right;\">\n",
              "      <th></th>\n",
              "      <th>0</th>\n",
              "      <th>1</th>\n",
              "      <th>2</th>\n",
              "      <th>3</th>\n",
              "      <th>4</th>\n",
              "      <th>5</th>\n",
              "      <th>6</th>\n",
              "      <th>7</th>\n",
              "      <th>8</th>\n",
              "      <th>9</th>\n",
              "      <th>10</th>\n",
              "      <th>11</th>\n",
              "      <th>12</th>\n",
              "    </tr>\n",
              "  </thead>\n",
              "  <tbody>\n",
              "    <tr>\n",
              "      <th>0</th>\n",
              "      <td>0.842105</td>\n",
              "      <td>0.191700</td>\n",
              "      <td>0.572193</td>\n",
              "      <td>0.279330</td>\n",
              "      <td>0.982759</td>\n",
              "      <td>0.716535</td>\n",
              "      <td>0.573840</td>\n",
              "      <td>0.283019</td>\n",
              "      <td>0.593060</td>\n",
              "      <td>0.372014</td>\n",
              "      <td>0.455285</td>\n",
              "      <td>0.970696</td>\n",
              "      <td>0.754509</td>\n",
              "    </tr>\n",
              "    <tr>\n",
              "      <th>1</th>\n",
              "      <td>0.571053</td>\n",
              "      <td>0.205534</td>\n",
              "      <td>0.417112</td>\n",
              "      <td>0.033520</td>\n",
              "      <td>0.517241</td>\n",
              "      <td>0.657480</td>\n",
              "      <td>0.510549</td>\n",
              "      <td>0.245283</td>\n",
              "      <td>0.274448</td>\n",
              "      <td>0.264505</td>\n",
              "      <td>0.463415</td>\n",
              "      <td>0.780220</td>\n",
              "      <td>0.739479</td>\n",
              "    </tr>\n",
              "    <tr>\n",
              "      <th>2</th>\n",
              "      <td>0.581579</td>\n",
              "      <td>0.365613</td>\n",
              "      <td>0.807487</td>\n",
              "      <td>0.581006</td>\n",
              "      <td>0.827586</td>\n",
              "      <td>0.716535</td>\n",
              "      <td>0.495781</td>\n",
              "      <td>0.490566</td>\n",
              "      <td>0.444795</td>\n",
              "      <td>0.259386</td>\n",
              "      <td>0.455285</td>\n",
              "      <td>0.608059</td>\n",
              "      <td>0.423848</td>\n",
              "    </tr>\n",
              "    <tr>\n",
              "      <th>3</th>\n",
              "      <td>0.884211</td>\n",
              "      <td>0.223320</td>\n",
              "      <td>0.582888</td>\n",
              "      <td>0.223464</td>\n",
              "      <td>0.448276</td>\n",
              "      <td>0.598425</td>\n",
              "      <td>0.459916</td>\n",
              "      <td>0.320755</td>\n",
              "      <td>0.495268</td>\n",
              "      <td>0.338737</td>\n",
              "      <td>0.439024</td>\n",
              "      <td>0.846154</td>\n",
              "      <td>0.979960</td>\n",
              "    </tr>\n",
              "    <tr>\n",
              "      <th>4</th>\n",
              "      <td>0.797368</td>\n",
              "      <td>0.278656</td>\n",
              "      <td>0.668449</td>\n",
              "      <td>0.391061</td>\n",
              "      <td>0.879310</td>\n",
              "      <td>0.637795</td>\n",
              "      <td>0.457806</td>\n",
              "      <td>0.339623</td>\n",
              "      <td>0.264984</td>\n",
              "      <td>0.321672</td>\n",
              "      <td>0.471545</td>\n",
              "      <td>0.846154</td>\n",
              "      <td>0.984970</td>\n",
              "    </tr>\n",
              "  </tbody>\n",
              "</table>\n",
              "</div>"
            ],
            "text/plain": [
              "         0         1         2   ...        10        11        12\n",
              "0  0.842105  0.191700  0.572193  ...  0.455285  0.970696  0.754509\n",
              "1  0.571053  0.205534  0.417112  ...  0.463415  0.780220  0.739479\n",
              "2  0.581579  0.365613  0.807487  ...  0.455285  0.608059  0.423848\n",
              "3  0.884211  0.223320  0.582888  ...  0.439024  0.846154  0.979960\n",
              "4  0.797368  0.278656  0.668449  ...  0.471545  0.846154  0.984970\n",
              "\n",
              "[5 rows x 13 columns]"
            ]
          },
          "metadata": {
            "tags": []
          },
          "execution_count": 20
        }
      ]
    },
    {
      "cell_type": "code",
      "metadata": {
        "id": "bfH8Emz12CXb"
      },
      "source": [
        "from sklearn.cluster import KMeans"
      ],
      "execution_count": null,
      "outputs": []
    },
    {
      "cell_type": "code",
      "metadata": {
        "id": "M2D4Y_ebwVal"
      },
      "source": [
        "kmeans_kwargs = {\n",
        "    \"init\": \"random\",\n",
        "    \"n_init\": 6,\n",
        "    \"max_iter\": 300,\n",
        "    \"random_state\": seed,\n",
        "}\n",
        "\n",
        "# A list holds the SSE values for each k\n",
        "sse = []\n",
        "for k in range(1, 7):\n",
        "    kmeans = KMeans(n_clusters=k, **kmeans_kwargs)\n",
        "    kmeans.fit(data_norm)\n",
        "    sse.append(kmeans.inertia_)"
      ],
      "execution_count": null,
      "outputs": []
    },
    {
      "cell_type": "code",
      "metadata": {
        "colab": {
          "base_uri": "https://localhost:8080/",
          "height": 304
        },
        "id": "4pT0PcMU2dww",
        "outputId": "29ddac4f-7ab0-4ef1-ca9e-d36a679dc592"
      },
      "source": [
        " plt.style.use(\"fivethirtyeight\")\n",
        " plt.plot(range(1, 7), sse)\n",
        " plt.xticks(range(1, 7))\n",
        " plt.xlabel(\"Number of Clusters\")\n",
        " plt.ylabel(\"SSE\")\n",
        " plt.show()"
      ],
      "execution_count": null,
      "outputs": [
        {
          "output_type": "display_data",
          "data": {
            "image/png": "[encoded data removed]",
            "text/plain": [
              "<Figure size 432x288 with 1 Axes>"
            ]
          },
          "metadata": {
            "tags": []
          }
        }
      ]
    },
    {
      "cell_type": "markdown",
      "metadata": {
        "id": "3KB_HiDKujiQ"
      },
      "source": [
        "Usmaos `kneed` para detectar automáticamente el *codo*"
      ]
    },
    {
      "cell_type": "code",
      "metadata": {
        "colab": {
          "base_uri": "https://localhost:8080/"
        },
        "id": "qIk7CSzGuXyJ",
        "outputId": "2c47fd6c-0e01-48f9-b708-7bd8db05a0a1"
      },
      "source": [
        "pip install kneed"
      ],
      "execution_count": null,
      "outputs": [
        {
          "output_type": "stream",
          "text": [
            "Requirement already satisfied: kneed in /usr/local/lib/python3.6/dist-packages (0.7.0)\n",
            "Requirement already satisfied: scipy in /usr/local/lib/python3.6/dist-packages (from kneed) (1.4.1)\n",
            "Requirement already satisfied: matplotlib in /usr/local/lib/python3.6/dist-packages (from kneed) (3.2.2)\n",
            "Requirement already satisfied: numpy>=1.14.2 in /usr/local/lib/python3.6/dist-packages (from kneed) (1.18.5)\n",
            "Requirement already satisfied: python-dateutil>=2.1 in /usr/local/lib/python3.6/dist-packages (from matplotlib->kneed) (2.8.1)\n",
            "Requirement already satisfied: cycler>=0.10 in /usr/local/lib/python3.6/dist-packages (from matplotlib->kneed) (0.10.0)\n",
            "Requirement already satisfied: kiwisolver>=1.0.1 in /usr/local/lib/python3.6/dist-packages (from matplotlib->kneed) (1.3.1)\n",
            "Requirement already satisfied: pyparsing!=2.0.4,!=2.1.2,!=2.1.6,>=2.0.1 in /usr/local/lib/python3.6/dist-packages (from matplotlib->kneed) (2.4.7)\n",
            "Requirement already satisfied: six>=1.5 in /usr/local/lib/python3.6/dist-packages (from python-dateutil>=2.1->matplotlib->kneed) (1.15.0)\n"
          ],
          "name": "stdout"
        }
      ]
    },
    {
      "cell_type": "code",
      "metadata": {
        "colab": {
          "base_uri": "https://localhost:8080/"
        },
        "id": "hwczaFzYuKQt",
        "outputId": "919f25bf-3cad-4a20-8dfd-e9bc5d4a6e70"
      },
      "source": [
        "from kneed import KneeLocator\n",
        "kl = KneeLocator(range(1, 7), sse, curve=\"convex\", direction=\"decreasing\")\n",
        "kl.elbow"
      ],
      "execution_count": null,
      "outputs": [
        {
          "output_type": "execute_result",
          "data": {
            "text/plain": [
              "3"
            ]
          },
          "metadata": {
            "tags": []
          },
          "execution_count": 25
        }
      ]
    },
    {
      "cell_type": "markdown",
      "metadata": {
        "id": "9dbARdo-u1oD"
      },
      "source": [
        "Usamos también el coeficiente de silueta"
      ]
    },
    {
      "cell_type": "code",
      "metadata": {
        "id": "POlBTBiqu4El"
      },
      "source": [
        "from sklearn.metrics import silhouette_score\n",
        "\n",
        "silhouette_coefficients = []\n",
        "\n",
        "for k in range(2, 7):\n",
        "  kmeans = KMeans(n_clusters=k, **kmeans_kwargs)\n",
        "  kmeans.fit(data_norm)\n",
        "  score = silhouette_score(data_norm, kmeans.labels_)\n",
        "  silhouette_coefficients.append(score)"
      ],
      "execution_count": null,
      "outputs": []
    },
    {
      "cell_type": "code",
      "metadata": {
        "colab": {
          "base_uri": "https://localhost:8080/",
          "height": 304
        },
        "id": "uMQ7qa4bvUFR",
        "outputId": "1ca60401-c4c1-4244-d6df-dc4854454570"
      },
      "source": [
        "plt.style.use(\"fivethirtyeight\")\n",
        "plt.plot(range(2, 7), silhouette_coefficients)\n",
        "plt.xticks(range(2, 7))\n",
        "plt.xlabel(\"Number of Clusters\")\n",
        "plt.ylabel(\"Silhouette Coefficient\")\n",
        "plt.show()"
      ],
      "execution_count": null,
      "outputs": [
        {
          "output_type": "display_data",
          "data": {
            "image/png": "[encoded data removed]",
            "text/plain": [
              "<Figure size 432x288 with 1 Axes>"
            ]
          },
          "metadata": {
            "tags": []
          }
        }
      ]
    },
    {
      "cell_type": "code",
      "metadata": {
        "colab": {
          "base_uri": "https://localhost:8080/"
        },
        "id": "5M8QHWDJ-oAO",
        "outputId": "221d501e-4e78-4b35-9eaa-3295dd4393cc"
      },
      "source": [
        "kmeans_kwargs = {\n",
        "    \"init\": \"random\",\n",
        "    \"n_init\": 6,\n",
        "    \"max_iter\": 300,\n",
        "    \"random_state\": seed,\n",
        "}\n",
        "kmeans = KMeans(n_clusters=3, **kmeans_kwargs)\n",
        "kmeans.fit(data_norm)"
      ],
      "execution_count": null,
      "outputs": [
        {
          "output_type": "execute_result",
          "data": {
            "text/plain": [
              "KMeans(algorithm='auto', copy_x=True, init='random', max_iter=300, n_clusters=3,\n",
              "       n_init=6, n_jobs=None, precompute_distances='auto', random_state=75,\n",
              "       tol=0.0001, verbose=0)"
            ]
          },
          "metadata": {
            "tags": []
          },
          "execution_count": 28
        }
      ]
    },
    {
      "cell_type": "markdown",
      "metadata": {
        "id": "p0A1sgoWzrG6"
      },
      "source": [
        "No tienen que coincidir las asignaciones con las verdaderas, por lo que tenemos que hacer la correspondencia manualmente"
      ]
    },
    {
      "cell_type": "code",
      "metadata": {
        "id": "VSxVEigIyWH7"
      },
      "source": [
        "labels_intercambio = kmeans.labels_.copy()\n",
        "labels_intercambio = labels_intercambio + 1 \n",
        "\n",
        "labels_intercambio[ labels_intercambio == 1] = 4\n",
        "labels_intercambio[ labels_intercambio == 3] = 1\n",
        "labels_intercambio[ labels_intercambio == 4] = 3"
      ],
      "execution_count": null,
      "outputs": []
    },
    {
      "cell_type": "code",
      "metadata": {
        "colab": {
          "base_uri": "https://localhost:8080/",
          "height": 542
        },
        "id": "Pt2MTNH3d4jt",
        "outputId": "967f137e-fc9d-4fba-db2a-b114247b2c6b"
      },
      "source": [
        "fig = px.scatter_3d(data_tsne_no, x=0, y=1, z=2,\n",
        "              color=labels_intercambio, size=[0.1 for i in range(148)], symbol=labels_intercambio)\n",
        "fig.show()"
      ],
      "execution_count": null,
      "outputs": [
        {
          "output_type": "display_data",
          "data": {
            "text/html": [
              "<html>\n",
              "<head><meta charset=\"utf-8\" /></head>\n",
              "<body>\n",
              "    <div>\n",
              "            <script src=\"https://cdnjs.cloudflare.com/ajax/libs/mathjax/2.7.5/MathJax.js?config=TeX-AMS-MML_SVG\"></script><script type=\"text/javascript\">if (window.MathJax) {MathJax.Hub.Config({SVG: {font: \"STIX-Web\"}});}</script>\n",
              "                <script type=\"text/javascript\">window.PlotlyConfig = {MathJaxConfig: 'local'};</script>\n",
              "        <script src=\"https://cdn.plot.ly/plotly-latest.min.js\"></script>    \n",
              "            <div id=\"b1043351-f46f-4874-a02a-fdf044aa5187\" class=\"plotly-graph-div\" style=\"height:525px; width:100%;\"></div>\n",
              "            <script type=\"text/javascript\">\n",
              "                \n",
              "                    window.PLOTLYENV=window.PLOTLYENV || {};\n",
              "                    \n",
              "                if (document.getElementById(\"b1043351-f46f-4874-a02a-fdf044aa5187\")) {\n",
              "                    Plotly.newPlot(\n",
              "                        'b1043351-f46f-4874-a02a-fdf044aa5187',\n",
              "                        [{\"hoverlabel\": {\"namelength\": 0}, \"hovertemplate\": \"symbol=1<br>0=%{x}<br>1=%{y}<br>2=%{z}<br>size=%{marker.size}<br>color=%{marker.color}\", \"legendgroup\": \"symbol=1\", \"marker\": {\"color\": [1, 1, 1, 1, 1, 1, 1, 1, 1, 1, 1, 1, 1, 1, 1, 1, 1, 1, 1, 1, 1, 1, 1, 1, 1, 1, 1, 1, 1, 1, 1, 1, 1, 1, 1, 1, 1, 1, 1], \"coloraxis\": \"coloraxis\", \"size\": [0.1, 0.1, 0.1, 0.1, 0.1, 0.1, 0.1, 0.1, 0.1, 0.1, 0.1, 0.1, 0.1, 0.1, 0.1, 0.1, 0.1, 0.1, 0.1, 0.1, 0.1, 0.1, 0.1, 0.1, 0.1, 0.1, 0.1, 0.1, 0.1, 0.1, 0.1, 0.1, 0.1, 0.1, 0.1, 0.1, 0.1, 0.1, 0.1], \"sizemode\": \"area\", \"sizeref\": 0.00025, \"symbol\": \"circle\"}, \"mode\": \"markers\", \"name\": \"symbol=1\", \"scene\": \"scene\", \"showlegend\": true, \"type\": \"scatter3d\", \"x\": [80.54785919189453, 43.00130081176758, 5.404175758361816, 139.9099884033203, 126.22264099121094, 69.45803833007812, 30.350421905517578, 130.56976318359375, 168.06777954101562, 157.7893829345703, 10.663302421569824, 77.92527770996094, 98.9842758178711, 68.6832275390625, 20.78907585144043, 65.34273529052734, 122.34588623046875, 92.96034240722656, 159.78021240234375, 56.25621795654297, 38.1205940246582, 51.670372009277344, 89.01399993896484, 78.94425201416016, -9.772010803222656, 77.36827087402344, 0.3856886923313141, 22.717082977294922, 19.98479652404785, 119.69538879394531, 92.68626403808594, 64.19465637207031, 94.74568939208984, 133.33990478515625, 94.87886047363281, 29.217741012573242, 132.45306396484375, 161.80328369140625, 74.84941864013672], \"y\": [104.82971954345703, -73.48065185546875, -60.07997131347656, -72.8401870727539, -128.53988647460938, -63.88763427734375, -39.783729553222656, -106.91202545166016, -105.74626922607422, -75.94029998779297, -172.17880249023438, -69.49774932861328, 74.57039642333984, -145.8490447998047, -130.63412475585938, -138.8506622314453, -90.73004913330078, -48.70132827758789, -48.09622573852539, -76.41864013671875, -119.87760162353516, -169.9443359375, -21.56580352783203, -101.59664154052734, -104.02488708496094, -108.07940673828125, -94.59972381591797, 2.7243189811706543, -149.51510620117188, -29.899747848510742, -55.1101188659668, -33.6881103515625, -114.69754028320312, -109.21590423583984, -68.5898666381836, -90.9439697265625, -137.33021545410156, -110.07881164550781, -100.74897766113281], \"z\": [-49.54701232910156, -88.11294555664062, -44.26899719238281, 1.6305454969406128, -6.656826019287109, -133.3470001220703, -119.32972717285156, 54.775421142578125, -29.96824836730957, -68.53903198242188, 29.817562103271484, 57.03670883178711, -93.38016510009766, -66.47209167480469, 21.991317749023438, 40.94167709350586, -36.95947265625, -50.29766082763672, -31.18465232849121, -42.78479766845703, -90.7330322265625, 8.241275787353516, -122.81188201904297, -68.35366821289062, -35.51622772216797, -116.16531372070312, -95.83984375, 23.822132110595703, -22.168149948120117, -86.02499389648438, 112.78498077392578, -84.3729248046875, 93.25088500976562, -89.47599792480469, -95.24856567382812, -134.7269744873047, -51.846519470214844, 18.67884635925293, 9.86679458618164]}, {\"hoverlabel\": {\"namelength\": 0}, \"hovertemplate\": \"symbol=2<br>0=%{x}<br>1=%{y}<br>2=%{z}<br>size=%{marker.size}<br>color=%{marker.color}\", \"legendgroup\": \"symbol=2\", \"marker\": {\"color\": [2, 2, 2, 2, 2, 2, 2, 2, 2, 2, 2, 2, 2, 2, 2, 2, 2, 2, 2, 2, 2, 2, 2, 2, 2, 2, 2, 2, 2, 2, 2, 2, 2, 2, 2, 2, 2, 2, 2, 2, 2, 2, 2, 2, 2, 2, 2, 2, 2, 2, 2, 2, 2, 2, 2, 2, 2], \"coloraxis\": \"coloraxis\", \"size\": [0.1, 0.1, 0.1, 0.1, 0.1, 0.1, 0.1, 0.1, 0.1, 0.1, 0.1, 0.1, 0.1, 0.1, 0.1, 0.1, 0.1, 0.1, 0.1, 0.1, 0.1, 0.1, 0.1, 0.1, 0.1, 0.1, 0.1, 0.1, 0.1, 0.1, 0.1, 0.1, 0.1, 0.1, 0.1, 0.1, 0.1, 0.1, 0.1, 0.1, 0.1, 0.1, 0.1, 0.1, 0.1, 0.1, 0.1, 0.1, 0.1, 0.1, 0.1, 0.1, 0.1, 0.1, 0.1, 0.1, 0.1], \"sizemode\": \"area\", \"sizeref\": 0.00025, \"symbol\": \"diamond\"}, \"mode\": \"markers\", \"name\": \"symbol=2\", \"scene\": \"scene\", \"showlegend\": true, \"type\": \"scatter3d\", \"x\": [-77.05023193359375, 10.499612808227539, -46.80424118041992, -105.07771301269531, -6.7136101722717285, -81.67974090576172, -71.76583099365234, -17.823514938354492, -33.31385040283203, -21.782548904418945, -94.05326843261719, -51.185489654541016, -69.52680206298828, -49.27138137817383, 128.77381896972656, -9.321002006530762, -106.1280288696289, -7.644183158874512, 68.25950622558594, -109.11455535888672, -118.60514831542969, -52.938297271728516, -0.7121583223342896, -48.074527740478516, -133.20753479003906, -8.435002326965332, 49.04421615600586, -56.47062683105469, -22.341880798339844, 52.88718795776367, 123.17604064941406, 13.224584579467773, -30.078941345214844, -152.0491180419922, 20.38992691040039, -13.283729553222656, -174.51919555664062, 10.10390853881836, -126.77468872070312, -113.86461639404297, 100.9723892211914, -52.644630432128906, -90.73886108398438, -62.9007682800293, -93.6100082397461, -155.91908264160156, -72.78301239013672, -120.60810089111328, -64.13571166992188, -140.47828674316406, -93.07874298095703, -96.44708251953125, -112.70033264160156, -151.83929443359375, -18.85615348815918, -122.30876922607422, 56.15445327758789], \"y\": [-1.6948738098144531, 29.62383460998535, 125.51769256591797, -101.8324966430664, -69.03742980957031, 25.8658390045166, 25.009634017944336, 166.86752319335938, 47.09940719604492, 111.42302703857422, 158.83651733398438, 50.493019104003906, 47.19268035888672, -90.65797424316406, 60.41059875488281, 47.10641860961914, -32.45615768432617, 52.42283630371094, 26.43662452697754, 7.656752109527588, -1.6541359424591064, 72.36664581298828, 119.12268829345703, 92.47342681884766, 97.69229125976562, 130.25616455078125, -14.070971488952637, 132.66368103027344, -5.991026878356934, 10.114691734313965, 62.34795379638672, -163.50205993652344, -48.938053131103516, 45.08500671386719, 83.68656921386719, 92.40604400634766, 85.73272705078125, -27.20561408996582, -9.31278133392334, 60.314781188964844, 50.070030212402344, 127.08212280273438, 114.90882873535156, 167.88502502441406, 55.9848747253418, 78.24150085449219, -46.59637451171875, -47.82277297973633, 59.72718048095703, 123.76419830322266, -101.97301483154297, 139.1361083984375, 159.81527709960938, 135.51231384277344, 56.94319534301758, 76.68521118164062, 44.78095626831055], \"z\": [62.145992279052734, 160.5139923095703, -22.886789321899414, 47.61178207397461, 16.295866012573242, 97.4764175415039, 25.796358108520508, -17.37148666381836, -16.62326431274414, -84.71488952636719, 29.057178497314453, 142.82342529296875, -41.581382751464844, -7.261695861816406, -16.19205665588379, 69.17082977294922, -99.32742309570312, 22.517627716064453, 87.21218872070312, 144.78440856933594, -52.55727767944336, 14.4669828414917, -2.312716007232666, 63.713172912597656, -10.734930038452148, -48.2251091003418, -29.359506607055664, 22.36258316040039, -33.4729118347168, 125.91961669921875, 78.55268096923828, -127.52595520019531, 59.212989807128906, -20.23868751525879, 66.00209045410156, 36.80313491821289, -27.51862907409668, -7.914094924926758, 32.94544219970703, 1.2100114822387695, 24.642362594604492, -113.44444274902344, -10.430373191833496, -8.118446350097656, 60.929805755615234, 24.956483840942383, 95.95133209228516, -32.110084533691406, -87.94377136230469, -49.180606842041016, -62.583187103271484, -49.51233673095703, -14.057292938232422, 2.3002498149871826, -63.63241195678711, -49.88753890991211, 47.47413635253906]}, {\"hoverlabel\": {\"namelength\": 0}, \"hovertemplate\": \"symbol=3<br>0=%{x}<br>1=%{y}<br>2=%{z}<br>size=%{marker.size}<br>color=%{marker.color}\", \"legendgroup\": \"symbol=3\", \"marker\": {\"color\": [3, 3, 3, 3, 3, 3, 3, 3, 3, 3, 3, 3, 3, 3, 3, 3, 3, 3, 3, 3, 3, 3, 3, 3, 3, 3, 3, 3, 3, 3, 3, 3, 3, 3, 3, 3, 3, 3, 3, 3, 3, 3, 3, 3, 3, 3, 3, 3, 3, 3, 3, 3], \"coloraxis\": \"coloraxis\", \"size\": [0.1, 0.1, 0.1, 0.1, 0.1, 0.1, 0.1, 0.1, 0.1, 0.1, 0.1, 0.1, 0.1, 0.1, 0.1, 0.1, 0.1, 0.1, 0.1, 0.1, 0.1, 0.1, 0.1, 0.1, 0.1, 0.1, 0.1, 0.1, 0.1, 0.1, 0.1, 0.1, 0.1, 0.1, 0.1, 0.1, 0.1, 0.1, 0.1, 0.1, 0.1, 0.1, 0.1, 0.1, 0.1, 0.1, 0.1, 0.1, 0.1, 0.1, 0.1, 0.1], \"sizemode\": \"area\", \"sizeref\": 0.00025, \"symbol\": \"square\"}, \"mode\": \"markers\", \"name\": \"symbol=3\", \"scene\": \"scene\", \"showlegend\": true, \"type\": \"scatter3d\", \"x\": [-48.94105529785156, -46.339622497558594, -88.20191192626953, 32.734371185302734, -28.581090927124023, -114.11862182617188, -95.54389953613281, 38.84433364868164, -122.68761444091797, 95.92972564697266, -53.596527099609375, 13.920418739318848, 31.064693450927734, -54.914424896240234, 55.88509750366211, -62.09099578857422, 77.20990753173828, -13.319252967834473, 15.811245918273926, 66.39190673828125, 22.865760803222656, -50.107574462890625, 111.95249938964844, 66.14496612548828, 24.791011810302734, 3.0876145362854004, -73.89654541015625, 42.22438430786133, -47.94509506225586, -9.824477195739746, -51.90302276611328, 61.502296447753906, -0.864130973815918, 32.86442184448242, -38.16818618774414, 41.59294891357422, -26.594581604003906, 12.025805473327637, 52.2226676940918, -23.318614959716797, -27.73138427734375, -26.905879974365234, -39.0992317199707, -79.43042755126953, -50.381778717041016, -34.92317199707031, 20.305904388427734, 99.05351257324219, 96.76225280761719, 40.68997573852539, -19.113386154174805, 11.314996719360352], \"y\": [-56.91891098022461, 87.37008666992188, 109.68831634521484, -101.94652557373047, 16.7493896484375, 114.26012420654297, -58.918643951416016, 80.33224487304688, -22.190706253051758, 29.43677520751953, -33.691131591796875, -62.54091262817383, 54.97213363647461, 61.7005500793457, 78.23871612548828, 2.0586297512054443, 49.365142822265625, 73.97602081298828, 5.492475986480713, 144.71360778808594, -139.94888305664062, 157.1536865234375, 13.170806884765625, 2.0670692920684814, 41.374568939208984, 76.11412811279297, 107.48231506347656, -28.137737274169922, -55.862911224365234, -24.521766662597656, -10.99377155303955, -134.17276000976562, -29.75359344482422, 15.899876594543457, 5.676970958709717, -47.6558837890625, 18.54224395751953, 135.539306640625, 51.08602523803711, 27.342479705810547, -46.10356903076172, -92.43589782714844, 126.27018737792969, -19.24298095703125, 47.50519943237305, -93.70613098144531, 18.004505157470703, -18.26899528503418, -43.63045120239258, -100.84162139892578, -141.44557189941406, -16.113725662231445], \"z\": [-49.946319580078125, -45.581905364990234, 120.05977630615234, -4.568948268890381, 39.48908996582031, 31.647523880004883, 6.194519519805908, 115.969970703125, 81.365478515625, -54.72489929199219, 21.084430694580078, 72.4042739868164, -112.03820037841797, 98.51941680908203, 15.22701644897461, -84.98360443115234, -14.270516395568848, 105.89583587646484, 82.35420227050781, 9.239370346069336, 65.9638442993164, -56.796600341796875, -9.609358787536621, 8.46362018585205, 103.94821166992188, -23.893781661987305, -78.07427978515625, 52.22446823120117, -109.76914978027344, -72.98362731933594, 133.2244415283203, -13.280550003051758, 34.752933502197266, -69.85478210449219, 80.159423828125, 11.9146089553833, -122.24613189697266, 88.07887268066406, -49.87213897705078, 110.83613586425781, -13.591157913208008, 50.43970489501953, 129.57681274414062, -22.02400016784668, 59.14958572387695, 116.62660217285156, -17.47985076904297, 60.851837158203125, 22.13585662841797, 46.06159591674805, 8.038243293762207, 122.66654205322266]}],\n",
              "                        {\"coloraxis\": {\"colorbar\": {\"title\": {\"text\": \"color\"}}, \"colorscale\": [[0.0, \"#0d0887\"], [0.1111111111111111, \"#46039f\"], [0.2222222222222222, \"#7201a8\"], [0.3333333333333333, \"#9c179e\"], [0.4444444444444444, \"#bd3786\"], [0.5555555555555556, \"#d8576b\"], [0.6666666666666666, \"#ed7953\"], [0.7777777777777778, \"#fb9f3a\"], [0.8888888888888888, \"#fdca26\"], [1.0, \"#f0f921\"]]}, \"legend\": {\"itemsizing\": \"constant\", \"tracegroupgap\": 0}, \"margin\": {\"t\": 60}, \"scene\": {\"domain\": {\"x\": [0.0, 1.0], \"y\": [0.0, 1.0]}, \"xaxis\": {\"title\": {\"text\": \"0\"}}, \"yaxis\": {\"title\": {\"text\": \"1\"}}, \"zaxis\": {\"title\": {\"text\": \"2\"}}}, \"template\": {\"data\": {\"bar\": [{\"error_x\": {\"color\": \"#2a3f5f\"}, \"error_y\": {\"color\": \"#2a3f5f\"}, \"marker\": {\"line\": {\"color\": \"#E5ECF6\", \"width\": 0.5}}, \"type\": \"bar\"}], \"barpolar\": [{\"marker\": {\"line\": {\"color\": \"#E5ECF6\", \"width\": 0.5}}, \"type\": \"barpolar\"}], \"carpet\": [{\"aaxis\": {\"endlinecolor\": \"#2a3f5f\", \"gridcolor\": \"white\", \"linecolor\": \"white\", \"minorgridcolor\": \"white\", \"startlinecolor\": \"#2a3f5f\"}, \"baxis\": {\"endlinecolor\": \"#2a3f5f\", \"gridcolor\": \"white\", \"linecolor\": \"white\", \"minorgridcolor\": \"white\", \"startlinecolor\": \"#2a3f5f\"}, \"type\": \"carpet\"}], \"choropleth\": [{\"colorbar\": {\"outlinewidth\": 0, \"ticks\": \"\"}, \"type\": \"choropleth\"}], \"contour\": [{\"colorbar\": {\"outlinewidth\": 0, \"ticks\": \"\"}, \"colorscale\": [[0.0, \"#0d0887\"], [0.1111111111111111, \"#46039f\"], [0.2222222222222222, \"#7201a8\"], [0.3333333333333333, \"#9c179e\"], [0.4444444444444444, \"#bd3786\"], [0.5555555555555556, \"#d8576b\"], [0.6666666666666666, \"#ed7953\"], [0.7777777777777778, \"#fb9f3a\"], [0.8888888888888888, \"#fdca26\"], [1.0, \"#f0f921\"]], \"type\": \"contour\"}], \"contourcarpet\": [{\"colorbar\": {\"outlinewidth\": 0, \"ticks\": \"\"}, \"type\": \"contourcarpet\"}], \"heatmap\": [{\"colorbar\": {\"outlinewidth\": 0, \"ticks\": \"\"}, \"colorscale\": [[0.0, \"#0d0887\"], [0.1111111111111111, \"#46039f\"], [0.2222222222222222, \"#7201a8\"], [0.3333333333333333, \"#9c179e\"], [0.4444444444444444, \"#bd3786\"], [0.5555555555555556, \"#d8576b\"], [0.6666666666666666, \"#ed7953\"], [0.7777777777777778, \"#fb9f3a\"], [0.8888888888888888, \"#fdca26\"], [1.0, \"#f0f921\"]], \"type\": \"heatmap\"}], \"heatmapgl\": [{\"colorbar\": {\"outlinewidth\": 0, \"ticks\": \"\"}, \"colorscale\": [[0.0, \"#0d0887\"], [0.1111111111111111, \"#46039f\"], [0.2222222222222222, \"#7201a8\"], [0.3333333333333333, \"#9c179e\"], [0.4444444444444444, \"#bd3786\"], [0.5555555555555556, \"#d8576b\"], [0.6666666666666666, \"#ed7953\"], [0.7777777777777778, \"#fb9f3a\"], [0.8888888888888888, \"#fdca26\"], [1.0, \"#f0f921\"]], \"type\": \"heatmapgl\"}], \"histogram\": [{\"marker\": {\"colorbar\": {\"outlinewidth\": 0, \"ticks\": \"\"}}, \"type\": \"histogram\"}], \"histogram2d\": [{\"colorbar\": {\"outlinewidth\": 0, \"ticks\": \"\"}, \"colorscale\": [[0.0, \"#0d0887\"], [0.1111111111111111, \"#46039f\"], [0.2222222222222222, \"#7201a8\"], [0.3333333333333333, \"#9c179e\"], [0.4444444444444444, \"#bd3786\"], [0.5555555555555556, \"#d8576b\"], [0.6666666666666666, \"#ed7953\"], [0.7777777777777778, \"#fb9f3a\"], [0.8888888888888888, \"#fdca26\"], [1.0, \"#f0f921\"]], \"type\": \"histogram2d\"}], \"histogram2dcontour\": [{\"colorbar\": {\"outlinewidth\": 0, \"ticks\": \"\"}, \"colorscale\": [[0.0, \"#0d0887\"], [0.1111111111111111, \"#46039f\"], [0.2222222222222222, \"#7201a8\"], [0.3333333333333333, \"#9c179e\"], [0.4444444444444444, \"#bd3786\"], [0.5555555555555556, \"#d8576b\"], [0.6666666666666666, \"#ed7953\"], [0.7777777777777778, \"#fb9f3a\"], [0.8888888888888888, \"#fdca26\"], [1.0, \"#f0f921\"]], \"type\": \"histogram2dcontour\"}], \"mesh3d\": [{\"colorbar\": {\"outlinewidth\": 0, \"ticks\": \"\"}, \"type\": \"mesh3d\"}], \"parcoords\": [{\"line\": {\"colorbar\": {\"outlinewidth\": 0, \"ticks\": \"\"}}, \"type\": \"parcoords\"}], \"pie\": [{\"automargin\": true, \"type\": \"pie\"}], \"scatter\": [{\"marker\": {\"colorbar\": {\"outlinewidth\": 0, \"ticks\": \"\"}}, \"type\": \"scatter\"}], \"scatter3d\": [{\"line\": {\"colorbar\": {\"outlinewidth\": 0, \"ticks\": \"\"}}, \"marker\": {\"colorbar\": {\"outlinewidth\": 0, \"ticks\": \"\"}}, \"type\": \"scatter3d\"}], \"scattercarpet\": [{\"marker\": {\"colorbar\": {\"outlinewidth\": 0, \"ticks\": \"\"}}, \"type\": \"scattercarpet\"}], \"scattergeo\": [{\"marker\": {\"colorbar\": {\"outlinewidth\": 0, \"ticks\": \"\"}}, \"type\": \"scattergeo\"}], \"scattergl\": [{\"marker\": {\"colorbar\": {\"outlinewidth\": 0, \"ticks\": \"\"}}, \"type\": \"scattergl\"}], \"scattermapbox\": [{\"marker\": {\"colorbar\": {\"outlinewidth\": 0, \"ticks\": \"\"}}, \"type\": \"scattermapbox\"}], \"scatterpolar\": [{\"marker\": {\"colorbar\": {\"outlinewidth\": 0, \"ticks\": \"\"}}, \"type\": \"scatterpolar\"}], \"scatterpolargl\": [{\"marker\": {\"colorbar\": {\"outlinewidth\": 0, \"ticks\": \"\"}}, \"type\": \"scatterpolargl\"}], \"scatterternary\": [{\"marker\": {\"colorbar\": {\"outlinewidth\": 0, \"ticks\": \"\"}}, \"type\": \"scatterternary\"}], \"surface\": [{\"colorbar\": {\"outlinewidth\": 0, \"ticks\": \"\"}, \"colorscale\": [[0.0, \"#0d0887\"], [0.1111111111111111, \"#46039f\"], [0.2222222222222222, \"#7201a8\"], [0.3333333333333333, \"#9c179e\"], [0.4444444444444444, \"#bd3786\"], [0.5555555555555556, \"#d8576b\"], [0.6666666666666666, \"#ed7953\"], [0.7777777777777778, \"#fb9f3a\"], [0.8888888888888888, \"#fdca26\"], [1.0, \"#f0f921\"]], \"type\": \"surface\"}], \"table\": [{\"cells\": {\"fill\": {\"color\": \"#EBF0F8\"}, \"line\": {\"color\": \"white\"}}, \"header\": {\"fill\": {\"color\": \"#C8D4E3\"}, \"line\": {\"color\": \"white\"}}, \"type\": \"table\"}]}, \"layout\": {\"annotationdefaults\": {\"arrowcolor\": \"#2a3f5f\", \"arrowhead\": 0, \"arrowwidth\": 1}, \"coloraxis\": {\"colorbar\": {\"outlinewidth\": 0, \"ticks\": \"\"}}, \"colorscale\": {\"diverging\": [[0, \"#8e0152\"], [0.1, \"#c51b7d\"], [0.2, \"#de77ae\"], [0.3, \"#f1b6da\"], [0.4, \"#fde0ef\"], [0.5, \"#f7f7f7\"], [0.6, \"#e6f5d0\"], [0.7, \"#b8e186\"], [0.8, \"#7fbc41\"], [0.9, \"#4d9221\"], [1, \"#276419\"]], \"sequential\": [[0.0, \"#0d0887\"], [0.1111111111111111, \"#46039f\"], [0.2222222222222222, \"#7201a8\"], [0.3333333333333333, \"#9c179e\"], [0.4444444444444444, \"#bd3786\"], [0.5555555555555556, \"#d8576b\"], [0.6666666666666666, \"#ed7953\"], [0.7777777777777778, \"#fb9f3a\"], [0.8888888888888888, \"#fdca26\"], [1.0, \"#f0f921\"]], \"sequentialminus\": [[0.0, \"#0d0887\"], [0.1111111111111111, \"#46039f\"], [0.2222222222222222, \"#7201a8\"], [0.3333333333333333, \"#9c179e\"], [0.4444444444444444, \"#bd3786\"], [0.5555555555555556, \"#d8576b\"], [0.6666666666666666, \"#ed7953\"], [0.7777777777777778, \"#fb9f3a\"], [0.8888888888888888, \"#fdca26\"], [1.0, \"#f0f921\"]]}, \"colorway\": [\"#636efa\", \"#EF553B\", \"#00cc96\", \"#ab63fa\", \"#FFA15A\", \"#19d3f3\", \"#FF6692\", \"#B6E880\", \"#FF97FF\", \"#FECB52\"], \"font\": {\"color\": \"#2a3f5f\"}, \"geo\": {\"bgcolor\": \"white\", \"lakecolor\": \"white\", \"landcolor\": \"#E5ECF6\", \"showlakes\": true, \"showland\": true, \"subunitcolor\": \"white\"}, \"hoverlabel\": {\"align\": \"left\"}, \"hovermode\": \"closest\", \"mapbox\": {\"style\": \"light\"}, \"paper_bgcolor\": \"white\", \"plot_bgcolor\": \"#E5ECF6\", \"polar\": {\"angularaxis\": {\"gridcolor\": \"white\", \"linecolor\": \"white\", \"ticks\": \"\"}, \"bgcolor\": \"#E5ECF6\", \"radialaxis\": {\"gridcolor\": \"white\", \"linecolor\": \"white\", \"ticks\": \"\"}}, \"scene\": {\"xaxis\": {\"backgroundcolor\": \"#E5ECF6\", \"gridcolor\": \"white\", \"gridwidth\": 2, \"linecolor\": \"white\", \"showbackground\": true, \"ticks\": \"\", \"zerolinecolor\": \"white\"}, \"yaxis\": {\"backgroundcolor\": \"#E5ECF6\", \"gridcolor\": \"white\", \"gridwidth\": 2, \"linecolor\": \"white\", \"showbackground\": true, \"ticks\": \"\", \"zerolinecolor\": \"white\"}, \"zaxis\": {\"backgroundcolor\": \"#E5ECF6\", \"gridcolor\": \"white\", \"gridwidth\": 2, \"linecolor\": \"white\", \"showbackground\": true, \"ticks\": \"\", \"zerolinecolor\": \"white\"}}, \"shapedefaults\": {\"line\": {\"color\": \"#2a3f5f\"}}, \"ternary\": {\"aaxis\": {\"gridcolor\": \"white\", \"linecolor\": \"white\", \"ticks\": \"\"}, \"baxis\": {\"gridcolor\": \"white\", \"linecolor\": \"white\", \"ticks\": \"\"}, \"bgcolor\": \"#E5ECF6\", \"caxis\": {\"gridcolor\": \"white\", \"linecolor\": \"white\", \"ticks\": \"\"}}, \"title\": {\"x\": 0.05}, \"xaxis\": {\"automargin\": true, \"gridcolor\": \"white\", \"linecolor\": \"white\", \"ticks\": \"\", \"title\": {\"standoff\": 15}, \"zerolinecolor\": \"white\", \"zerolinewidth\": 2}, \"yaxis\": {\"automargin\": true, \"gridcolor\": \"white\", \"linecolor\": \"white\", \"ticks\": \"\", \"title\": {\"standoff\": 15}, \"zerolinecolor\": \"white\", \"zerolinewidth\": 2}}}},\n",
              "                        {\"responsive\": true}\n",
              "                    ).then(function(){\n",
              "                            \n",
              "var gd = document.getElementById('b1043351-f46f-4874-a02a-fdf044aa5187');\n",
              "var x = new MutationObserver(function (mutations, observer) {{\n",
              "        var display = window.getComputedStyle(gd).display;\n",
              "        if (!display || display === 'none') {{\n",
              "            console.log([gd, 'removed!']);\n",
              "            Plotly.purge(gd);\n",
              "            observer.disconnect();\n",
              "        }}\n",
              "}});\n",
              "\n",
              "// Listen for the removal of the full notebook cells\n",
              "var notebookContainer = gd.closest('#notebook-container');\n",
              "if (notebookContainer) {{\n",
              "    x.observe(notebookContainer, {childList: true});\n",
              "}}\n",
              "\n",
              "// Listen for the clearing of the current output cell\n",
              "var outputEl = gd.closest('.output');\n",
              "if (outputEl) {{\n",
              "    x.observe(outputEl, {childList: true});\n",
              "}}\n",
              "\n",
              "                        })\n",
              "                };\n",
              "                \n",
              "            </script>\n",
              "        </div>\n",
              "</body>\n",
              "</html>"
            ]
          },
          "metadata": {
            "tags": []
          }
        }
      ]
    },
    {
      "cell_type": "code",
      "metadata": {
        "colab": {
          "base_uri": "https://localhost:8080/"
        },
        "id": "ZCT29lsQs1ds",
        "outputId": "ae0c50ce-277e-48a8-9550-2b989c166d7d"
      },
      "source": [
        "from sklearn import metrics\n",
        "\n",
        "print(metrics.confusion_matrix(wine_no[0], labels_intercambio, labels=[1, 2, 3]))\n",
        "print(metrics.classification_report(wine_no[0], labels_intercambio, labels=[1, 2, 3]))"
      ],
      "execution_count": null,
      "outputs": [
        {
          "output_type": "stream",
          "text": [
            "[[38  0  0]\n",
            " [ 1 57  6]\n",
            " [ 0  0 46]]\n",
            "              precision    recall  f1-score   support\n",
            "\n",
            "           1       0.97      1.00      0.99        38\n",
            "           2       1.00      0.89      0.94        64\n",
            "           3       0.88      1.00      0.94        46\n",
            "\n",
            "    accuracy                           0.95       148\n",
            "   macro avg       0.95      0.96      0.96       148\n",
            "weighted avg       0.96      0.95      0.95       148\n",
            "\n"
          ],
          "name": "stdout"
        }
      ]
    },
    {
      "cell_type": "markdown",
      "metadata": {
        "id": "CCkguO_L21yn"
      },
      "source": [
        "### Reducción de la dimensionalidad"
      ]
    },
    {
      "cell_type": "code",
      "metadata": {
        "id": "LNxXfLGa3Obg"
      },
      "source": [
        "from sklearn.decomposition import PCA"
      ],
      "execution_count": null,
      "outputs": []
    },
    {
      "cell_type": "code",
      "metadata": {
        "id": "qlklIQ9425uc"
      },
      "source": [
        "data_pca = data_norm.copy()\n",
        "pca = PCA(n_components=2)\n",
        "pca.fit(data_pca)\n",
        "data_pca = pca.transform(data_pca)"
      ],
      "execution_count": null,
      "outputs": []
    },
    {
      "cell_type": "code",
      "metadata": {
        "colab": {
          "base_uri": "https://localhost:8080/"
        },
        "id": "B0oshEdT3ZYy",
        "outputId": "861451a9-fd61-479c-ed23-2e491ec8655b"
      },
      "source": [
        "kmeans_kwargs = {\n",
        "    \"init\": \"random\",\n",
        "    \"max_iter\": 300,\n",
        "    \"random_state\": seed,\n",
        "}\n",
        "kmeans_pca = KMeans(n_clusters=3, **kmeans_kwargs)\n",
        "kmeans_pca.fit(data_pca)"
      ],
      "execution_count": null,
      "outputs": [
        {
          "output_type": "execute_result",
          "data": {
            "text/plain": [
              "KMeans(algorithm='auto', copy_x=True, init='random', max_iter=300, n_clusters=3,\n",
              "       n_init=10, n_jobs=None, precompute_distances='auto', random_state=75,\n",
              "       tol=0.0001, verbose=0)"
            ]
          },
          "metadata": {
            "tags": []
          },
          "execution_count": 34
        }
      ]
    },
    {
      "cell_type": "code",
      "metadata": {
        "id": "yEPgeEUBLwr2"
      },
      "source": [
        "labels_int_pca = kmeans_pca.labels_.copy()\n",
        "labels_int_pca = labels_int_pca + 1 \n",
        "\n",
        "labels_int_pca[ labels_int_pca == 1] = 4\n",
        "labels_int_pca[ labels_int_pca == 3] = 1\n",
        "labels_int_pca[ labels_int_pca == 4] = 3"
      ],
      "execution_count": null,
      "outputs": []
    },
    {
      "cell_type": "code",
      "metadata": {
        "colab": {
          "base_uri": "https://localhost:8080/"
        },
        "id": "-rmwWLUAL7Yf",
        "outputId": "5d11521e-cbcb-43ca-c328-b2063871f9f6"
      },
      "source": [
        "labels_int_pca"
      ],
      "execution_count": null,
      "outputs": [
        {
          "output_type": "execute_result",
          "data": {
            "text/plain": [
              "array([1, 1, 1, 1, 1, 1, 1, 1, 1, 1, 1, 1, 1, 1, 1, 1, 1, 1, 1, 1, 1, 1,\n",
              "       1, 1, 1, 1, 1, 1, 1, 1, 1, 1, 1, 1, 1, 1, 1, 1, 2, 3, 3, 2, 2, 2,\n",
              "       2, 2, 2, 3, 3, 2, 2, 1, 2, 2, 2, 2, 2, 2, 3, 2, 2, 2, 2, 2, 2, 2,\n",
              "       2, 2, 2, 2, 2, 2, 2, 2, 2, 2, 2, 2, 2, 2, 2, 2, 2, 2, 2, 2, 2, 2,\n",
              "       2, 2, 3, 2, 2, 2, 2, 2, 2, 2, 2, 2, 2, 2, 3, 3, 3, 3, 3, 3, 3, 3,\n",
              "       3, 3, 3, 3, 3, 3, 3, 3, 3, 3, 3, 3, 3, 3, 3, 3, 3, 3, 3, 3, 3, 3,\n",
              "       3, 3, 3, 3, 3, 3, 3, 3, 3, 3, 3, 3, 3, 3, 3, 3], dtype=int32)"
            ]
          },
          "metadata": {
            "tags": []
          },
          "execution_count": 36
        }
      ]
    },
    {
      "cell_type": "code",
      "metadata": {
        "colab": {
          "base_uri": "https://localhost:8080/"
        },
        "id": "I7UEP7iZ4IOY",
        "outputId": "e8efe5b7-1d48-4b04-e5a3-e8a7f98d1974"
      },
      "source": [
        "fig = px.scatter_3d(data_tsne_no, x=0, y=1, z=2,\n",
        "              color=labels_int_pca, size=[0.1 for i in range(148)], symbol=labels_int_pca)\n",
        "fig.show()"
      ],
      "execution_count": null,
      "outputs": [
        {
          "output_type": "display_data",
          "data": {
            "text/html": [
              "<html>\n",
              "<head><meta charset=\"utf-8\" /></head>\n",
              "<body>\n",
              "    <div>\n",
              "            <script src=\"https://cdnjs.cloudflare.com/ajax/libs/mathjax/2.7.5/MathJax.js?config=TeX-AMS-MML_SVG\"></script><script type=\"text/javascript\">if (window.MathJax) {MathJax.Hub.Config({SVG: {font: \"STIX-Web\"}});}</script>\n",
              "                <script type=\"text/javascript\">window.PlotlyConfig = {MathJaxConfig: 'local'};</script>\n",
              "        <script src=\"https://cdn.plot.ly/plotly-latest.min.js\"></script>    \n",
              "            <div id=\"b8a67620-4921-412a-b198-5983d5a93dee\" class=\"plotly-graph-div\" style=\"height:525px; width:100%;\"></div>\n",
              "            <script type=\"text/javascript\">\n",
              "                \n",
              "                    window.PLOTLYENV=window.PLOTLYENV || {};\n",
              "                    \n",
              "                if (document.getElementById(\"b8a67620-4921-412a-b198-5983d5a93dee\")) {\n",
              "                    Plotly.newPlot(\n",
              "                        'b8a67620-4921-412a-b198-5983d5a93dee',\n",
              "                        [{\"hoverlabel\": {\"namelength\": 0}, \"hovertemplate\": \"symbol=1<br>0=%{x}<br>1=%{y}<br>2=%{z}<br>size=%{marker.size}<br>color=%{marker.color}\", \"legendgroup\": \"symbol=1\", \"marker\": {\"color\": [1, 1, 1, 1, 1, 1, 1, 1, 1, 1, 1, 1, 1, 1, 1, 1, 1, 1, 1, 1, 1, 1, 1, 1, 1, 1, 1, 1, 1, 1, 1, 1, 1, 1, 1, 1, 1, 1, 1], \"coloraxis\": \"coloraxis\", \"size\": [0.1, 0.1, 0.1, 0.1, 0.1, 0.1, 0.1, 0.1, 0.1, 0.1, 0.1, 0.1, 0.1, 0.1, 0.1, 0.1, 0.1, 0.1, 0.1, 0.1, 0.1, 0.1, 0.1, 0.1, 0.1, 0.1, 0.1, 0.1, 0.1, 0.1, 0.1, 0.1, 0.1, 0.1, 0.1, 0.1, 0.1, 0.1, 0.1], \"sizemode\": \"area\", \"sizeref\": 0.00025, \"symbol\": \"circle\"}, \"mode\": \"markers\", \"name\": \"symbol=1\", \"scene\": \"scene\", \"showlegend\": true, \"type\": \"scatter3d\", \"x\": [80.54785919189453, 43.00130081176758, 5.404175758361816, 139.9099884033203, 126.22264099121094, 69.45803833007812, 30.350421905517578, 130.56976318359375, 168.06777954101562, 157.7893829345703, 10.663302421569824, 77.92527770996094, 98.9842758178711, 68.6832275390625, 20.78907585144043, 65.34273529052734, 122.34588623046875, 92.96034240722656, 159.78021240234375, 56.25621795654297, 38.1205940246582, 51.670372009277344, 89.01399993896484, 78.94425201416016, -9.772010803222656, 77.36827087402344, 0.3856886923313141, 22.717082977294922, 19.98479652404785, 119.69538879394531, 92.68626403808594, 64.19465637207031, 94.74568939208984, 133.33990478515625, 94.87886047363281, 29.217741012573242, 132.45306396484375, 161.80328369140625, 74.84941864013672], \"y\": [104.82971954345703, -73.48065185546875, -60.07997131347656, -72.8401870727539, -128.53988647460938, -63.88763427734375, -39.783729553222656, -106.91202545166016, -105.74626922607422, -75.94029998779297, -172.17880249023438, -69.49774932861328, 74.57039642333984, -145.8490447998047, -130.63412475585938, -138.8506622314453, -90.73004913330078, -48.70132827758789, -48.09622573852539, -76.41864013671875, -119.87760162353516, -169.9443359375, -21.56580352783203, -101.59664154052734, -104.02488708496094, -108.07940673828125, -94.59972381591797, 2.7243189811706543, -149.51510620117188, -29.899747848510742, -55.1101188659668, -33.6881103515625, -114.69754028320312, -109.21590423583984, -68.5898666381836, -90.9439697265625, -137.33021545410156, -110.07881164550781, -100.74897766113281], \"z\": [-49.54701232910156, -88.11294555664062, -44.26899719238281, 1.6305454969406128, -6.656826019287109, -133.3470001220703, -119.32972717285156, 54.775421142578125, -29.96824836730957, -68.53903198242188, 29.817562103271484, 57.03670883178711, -93.38016510009766, -66.47209167480469, 21.991317749023438, 40.94167709350586, -36.95947265625, -50.29766082763672, -31.18465232849121, -42.78479766845703, -90.7330322265625, 8.241275787353516, -122.81188201904297, -68.35366821289062, -35.51622772216797, -116.16531372070312, -95.83984375, 23.822132110595703, -22.168149948120117, -86.02499389648438, 112.78498077392578, -84.3729248046875, 93.25088500976562, -89.47599792480469, -95.24856567382812, -134.7269744873047, -51.846519470214844, 18.67884635925293, 9.86679458618164]}, {\"hoverlabel\": {\"namelength\": 0}, \"hovertemplate\": \"symbol=2<br>0=%{x}<br>1=%{y}<br>2=%{z}<br>size=%{marker.size}<br>color=%{marker.color}\", \"legendgroup\": \"symbol=2\", \"marker\": {\"color\": [2, 2, 2, 2, 2, 2, 2, 2, 2, 2, 2, 2, 2, 2, 2, 2, 2, 2, 2, 2, 2, 2, 2, 2, 2, 2, 2, 2, 2, 2, 2, 2, 2, 2, 2, 2, 2, 2, 2, 2, 2, 2, 2, 2, 2, 2, 2, 2, 2, 2, 2, 2, 2, 2, 2, 2, 2], \"coloraxis\": \"coloraxis\", \"size\": [0.1, 0.1, 0.1, 0.1, 0.1, 0.1, 0.1, 0.1, 0.1, 0.1, 0.1, 0.1, 0.1, 0.1, 0.1, 0.1, 0.1, 0.1, 0.1, 0.1, 0.1, 0.1, 0.1, 0.1, 0.1, 0.1, 0.1, 0.1, 0.1, 0.1, 0.1, 0.1, 0.1, 0.1, 0.1, 0.1, 0.1, 0.1, 0.1, 0.1, 0.1, 0.1, 0.1, 0.1, 0.1, 0.1, 0.1, 0.1, 0.1, 0.1, 0.1, 0.1, 0.1, 0.1, 0.1, 0.1, 0.1], \"sizemode\": \"area\", \"sizeref\": 0.00025, \"symbol\": \"diamond\"}, \"mode\": \"markers\", \"name\": \"symbol=2\", \"scene\": \"scene\", \"showlegend\": true, \"type\": \"scatter3d\", \"x\": [-77.05023193359375, 10.499612808227539, -46.80424118041992, -105.07771301269531, -6.7136101722717285, -81.67974090576172, -71.76583099365234, -17.823514938354492, -33.31385040283203, -21.782548904418945, -94.05326843261719, -51.185489654541016, -69.52680206298828, -49.27138137817383, 128.77381896972656, -9.321002006530762, -106.1280288696289, -7.644183158874512, 68.25950622558594, -109.11455535888672, -118.60514831542969, -52.938297271728516, -0.7121583223342896, -48.074527740478516, -133.20753479003906, -8.435002326965332, 49.04421615600586, -56.47062683105469, -22.341880798339844, 52.88718795776367, 123.17604064941406, 13.224584579467773, -30.078941345214844, -152.0491180419922, 20.38992691040039, -13.283729553222656, -174.51919555664062, 10.10390853881836, -126.77468872070312, -113.86461639404297, 100.9723892211914, -52.644630432128906, -90.73886108398438, -62.9007682800293, -93.6100082397461, -155.91908264160156, -72.78301239013672, -120.60810089111328, -64.13571166992188, -140.47828674316406, -93.07874298095703, -96.44708251953125, -112.70033264160156, -151.83929443359375, -18.85615348815918, -122.30876922607422, 56.15445327758789], \"y\": [-1.6948738098144531, 29.62383460998535, 125.51769256591797, -101.8324966430664, -69.03742980957031, 25.8658390045166, 25.009634017944336, 166.86752319335938, 47.09940719604492, 111.42302703857422, 158.83651733398438, 50.493019104003906, 47.19268035888672, -90.65797424316406, 60.41059875488281, 47.10641860961914, -32.45615768432617, 52.42283630371094, 26.43662452697754, 7.656752109527588, -1.6541359424591064, 72.36664581298828, 119.12268829345703, 92.47342681884766, 97.69229125976562, 130.25616455078125, -14.070971488952637, 132.66368103027344, -5.991026878356934, 10.114691734313965, 62.34795379638672, -163.50205993652344, -48.938053131103516, 45.08500671386719, 83.68656921386719, 92.40604400634766, 85.73272705078125, -27.20561408996582, -9.31278133392334, 60.314781188964844, 50.070030212402344, 127.08212280273438, 114.90882873535156, 167.88502502441406, 55.9848747253418, 78.24150085449219, -46.59637451171875, -47.82277297973633, 59.72718048095703, 123.76419830322266, -101.97301483154297, 139.1361083984375, 159.81527709960938, 135.51231384277344, 56.94319534301758, 76.68521118164062, 44.78095626831055], \"z\": [62.145992279052734, 160.5139923095703, -22.886789321899414, 47.61178207397461, 16.295866012573242, 97.4764175415039, 25.796358108520508, -17.37148666381836, -16.62326431274414, -84.71488952636719, 29.057178497314453, 142.82342529296875, -41.581382751464844, -7.261695861816406, -16.19205665588379, 69.17082977294922, -99.32742309570312, 22.517627716064453, 87.21218872070312, 144.78440856933594, -52.55727767944336, 14.4669828414917, -2.312716007232666, 63.713172912597656, -10.734930038452148, -48.2251091003418, -29.359506607055664, 22.36258316040039, -33.4729118347168, 125.91961669921875, 78.55268096923828, -127.52595520019531, 59.212989807128906, -20.23868751525879, 66.00209045410156, 36.80313491821289, -27.51862907409668, -7.914094924926758, 32.94544219970703, 1.2100114822387695, 24.642362594604492, -113.44444274902344, -10.430373191833496, -8.118446350097656, 60.929805755615234, 24.956483840942383, 95.95133209228516, -32.110084533691406, -87.94377136230469, -49.180606842041016, -62.583187103271484, -49.51233673095703, -14.057292938232422, 2.3002498149871826, -63.63241195678711, -49.88753890991211, 47.47413635253906]}, {\"hoverlabel\": {\"namelength\": 0}, \"hovertemplate\": \"symbol=3<br>0=%{x}<br>1=%{y}<br>2=%{z}<br>size=%{marker.size}<br>color=%{marker.color}\", \"legendgroup\": \"symbol=3\", \"marker\": {\"color\": [3, 3, 3, 3, 3, 3, 3, 3, 3, 3, 3, 3, 3, 3, 3, 3, 3, 3, 3, 3, 3, 3, 3, 3, 3, 3, 3, 3, 3, 3, 3, 3, 3, 3, 3, 3, 3, 3, 3, 3, 3, 3, 3, 3, 3, 3, 3, 3, 3, 3, 3, 3], \"coloraxis\": \"coloraxis\", \"size\": [0.1, 0.1, 0.1, 0.1, 0.1, 0.1, 0.1, 0.1, 0.1, 0.1, 0.1, 0.1, 0.1, 0.1, 0.1, 0.1, 0.1, 0.1, 0.1, 0.1, 0.1, 0.1, 0.1, 0.1, 0.1, 0.1, 0.1, 0.1, 0.1, 0.1, 0.1, 0.1, 0.1, 0.1, 0.1, 0.1, 0.1, 0.1, 0.1, 0.1, 0.1, 0.1, 0.1, 0.1, 0.1, 0.1, 0.1, 0.1, 0.1, 0.1, 0.1, 0.1], \"sizemode\": \"area\", \"sizeref\": 0.00025, \"symbol\": \"square\"}, \"mode\": \"markers\", \"name\": \"symbol=3\", \"scene\": \"scene\", \"showlegend\": true, \"type\": \"scatter3d\", \"x\": [-48.94105529785156, -46.339622497558594, -88.20191192626953, 32.734371185302734, -28.581090927124023, -114.11862182617188, -95.54389953613281, 38.84433364868164, -122.68761444091797, 95.92972564697266, -53.596527099609375, 13.920418739318848, 31.064693450927734, -54.914424896240234, 55.88509750366211, -62.09099578857422, 77.20990753173828, -13.319252967834473, 15.811245918273926, 66.39190673828125, 22.865760803222656, -50.107574462890625, 111.95249938964844, 66.14496612548828, 24.791011810302734, 3.0876145362854004, -73.89654541015625, 42.22438430786133, -47.94509506225586, -9.824477195739746, -51.90302276611328, 61.502296447753906, -0.864130973815918, 32.86442184448242, -38.16818618774414, 41.59294891357422, -26.594581604003906, 12.025805473327637, 52.2226676940918, -23.318614959716797, -27.73138427734375, -26.905879974365234, -39.0992317199707, -79.43042755126953, -50.381778717041016, -34.92317199707031, 20.305904388427734, 99.05351257324219, 96.76225280761719, 40.68997573852539, -19.113386154174805, 11.314996719360352], \"y\": [-56.91891098022461, 87.37008666992188, 109.68831634521484, -101.94652557373047, 16.7493896484375, 114.26012420654297, -58.918643951416016, 80.33224487304688, -22.190706253051758, 29.43677520751953, -33.691131591796875, -62.54091262817383, 54.97213363647461, 61.7005500793457, 78.23871612548828, 2.0586297512054443, 49.365142822265625, 73.97602081298828, 5.492475986480713, 144.71360778808594, -139.94888305664062, 157.1536865234375, 13.170806884765625, 2.0670692920684814, 41.374568939208984, 76.11412811279297, 107.48231506347656, -28.137737274169922, -55.862911224365234, -24.521766662597656, -10.99377155303955, -134.17276000976562, -29.75359344482422, 15.899876594543457, 5.676970958709717, -47.6558837890625, 18.54224395751953, 135.539306640625, 51.08602523803711, 27.342479705810547, -46.10356903076172, -92.43589782714844, 126.27018737792969, -19.24298095703125, 47.50519943237305, -93.70613098144531, 18.004505157470703, -18.26899528503418, -43.63045120239258, -100.84162139892578, -141.44557189941406, -16.113725662231445], \"z\": [-49.946319580078125, -45.581905364990234, 120.05977630615234, -4.568948268890381, 39.48908996582031, 31.647523880004883, 6.194519519805908, 115.969970703125, 81.365478515625, -54.72489929199219, 21.084430694580078, 72.4042739868164, -112.03820037841797, 98.51941680908203, 15.22701644897461, -84.98360443115234, -14.270516395568848, 105.89583587646484, 82.35420227050781, 9.239370346069336, 65.9638442993164, -56.796600341796875, -9.609358787536621, 8.46362018585205, 103.94821166992188, -23.893781661987305, -78.07427978515625, 52.22446823120117, -109.76914978027344, -72.98362731933594, 133.2244415283203, -13.280550003051758, 34.752933502197266, -69.85478210449219, 80.159423828125, 11.9146089553833, -122.24613189697266, 88.07887268066406, -49.87213897705078, 110.83613586425781, -13.591157913208008, 50.43970489501953, 129.57681274414062, -22.02400016784668, 59.14958572387695, 116.62660217285156, -17.47985076904297, 60.851837158203125, 22.13585662841797, 46.06159591674805, 8.038243293762207, 122.66654205322266]}],\n",
              "                        {\"coloraxis\": {\"colorbar\": {\"title\": {\"text\": \"color\"}}, \"colorscale\": [[0.0, \"#0d0887\"], [0.1111111111111111, \"#46039f\"], [0.2222222222222222, \"#7201a8\"], [0.3333333333333333, \"#9c179e\"], [0.4444444444444444, \"#bd3786\"], [0.5555555555555556, \"#d8576b\"], [0.6666666666666666, \"#ed7953\"], [0.7777777777777778, \"#fb9f3a\"], [0.8888888888888888, \"#fdca26\"], [1.0, \"#f0f921\"]]}, \"legend\": {\"itemsizing\": \"constant\", \"tracegroupgap\": 0}, \"margin\": {\"t\": 60}, \"scene\": {\"domain\": {\"x\": [0.0, 1.0], \"y\": [0.0, 1.0]}, \"xaxis\": {\"title\": {\"text\": \"0\"}}, \"yaxis\": {\"title\": {\"text\": \"1\"}}, \"zaxis\": {\"title\": {\"text\": \"2\"}}}, \"template\": {\"data\": {\"bar\": [{\"error_x\": {\"color\": \"#2a3f5f\"}, \"error_y\": {\"color\": \"#2a3f5f\"}, \"marker\": {\"line\": {\"color\": \"#E5ECF6\", \"width\": 0.5}}, \"type\": \"bar\"}], \"barpolar\": [{\"marker\": {\"line\": {\"color\": \"#E5ECF6\", \"width\": 0.5}}, \"type\": \"barpolar\"}], \"carpet\": [{\"aaxis\": {\"endlinecolor\": \"#2a3f5f\", \"gridcolor\": \"white\", \"linecolor\": \"white\", \"minorgridcolor\": \"white\", \"startlinecolor\": \"#2a3f5f\"}, \"baxis\": {\"endlinecolor\": \"#2a3f5f\", \"gridcolor\": \"white\", \"linecolor\": \"white\", \"minorgridcolor\": \"white\", \"startlinecolor\": \"#2a3f5f\"}, \"type\": \"carpet\"}], \"choropleth\": [{\"colorbar\": {\"outlinewidth\": 0, \"ticks\": \"\"}, \"type\": \"choropleth\"}], \"contour\": [{\"colorbar\": {\"outlinewidth\": 0, \"ticks\": \"\"}, \"colorscale\": [[0.0, \"#0d0887\"], [0.1111111111111111, \"#46039f\"], [0.2222222222222222, \"#7201a8\"], [0.3333333333333333, \"#9c179e\"], [0.4444444444444444, \"#bd3786\"], [0.5555555555555556, \"#d8576b\"], [0.6666666666666666, \"#ed7953\"], [0.7777777777777778, \"#fb9f3a\"], [0.8888888888888888, \"#fdca26\"], [1.0, \"#f0f921\"]], \"type\": \"contour\"}], \"contourcarpet\": [{\"colorbar\": {\"outlinewidth\": 0, \"ticks\": \"\"}, \"type\": \"contourcarpet\"}], \"heatmap\": [{\"colorbar\": {\"outlinewidth\": 0, \"ticks\": \"\"}, \"colorscale\": [[0.0, \"#0d0887\"], [0.1111111111111111, \"#46039f\"], [0.2222222222222222, \"#7201a8\"], [0.3333333333333333, \"#9c179e\"], [0.4444444444444444, \"#bd3786\"], [0.5555555555555556, \"#d8576b\"], [0.6666666666666666, \"#ed7953\"], [0.7777777777777778, \"#fb9f3a\"], [0.8888888888888888, \"#fdca26\"], [1.0, \"#f0f921\"]], \"type\": \"heatmap\"}], \"heatmapgl\": [{\"colorbar\": {\"outlinewidth\": 0, \"ticks\": \"\"}, \"colorscale\": [[0.0, \"#0d0887\"], [0.1111111111111111, \"#46039f\"], [0.2222222222222222, \"#7201a8\"], [0.3333333333333333, \"#9c179e\"], [0.4444444444444444, \"#bd3786\"], [0.5555555555555556, \"#d8576b\"], [0.6666666666666666, \"#ed7953\"], [0.7777777777777778, \"#fb9f3a\"], [0.8888888888888888, \"#fdca26\"], [1.0, \"#f0f921\"]], \"type\": \"heatmapgl\"}], \"histogram\": [{\"marker\": {\"colorbar\": {\"outlinewidth\": 0, \"ticks\": \"\"}}, \"type\": \"histogram\"}], \"histogram2d\": [{\"colorbar\": {\"outlinewidth\": 0, \"ticks\": \"\"}, \"colorscale\": [[0.0, \"#0d0887\"], [0.1111111111111111, \"#46039f\"], [0.2222222222222222, \"#7201a8\"], [0.3333333333333333, \"#9c179e\"], [0.4444444444444444, \"#bd3786\"], [0.5555555555555556, \"#d8576b\"], [0.6666666666666666, \"#ed7953\"], [0.7777777777777778, \"#fb9f3a\"], [0.8888888888888888, \"#fdca26\"], [1.0, \"#f0f921\"]], \"type\": \"histogram2d\"}], \"histogram2dcontour\": [{\"colorbar\": {\"outlinewidth\": 0, \"ticks\": \"\"}, \"colorscale\": [[0.0, \"#0d0887\"], [0.1111111111111111, \"#46039f\"], [0.2222222222222222, \"#7201a8\"], [0.3333333333333333, \"#9c179e\"], [0.4444444444444444, \"#bd3786\"], [0.5555555555555556, \"#d8576b\"], [0.6666666666666666, \"#ed7953\"], [0.7777777777777778, \"#fb9f3a\"], [0.8888888888888888, \"#fdca26\"], [1.0, \"#f0f921\"]], \"type\": \"histogram2dcontour\"}], \"mesh3d\": [{\"colorbar\": {\"outlinewidth\": 0, \"ticks\": \"\"}, \"type\": \"mesh3d\"}], \"parcoords\": [{\"line\": {\"colorbar\": {\"outlinewidth\": 0, \"ticks\": \"\"}}, \"type\": \"parcoords\"}], \"pie\": [{\"automargin\": true, \"type\": \"pie\"}], \"scatter\": [{\"marker\": {\"colorbar\": {\"outlinewidth\": 0, \"ticks\": \"\"}}, \"type\": \"scatter\"}], \"scatter3d\": [{\"line\": {\"colorbar\": {\"outlinewidth\": 0, \"ticks\": \"\"}}, \"marker\": {\"colorbar\": {\"outlinewidth\": 0, \"ticks\": \"\"}}, \"type\": \"scatter3d\"}], \"scattercarpet\": [{\"marker\": {\"colorbar\": {\"outlinewidth\": 0, \"ticks\": \"\"}}, \"type\": \"scattercarpet\"}], \"scattergeo\": [{\"marker\": {\"colorbar\": {\"outlinewidth\": 0, \"ticks\": \"\"}}, \"type\": \"scattergeo\"}], \"scattergl\": [{\"marker\": {\"colorbar\": {\"outlinewidth\": 0, \"ticks\": \"\"}}, \"type\": \"scattergl\"}], \"scattermapbox\": [{\"marker\": {\"colorbar\": {\"outlinewidth\": 0, \"ticks\": \"\"}}, \"type\": \"scattermapbox\"}], \"scatterpolar\": [{\"marker\": {\"colorbar\": {\"outlinewidth\": 0, \"ticks\": \"\"}}, \"type\": \"scatterpolar\"}], \"scatterpolargl\": [{\"marker\": {\"colorbar\": {\"outlinewidth\": 0, \"ticks\": \"\"}}, \"type\": \"scatterpolargl\"}], \"scatterternary\": [{\"marker\": {\"colorbar\": {\"outlinewidth\": 0, \"ticks\": \"\"}}, \"type\": \"scatterternary\"}], \"surface\": [{\"colorbar\": {\"outlinewidth\": 0, \"ticks\": \"\"}, \"colorscale\": [[0.0, \"#0d0887\"], [0.1111111111111111, \"#46039f\"], [0.2222222222222222, \"#7201a8\"], [0.3333333333333333, \"#9c179e\"], [0.4444444444444444, \"#bd3786\"], [0.5555555555555556, \"#d8576b\"], [0.6666666666666666, \"#ed7953\"], [0.7777777777777778, \"#fb9f3a\"], [0.8888888888888888, \"#fdca26\"], [1.0, \"#f0f921\"]], \"type\": \"surface\"}], \"table\": [{\"cells\": {\"fill\": {\"color\": \"#EBF0F8\"}, \"line\": {\"color\": \"white\"}}, \"header\": {\"fill\": {\"color\": \"#C8D4E3\"}, \"line\": {\"color\": \"white\"}}, \"type\": \"table\"}]}, \"layout\": {\"annotationdefaults\": {\"arrowcolor\": \"#2a3f5f\", \"arrowhead\": 0, \"arrowwidth\": 1}, \"coloraxis\": {\"colorbar\": {\"outlinewidth\": 0, \"ticks\": \"\"}}, \"colorscale\": {\"diverging\": [[0, \"#8e0152\"], [0.1, \"#c51b7d\"], [0.2, \"#de77ae\"], [0.3, \"#f1b6da\"], [0.4, \"#fde0ef\"], [0.5, \"#f7f7f7\"], [0.6, \"#e6f5d0\"], [0.7, \"#b8e186\"], [0.8, \"#7fbc41\"], [0.9, \"#4d9221\"], [1, \"#276419\"]], \"sequential\": [[0.0, \"#0d0887\"], [0.1111111111111111, \"#46039f\"], [0.2222222222222222, \"#7201a8\"], [0.3333333333333333, \"#9c179e\"], [0.4444444444444444, \"#bd3786\"], [0.5555555555555556, \"#d8576b\"], [0.6666666666666666, \"#ed7953\"], [0.7777777777777778, \"#fb9f3a\"], [0.8888888888888888, \"#fdca26\"], [1.0, \"#f0f921\"]], \"sequentialminus\": [[0.0, \"#0d0887\"], [0.1111111111111111, \"#46039f\"], [0.2222222222222222, \"#7201a8\"], [0.3333333333333333, \"#9c179e\"], [0.4444444444444444, \"#bd3786\"], [0.5555555555555556, \"#d8576b\"], [0.6666666666666666, \"#ed7953\"], [0.7777777777777778, \"#fb9f3a\"], [0.8888888888888888, \"#fdca26\"], [1.0, \"#f0f921\"]]}, \"colorway\": [\"#636efa\", \"#EF553B\", \"#00cc96\", \"#ab63fa\", \"#FFA15A\", \"#19d3f3\", \"#FF6692\", \"#B6E880\", \"#FF97FF\", \"#FECB52\"], \"font\": {\"color\": \"#2a3f5f\"}, \"geo\": {\"bgcolor\": \"white\", \"lakecolor\": \"white\", \"landcolor\": \"#E5ECF6\", \"showlakes\": true, \"showland\": true, \"subunitcolor\": \"white\"}, \"hoverlabel\": {\"align\": \"left\"}, \"hovermode\": \"closest\", \"mapbox\": {\"style\": \"light\"}, \"paper_bgcolor\": \"white\", \"plot_bgcolor\": \"#E5ECF6\", \"polar\": {\"angularaxis\": {\"gridcolor\": \"white\", \"linecolor\": \"white\", \"ticks\": \"\"}, \"bgcolor\": \"#E5ECF6\", \"radialaxis\": {\"gridcolor\": \"white\", \"linecolor\": \"white\", \"ticks\": \"\"}}, \"scene\": {\"xaxis\": {\"backgroundcolor\": \"#E5ECF6\", \"gridcolor\": \"white\", \"gridwidth\": 2, \"linecolor\": \"white\", \"showbackground\": true, \"ticks\": \"\", \"zerolinecolor\": \"white\"}, \"yaxis\": {\"backgroundcolor\": \"#E5ECF6\", \"gridcolor\": \"white\", \"gridwidth\": 2, \"linecolor\": \"white\", \"showbackground\": true, \"ticks\": \"\", \"zerolinecolor\": \"white\"}, \"zaxis\": {\"backgroundcolor\": \"#E5ECF6\", \"gridcolor\": \"white\", \"gridwidth\": 2, \"linecolor\": \"white\", \"showbackground\": true, \"ticks\": \"\", \"zerolinecolor\": \"white\"}}, \"shapedefaults\": {\"line\": {\"color\": \"#2a3f5f\"}}, \"ternary\": {\"aaxis\": {\"gridcolor\": \"white\", \"linecolor\": \"white\", \"ticks\": \"\"}, \"baxis\": {\"gridcolor\": \"white\", \"linecolor\": \"white\", \"ticks\": \"\"}, \"bgcolor\": \"#E5ECF6\", \"caxis\": {\"gridcolor\": \"white\", \"linecolor\": \"white\", \"ticks\": \"\"}}, \"title\": {\"x\": 0.05}, \"xaxis\": {\"automargin\": true, \"gridcolor\": \"white\", \"linecolor\": \"white\", \"ticks\": \"\", \"title\": {\"standoff\": 15}, \"zerolinecolor\": \"white\", \"zerolinewidth\": 2}, \"yaxis\": {\"automargin\": true, \"gridcolor\": \"white\", \"linecolor\": \"white\", \"ticks\": \"\", \"title\": {\"standoff\": 15}, \"zerolinecolor\": \"white\", \"zerolinewidth\": 2}}}},\n",
              "                        {\"responsive\": true}\n",
              "                    ).then(function(){\n",
              "                            \n",
              "var gd = document.getElementById('b8a67620-4921-412a-b198-5983d5a93dee');\n",
              "var x = new MutationObserver(function (mutations, observer) {{\n",
              "        var display = window.getComputedStyle(gd).display;\n",
              "        if (!display || display === 'none') {{\n",
              "            console.log([gd, 'removed!']);\n",
              "            Plotly.purge(gd);\n",
              "            observer.disconnect();\n",
              "        }}\n",
              "}});\n",
              "\n",
              "// Listen for the removal of the full notebook cells\n",
              "var notebookContainer = gd.closest('#notebook-container');\n",
              "if (notebookContainer) {{\n",
              "    x.observe(notebookContainer, {childList: true});\n",
              "}}\n",
              "\n",
              "// Listen for the clearing of the current output cell\n",
              "var outputEl = gd.closest('.output');\n",
              "if (outputEl) {{\n",
              "    x.observe(outputEl, {childList: true});\n",
              "}}\n",
              "\n",
              "                        })\n",
              "                };\n",
              "                \n",
              "            </script>\n",
              "        </div>\n",
              "</body>\n",
              "</html>"
            ]
          },
          "metadata": {
            "tags": []
          }
        }
      ]
    },
    {
      "cell_type": "code",
      "metadata": {
        "colab": {
          "base_uri": "https://localhost:8080/"
        },
        "id": "3RyFRuDtw9um",
        "outputId": "9d2bb4c7-147b-47ff-ee23-0f133b0b293e"
      },
      "source": [
        "print(metrics.confusion_matrix(wine_no[0], labels_int_pca, labels=[1, 2, 3]))\n",
        "print(metrics.classification_report(wine_no[0], labels_int_pca, labels=[1, 2, 3]))"
      ],
      "execution_count": null,
      "outputs": [
        {
          "output_type": "stream",
          "text": [
            "[[38  0  0]\n",
            " [ 1 57  6]\n",
            " [ 0  0 46]]\n",
            "              precision    recall  f1-score   support\n",
            "\n",
            "           1       0.97      1.00      0.99        38\n",
            "           2       1.00      0.89      0.94        64\n",
            "           3       0.88      1.00      0.94        46\n",
            "\n",
            "    accuracy                           0.95       148\n",
            "   macro avg       0.95      0.96      0.96       148\n",
            "weighted avg       0.96      0.95      0.95       148\n",
            "\n"
          ],
          "name": "stdout"
        }
      ]
    },
    {
      "cell_type": "markdown",
      "metadata": {
        "id": "_OWBhcPr62i_"
      },
      "source": [
        "## DBSCAN"
      ]
    },
    {
      "cell_type": "code",
      "metadata": {
        "id": "70TC8ELr62Iv"
      },
      "source": [
        "from sklearn.cluster import DBSCAN"
      ],
      "execution_count": null,
      "outputs": []
    },
    {
      "cell_type": "code",
      "metadata": {
        "colab": {
          "base_uri": "https://localhost:8080/",
          "height": 204
        },
        "id": "6nldyj_0XpLP",
        "outputId": "0bfab90e-a9d3-4842-fdfa-3a5bf9e865c4"
      },
      "source": [
        "x = data.values #returns a numpy array\n",
        "min_max_scaler = preprocessing.MinMaxScaler()\n",
        "x_scaled = min_max_scaler.fit_transform(x)\n",
        "data_norm_out = pd.DataFrame(x_scaled)\n",
        "data_norm_out.head()"
      ],
      "execution_count": null,
      "outputs": [
        {
          "output_type": "execute_result",
          "data": {
            "text/html": [
              "<div>\n",
              "<style scoped>\n",
              "    .dataframe tbody tr th:only-of-type {\n",
              "        vertical-align: middle;\n",
              "    }\n",
              "\n",
              "    .dataframe tbody tr th {\n",
              "        vertical-align: top;\n",
              "    }\n",
              "\n",
              "    .dataframe thead th {\n",
              "        text-align: right;\n",
              "    }\n",
              "</style>\n",
              "<table border=\"1\" class=\"dataframe\">\n",
              "  <thead>\n",
              "    <tr style=\"text-align: right;\">\n",
              "      <th></th>\n",
              "      <th>0</th>\n",
              "      <th>1</th>\n",
              "      <th>2</th>\n",
              "      <th>3</th>\n",
              "      <th>4</th>\n",
              "      <th>5</th>\n",
              "      <th>6</th>\n",
              "      <th>7</th>\n",
              "      <th>8</th>\n",
              "      <th>9</th>\n",
              "      <th>10</th>\n",
              "      <th>11</th>\n",
              "      <th>12</th>\n",
              "    </tr>\n",
              "  </thead>\n",
              "  <tbody>\n",
              "    <tr>\n",
              "      <th>0</th>\n",
              "      <td>0.842105</td>\n",
              "      <td>0.191700</td>\n",
              "      <td>0.572193</td>\n",
              "      <td>0.257732</td>\n",
              "      <td>0.619565</td>\n",
              "      <td>0.627586</td>\n",
              "      <td>0.573840</td>\n",
              "      <td>0.283019</td>\n",
              "      <td>0.593060</td>\n",
              "      <td>0.372014</td>\n",
              "      <td>0.455285</td>\n",
              "      <td>0.970696</td>\n",
              "      <td>0.561341</td>\n",
              "    </tr>\n",
              "    <tr>\n",
              "      <th>1</th>\n",
              "      <td>0.571053</td>\n",
              "      <td>0.205534</td>\n",
              "      <td>0.417112</td>\n",
              "      <td>0.030928</td>\n",
              "      <td>0.326087</td>\n",
              "      <td>0.575862</td>\n",
              "      <td>0.510549</td>\n",
              "      <td>0.245283</td>\n",
              "      <td>0.274448</td>\n",
              "      <td>0.264505</td>\n",
              "      <td>0.463415</td>\n",
              "      <td>0.780220</td>\n",
              "      <td>0.550642</td>\n",
              "    </tr>\n",
              "    <tr>\n",
              "      <th>2</th>\n",
              "      <td>0.560526</td>\n",
              "      <td>0.320158</td>\n",
              "      <td>0.700535</td>\n",
              "      <td>0.412371</td>\n",
              "      <td>0.336957</td>\n",
              "      <td>0.627586</td>\n",
              "      <td>0.611814</td>\n",
              "      <td>0.320755</td>\n",
              "      <td>0.757098</td>\n",
              "      <td>0.375427</td>\n",
              "      <td>0.447154</td>\n",
              "      <td>0.695971</td>\n",
              "      <td>0.646933</td>\n",
              "    </tr>\n",
              "    <tr>\n",
              "      <th>3</th>\n",
              "      <td>0.878947</td>\n",
              "      <td>0.239130</td>\n",
              "      <td>0.609626</td>\n",
              "      <td>0.319588</td>\n",
              "      <td>0.467391</td>\n",
              "      <td>0.989655</td>\n",
              "      <td>0.664557</td>\n",
              "      <td>0.207547</td>\n",
              "      <td>0.558360</td>\n",
              "      <td>0.556314</td>\n",
              "      <td>0.308943</td>\n",
              "      <td>0.798535</td>\n",
              "      <td>0.857347</td>\n",
              "    </tr>\n",
              "    <tr>\n",
              "      <th>4</th>\n",
              "      <td>0.581579</td>\n",
              "      <td>0.365613</td>\n",
              "      <td>0.807487</td>\n",
              "      <td>0.536082</td>\n",
              "      <td>0.521739</td>\n",
              "      <td>0.627586</td>\n",
              "      <td>0.495781</td>\n",
              "      <td>0.490566</td>\n",
              "      <td>0.444795</td>\n",
              "      <td>0.259386</td>\n",
              "      <td>0.455285</td>\n",
              "      <td>0.608059</td>\n",
              "      <td>0.325963</td>\n",
              "    </tr>\n",
              "  </tbody>\n",
              "</table>\n",
              "</div>"
            ],
            "text/plain": [
              "         0         1         2   ...        10        11        12\n",
              "0  0.842105  0.191700  0.572193  ...  0.455285  0.970696  0.561341\n",
              "1  0.571053  0.205534  0.417112  ...  0.463415  0.780220  0.550642\n",
              "2  0.560526  0.320158  0.700535  ...  0.447154  0.695971  0.646933\n",
              "3  0.878947  0.239130  0.609626  ...  0.308943  0.798535  0.857347\n",
              "4  0.581579  0.365613  0.807487  ...  0.455285  0.608059  0.325963\n",
              "\n",
              "[5 rows x 13 columns]"
            ]
          },
          "metadata": {
            "tags": []
          },
          "execution_count": 40
        }
      ]
    },
    {
      "cell_type": "code",
      "metadata": {
        "colab": {
          "base_uri": "https://localhost:8080/",
          "height": 282
        },
        "id": "8nPokqLyCmAE",
        "outputId": "443f6851-d2c7-4308-ad5a-18a01866d86b"
      },
      "source": [
        "from sklearn.neighbors import DistanceMetric, kneighbors_graph\n",
        "\n",
        "## Parametrización de DBSCAN.\n",
        "dist = DistanceMetric.get_metric('euclidean')\n",
        "matsim = dist.pairwise(data_norm_out)\n",
        "minPts  = 3 # Fijamos el parámetro minPts\n",
        "A = kneighbors_graph(data_norm_out, minPts, include_self=False)\n",
        "Ar = A.toarray()\n",
        "seq = []\n",
        "for i,s in enumerate(X_pca):\n",
        "    for j in range(len(X_pca)):\n",
        "        if Ar[i][j] != 0:\n",
        "            seq.append(matsim[i][j])\n",
        "seq.sort()\n",
        "plt.plot(seq)\n",
        "plt.show()"
      ],
      "execution_count": 118,
      "outputs": [
        {
          "output_type": "display_data",
          "data": {
            "image/png": "[encoded data removed]",
            "text/plain": [
              "<Figure size 432x288 with 1 Axes>"
            ]
          },
          "metadata": {
            "tags": []
          }
        }
      ]
    },
    {
      "cell_type": "code",
      "metadata": {
        "colab": {
          "base_uri": "https://localhost:8080/",
          "height": 867
        },
        "id": "oQQhBY3CX-pM",
        "outputId": "672441b1-aa8c-4bd8-f7ba-c79bbdeb2ade"
      },
      "source": [
        "dbscan = DBSCAN(eps=0.5, min_samples=3)\n",
        "dbscan.fit(data_norm_out)\n",
        "print(dbscan.labels_)\n",
        "\n",
        "# [2, 3, 5, 10, 12, 13, 14, 17, 18, 20, 26, 28, 31, 33, 35, 40, 47, 50, 52, 53, 56, 69, 73, 78, 80, 93, 95, 96, 141, 150]\n",
        "data[dbscan.labels_ == -1]"
      ],
      "execution_count": 119,
      "outputs": [
        {
          "output_type": "stream",
          "text": [
            "[ 0  0  0  0  0  0  0  0  0  0  0  0  0  0  0  0  0  0  0  0  0  0  0  0\n",
            "  0  0  0  0  0  0  0  0  0  0  0  0  0  0  0  0  0  0  0  0  0  0  0  0\n",
            "  0  0 -1  0  0  0  0  0  0  0  0 -1  1  1  0  0  0  0  0  0  1 -1 -1 -1\n",
            "  0 -1 -1  0  0  0 -1 -1  0  0  0  1  0  0  0  0  0  0  0  0  0  0  0 -1\n",
            " -1  0  0 -1  0  0  0  0  0 -1  0  0  0  0 -1  0  0  0  0 -1  0  0  1  0\n",
            "  0 -1 -1 -1 -1  0  0 -1  0  0  1  1  1  1  1  1  1  1  1  1  1  1  1  1\n",
            "  1  1  1  1  1  1  1  1  1  1  1  1  1  1 -1 -1  1  1  1  1  1  1  1  1\n",
            "  1  1  1  1  1  1  1  1  1  1]\n"
          ],
          "name": "stdout"
        },
        {
          "output_type": "execute_result",
          "data": {
            "text/html": [
              "<div>\n",
              "<style scoped>\n",
              "    .dataframe tbody tr th:only-of-type {\n",
              "        vertical-align: middle;\n",
              "    }\n",
              "\n",
              "    .dataframe tbody tr th {\n",
              "        vertical-align: top;\n",
              "    }\n",
              "\n",
              "    .dataframe thead th {\n",
              "        text-align: right;\n",
              "    }\n",
              "</style>\n",
              "<table border=\"1\" class=\"dataframe\">\n",
              "  <thead>\n",
              "    <tr style=\"text-align: right;\">\n",
              "      <th></th>\n",
              "      <th>1</th>\n",
              "      <th>2</th>\n",
              "      <th>3</th>\n",
              "      <th>4</th>\n",
              "      <th>5</th>\n",
              "      <th>6</th>\n",
              "      <th>7</th>\n",
              "      <th>8</th>\n",
              "      <th>9</th>\n",
              "      <th>10</th>\n",
              "      <th>11</th>\n",
              "      <th>12</th>\n",
              "      <th>13</th>\n",
              "    </tr>\n",
              "  </thead>\n",
              "  <tbody>\n",
              "    <tr>\n",
              "      <th>50</th>\n",
              "      <td>13.05</td>\n",
              "      <td>1.73</td>\n",
              "      <td>2.04</td>\n",
              "      <td>12.4</td>\n",
              "      <td>92</td>\n",
              "      <td>2.72</td>\n",
              "      <td>3.27</td>\n",
              "      <td>0.17</td>\n",
              "      <td>2.91</td>\n",
              "      <td>7.20</td>\n",
              "      <td>1.120</td>\n",
              "      <td>2.91</td>\n",
              "      <td>1150</td>\n",
              "    </tr>\n",
              "    <tr>\n",
              "      <th>59</th>\n",
              "      <td>12.37</td>\n",
              "      <td>0.94</td>\n",
              "      <td>1.36</td>\n",
              "      <td>10.6</td>\n",
              "      <td>88</td>\n",
              "      <td>1.98</td>\n",
              "      <td>0.57</td>\n",
              "      <td>0.28</td>\n",
              "      <td>0.42</td>\n",
              "      <td>1.95</td>\n",
              "      <td>1.050</td>\n",
              "      <td>1.82</td>\n",
              "      <td>520</td>\n",
              "    </tr>\n",
              "    <tr>\n",
              "      <th>69</th>\n",
              "      <td>12.21</td>\n",
              "      <td>1.19</td>\n",
              "      <td>1.75</td>\n",
              "      <td>16.8</td>\n",
              "      <td>151</td>\n",
              "      <td>1.85</td>\n",
              "      <td>1.28</td>\n",
              "      <td>0.14</td>\n",
              "      <td>2.50</td>\n",
              "      <td>2.85</td>\n",
              "      <td>1.280</td>\n",
              "      <td>3.07</td>\n",
              "      <td>718</td>\n",
              "    </tr>\n",
              "    <tr>\n",
              "      <th>70</th>\n",
              "      <td>12.29</td>\n",
              "      <td>1.61</td>\n",
              "      <td>2.21</td>\n",
              "      <td>20.4</td>\n",
              "      <td>103</td>\n",
              "      <td>1.10</td>\n",
              "      <td>1.02</td>\n",
              "      <td>0.37</td>\n",
              "      <td>1.46</td>\n",
              "      <td>3.05</td>\n",
              "      <td>0.906</td>\n",
              "      <td>1.82</td>\n",
              "      <td>870</td>\n",
              "    </tr>\n",
              "    <tr>\n",
              "      <th>71</th>\n",
              "      <td>13.86</td>\n",
              "      <td>1.51</td>\n",
              "      <td>2.67</td>\n",
              "      <td>25.0</td>\n",
              "      <td>86</td>\n",
              "      <td>2.95</td>\n",
              "      <td>2.86</td>\n",
              "      <td>0.21</td>\n",
              "      <td>1.87</td>\n",
              "      <td>3.38</td>\n",
              "      <td>1.360</td>\n",
              "      <td>3.16</td>\n",
              "      <td>410</td>\n",
              "    </tr>\n",
              "    <tr>\n",
              "      <th>73</th>\n",
              "      <td>12.99</td>\n",
              "      <td>1.67</td>\n",
              "      <td>2.60</td>\n",
              "      <td>30.0</td>\n",
              "      <td>139</td>\n",
              "      <td>3.30</td>\n",
              "      <td>2.89</td>\n",
              "      <td>0.21</td>\n",
              "      <td>1.96</td>\n",
              "      <td>3.35</td>\n",
              "      <td>1.310</td>\n",
              "      <td>3.50</td>\n",
              "      <td>985</td>\n",
              "    </tr>\n",
              "    <tr>\n",
              "      <th>74</th>\n",
              "      <td>11.96</td>\n",
              "      <td>1.09</td>\n",
              "      <td>2.30</td>\n",
              "      <td>21.0</td>\n",
              "      <td>101</td>\n",
              "      <td>3.38</td>\n",
              "      <td>2.14</td>\n",
              "      <td>0.13</td>\n",
              "      <td>1.65</td>\n",
              "      <td>3.21</td>\n",
              "      <td>0.990</td>\n",
              "      <td>3.13</td>\n",
              "      <td>886</td>\n",
              "    </tr>\n",
              "    <tr>\n",
              "      <th>78</th>\n",
              "      <td>12.33</td>\n",
              "      <td>0.99</td>\n",
              "      <td>1.95</td>\n",
              "      <td>14.8</td>\n",
              "      <td>136</td>\n",
              "      <td>1.90</td>\n",
              "      <td>1.85</td>\n",
              "      <td>0.35</td>\n",
              "      <td>2.76</td>\n",
              "      <td>3.40</td>\n",
              "      <td>1.060</td>\n",
              "      <td>2.31</td>\n",
              "      <td>750</td>\n",
              "    </tr>\n",
              "    <tr>\n",
              "      <th>79</th>\n",
              "      <td>12.70</td>\n",
              "      <td>3.87</td>\n",
              "      <td>2.40</td>\n",
              "      <td>23.0</td>\n",
              "      <td>101</td>\n",
              "      <td>2.83</td>\n",
              "      <td>2.55</td>\n",
              "      <td>0.43</td>\n",
              "      <td>1.95</td>\n",
              "      <td>2.57</td>\n",
              "      <td>1.190</td>\n",
              "      <td>3.13</td>\n",
              "      <td>463</td>\n",
              "    </tr>\n",
              "    <tr>\n",
              "      <th>95</th>\n",
              "      <td>12.47</td>\n",
              "      <td>1.52</td>\n",
              "      <td>2.20</td>\n",
              "      <td>19.0</td>\n",
              "      <td>162</td>\n",
              "      <td>2.50</td>\n",
              "      <td>2.27</td>\n",
              "      <td>0.32</td>\n",
              "      <td>3.28</td>\n",
              "      <td>2.60</td>\n",
              "      <td>1.160</td>\n",
              "      <td>2.63</td>\n",
              "      <td>937</td>\n",
              "    </tr>\n",
              "    <tr>\n",
              "      <th>96</th>\n",
              "      <td>11.81</td>\n",
              "      <td>2.12</td>\n",
              "      <td>2.74</td>\n",
              "      <td>21.5</td>\n",
              "      <td>134</td>\n",
              "      <td>1.60</td>\n",
              "      <td>0.99</td>\n",
              "      <td>0.14</td>\n",
              "      <td>1.56</td>\n",
              "      <td>2.50</td>\n",
              "      <td>0.950</td>\n",
              "      <td>2.26</td>\n",
              "      <td>625</td>\n",
              "    </tr>\n",
              "    <tr>\n",
              "      <th>99</th>\n",
              "      <td>12.29</td>\n",
              "      <td>3.17</td>\n",
              "      <td>2.21</td>\n",
              "      <td>18.0</td>\n",
              "      <td>88</td>\n",
              "      <td>2.85</td>\n",
              "      <td>2.99</td>\n",
              "      <td>0.45</td>\n",
              "      <td>2.81</td>\n",
              "      <td>2.30</td>\n",
              "      <td>1.420</td>\n",
              "      <td>2.83</td>\n",
              "      <td>406</td>\n",
              "    </tr>\n",
              "    <tr>\n",
              "      <th>105</th>\n",
              "      <td>12.42</td>\n",
              "      <td>2.55</td>\n",
              "      <td>2.27</td>\n",
              "      <td>22.0</td>\n",
              "      <td>90</td>\n",
              "      <td>1.68</td>\n",
              "      <td>1.84</td>\n",
              "      <td>0.66</td>\n",
              "      <td>1.42</td>\n",
              "      <td>2.70</td>\n",
              "      <td>0.860</td>\n",
              "      <td>3.30</td>\n",
              "      <td>315</td>\n",
              "    </tr>\n",
              "    <tr>\n",
              "      <th>110</th>\n",
              "      <td>11.46</td>\n",
              "      <td>3.74</td>\n",
              "      <td>1.82</td>\n",
              "      <td>19.5</td>\n",
              "      <td>107</td>\n",
              "      <td>3.18</td>\n",
              "      <td>2.58</td>\n",
              "      <td>0.24</td>\n",
              "      <td>3.58</td>\n",
              "      <td>2.90</td>\n",
              "      <td>0.750</td>\n",
              "      <td>2.81</td>\n",
              "      <td>562</td>\n",
              "    </tr>\n",
              "    <tr>\n",
              "      <th>115</th>\n",
              "      <td>11.03</td>\n",
              "      <td>1.51</td>\n",
              "      <td>2.20</td>\n",
              "      <td>21.5</td>\n",
              "      <td>85</td>\n",
              "      <td>2.46</td>\n",
              "      <td>2.17</td>\n",
              "      <td>0.52</td>\n",
              "      <td>2.01</td>\n",
              "      <td>1.90</td>\n",
              "      <td>1.710</td>\n",
              "      <td>2.87</td>\n",
              "      <td>407</td>\n",
              "    </tr>\n",
              "    <tr>\n",
              "      <th>121</th>\n",
              "      <td>11.56</td>\n",
              "      <td>2.05</td>\n",
              "      <td>3.23</td>\n",
              "      <td>28.5</td>\n",
              "      <td>119</td>\n",
              "      <td>3.18</td>\n",
              "      <td>5.08</td>\n",
              "      <td>0.47</td>\n",
              "      <td>1.87</td>\n",
              "      <td>6.00</td>\n",
              "      <td>0.930</td>\n",
              "      <td>3.69</td>\n",
              "      <td>465</td>\n",
              "    </tr>\n",
              "    <tr>\n",
              "      <th>122</th>\n",
              "      <td>12.42</td>\n",
              "      <td>4.43</td>\n",
              "      <td>2.73</td>\n",
              "      <td>26.5</td>\n",
              "      <td>102</td>\n",
              "      <td>2.20</td>\n",
              "      <td>2.13</td>\n",
              "      <td>0.43</td>\n",
              "      <td>1.71</td>\n",
              "      <td>2.08</td>\n",
              "      <td>0.920</td>\n",
              "      <td>3.12</td>\n",
              "      <td>365</td>\n",
              "    </tr>\n",
              "    <tr>\n",
              "      <th>123</th>\n",
              "      <td>13.05</td>\n",
              "      <td>5.80</td>\n",
              "      <td>2.13</td>\n",
              "      <td>21.5</td>\n",
              "      <td>86</td>\n",
              "      <td>2.62</td>\n",
              "      <td>2.65</td>\n",
              "      <td>0.30</td>\n",
              "      <td>2.01</td>\n",
              "      <td>2.60</td>\n",
              "      <td>0.730</td>\n",
              "      <td>3.10</td>\n",
              "      <td>380</td>\n",
              "    </tr>\n",
              "    <tr>\n",
              "      <th>124</th>\n",
              "      <td>11.87</td>\n",
              "      <td>4.31</td>\n",
              "      <td>2.39</td>\n",
              "      <td>21.0</td>\n",
              "      <td>82</td>\n",
              "      <td>2.86</td>\n",
              "      <td>3.03</td>\n",
              "      <td>0.21</td>\n",
              "      <td>2.91</td>\n",
              "      <td>2.80</td>\n",
              "      <td>0.750</td>\n",
              "      <td>3.64</td>\n",
              "      <td>380</td>\n",
              "    </tr>\n",
              "    <tr>\n",
              "      <th>127</th>\n",
              "      <td>11.79</td>\n",
              "      <td>2.13</td>\n",
              "      <td>2.78</td>\n",
              "      <td>28.5</td>\n",
              "      <td>92</td>\n",
              "      <td>2.13</td>\n",
              "      <td>2.24</td>\n",
              "      <td>0.58</td>\n",
              "      <td>1.76</td>\n",
              "      <td>3.00</td>\n",
              "      <td>0.970</td>\n",
              "      <td>2.44</td>\n",
              "      <td>466</td>\n",
              "    </tr>\n",
              "    <tr>\n",
              "      <th>158</th>\n",
              "      <td>14.34</td>\n",
              "      <td>1.68</td>\n",
              "      <td>2.70</td>\n",
              "      <td>25.0</td>\n",
              "      <td>98</td>\n",
              "      <td>2.80</td>\n",
              "      <td>1.31</td>\n",
              "      <td>0.53</td>\n",
              "      <td>2.70</td>\n",
              "      <td>13.00</td>\n",
              "      <td>0.570</td>\n",
              "      <td>1.96</td>\n",
              "      <td>660</td>\n",
              "    </tr>\n",
              "    <tr>\n",
              "      <th>159</th>\n",
              "      <td>13.48</td>\n",
              "      <td>1.67</td>\n",
              "      <td>2.64</td>\n",
              "      <td>22.5</td>\n",
              "      <td>89</td>\n",
              "      <td>2.60</td>\n",
              "      <td>1.10</td>\n",
              "      <td>0.52</td>\n",
              "      <td>2.29</td>\n",
              "      <td>11.75</td>\n",
              "      <td>0.570</td>\n",
              "      <td>1.78</td>\n",
              "      <td>620</td>\n",
              "    </tr>\n",
              "  </tbody>\n",
              "</table>\n",
              "</div>"
            ],
            "text/plain": [
              "        1     2     3     4    5     6   ...    8     9      10     11    12    13\n",
              "50   13.05  1.73  2.04  12.4   92  2.72  ...  0.17  2.91   7.20  1.120  2.91  1150\n",
              "59   12.37  0.94  1.36  10.6   88  1.98  ...  0.28  0.42   1.95  1.050  1.82   520\n",
              "69   12.21  1.19  1.75  16.8  151  1.85  ...  0.14  2.50   2.85  1.280  3.07   718\n",
              "70   12.29  1.61  2.21  20.4  103  1.10  ...  0.37  1.46   3.05  0.906  1.82   870\n",
              "71   13.86  1.51  2.67  25.0   86  2.95  ...  0.21  1.87   3.38  1.360  3.16   410\n",
              "73   12.99  1.67  2.60  30.0  139  3.30  ...  0.21  1.96   3.35  1.310  3.50   985\n",
              "74   11.96  1.09  2.30  21.0  101  3.38  ...  0.13  1.65   3.21  0.990  3.13   886\n",
              "78   12.33  0.99  1.95  14.8  136  1.90  ...  0.35  2.76   3.40  1.060  2.31   750\n",
              "79   12.70  3.87  2.40  23.0  101  2.83  ...  0.43  1.95   2.57  1.190  3.13   463\n",
              "95   12.47  1.52  2.20  19.0  162  2.50  ...  0.32  3.28   2.60  1.160  2.63   937\n",
              "96   11.81  2.12  2.74  21.5  134  1.60  ...  0.14  1.56   2.50  0.950  2.26   625\n",
              "99   12.29  3.17  2.21  18.0   88  2.85  ...  0.45  2.81   2.30  1.420  2.83   406\n",
              "105  12.42  2.55  2.27  22.0   90  1.68  ...  0.66  1.42   2.70  0.860  3.30   315\n",
              "110  11.46  3.74  1.82  19.5  107  3.18  ...  0.24  3.58   2.90  0.750  2.81   562\n",
              "115  11.03  1.51  2.20  21.5   85  2.46  ...  0.52  2.01   1.90  1.710  2.87   407\n",
              "121  11.56  2.05  3.23  28.5  119  3.18  ...  0.47  1.87   6.00  0.930  3.69   465\n",
              "122  12.42  4.43  2.73  26.5  102  2.20  ...  0.43  1.71   2.08  0.920  3.12   365\n",
              "123  13.05  5.80  2.13  21.5   86  2.62  ...  0.30  2.01   2.60  0.730  3.10   380\n",
              "124  11.87  4.31  2.39  21.0   82  2.86  ...  0.21  2.91   2.80  0.750  3.64   380\n",
              "127  11.79  2.13  2.78  28.5   92  2.13  ...  0.58  1.76   3.00  0.970  2.44   466\n",
              "158  14.34  1.68  2.70  25.0   98  2.80  ...  0.53  2.70  13.00  0.570  1.96   660\n",
              "159  13.48  1.67  2.64  22.5   89  2.60  ...  0.52  2.29  11.75  0.570  1.78   620\n",
              "\n",
              "[22 rows x 13 columns]"
            ]
          },
          "metadata": {
            "tags": []
          },
          "execution_count": 119
        }
      ]
    },
    {
      "cell_type": "code",
      "metadata": {
        "colab": {
          "base_uri": "https://localhost:8080/",
          "height": 542
        },
        "id": "POv_Y4MNYGNn",
        "outputId": "8e4cb7bb-e256-4163-b8f2-d9691568a7e9"
      },
      "source": [
        "fig = px.scatter_3d(data_tsne, x=0, y=1, z=2, \n",
        "              color=dbscan.labels_, size=[0.1 for i in range(178)], symbol=wine[0])\n",
        "fig.show()"
      ],
      "execution_count": 120,
      "outputs": [
        {
          "output_type": "display_data",
          "data": {
            "text/html": [
              "<html>\n",
              "<head><meta charset=\"utf-8\" /></head>\n",
              "<body>\n",
              "    <div>\n",
              "            <script src=\"https://cdnjs.cloudflare.com/ajax/libs/mathjax/2.7.5/MathJax.js?config=TeX-AMS-MML_SVG\"></script><script type=\"text/javascript\">if (window.MathJax) {MathJax.Hub.Config({SVG: {font: \"STIX-Web\"}});}</script>\n",
              "                <script type=\"text/javascript\">window.PlotlyConfig = {MathJaxConfig: 'local'};</script>\n",
              "        <script src=\"https://cdn.plot.ly/plotly-latest.min.js\"></script>    \n",
              "            <div id=\"69bf771e-d2ee-44f4-821a-149633acc4a5\" class=\"plotly-graph-div\" style=\"height:525px; width:100%;\"></div>\n",
              "            <script type=\"text/javascript\">\n",
              "                \n",
              "                    window.PLOTLYENV=window.PLOTLYENV || {};\n",
              "                    \n",
              "                if (document.getElementById(\"69bf771e-d2ee-44f4-821a-149633acc4a5\")) {\n",
              "                    Plotly.newPlot(\n",
              "                        '69bf771e-d2ee-44f4-821a-149633acc4a5',\n",
              "                        [{\"hoverlabel\": {\"namelength\": 0}, \"hovertemplate\": \"symbol=1<br>0=%{x}<br>1=%{y}<br>2=%{z}<br>size=%{marker.size}<br>color=%{marker.color}\", \"legendgroup\": \"symbol=1\", \"marker\": {\"color\": [0, 0, 0, 0, 0, 0, 0, 0, 0, 0, 0, 0, 0, 0, 0, 0, 0, 0, 0, 0, 0, 0, 0, 0, 0, 0, 0, 0, 0, 0, 0, 0, 0, 0, 0, 0, 0, 0, 0, 0, 0, 0, 0, 0, 0, 0, 0, 0, 0, 0, -1, 0, 0, 0, 0, 0, 0, 0, 0], \"coloraxis\": \"coloraxis\", \"size\": [0.1, 0.1, 0.1, 0.1, 0.1, 0.1, 0.1, 0.1, 0.1, 0.1, 0.1, 0.1, 0.1, 0.1, 0.1, 0.1, 0.1, 0.1, 0.1, 0.1, 0.1, 0.1, 0.1, 0.1, 0.1, 0.1, 0.1, 0.1, 0.1, 0.1, 0.1, 0.1, 0.1, 0.1, 0.1, 0.1, 0.1, 0.1, 0.1, 0.1, 0.1, 0.1, 0.1, 0.1, 0.1, 0.1, 0.1, 0.1, 0.1, 0.1, 0.1, 0.1, 0.1, 0.1, 0.1, 0.1, 0.1, 0.1, 0.1], \"sizemode\": \"area\", \"sizeref\": 0.00025, \"symbol\": \"circle\"}, \"mode\": \"markers\", \"name\": \"symbol=1\", \"scene\": \"scene\", \"showlegend\": true, \"type\": \"scatter3d\", \"x\": [-41.921382904052734, -2.2606329917907715, -81.97598266601562, -133.83859252929688, 63.063880920410156, -63.22792434692383, -67.25444793701172, -88.43571472167969, 4.220130920410156, -42.79279708862305, -132.626953125, -105.1575698852539, -100.2225341796875, -54.841148376464844, -163.78367614746094, -49.00096130371094, 82.56867980957031, -23.33650779724121, -138.26312255859375, 105.43985748291016, 40.10280227661133, 85.14315032958984, -12.629487037658691, 8.26115608215332, 22.727863311767578, 95.45232391357422, -89.00695037841797, -57.76607131958008, 70.32886505126953, -40.84818649291992, -70.94087982177734, -142.6409454345703, 27.139270782470703, 122.70526885986328, -35.11731719970703, 71.28622436523438, 99.81414794921875, -63.36687469482422, -1.253692626953125, 70.88553619384766, 53.17543411254883, -17.01038360595703, -22.86330223083496, 83.95330810546875, 78.11892700195312, -24.379953384399414, -8.291034698486328, 25.994686126708984, -4.698835372924805, -35.31101989746094, -77.1351089477539, -73.82859802246094, -56.132484436035156, -114.48871612548828, -20.55289649963379, -48.27554702758789, 35.83856964111328, -93.53392028808594, -95.26380920410156], \"y\": [-82.0268325805664, -85.3500747680664, -109.16029357910156, -52.20712661743164, 46.179595947265625, -15.081052780151367, -30.803199768066406, -24.280071258544922, -115.84729766845703, -117.37383270263672, -91.82542419433594, -21.954050064086914, -86.90650177001953, -71.72863006591797, -69.0538330078125, -30.032390594482422, -71.83466339111328, 147.87335205078125, -56.39162826538086, -51.87498474121094, -9.673653602600098, -22.241796493530273, -91.9334487915039, -123.06031036376953, -32.332366943359375, -49.701202392578125, -80.3252944946289, -91.43765258789062, -119.50804901123047, -149.17257690429688, -54.8063850402832, -85.74844360351562, -90.79866027832031, -66.2354965209961, -103.80935668945312, -103.32496643066406, -90.83522033691406, -114.49213409423828, -147.5672149658203, 10.843504905700684, -43.556034088134766, -54.645240783691406, -142.28697204589844, 55.0336799621582, -79.23088836669922, -115.5086669921875, -80.10296630859375, -152.17550659179688, -114.09786987304688, -65.42326354980469, 92.9608154296875, -60.7940559387207, -92.83019256591797, -51.26353454589844, -43.49736404418945, -130.93653869628906, -122.86040496826172, -58.081573486328125, -85.07125091552734], \"z\": [-0.8642921447753906, -10.226807594299316, -50.900760650634766, -73.22545623779297, -98.70154571533203, -133.3319549560547, -63.335269927978516, -99.1878890991211, -25.540485382080078, 27.09138298034668, -52.043739318847656, -65.01832580566406, -82.92415618896484, -40.28431701660156, -58.789939880371094, -96.82650756835938, 48.44178009033203, -68.56478118896484, -30.762126922607422, -29.268638610839844, -110.31285858154297, -105.02420043945312, 24.64588737487793, 27.820331573486328, -67.93352508544922, -67.21672058105469, -25.084766387939453, -113.07160186767578, -29.27863883972168, -1.3942508697509766, -123.49761199951172, -90.44104766845703, 11.901934623718262, 30.105995178222656, -36.83207321166992, 3.162139415740967, -31.965240478515625, -13.395176887512207, 1.9453507661819458, -115.03565979003906, -99.63394927978516, -13.549256324768066, -37.3954963684082, -20.448728561401367, -84.98710632324219, -4.97804594039917, -46.04331588745117, -26.13182830810547, -63.77266311645508, -93.15223693847656, -70.51742553710938, -86.96927642822266, -72.20459747314453, -107.18527221679688, -49.255733489990234, -61.8619270324707, -47.95811462402344, -56.797149658203125, -119.39259338378906]}, {\"hoverlabel\": {\"namelength\": 0}, \"hovertemplate\": \"symbol=2<br>0=%{x}<br>1=%{y}<br>2=%{z}<br>size=%{marker.size}<br>color=%{marker.color}\", \"legendgroup\": \"symbol=2\", \"marker\": {\"color\": [-1, 1, 1, 0, 0, 0, 0, 0, 0, 1, -1, -1, -1, 0, -1, -1, 0, 0, 0, -1, -1, 0, 0, 0, 1, 0, 0, 0, 0, 0, 0, 0, 0, 0, 0, 0, -1, -1, 0, 0, -1, 0, 0, 0, 0, 0, -1, 0, 0, 0, 0, -1, 0, 0, 0, 0, -1, 0, 0, 1, 0, 0, -1, -1, -1, -1, 0, 0, -1, 0, 0], \"coloraxis\": \"coloraxis\", \"size\": [0.1, 0.1, 0.1, 0.1, 0.1, 0.1, 0.1, 0.1, 0.1, 0.1, 0.1, 0.1, 0.1, 0.1, 0.1, 0.1, 0.1, 0.1, 0.1, 0.1, 0.1, 0.1, 0.1, 0.1, 0.1, 0.1, 0.1, 0.1, 0.1, 0.1, 0.1, 0.1, 0.1, 0.1, 0.1, 0.1, 0.1, 0.1, 0.1, 0.1, 0.1, 0.1, 0.1, 0.1, 0.1, 0.1, 0.1, 0.1, 0.1, 0.1, 0.1, 0.1, 0.1, 0.1, 0.1, 0.1, 0.1, 0.1, 0.1, 0.1, 0.1, 0.1, 0.1, 0.1, 0.1, 0.1, 0.1, 0.1, 0.1, 0.1, 0.1], \"sizemode\": \"area\", \"sizeref\": 0.00025, \"symbol\": \"diamond\"}, \"mode\": \"markers\", \"name\": \"symbol=2\", \"scene\": \"scene\", \"showlegend\": true, \"type\": \"scatter3d\", \"x\": [-22.13843536376953, -92.69749450683594, -34.28171920776367, 63.37700653076172, -23.581409454345703, 20.67980194091797, 123.60344696044922, 17.837600708007812, 3.6824538707733154, 40.79058074951172, 96.7391128540039, 43.3572883605957, -16.271894454956055, -38.20072555541992, 35.38883590698242, 77.50025177001953, -53.83546829223633, -6.445496082305908, -29.128639221191406, 107.16741180419922, -64.49504089355469, 37.08408737182617, 84.95838928222656, 106.1993637084961, 13.989962577819824, -0.352530837059021, -50.14215087890625, 103.38286590576172, 16.432645797729492, 122.57659912109375, 59.80583190917969, -34.40077590942383, -22.447845458984375, -11.584320068359375, -18.49406623840332, 63.786476135253906, 42.8603401184082, -55.69028854370117, -80.47358703613281, 72.94487762451172, -47.58174133300781, 120.45858001708984, -5.4229841232299805, -48.84541702270508, -46.53125, 92.47373962402344, 20.067472457885742, 27.46017074584961, 1.9733951091766357, 4.8620147705078125, 60.4728889465332, -7.855462074279785, 8.816253662109375, 54.05733108520508, -79.85151672363281, 2.833934783935547, 63.121368408203125, -17.61407470703125, -37.038719177246094, -31.0692195892334, -30.621774673461914, -9.072480201721191, -91.58397674560547, -136.0472412109375, -21.265241622924805, -34.131710052490234, -53.52342987060547, -9.141778945922852, -60.522220611572266, -67.39224243164062, 3.6045215129852295], \"y\": [-18.2937068939209, 64.5073471069336, 34.467350006103516, 71.91719055175781, 80.41742706298828, 127.10425567626953, 1.349858045578003, 87.20518493652344, 24.40522003173828, 18.7315616607666, 62.95410919189453, -81.5804672241211, 97.69706726074219, 76.95343780517578, -125.48673248291016, -104.51496887207031, 92.23200225830078, 113.9646224975586, 22.766286849975586, -7.957644462585449, 31.74435043334961, 151.33160400390625, 19.614501953125, 78.44136810302734, 21.153148651123047, 44.83908462524414, 40.3614501953125, -149.09585571289062, -54.259498596191406, 70.07123565673828, -7.503633499145508, 42.06767272949219, 60.80482864379883, 49.004703521728516, 172.8058624267578, -81.54350280761719, -91.4931869506836, -6.694714069366455, 94.7960205078125, 28.42188835144043, 109.90727233886719, 13.038145065307617, -27.42598533630371, 65.70861053466797, 103.92391204833984, 57.86199188232422, 114.92318725585938, 34.73448181152344, 64.7657470703125, 146.71087646484375, 35.56002426147461, -79.59072875976562, 167.5127716064453, 42.12135314941406, 68.30540466308594, 152.72727966308594, 131.6385040283203, 87.50621032714844, 133.48220825195312, 168.8202362060547, -54.052452087402344, -2.307905435562134, 34.56248092651367, -6.548863887786865, 134.14837646484375, 143.11917114257812, 137.17599487304688, 134.47695922851562, 35.54535675048828, 154.127197265625, -4.176446914672852], \"z\": [138.56581115722656, 104.27765655517578, -60.13105773925781, 46.33052062988281, 4.803529739379883, 32.62040328979492, 6.612555980682373, -79.34176635742188, 84.68458557128906, -83.51229858398438, -84.59097290039062, -67.38797760009766, 38.3202018737793, 93.11924743652344, -1.2840358018875122, -60.86792755126953, 52.27881622314453, -0.7568641304969788, 147.98768615722656, -76.23993682861328, 22.78705406188965, 69.17174530029297, -37.96287155151367, 58.117469787597656, 148.48509216308594, -14.16861629486084, -24.551593780517578, -7.825510501861572, 99.25968933105469, -3.2816927433013916, 50.67628479003906, 85.01531982421875, 49.500030517578125, 119.60387420654297, 75.13187408447266, 96.9142074584961, -25.018184661865234, -17.94315528869629, 11.744040489196777, 30.080060958862305, 17.74272918701172, -41.278079986572266, 77.5840072631836, 25.218713760375977, -18.38924217224121, 17.014785766601562, 75.97904968261719, 114.2154312133789, 87.14966583251953, 94.8107681274414, -4.571704864501953, 84.35443115234375, 45.83187484741211, 76.6799545288086, 42.352535247802734, 2.9478979110717773, -46.252296447753906, -57.092411041259766, 84.37313842773438, 27.537546157836914, 69.83193969726562, 12.05306625366211, 0.5389601588249207, 49.48942565917969, 25.744007110595703, -8.974374771118164, 46.829917907714844, 58.90610885620117, 59.70669174194336, 13.451512336730957, 51.02782440185547]}, {\"hoverlabel\": {\"namelength\": 0}, \"hovertemplate\": \"symbol=3<br>0=%{x}<br>1=%{y}<br>2=%{z}<br>size=%{marker.size}<br>color=%{marker.color}\", \"legendgroup\": \"symbol=3\", \"marker\": {\"color\": [1, 1, 1, 1, 1, 1, 1, 1, 1, 1, 1, 1, 1, 1, 1, 1, 1, 1, 1, 1, 1, 1, 1, 1, 1, 1, 1, 1, -1, -1, 1, 1, 1, 1, 1, 1, 1, 1, 1, 1, 1, 1, 1, 1, 1, 1, 1, 1], \"coloraxis\": \"coloraxis\", \"size\": [0.1, 0.1, 0.1, 0.1, 0.1, 0.1, 0.1, 0.1, 0.1, 0.1, 0.1, 0.1, 0.1, 0.1, 0.1, 0.1, 0.1, 0.1, 0.1, 0.1, 0.1, 0.1, 0.1, 0.1, 0.1, 0.1, 0.1, 0.1, 0.1, 0.1, 0.1, 0.1, 0.1, 0.1, 0.1, 0.1, 0.1, 0.1, 0.1, 0.1, 0.1, 0.1, 0.1, 0.1, 0.1, 0.1, 0.1, 0.1], \"sizemode\": \"area\", \"sizeref\": 0.00025, \"symbol\": \"square\"}, \"mode\": \"markers\", \"name\": \"symbol=3\", \"scene\": \"scene\", \"showlegend\": true, \"type\": \"scatter3d\", \"x\": [32.288780212402344, 7.5473432540893555, -63.426292419433594, -39.09306716918945, -97.9572982788086, 90.77491760253906, 64.1750259399414, 1.559194564819336, -95.83564758300781, -18.1085262298584, 16.97706413269043, 63.130916595458984, 28.895198822021484, -20.68821144104004, 72.34033966064453, 52.86028289794922, 84.09048461914062, -80.86477661132812, 94.63371276855469, 32.696598052978516, -59.579872131347656, -115.78665924072266, -61.22579574584961, 142.3280029296875, 66.26766967773438, 49.29032516479492, -69.5346450805664, 74.48136901855469, 125.66776275634766, 33.096805572509766, -29.6639347076416, 31.027976989746094, 13.552687644958496, 105.85243225097656, -48.37604904174805, 20.12777328491211, 114.02400207519531, 83.09163665771484, -129.28953552246094, -68.51750183105469, 23.168140411376953, -29.992130279541016, 103.17060089111328, 78.97981262207031, 104.76237487792969, 76.88046264648438, 46.12109375, -7.3787455558776855], \"y\": [41.80099868774414, 49.822933197021484, 49.255470275878906, -15.830917358398438, -18.466472625732422, 88.20063018798828, 51.11698532104492, 3.610888719558716, 44.549339294433594, -38.52006912231445, -30.337005615234375, -13.075007438659668, -15.931571960449219, -44.642276763916016, -69.82560729980469, -46.64691162109375, 16.501182556152344, -14.684867858886719, 40.4522705078125, -22.34805679321289, 29.133886337280273, 60.39737319946289, 69.9159164428711, 35.52755355834961, 89.73728942871094, 15.129508018493652, 13.172877311706543, -66.64179992675781, 40.16889953613281, 5.034063339233398, 3.069448232650757, 116.19163513183594, -53.716148376464844, 31.57071304321289, -16.725820541381836, 60.14130783081055, 52.92321014404297, 2.393342971801758, 77.60823059082031, -49.67681884765625, 76.30799865722656, 28.830883026123047, 7.767517566680908, 21.2419376373291, 21.592910766601562, -30.337068557739258, -42.702484130859375, 5.653745174407959], \"z\": [45.361873626708984, -52.63119125366211, -88.21279907226562, 52.859275817871094, 7.949702739715576, -20.962953567504883, -54.91935348510742, 116.83473205566406, -47.219139099121094, 33.74545669555664, 23.02476692199707, -75.94287109375, 130.23892211914062, 106.79772186279297, -43.85319900512695, -60.64261245727539, 110.16592407226562, 47.525596618652344, 58.739749908447266, 85.00054931640625, 128.76687622070312, 10.732361793518066, -7.775752067565918, -6.554966449737549, 34.895755767822266, -43.601722717285156, 89.56595611572266, -6.898021221160889, 32.37091827392578, 21.578893661499023, 101.370361328125, -33.44840621948242, 58.305511474609375, -4.713954925537109, 17.488359451293945, 12.284041404724121, -44.55188751220703, -0.10573332011699677, 65.41604614257812, 32.247047424316406, -25.276281356811523, 38.29160690307617, 39.82652282714844, -73.5854721069336, -99.41983795166016, -38.7562370300293, -22.38728904724121, -27.035282135009766]}],\n",
              "                        {\"coloraxis\": {\"colorbar\": {\"title\": {\"text\": \"color\"}}, \"colorscale\": [[0.0, \"#0d0887\"], [0.1111111111111111, \"#46039f\"], [0.2222222222222222, \"#7201a8\"], [0.3333333333333333, \"#9c179e\"], [0.4444444444444444, \"#bd3786\"], [0.5555555555555556, \"#d8576b\"], [0.6666666666666666, \"#ed7953\"], [0.7777777777777778, \"#fb9f3a\"], [0.8888888888888888, \"#fdca26\"], [1.0, \"#f0f921\"]]}, \"legend\": {\"itemsizing\": \"constant\", \"tracegroupgap\": 0}, \"margin\": {\"t\": 60}, \"scene\": {\"domain\": {\"x\": [0.0, 1.0], \"y\": [0.0, 1.0]}, \"xaxis\": {\"title\": {\"text\": \"0\"}}, \"yaxis\": {\"title\": {\"text\": \"1\"}}, \"zaxis\": {\"title\": {\"text\": \"2\"}}}, \"template\": {\"data\": {\"bar\": [{\"error_x\": {\"color\": \"#2a3f5f\"}, \"error_y\": {\"color\": \"#2a3f5f\"}, \"marker\": {\"line\": {\"color\": \"#E5ECF6\", \"width\": 0.5}}, \"type\": \"bar\"}], \"barpolar\": [{\"marker\": {\"line\": {\"color\": \"#E5ECF6\", \"width\": 0.5}}, \"type\": \"barpolar\"}], \"carpet\": [{\"aaxis\": {\"endlinecolor\": \"#2a3f5f\", \"gridcolor\": \"white\", \"linecolor\": \"white\", \"minorgridcolor\": \"white\", \"startlinecolor\": \"#2a3f5f\"}, \"baxis\": {\"endlinecolor\": \"#2a3f5f\", \"gridcolor\": \"white\", \"linecolor\": \"white\", \"minorgridcolor\": \"white\", \"startlinecolor\": \"#2a3f5f\"}, \"type\": \"carpet\"}], \"choropleth\": [{\"colorbar\": {\"outlinewidth\": 0, \"ticks\": \"\"}, \"type\": \"choropleth\"}], \"contour\": [{\"colorbar\": {\"outlinewidth\": 0, \"ticks\": \"\"}, \"colorscale\": [[0.0, \"#0d0887\"], [0.1111111111111111, \"#46039f\"], [0.2222222222222222, \"#7201a8\"], [0.3333333333333333, \"#9c179e\"], [0.4444444444444444, \"#bd3786\"], [0.5555555555555556, \"#d8576b\"], [0.6666666666666666, \"#ed7953\"], [0.7777777777777778, \"#fb9f3a\"], [0.8888888888888888, \"#fdca26\"], [1.0, \"#f0f921\"]], \"type\": \"contour\"}], \"contourcarpet\": [{\"colorbar\": {\"outlinewidth\": 0, \"ticks\": \"\"}, \"type\": \"contourcarpet\"}], \"heatmap\": [{\"colorbar\": {\"outlinewidth\": 0, \"ticks\": \"\"}, \"colorscale\": [[0.0, \"#0d0887\"], [0.1111111111111111, \"#46039f\"], [0.2222222222222222, \"#7201a8\"], [0.3333333333333333, \"#9c179e\"], [0.4444444444444444, \"#bd3786\"], [0.5555555555555556, \"#d8576b\"], [0.6666666666666666, \"#ed7953\"], [0.7777777777777778, \"#fb9f3a\"], [0.8888888888888888, \"#fdca26\"], [1.0, \"#f0f921\"]], \"type\": \"heatmap\"}], \"heatmapgl\": [{\"colorbar\": {\"outlinewidth\": 0, \"ticks\": \"\"}, \"colorscale\": [[0.0, \"#0d0887\"], [0.1111111111111111, \"#46039f\"], [0.2222222222222222, \"#7201a8\"], [0.3333333333333333, \"#9c179e\"], [0.4444444444444444, \"#bd3786\"], [0.5555555555555556, \"#d8576b\"], [0.6666666666666666, \"#ed7953\"], [0.7777777777777778, \"#fb9f3a\"], [0.8888888888888888, \"#fdca26\"], [1.0, \"#f0f921\"]], \"type\": \"heatmapgl\"}], \"histogram\": [{\"marker\": {\"colorbar\": {\"outlinewidth\": 0, \"ticks\": \"\"}}, \"type\": \"histogram\"}], \"histogram2d\": [{\"colorbar\": {\"outlinewidth\": 0, \"ticks\": \"\"}, \"colorscale\": [[0.0, \"#0d0887\"], [0.1111111111111111, \"#46039f\"], [0.2222222222222222, \"#7201a8\"], [0.3333333333333333, \"#9c179e\"], [0.4444444444444444, \"#bd3786\"], [0.5555555555555556, \"#d8576b\"], [0.6666666666666666, \"#ed7953\"], [0.7777777777777778, \"#fb9f3a\"], [0.8888888888888888, \"#fdca26\"], [1.0, \"#f0f921\"]], \"type\": \"histogram2d\"}], \"histogram2dcontour\": [{\"colorbar\": {\"outlinewidth\": 0, \"ticks\": \"\"}, \"colorscale\": [[0.0, \"#0d0887\"], [0.1111111111111111, \"#46039f\"], [0.2222222222222222, \"#7201a8\"], [0.3333333333333333, \"#9c179e\"], [0.4444444444444444, \"#bd3786\"], [0.5555555555555556, \"#d8576b\"], [0.6666666666666666, \"#ed7953\"], [0.7777777777777778, \"#fb9f3a\"], [0.8888888888888888, \"#fdca26\"], [1.0, \"#f0f921\"]], \"type\": \"histogram2dcontour\"}], \"mesh3d\": [{\"colorbar\": {\"outlinewidth\": 0, \"ticks\": \"\"}, \"type\": \"mesh3d\"}], \"parcoords\": [{\"line\": {\"colorbar\": {\"outlinewidth\": 0, \"ticks\": \"\"}}, \"type\": \"parcoords\"}], \"pie\": [{\"automargin\": true, \"type\": \"pie\"}], \"scatter\": [{\"marker\": {\"colorbar\": {\"outlinewidth\": 0, \"ticks\": \"\"}}, \"type\": \"scatter\"}], \"scatter3d\": [{\"line\": {\"colorbar\": {\"outlinewidth\": 0, \"ticks\": \"\"}}, \"marker\": {\"colorbar\": {\"outlinewidth\": 0, \"ticks\": \"\"}}, \"type\": \"scatter3d\"}], \"scattercarpet\": [{\"marker\": {\"colorbar\": {\"outlinewidth\": 0, \"ticks\": \"\"}}, \"type\": \"scattercarpet\"}], \"scattergeo\": [{\"marker\": {\"colorbar\": {\"outlinewidth\": 0, \"ticks\": \"\"}}, \"type\": \"scattergeo\"}], \"scattergl\": [{\"marker\": {\"colorbar\": {\"outlinewidth\": 0, \"ticks\": \"\"}}, \"type\": \"scattergl\"}], \"scattermapbox\": [{\"marker\": {\"colorbar\": {\"outlinewidth\": 0, \"ticks\": \"\"}}, \"type\": \"scattermapbox\"}], \"scatterpolar\": [{\"marker\": {\"colorbar\": {\"outlinewidth\": 0, \"ticks\": \"\"}}, \"type\": \"scatterpolar\"}], \"scatterpolargl\": [{\"marker\": {\"colorbar\": {\"outlinewidth\": 0, \"ticks\": \"\"}}, \"type\": \"scatterpolargl\"}], \"scatterternary\": [{\"marker\": {\"colorbar\": {\"outlinewidth\": 0, \"ticks\": \"\"}}, \"type\": \"scatterternary\"}], \"surface\": [{\"colorbar\": {\"outlinewidth\": 0, \"ticks\": \"\"}, \"colorscale\": [[0.0, \"#0d0887\"], [0.1111111111111111, \"#46039f\"], [0.2222222222222222, \"#7201a8\"], [0.3333333333333333, \"#9c179e\"], [0.4444444444444444, \"#bd3786\"], [0.5555555555555556, \"#d8576b\"], [0.6666666666666666, \"#ed7953\"], [0.7777777777777778, \"#fb9f3a\"], [0.8888888888888888, \"#fdca26\"], [1.0, \"#f0f921\"]], \"type\": \"surface\"}], \"table\": [{\"cells\": {\"fill\": {\"color\": \"#EBF0F8\"}, \"line\": {\"color\": \"white\"}}, \"header\": {\"fill\": {\"color\": \"#C8D4E3\"}, \"line\": {\"color\": \"white\"}}, \"type\": \"table\"}]}, \"layout\": {\"annotationdefaults\": {\"arrowcolor\": \"#2a3f5f\", \"arrowhead\": 0, \"arrowwidth\": 1}, \"coloraxis\": {\"colorbar\": {\"outlinewidth\": 0, \"ticks\": \"\"}}, \"colorscale\": {\"diverging\": [[0, \"#8e0152\"], [0.1, \"#c51b7d\"], [0.2, \"#de77ae\"], [0.3, \"#f1b6da\"], [0.4, \"#fde0ef\"], [0.5, \"#f7f7f7\"], [0.6, \"#e6f5d0\"], [0.7, \"#b8e186\"], [0.8, \"#7fbc41\"], [0.9, \"#4d9221\"], [1, \"#276419\"]], \"sequential\": [[0.0, \"#0d0887\"], [0.1111111111111111, \"#46039f\"], [0.2222222222222222, \"#7201a8\"], [0.3333333333333333, \"#9c179e\"], [0.4444444444444444, \"#bd3786\"], [0.5555555555555556, \"#d8576b\"], [0.6666666666666666, \"#ed7953\"], [0.7777777777777778, \"#fb9f3a\"], [0.8888888888888888, \"#fdca26\"], [1.0, \"#f0f921\"]], \"sequentialminus\": [[0.0, \"#0d0887\"], [0.1111111111111111, \"#46039f\"], [0.2222222222222222, \"#7201a8\"], [0.3333333333333333, \"#9c179e\"], [0.4444444444444444, \"#bd3786\"], [0.5555555555555556, \"#d8576b\"], [0.6666666666666666, \"#ed7953\"], [0.7777777777777778, \"#fb9f3a\"], [0.8888888888888888, \"#fdca26\"], [1.0, \"#f0f921\"]]}, \"colorway\": [\"#636efa\", \"#EF553B\", \"#00cc96\", \"#ab63fa\", \"#FFA15A\", \"#19d3f3\", \"#FF6692\", \"#B6E880\", \"#FF97FF\", \"#FECB52\"], \"font\": {\"color\": \"#2a3f5f\"}, \"geo\": {\"bgcolor\": \"white\", \"lakecolor\": \"white\", \"landcolor\": \"#E5ECF6\", \"showlakes\": true, \"showland\": true, \"subunitcolor\": \"white\"}, \"hoverlabel\": {\"align\": \"left\"}, \"hovermode\": \"closest\", \"mapbox\": {\"style\": \"light\"}, \"paper_bgcolor\": \"white\", \"plot_bgcolor\": \"#E5ECF6\", \"polar\": {\"angularaxis\": {\"gridcolor\": \"white\", \"linecolor\": \"white\", \"ticks\": \"\"}, \"bgcolor\": \"#E5ECF6\", \"radialaxis\": {\"gridcolor\": \"white\", \"linecolor\": \"white\", \"ticks\": \"\"}}, \"scene\": {\"xaxis\": {\"backgroundcolor\": \"#E5ECF6\", \"gridcolor\": \"white\", \"gridwidth\": 2, \"linecolor\": \"white\", \"showbackground\": true, \"ticks\": \"\", \"zerolinecolor\": \"white\"}, \"yaxis\": {\"backgroundcolor\": \"#E5ECF6\", \"gridcolor\": \"white\", \"gridwidth\": 2, \"linecolor\": \"white\", \"showbackground\": true, \"ticks\": \"\", \"zerolinecolor\": \"white\"}, \"zaxis\": {\"backgroundcolor\": \"#E5ECF6\", \"gridcolor\": \"white\", \"gridwidth\": 2, \"linecolor\": \"white\", \"showbackground\": true, \"ticks\": \"\", \"zerolinecolor\": \"white\"}}, \"shapedefaults\": {\"line\": {\"color\": \"#2a3f5f\"}}, \"ternary\": {\"aaxis\": {\"gridcolor\": \"white\", \"linecolor\": \"white\", \"ticks\": \"\"}, \"baxis\": {\"gridcolor\": \"white\", \"linecolor\": \"white\", \"ticks\": \"\"}, \"bgcolor\": \"#E5ECF6\", \"caxis\": {\"gridcolor\": \"white\", \"linecolor\": \"white\", \"ticks\": \"\"}}, \"title\": {\"x\": 0.05}, \"xaxis\": {\"automargin\": true, \"gridcolor\": \"white\", \"linecolor\": \"white\", \"ticks\": \"\", \"title\": {\"standoff\": 15}, \"zerolinecolor\": \"white\", \"zerolinewidth\": 2}, \"yaxis\": {\"automargin\": true, \"gridcolor\": \"white\", \"linecolor\": \"white\", \"ticks\": \"\", \"title\": {\"standoff\": 15}, \"zerolinecolor\": \"white\", \"zerolinewidth\": 2}}}},\n",
              "                        {\"responsive\": true}\n",
              "                    ).then(function(){\n",
              "                            \n",
              "var gd = document.getElementById('69bf771e-d2ee-44f4-821a-149633acc4a5');\n",
              "var x = new MutationObserver(function (mutations, observer) {{\n",
              "        var display = window.getComputedStyle(gd).display;\n",
              "        if (!display || display === 'none') {{\n",
              "            console.log([gd, 'removed!']);\n",
              "            Plotly.purge(gd);\n",
              "            observer.disconnect();\n",
              "        }}\n",
              "}});\n",
              "\n",
              "// Listen for the removal of the full notebook cells\n",
              "var notebookContainer = gd.closest('#notebook-container');\n",
              "if (notebookContainer) {{\n",
              "    x.observe(notebookContainer, {childList: true});\n",
              "}}\n",
              "\n",
              "// Listen for the clearing of the current output cell\n",
              "var outputEl = gd.closest('.output');\n",
              "if (outputEl) {{\n",
              "    x.observe(outputEl, {childList: true});\n",
              "}}\n",
              "\n",
              "                        })\n",
              "                };\n",
              "                \n",
              "            </script>\n",
              "        </div>\n",
              "</body>\n",
              "</html>"
            ]
          },
          "metadata": {
            "tags": []
          }
        }
      ]
    }
  ]
}