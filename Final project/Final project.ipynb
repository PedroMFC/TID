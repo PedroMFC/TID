{
  "nbformat": 4,
  "nbformat_minor": 0,
  "metadata": {
    "colab": {
      "name": "Pokemon.ipynb",
      "provenance": [],
      "collapsed_sections": [],
      "toc_visible": true
    },
    "kernelspec": {
      "name": "python3",
      "display_name": "Python 3"
    }
  },
  "cells": [
    {
      "cell_type": "markdown",
      "metadata": {
        "id": "snD7aCANT1WZ"
      },
      "source": [
        "# Práctica TID Final: *Pokemon- Weedle's Cave* \n",
        "## Autores:\n",
        "Pedro Manuel Flores Crespo\n",
        "\n",
        "Aure Nogueras Lara\n",
        "\n",
        "Marcin Michal Januszewski \n",
        "\n",
        "Enero 2020\n"
      ]
    },
    {
      "cell_type": "code",
      "metadata": {
        "id": "MRPzW3p9b0Fr"
      },
      "source": [
        "import matplotlib.pyplot as plt\n",
        "import seaborn as sns\n",
        "import pandas as pd \n",
        "import numpy as np"
      ],
      "execution_count": null,
      "outputs": []
    },
    {
      "cell_type": "markdown",
      "metadata": {
        "id": "uEOzoz2K2ehR"
      },
      "source": [
        "# Análisis exploratorio \n",
        "\n"
      ]
    },
    {
      "cell_type": "code",
      "metadata": {
        "id": "tQtzOEICtyQ8"
      },
      "source": [
        "combats = pd.read_csv(\"combats.csv\")\n",
        "pokemon = pd.read_csv(\"pokemon.csv\")\n",
        "tests = pd.read_csv(\"tests.csv\")"
      ],
      "execution_count": null,
      "outputs": []
    },
    {
      "cell_type": "code",
      "metadata": {
        "id": "DtZb4W-Ca0NE"
      },
      "source": [
        "pokemon_original = pd.read_csv(\"pokemon.csv\")"
      ],
      "execution_count": null,
      "outputs": []
    },
    {
      "cell_type": "markdown",
      "metadata": {
        "id": "JflZ9aKsVoRq"
      },
      "source": [
        "## Combates"
      ]
    },
    {
      "cell_type": "code",
      "metadata": {
        "colab": {
          "base_uri": "https://localhost:8080/"
        },
        "id": "WjIjBGq6uHdb",
        "outputId": "8fb9f351-7f17-4d64-c222-2f798823764f"
      },
      "source": [
        "combats.shape"
      ],
      "execution_count": null,
      "outputs": [
        {
          "output_type": "execute_result",
          "data": {
            "text/plain": [
              "(50000, 3)"
            ]
          },
          "metadata": {
            "tags": []
          },
          "execution_count": 6
        }
      ]
    },
    {
      "cell_type": "code",
      "metadata": {
        "colab": {
          "base_uri": "https://localhost:8080/"
        },
        "id": "KHkwO6FJGJqG",
        "outputId": "7c3e206c-e40d-4dfb-9d4d-44ddbd943243"
      },
      "source": [
        "combats.describe()"
      ],
      "execution_count": null,
      "outputs": [
        {
          "output_type": "execute_result",
          "data": {
            "text/html": [
              "<div>\n",
              "<style scoped>\n",
              "    .dataframe tbody tr th:only-of-type {\n",
              "        vertical-align: middle;\n",
              "    }\n",
              "\n",
              "    .dataframe tbody tr th {\n",
              "        vertical-align: top;\n",
              "    }\n",
              "\n",
              "    .dataframe thead th {\n",
              "        text-align: right;\n",
              "    }\n",
              "</style>\n",
              "<table border=\"1\" class=\"dataframe\">\n",
              "  <thead>\n",
              "    <tr style=\"text-align: right;\">\n",
              "      <th></th>\n",
              "      <th>First_pokemon</th>\n",
              "      <th>Second_pokemon</th>\n",
              "      <th>Winner</th>\n",
              "    </tr>\n",
              "  </thead>\n",
              "  <tbody>\n",
              "    <tr>\n",
              "      <th>count</th>\n",
              "      <td>50000.000000</td>\n",
              "      <td>50000.000000</td>\n",
              "      <td>50000.000000</td>\n",
              "    </tr>\n",
              "    <tr>\n",
              "      <th>mean</th>\n",
              "      <td>400.495640</td>\n",
              "      <td>403.159660</td>\n",
              "      <td>408.890100</td>\n",
              "    </tr>\n",
              "    <tr>\n",
              "      <th>std</th>\n",
              "      <td>229.549429</td>\n",
              "      <td>230.083644</td>\n",
              "      <td>231.159961</td>\n",
              "    </tr>\n",
              "    <tr>\n",
              "      <th>min</th>\n",
              "      <td>1.000000</td>\n",
              "      <td>1.000000</td>\n",
              "      <td>1.000000</td>\n",
              "    </tr>\n",
              "    <tr>\n",
              "      <th>25%</th>\n",
              "      <td>203.000000</td>\n",
              "      <td>207.000000</td>\n",
              "      <td>206.000000</td>\n",
              "    </tr>\n",
              "    <tr>\n",
              "      <th>50%</th>\n",
              "      <td>399.000000</td>\n",
              "      <td>402.000000</td>\n",
              "      <td>422.000000</td>\n",
              "    </tr>\n",
              "    <tr>\n",
              "      <th>75%</th>\n",
              "      <td>597.250000</td>\n",
              "      <td>602.000000</td>\n",
              "      <td>606.000000</td>\n",
              "    </tr>\n",
              "    <tr>\n",
              "      <th>max</th>\n",
              "      <td>800.000000</td>\n",
              "      <td>800.000000</td>\n",
              "      <td>800.000000</td>\n",
              "    </tr>\n",
              "  </tbody>\n",
              "</table>\n",
              "</div>"
            ],
            "text/plain": [
              "       First_pokemon  Second_pokemon        Winner\n",
              "count   50000.000000    50000.000000  50000.000000\n",
              "mean      400.495640      403.159660    408.890100\n",
              "std       229.549429      230.083644    231.159961\n",
              "min         1.000000        1.000000      1.000000\n",
              "25%       203.000000      207.000000    206.000000\n",
              "50%       399.000000      402.000000    422.000000\n",
              "75%       597.250000      602.000000    606.000000\n",
              "max       800.000000      800.000000    800.000000"
            ]
          },
          "metadata": {
            "tags": []
          },
          "execution_count": 7
        }
      ]
    },
    {
      "cell_type": "markdown",
      "metadata": {
        "id": "VOnb_VnJV8aV"
      },
      "source": [
        "No tiene mucho \"jugo\". Habría que mezclarlo con el de las estadísticas de los pokémones"
      ]
    },
    {
      "cell_type": "code",
      "metadata": {
        "colab": {
          "base_uri": "https://localhost:8080/"
        },
        "id": "mDgNsD8YuBaK",
        "outputId": "4602d4ee-acb2-47f3-a7b9-3eb793e7cf0f"
      },
      "source": [
        "combats.info()"
      ],
      "execution_count": null,
      "outputs": [
        {
          "output_type": "stream",
          "text": [
            "<class 'pandas.core.frame.DataFrame'>\n",
            "RangeIndex: 50000 entries, 0 to 49999\n",
            "Data columns (total 3 columns):\n",
            " #   Column          Non-Null Count  Dtype\n",
            "---  ------          --------------  -----\n",
            " 0   First_pokemon   50000 non-null  int64\n",
            " 1   Second_pokemon  50000 non-null  int64\n",
            " 2   Winner          50000 non-null  int64\n",
            "dtypes: int64(3)\n",
            "memory usage: 1.1 MB\n"
          ],
          "name": "stdout"
        }
      ]
    },
    {
      "cell_type": "markdown",
      "metadata": {
        "id": "sWQPhl5gGfmF"
      },
      "source": [
        "## Pokémon\n"
      ]
    },
    {
      "cell_type": "code",
      "metadata": {
        "colab": {
          "base_uri": "https://localhost:8080/"
        },
        "id": "boSKrOHvJy43",
        "outputId": "6791eab3-f7b3-4c7b-9982-5eb881c72402"
      },
      "source": [
        "pokemon.shape"
      ],
      "execution_count": null,
      "outputs": [
        {
          "output_type": "execute_result",
          "data": {
            "text/plain": [
              "(800, 12)"
            ]
          },
          "metadata": {
            "tags": []
          },
          "execution_count": 112
        }
      ]
    },
    {
      "cell_type": "code",
      "metadata": {
        "colab": {
          "base_uri": "https://localhost:8080/",
          "height": 300
        },
        "id": "fdcgWVVCJ3Kc",
        "outputId": "e7b22f42-3766-47a8-bcc9-d2027c89abbc"
      },
      "source": [
        "pokemon.describe()"
      ],
      "execution_count": null,
      "outputs": [
        {
          "output_type": "execute_result",
          "data": {
            "text/html": [
              "<div>\n",
              "<style scoped>\n",
              "    .dataframe tbody tr th:only-of-type {\n",
              "        vertical-align: middle;\n",
              "    }\n",
              "\n",
              "    .dataframe tbody tr th {\n",
              "        vertical-align: top;\n",
              "    }\n",
              "\n",
              "    .dataframe thead th {\n",
              "        text-align: right;\n",
              "    }\n",
              "</style>\n",
              "<table border=\"1\" class=\"dataframe\">\n",
              "  <thead>\n",
              "    <tr style=\"text-align: right;\">\n",
              "      <th></th>\n",
              "      <th>#</th>\n",
              "      <th>HP</th>\n",
              "      <th>Attack</th>\n",
              "      <th>Defense</th>\n",
              "      <th>Sp. Atk</th>\n",
              "      <th>Sp. Def</th>\n",
              "      <th>Speed</th>\n",
              "      <th>Generation</th>\n",
              "    </tr>\n",
              "  </thead>\n",
              "  <tbody>\n",
              "    <tr>\n",
              "      <th>count</th>\n",
              "      <td>800.0000</td>\n",
              "      <td>800.000000</td>\n",
              "      <td>800.000000</td>\n",
              "      <td>800.000000</td>\n",
              "      <td>800.000000</td>\n",
              "      <td>800.000000</td>\n",
              "      <td>800.000000</td>\n",
              "      <td>800.00000</td>\n",
              "    </tr>\n",
              "    <tr>\n",
              "      <th>mean</th>\n",
              "      <td>400.5000</td>\n",
              "      <td>69.258750</td>\n",
              "      <td>79.001250</td>\n",
              "      <td>73.842500</td>\n",
              "      <td>72.820000</td>\n",
              "      <td>71.902500</td>\n",
              "      <td>68.277500</td>\n",
              "      <td>3.32375</td>\n",
              "    </tr>\n",
              "    <tr>\n",
              "      <th>std</th>\n",
              "      <td>231.0844</td>\n",
              "      <td>25.534669</td>\n",
              "      <td>32.457366</td>\n",
              "      <td>31.183501</td>\n",
              "      <td>32.722294</td>\n",
              "      <td>27.828916</td>\n",
              "      <td>29.060474</td>\n",
              "      <td>1.66129</td>\n",
              "    </tr>\n",
              "    <tr>\n",
              "      <th>min</th>\n",
              "      <td>1.0000</td>\n",
              "      <td>1.000000</td>\n",
              "      <td>5.000000</td>\n",
              "      <td>5.000000</td>\n",
              "      <td>10.000000</td>\n",
              "      <td>20.000000</td>\n",
              "      <td>5.000000</td>\n",
              "      <td>1.00000</td>\n",
              "    </tr>\n",
              "    <tr>\n",
              "      <th>25%</th>\n",
              "      <td>200.7500</td>\n",
              "      <td>50.000000</td>\n",
              "      <td>55.000000</td>\n",
              "      <td>50.000000</td>\n",
              "      <td>49.750000</td>\n",
              "      <td>50.000000</td>\n",
              "      <td>45.000000</td>\n",
              "      <td>2.00000</td>\n",
              "    </tr>\n",
              "    <tr>\n",
              "      <th>50%</th>\n",
              "      <td>400.5000</td>\n",
              "      <td>65.000000</td>\n",
              "      <td>75.000000</td>\n",
              "      <td>70.000000</td>\n",
              "      <td>65.000000</td>\n",
              "      <td>70.000000</td>\n",
              "      <td>65.000000</td>\n",
              "      <td>3.00000</td>\n",
              "    </tr>\n",
              "    <tr>\n",
              "      <th>75%</th>\n",
              "      <td>600.2500</td>\n",
              "      <td>80.000000</td>\n",
              "      <td>100.000000</td>\n",
              "      <td>90.000000</td>\n",
              "      <td>95.000000</td>\n",
              "      <td>90.000000</td>\n",
              "      <td>90.000000</td>\n",
              "      <td>5.00000</td>\n",
              "    </tr>\n",
              "    <tr>\n",
              "      <th>max</th>\n",
              "      <td>800.0000</td>\n",
              "      <td>255.000000</td>\n",
              "      <td>190.000000</td>\n",
              "      <td>230.000000</td>\n",
              "      <td>194.000000</td>\n",
              "      <td>230.000000</td>\n",
              "      <td>180.000000</td>\n",
              "      <td>6.00000</td>\n",
              "    </tr>\n",
              "  </tbody>\n",
              "</table>\n",
              "</div>"
            ],
            "text/plain": [
              "              #          HP      Attack  ...     Sp. Def       Speed  Generation\n",
              "count  800.0000  800.000000  800.000000  ...  800.000000  800.000000   800.00000\n",
              "mean   400.5000   69.258750   79.001250  ...   71.902500   68.277500     3.32375\n",
              "std    231.0844   25.534669   32.457366  ...   27.828916   29.060474     1.66129\n",
              "min      1.0000    1.000000    5.000000  ...   20.000000    5.000000     1.00000\n",
              "25%    200.7500   50.000000   55.000000  ...   50.000000   45.000000     2.00000\n",
              "50%    400.5000   65.000000   75.000000  ...   70.000000   65.000000     3.00000\n",
              "75%    600.2500   80.000000  100.000000  ...   90.000000   90.000000     5.00000\n",
              "max    800.0000  255.000000  190.000000  ...  230.000000  180.000000     6.00000\n",
              "\n",
              "[8 rows x 8 columns]"
            ]
          },
          "metadata": {
            "tags": []
          },
          "execution_count": 113
        }
      ]
    },
    {
      "cell_type": "code",
      "metadata": {
        "colab": {
          "base_uri": "https://localhost:8080/",
          "height": 387
        },
        "id": "c5DWMJFHOsXx",
        "outputId": "45a76bb3-2cc0-4771-b4ef-3fb4ef307b5a"
      },
      "source": [
        "sns.displot(pokemon, x=\"HP\")"
      ],
      "execution_count": null,
      "outputs": [
        {
          "output_type": "execute_result",
          "data": {
            "text/plain": [
              "<seaborn.axisgrid.FacetGrid at 0x7f1450e0e7b8>"
            ]
          },
          "metadata": {
            "tags": []
          },
          "execution_count": 5
        },
        {
          "output_type": "display_data",
          "data": {
            "image/png": "[encoded data removed]",
            "text/plain": [
              "<Figure size 360x360 with 1 Axes>"
            ]
          },
          "metadata": {
            "tags": [],
            "needs_background": "light"
          }
        }
      ]
    },
    {
      "cell_type": "code",
      "metadata": {
        "colab": {
          "base_uri": "https://localhost:8080/",
          "height": 387
        },
        "id": "sJxgjU2bO0Jx",
        "outputId": "7545a97d-e89b-4b16-e1fc-8e71d91235e3"
      },
      "source": [
        "sns.displot(pokemon, x=\"Attack\")"
      ],
      "execution_count": null,
      "outputs": [
        {
          "output_type": "execute_result",
          "data": {
            "text/plain": [
              "<seaborn.axisgrid.FacetGrid at 0x7f144e2a5c18>"
            ]
          },
          "metadata": {
            "tags": []
          },
          "execution_count": 6
        },
        {
          "output_type": "display_data",
          "data": {
            "image/png": "[encoded data removed]",
            "text/plain": [
              "<Figure size 360x360 with 1 Axes>"
            ]
          },
          "metadata": {
            "tags": [],
            "needs_background": "light"
          }
        }
      ]
    },
    {
      "cell_type": "code",
      "metadata": {
        "colab": {
          "base_uri": "https://localhost:8080/",
          "height": 387
        },
        "id": "KysNZEEGO7i-",
        "outputId": "e1abad39-7211-4362-83ac-06988f9abb3e"
      },
      "source": [
        "sns.displot(pokemon, x=\"Defense\")"
      ],
      "execution_count": null,
      "outputs": [
        {
          "output_type": "execute_result",
          "data": {
            "text/plain": [
              "<seaborn.axisgrid.FacetGrid at 0x7f1450d596a0>"
            ]
          },
          "metadata": {
            "tags": []
          },
          "execution_count": 7
        },
        {
          "output_type": "display_data",
          "data": {
            "image/png": "[encoded data removed]",
            "text/plain": [
              "<Figure size 360x360 with 1 Axes>"
            ]
          },
          "metadata": {
            "tags": [],
            "needs_background": "light"
          }
        }
      ]
    },
    {
      "cell_type": "code",
      "metadata": {
        "colab": {
          "base_uri": "https://localhost:8080/"
        },
        "id": "-PWvZlhWJ7l6",
        "outputId": "e4029fae-fbed-4b96-e1c2-70142165fe29"
      },
      "source": [
        "pokemon.info()"
      ],
      "execution_count": null,
      "outputs": [
        {
          "output_type": "stream",
          "text": [
            "<class 'pandas.core.frame.DataFrame'>\n",
            "RangeIndex: 800 entries, 0 to 799\n",
            "Data columns (total 12 columns):\n",
            " #   Column      Non-Null Count  Dtype \n",
            "---  ------      --------------  ----- \n",
            " 0   #           800 non-null    int64 \n",
            " 1   Name        799 non-null    object\n",
            " 2   Type 1      800 non-null    object\n",
            " 3   Type 2      414 non-null    object\n",
            " 4   HP          800 non-null    int64 \n",
            " 5   Attack      800 non-null    int64 \n",
            " 6   Defense     800 non-null    int64 \n",
            " 7   Sp. Atk     800 non-null    int64 \n",
            " 8   Sp. Def     800 non-null    int64 \n",
            " 9   Speed       800 non-null    int64 \n",
            " 10  Generation  800 non-null    int64 \n",
            " 11  Legendary   800 non-null    bool  \n",
            "dtypes: bool(1), int64(8), object(3)\n",
            "memory usage: 69.7+ KB\n"
          ],
          "name": "stdout"
        }
      ]
    },
    {
      "cell_type": "code",
      "metadata": {
        "colab": {
          "base_uri": "https://localhost:8080/",
          "height": 448
        },
        "id": "eR-w8TG4R-FQ",
        "outputId": "b6b58c7e-41c6-4106-d299-5ef5c11ac212"
      },
      "source": [
        "sns.set(rc={'figure.figsize':(10,7)})\n",
        "\n",
        "pokemon2 = pokemon.drop(['#', 'Generation', 'Legendary'],1)\n",
        "sns.boxplot(data=pokemon2)"
      ],
      "execution_count": null,
      "outputs": [
        {
          "output_type": "execute_result",
          "data": {
            "text/plain": [
              "<matplotlib.axes._subplots.AxesSubplot at 0x7f12026703c8>"
            ]
          },
          "metadata": {
            "tags": []
          },
          "execution_count": 14
        },
        {
          "output_type": "display_data",
          "data": {
            "image/png": "[encoded data removed]",
            "text/plain": [
              "<Figure size 720x504 with 1 Axes>"
            ]
          },
          "metadata": {
            "tags": []
          }
        }
      ]
    },
    {
      "cell_type": "code",
      "metadata": {
        "colab": {
          "base_uri": "https://localhost:8080/",
          "height": 616
        },
        "id": "mUXQ_100do9g",
        "outputId": "b4d42512-6f39-4fb2-f31e-27dd2fee6f89"
      },
      "source": [
        "sns.set(rc={'figure.figsize':(16,8)})\n",
        "\n",
        "pokemon.boxplot(column='HP',by = 'Type 1')"
      ],
      "execution_count": null,
      "outputs": [
        {
          "output_type": "stream",
          "text": [
            "/usr/local/lib/python3.6/dist-packages/numpy/core/_asarray.py:83: VisibleDeprecationWarning: Creating an ndarray from ragged nested sequences (which is a list-or-tuple of lists-or-tuples-or ndarrays with different lengths or shapes) is deprecated. If you meant to do this, you must specify 'dtype=object' when creating the ndarray\n",
            "  return array(a, dtype, copy=False, order=order)\n"
          ],
          "name": "stderr"
        },
        {
          "output_type": "execute_result",
          "data": {
            "text/plain": [
              "<matplotlib.axes._subplots.AxesSubplot at 0x7f12026dbe48>"
            ]
          },
          "metadata": {
            "tags": []
          },
          "execution_count": 17
        },
        {
          "output_type": "display_data",
          "data": {
            "image/png": "[encoded data removed]",
            "text/plain": [
              "<Figure size 1152x576 with 1 Axes>"
            ]
          },
          "metadata": {
            "tags": []
          }
        }
      ]
    },
    {
      "cell_type": "code",
      "metadata": {
        "colab": {
          "base_uri": "https://localhost:8080/",
          "height": 616
        },
        "id": "0qaq7zs55Z-o",
        "outputId": "5d005c0d-2b04-4d27-cef3-c1c5d9bf2438"
      },
      "source": [
        "sns.set(rc={'figure.figsize':(5,8)})\n",
        "\n",
        "pokemon.boxplot(column='HP',by = 'Legendary')"
      ],
      "execution_count": null,
      "outputs": [
        {
          "output_type": "stream",
          "text": [
            "/usr/local/lib/python3.6/dist-packages/numpy/core/_asarray.py:83: VisibleDeprecationWarning: Creating an ndarray from ragged nested sequences (which is a list-or-tuple of lists-or-tuples-or ndarrays with different lengths or shapes) is deprecated. If you meant to do this, you must specify 'dtype=object' when creating the ndarray\n",
            "  return array(a, dtype, copy=False, order=order)\n"
          ],
          "name": "stderr"
        },
        {
          "output_type": "execute_result",
          "data": {
            "text/plain": [
              "<matplotlib.axes._subplots.AxesSubplot at 0x7f1201c05cf8>"
            ]
          },
          "metadata": {
            "tags": []
          },
          "execution_count": 20
        },
        {
          "output_type": "display_data",
          "data": {
            "image/png": "[encoded data removed]",
            "text/plain": [
              "<Figure size 360x576 with 1 Axes>"
            ]
          },
          "metadata": {
            "tags": []
          }
        }
      ]
    },
    {
      "cell_type": "code",
      "metadata": {
        "colab": {
          "base_uri": "https://localhost:8080/",
          "height": 542
        },
        "id": "wyoyWz-EPeTk",
        "outputId": "6fa16a9c-c030-4226-ddcb-edf88a8fe7c9"
      },
      "source": [
        "#https://plotly.com/python/radar-chart/\n",
        "\n",
        "import plotly.graph_objects as go\n",
        "\n",
        "categories = ['HP','Attack','Defense',\n",
        "              'Sp. Atk', 'Sp. Def', 'Speed']\n",
        "\n",
        "fig = go.Figure()\n",
        "\n",
        "fig.add_trace(go.Scatterpolar(\n",
        "      r=[pokemon[pokemon['Legendary'] == True]['HP'].mean(),\n",
        "         pokemon[pokemon['Legendary'] == True]['Attack'].mean(),\n",
        "         pokemon[pokemon['Legendary'] == True]['Defense'].mean(),\n",
        "         pokemon[pokemon['Legendary'] == True]['Sp. Atk'].mean(),\n",
        "         pokemon[pokemon['Legendary'] == True]['Sp. Def'].mean(),\n",
        "         pokemon[pokemon['Legendary'] == True]['Speed'].mean()],\n",
        "      theta=categories,\n",
        "      fill='toself',\n",
        "      name='Legendary'\n",
        "))\n",
        "fig.add_trace(go.Scatterpolar(\n",
        "      r=[pokemon[pokemon['Legendary'] == False]['HP'].mean(),\n",
        "         pokemon[pokemon['Legendary'] == False]['Attack'].mean(),\n",
        "         pokemon[pokemon['Legendary'] == False]['Defense'].mean(),\n",
        "         pokemon[pokemon['Legendary'] == False]['Sp. Atk'].mean(),\n",
        "         pokemon[pokemon['Legendary'] == False]['Sp. Def'].mean(),\n",
        "         pokemon[pokemon['Legendary'] == False]['Speed'].mean()],\n",
        "         theta=categories,\n",
        "      fill='toself',\n",
        "      name='Not legendary'\n",
        "))\n",
        "\n",
        "fig.update_layout(\n",
        "  polar=dict(\n",
        "    radialaxis=dict(\n",
        "      visible=True,\n",
        "      range=[0, 130]\n",
        "    )),\n",
        "  showlegend=True\n",
        ")\n",
        "\n",
        "fig.show()"
      ],
      "execution_count": null,
      "outputs": [
        {
          "output_type": "display_data",
          "data": {
            "text/html": [
              "<html>\n",
              "<head><meta charset=\"utf-8\" /></head>\n",
              "<body>\n",
              "    <div>\n",
              "            <script src=\"https://cdnjs.cloudflare.com/ajax/libs/mathjax/2.7.5/MathJax.js?config=TeX-AMS-MML_SVG\"></script><script type=\"text/javascript\">if (window.MathJax) {MathJax.Hub.Config({SVG: {font: \"STIX-Web\"}});}</script>\n",
              "                <script type=\"text/javascript\">window.PlotlyConfig = {MathJaxConfig: 'local'};</script>\n",
              "        <script src=\"https://cdn.plot.ly/plotly-latest.min.js\"></script>    \n",
              "            <div id=\"90011bd3-0a11-483e-9c55-5ab9ac64b939\" class=\"plotly-graph-div\" style=\"height:525px; width:100%;\"></div>\n",
              "            <script type=\"text/javascript\">\n",
              "                \n",
              "                    window.PLOTLYENV=window.PLOTLYENV || {};\n",
              "                    \n",
              "                if (document.getElementById(\"90011bd3-0a11-483e-9c55-5ab9ac64b939\")) {\n",
              "                    Plotly.newPlot(\n",
              "                        '90011bd3-0a11-483e-9c55-5ab9ac64b939',\n",
              "                        [{\"fill\": \"toself\", \"name\": \"Legendary\", \"r\": [92.73846153846154, 116.67692307692307, 99.66153846153846, 122.18461538461538, 105.93846153846154, 100.18461538461538], \"theta\": [\"HP\", \"Attack\", \"Defense\", \"Sp. Atk\", \"Sp. Def\", \"Speed\"], \"type\": \"scatterpolar\"}, {\"fill\": \"toself\", \"name\": \"Not legendary\", \"r\": [67.18231292517007, 75.66938775510204, 71.55918367346939, 68.45442176870748, 68.89251700680272, 65.45578231292517], \"theta\": [\"HP\", \"Attack\", \"Defense\", \"Sp. Atk\", \"Sp. Def\", \"Speed\"], \"type\": \"scatterpolar\"}],\n",
              "                        {\"polar\": {\"radialaxis\": {\"range\": [0, 130], \"visible\": true}}, \"showlegend\": true, \"template\": {\"data\": {\"bar\": [{\"error_x\": {\"color\": \"#2a3f5f\"}, \"error_y\": {\"color\": \"#2a3f5f\"}, \"marker\": {\"line\": {\"color\": \"#E5ECF6\", \"width\": 0.5}}, \"type\": \"bar\"}], \"barpolar\": [{\"marker\": {\"line\": {\"color\": \"#E5ECF6\", \"width\": 0.5}}, \"type\": \"barpolar\"}], \"carpet\": [{\"aaxis\": {\"endlinecolor\": \"#2a3f5f\", \"gridcolor\": \"white\", \"linecolor\": \"white\", \"minorgridcolor\": \"white\", \"startlinecolor\": \"#2a3f5f\"}, \"baxis\": {\"endlinecolor\": \"#2a3f5f\", \"gridcolor\": \"white\", \"linecolor\": \"white\", \"minorgridcolor\": \"white\", \"startlinecolor\": \"#2a3f5f\"}, \"type\": \"carpet\"}], \"choropleth\": [{\"colorbar\": {\"outlinewidth\": 0, \"ticks\": \"\"}, \"type\": \"choropleth\"}], \"contour\": [{\"colorbar\": {\"outlinewidth\": 0, \"ticks\": \"\"}, \"colorscale\": [[0.0, \"#0d0887\"], [0.1111111111111111, \"#46039f\"], [0.2222222222222222, \"#7201a8\"], [0.3333333333333333, \"#9c179e\"], [0.4444444444444444, \"#bd3786\"], [0.5555555555555556, \"#d8576b\"], [0.6666666666666666, \"#ed7953\"], [0.7777777777777778, \"#fb9f3a\"], [0.8888888888888888, \"#fdca26\"], [1.0, \"#f0f921\"]], \"type\": \"contour\"}], \"contourcarpet\": [{\"colorbar\": {\"outlinewidth\": 0, \"ticks\": \"\"}, \"type\": \"contourcarpet\"}], \"heatmap\": [{\"colorbar\": {\"outlinewidth\": 0, \"ticks\": \"\"}, \"colorscale\": [[0.0, \"#0d0887\"], [0.1111111111111111, \"#46039f\"], [0.2222222222222222, \"#7201a8\"], [0.3333333333333333, \"#9c179e\"], [0.4444444444444444, \"#bd3786\"], [0.5555555555555556, \"#d8576b\"], [0.6666666666666666, \"#ed7953\"], [0.7777777777777778, \"#fb9f3a\"], [0.8888888888888888, \"#fdca26\"], [1.0, \"#f0f921\"]], \"type\": \"heatmap\"}], \"heatmapgl\": [{\"colorbar\": {\"outlinewidth\": 0, \"ticks\": \"\"}, \"colorscale\": [[0.0, \"#0d0887\"], [0.1111111111111111, \"#46039f\"], [0.2222222222222222, \"#7201a8\"], [0.3333333333333333, \"#9c179e\"], [0.4444444444444444, \"#bd3786\"], [0.5555555555555556, \"#d8576b\"], [0.6666666666666666, \"#ed7953\"], [0.7777777777777778, \"#fb9f3a\"], [0.8888888888888888, \"#fdca26\"], [1.0, \"#f0f921\"]], \"type\": \"heatmapgl\"}], \"histogram\": [{\"marker\": {\"colorbar\": {\"outlinewidth\": 0, \"ticks\": \"\"}}, \"type\": \"histogram\"}], \"histogram2d\": [{\"colorbar\": {\"outlinewidth\": 0, \"ticks\": \"\"}, \"colorscale\": [[0.0, \"#0d0887\"], [0.1111111111111111, \"#46039f\"], [0.2222222222222222, \"#7201a8\"], [0.3333333333333333, \"#9c179e\"], [0.4444444444444444, \"#bd3786\"], [0.5555555555555556, \"#d8576b\"], [0.6666666666666666, \"#ed7953\"], [0.7777777777777778, \"#fb9f3a\"], [0.8888888888888888, \"#fdca26\"], [1.0, \"#f0f921\"]], \"type\": \"histogram2d\"}], \"histogram2dcontour\": [{\"colorbar\": {\"outlinewidth\": 0, \"ticks\": \"\"}, \"colorscale\": [[0.0, \"#0d0887\"], [0.1111111111111111, \"#46039f\"], [0.2222222222222222, \"#7201a8\"], [0.3333333333333333, \"#9c179e\"], [0.4444444444444444, \"#bd3786\"], [0.5555555555555556, \"#d8576b\"], [0.6666666666666666, \"#ed7953\"], [0.7777777777777778, \"#fb9f3a\"], [0.8888888888888888, \"#fdca26\"], [1.0, \"#f0f921\"]], \"type\": \"histogram2dcontour\"}], \"mesh3d\": [{\"colorbar\": {\"outlinewidth\": 0, \"ticks\": \"\"}, \"type\": \"mesh3d\"}], \"parcoords\": [{\"line\": {\"colorbar\": {\"outlinewidth\": 0, \"ticks\": \"\"}}, \"type\": \"parcoords\"}], \"pie\": [{\"automargin\": true, \"type\": \"pie\"}], \"scatter\": [{\"marker\": {\"colorbar\": {\"outlinewidth\": 0, \"ticks\": \"\"}}, \"type\": \"scatter\"}], \"scatter3d\": [{\"line\": {\"colorbar\": {\"outlinewidth\": 0, \"ticks\": \"\"}}, \"marker\": {\"colorbar\": {\"outlinewidth\": 0, \"ticks\": \"\"}}, \"type\": \"scatter3d\"}], \"scattercarpet\": [{\"marker\": {\"colorbar\": {\"outlinewidth\": 0, \"ticks\": \"\"}}, \"type\": \"scattercarpet\"}], \"scattergeo\": [{\"marker\": {\"colorbar\": {\"outlinewidth\": 0, \"ticks\": \"\"}}, \"type\": \"scattergeo\"}], \"scattergl\": [{\"marker\": {\"colorbar\": {\"outlinewidth\": 0, \"ticks\": \"\"}}, \"type\": \"scattergl\"}], \"scattermapbox\": [{\"marker\": {\"colorbar\": {\"outlinewidth\": 0, \"ticks\": \"\"}}, \"type\": \"scattermapbox\"}], \"scatterpolar\": [{\"marker\": {\"colorbar\": {\"outlinewidth\": 0, \"ticks\": \"\"}}, \"type\": \"scatterpolar\"}], \"scatterpolargl\": [{\"marker\": {\"colorbar\": {\"outlinewidth\": 0, \"ticks\": \"\"}}, \"type\": \"scatterpolargl\"}], \"scatterternary\": [{\"marker\": {\"colorbar\": {\"outlinewidth\": 0, \"ticks\": \"\"}}, \"type\": \"scatterternary\"}], \"surface\": [{\"colorbar\": {\"outlinewidth\": 0, \"ticks\": \"\"}, \"colorscale\": [[0.0, \"#0d0887\"], [0.1111111111111111, \"#46039f\"], [0.2222222222222222, \"#7201a8\"], [0.3333333333333333, \"#9c179e\"], [0.4444444444444444, \"#bd3786\"], [0.5555555555555556, \"#d8576b\"], [0.6666666666666666, \"#ed7953\"], [0.7777777777777778, \"#fb9f3a\"], [0.8888888888888888, \"#fdca26\"], [1.0, \"#f0f921\"]], \"type\": \"surface\"}], \"table\": [{\"cells\": {\"fill\": {\"color\": \"#EBF0F8\"}, \"line\": {\"color\": \"white\"}}, \"header\": {\"fill\": {\"color\": \"#C8D4E3\"}, \"line\": {\"color\": \"white\"}}, \"type\": \"table\"}]}, \"layout\": {\"annotationdefaults\": {\"arrowcolor\": \"#2a3f5f\", \"arrowhead\": 0, \"arrowwidth\": 1}, \"coloraxis\": {\"colorbar\": {\"outlinewidth\": 0, \"ticks\": \"\"}}, \"colorscale\": {\"diverging\": [[0, \"#8e0152\"], [0.1, \"#c51b7d\"], [0.2, \"#de77ae\"], [0.3, \"#f1b6da\"], [0.4, \"#fde0ef\"], [0.5, \"#f7f7f7\"], [0.6, \"#e6f5d0\"], [0.7, \"#b8e186\"], [0.8, \"#7fbc41\"], [0.9, \"#4d9221\"], [1, \"#276419\"]], \"sequential\": [[0.0, \"#0d0887\"], [0.1111111111111111, \"#46039f\"], [0.2222222222222222, \"#7201a8\"], [0.3333333333333333, \"#9c179e\"], [0.4444444444444444, \"#bd3786\"], [0.5555555555555556, \"#d8576b\"], [0.6666666666666666, \"#ed7953\"], [0.7777777777777778, \"#fb9f3a\"], [0.8888888888888888, \"#fdca26\"], [1.0, \"#f0f921\"]], \"sequentialminus\": [[0.0, \"#0d0887\"], [0.1111111111111111, \"#46039f\"], [0.2222222222222222, \"#7201a8\"], [0.3333333333333333, \"#9c179e\"], [0.4444444444444444, \"#bd3786\"], [0.5555555555555556, \"#d8576b\"], [0.6666666666666666, \"#ed7953\"], [0.7777777777777778, \"#fb9f3a\"], [0.8888888888888888, \"#fdca26\"], [1.0, \"#f0f921\"]]}, \"colorway\": [\"#636efa\", \"#EF553B\", \"#00cc96\", \"#ab63fa\", \"#FFA15A\", \"#19d3f3\", \"#FF6692\", \"#B6E880\", \"#FF97FF\", \"#FECB52\"], \"font\": {\"color\": \"#2a3f5f\"}, \"geo\": {\"bgcolor\": \"white\", \"lakecolor\": \"white\", \"landcolor\": \"#E5ECF6\", \"showlakes\": true, \"showland\": true, \"subunitcolor\": \"white\"}, \"hoverlabel\": {\"align\": \"left\"}, \"hovermode\": \"closest\", \"mapbox\": {\"style\": \"light\"}, \"paper_bgcolor\": \"white\", \"plot_bgcolor\": \"#E5ECF6\", \"polar\": {\"angularaxis\": {\"gridcolor\": \"white\", \"linecolor\": \"white\", \"ticks\": \"\"}, \"bgcolor\": \"#E5ECF6\", \"radialaxis\": {\"gridcolor\": \"white\", \"linecolor\": \"white\", \"ticks\": \"\"}}, \"scene\": {\"xaxis\": {\"backgroundcolor\": \"#E5ECF6\", \"gridcolor\": \"white\", \"gridwidth\": 2, \"linecolor\": \"white\", \"showbackground\": true, \"ticks\": \"\", \"zerolinecolor\": \"white\"}, \"yaxis\": {\"backgroundcolor\": \"#E5ECF6\", \"gridcolor\": \"white\", \"gridwidth\": 2, \"linecolor\": \"white\", \"showbackground\": true, \"ticks\": \"\", \"zerolinecolor\": \"white\"}, \"zaxis\": {\"backgroundcolor\": \"#E5ECF6\", \"gridcolor\": \"white\", \"gridwidth\": 2, \"linecolor\": \"white\", \"showbackground\": true, \"ticks\": \"\", \"zerolinecolor\": \"white\"}}, \"shapedefaults\": {\"line\": {\"color\": \"#2a3f5f\"}}, \"ternary\": {\"aaxis\": {\"gridcolor\": \"white\", \"linecolor\": \"white\", \"ticks\": \"\"}, \"baxis\": {\"gridcolor\": \"white\", \"linecolor\": \"white\", \"ticks\": \"\"}, \"bgcolor\": \"#E5ECF6\", \"caxis\": {\"gridcolor\": \"white\", \"linecolor\": \"white\", \"ticks\": \"\"}}, \"title\": {\"x\": 0.05}, \"xaxis\": {\"automargin\": true, \"gridcolor\": \"white\", \"linecolor\": \"white\", \"ticks\": \"\", \"title\": {\"standoff\": 15}, \"zerolinecolor\": \"white\", \"zerolinewidth\": 2}, \"yaxis\": {\"automargin\": true, \"gridcolor\": \"white\", \"linecolor\": \"white\", \"ticks\": \"\", \"title\": {\"standoff\": 15}, \"zerolinecolor\": \"white\", \"zerolinewidth\": 2}}}},\n",
              "                        {\"responsive\": true}\n",
              "                    ).then(function(){\n",
              "                            \n",
              "var gd = document.getElementById('90011bd3-0a11-483e-9c55-5ab9ac64b939');\n",
              "var x = new MutationObserver(function (mutations, observer) {{\n",
              "        var display = window.getComputedStyle(gd).display;\n",
              "        if (!display || display === 'none') {{\n",
              "            console.log([gd, 'removed!']);\n",
              "            Plotly.purge(gd);\n",
              "            observer.disconnect();\n",
              "        }}\n",
              "}});\n",
              "\n",
              "// Listen for the removal of the full notebook cells\n",
              "var notebookContainer = gd.closest('#notebook-container');\n",
              "if (notebookContainer) {{\n",
              "    x.observe(notebookContainer, {childList: true});\n",
              "}}\n",
              "\n",
              "// Listen for the clearing of the current output cell\n",
              "var outputEl = gd.closest('.output');\n",
              "if (outputEl) {{\n",
              "    x.observe(outputEl, {childList: true});\n",
              "}}\n",
              "\n",
              "                        })\n",
              "                };\n",
              "                \n",
              "            </script>\n",
              "        </div>\n",
              "</body>\n",
              "</html>"
            ]
          },
          "metadata": {
            "tags": []
          }
        }
      ]
    },
    {
      "cell_type": "markdown",
      "metadata": {
        "id": "cl9Y6caNKk85"
      },
      "source": [
        "## Test\n"
      ]
    },
    {
      "cell_type": "code",
      "metadata": {
        "colab": {
          "base_uri": "https://localhost:8080/"
        },
        "id": "9B632cWDKnYg",
        "outputId": "59e5fd3c-4c1e-44ef-bbe3-6a806d09f5be"
      },
      "source": [
        "tests.shape"
      ],
      "execution_count": null,
      "outputs": [
        {
          "output_type": "execute_result",
          "data": {
            "text/plain": [
              "(10000, 2)"
            ]
          },
          "metadata": {
            "tags": []
          },
          "execution_count": 115
        }
      ]
    },
    {
      "cell_type": "code",
      "metadata": {
        "colab": {
          "base_uri": "https://localhost:8080/"
        },
        "id": "OesBT580KsIM",
        "outputId": "48971c3e-8bd4-47f8-92db-0e3b1c49b967"
      },
      "source": [
        "tests.info()"
      ],
      "execution_count": null,
      "outputs": [
        {
          "output_type": "stream",
          "text": [
            "<class 'pandas.core.frame.DataFrame'>\n",
            "RangeIndex: 10000 entries, 0 to 9999\n",
            "Data columns (total 2 columns):\n",
            " #   Column          Non-Null Count  Dtype\n",
            "---  ------          --------------  -----\n",
            " 0   First_pokemon   10000 non-null  int64\n",
            " 1   Second_pokemon  10000 non-null  int64\n",
            "dtypes: int64(2)\n",
            "memory usage: 156.4 KB\n"
          ],
          "name": "stdout"
        }
      ]
    },
    {
      "cell_type": "markdown",
      "metadata": {
        "id": "ZCgmNVddbvJo"
      },
      "source": [
        "## Correlaciones"
      ]
    },
    {
      "cell_type": "code",
      "metadata": {
        "colab": {
          "base_uri": "https://localhost:8080/",
          "height": 641
        },
        "id": "30I8dhcHbwRL",
        "outputId": "ee556d1b-0a0d-4856-e113-3ac7c7ae5279"
      },
      "source": [
        "f, ax = plt.subplots(figsize = (10,10)) # allcocating figure size\n",
        "sns.heatmap(pokemon.corr(), annot = True, linewidths = .5, fmt = \".1f\", ax=ax)\n",
        "plt.show()"
      ],
      "execution_count": null,
      "outputs": [
        {
          "output_type": "display_data",
          "data": {
            "image/png": "[encoded data removed]",
            "text/plain": [
              "<Figure size 720x720 with 2 Axes>"
            ]
          },
          "metadata": {
            "tags": [],
            "needs_background": "light"
          }
        }
      ]
    },
    {
      "cell_type": "markdown",
      "metadata": {
        "id": "IRpvP_91Gk4Z"
      },
      "source": [
        "# Preparación de los datos"
      ]
    },
    {
      "cell_type": "markdown",
      "metadata": {
        "id": "v10HfyguWVl0"
      },
      "source": [
        "## Pokémon"
      ]
    },
    {
      "cell_type": "markdown",
      "metadata": {
        "id": "rDEkyVXzbBxU"
      },
      "source": [
        "Creamos una columna suma que está en el otro y leí que puede ser de utilidad"
      ]
    },
    {
      "cell_type": "code",
      "metadata": {
        "id": "4SJlD0IfbGsH"
      },
      "source": [
        "pokemon['Total'] = pokemon['HP'] + pokemon['Attack'] + pokemon ['Defense'] + pokemon['Sp. Atk'] + pokemon['Sp. Def'] + pokemon['Speed']"
      ],
      "execution_count": null,
      "outputs": []
    },
    {
      "cell_type": "code",
      "metadata": {
        "colab": {
          "base_uri": "https://localhost:8080/"
        },
        "id": "cq-fHicLZ9MZ",
        "outputId": "7af3ed80-5616-4cda-edc7-8179feb1456a"
      },
      "source": [
        "pokemon.info()"
      ],
      "execution_count": null,
      "outputs": [
        {
          "output_type": "stream",
          "text": [
            "<class 'pandas.core.frame.DataFrame'>\n",
            "RangeIndex: 800 entries, 0 to 799\n",
            "Data columns (total 13 columns):\n",
            " #   Column      Non-Null Count  Dtype \n",
            "---  ------      --------------  ----- \n",
            " 0   #           800 non-null    int64 \n",
            " 1   Name        799 non-null    object\n",
            " 2   Type 1      800 non-null    object\n",
            " 3   Type 2      414 non-null    object\n",
            " 4   HP          800 non-null    int64 \n",
            " 5   Attack      800 non-null    int64 \n",
            " 6   Defense     800 non-null    int64 \n",
            " 7   Sp. Atk     800 non-null    int64 \n",
            " 8   Sp. Def     800 non-null    int64 \n",
            " 9   Speed       800 non-null    int64 \n",
            " 10  Generation  800 non-null    int64 \n",
            " 11  Legendary   800 non-null    bool  \n",
            " 12  Total       800 non-null    int64 \n",
            "dtypes: bool(1), int64(9), object(3)\n",
            "memory usage: 75.9+ KB\n"
          ],
          "name": "stdout"
        }
      ]
    },
    {
      "cell_type": "markdown",
      "metadata": {
        "id": "6r3g1MJ_zkCI"
      },
      "source": [
        "Rellenamos los NaN con cadenas vacías"
      ]
    },
    {
      "cell_type": "code",
      "metadata": {
        "colab": {
          "base_uri": "https://localhost:8080/"
        },
        "id": "j2g0epxMz29D",
        "outputId": "a831e911-adfa-49bf-b700-bdf9ef532ca0"
      },
      "source": [
        "pokemon['Type 2'].isna().sum()"
      ],
      "execution_count": null,
      "outputs": [
        {
          "output_type": "execute_result",
          "data": {
            "text/plain": [
              "386"
            ]
          },
          "metadata": {
            "tags": []
          },
          "execution_count": 8
        }
      ]
    },
    {
      "cell_type": "code",
      "metadata": {
        "id": "GRsTDntMzslm"
      },
      "source": [
        "pokemon['Type 2'] = pokemon['Type 2'].replace(np.nan, \"-\")"
      ],
      "execution_count": null,
      "outputs": []
    },
    {
      "cell_type": "code",
      "metadata": {
        "colab": {
          "base_uri": "https://localhost:8080/",
          "height": 204
        },
        "id": "K37ocip_z2ZS",
        "outputId": "039f4f1d-4c79-4ca1-d6cb-c1b1dae8bef3"
      },
      "source": [
        "pokemon.head()"
      ],
      "execution_count": null,
      "outputs": [
        {
          "output_type": "execute_result",
          "data": {
            "text/html": [
              "<div>\n",
              "<style scoped>\n",
              "    .dataframe tbody tr th:only-of-type {\n",
              "        vertical-align: middle;\n",
              "    }\n",
              "\n",
              "    .dataframe tbody tr th {\n",
              "        vertical-align: top;\n",
              "    }\n",
              "\n",
              "    .dataframe thead th {\n",
              "        text-align: right;\n",
              "    }\n",
              "</style>\n",
              "<table border=\"1\" class=\"dataframe\">\n",
              "  <thead>\n",
              "    <tr style=\"text-align: right;\">\n",
              "      <th></th>\n",
              "      <th>#</th>\n",
              "      <th>Name</th>\n",
              "      <th>Type 1</th>\n",
              "      <th>Type 2</th>\n",
              "      <th>HP</th>\n",
              "      <th>Attack</th>\n",
              "      <th>Defense</th>\n",
              "      <th>Sp. Atk</th>\n",
              "      <th>Sp. Def</th>\n",
              "      <th>Speed</th>\n",
              "      <th>Generation</th>\n",
              "      <th>Legendary</th>\n",
              "      <th>Total</th>\n",
              "    </tr>\n",
              "  </thead>\n",
              "  <tbody>\n",
              "    <tr>\n",
              "      <th>0</th>\n",
              "      <td>1</td>\n",
              "      <td>Bulbasaur</td>\n",
              "      <td>Grass</td>\n",
              "      <td>Poison</td>\n",
              "      <td>45</td>\n",
              "      <td>49</td>\n",
              "      <td>49</td>\n",
              "      <td>65</td>\n",
              "      <td>65</td>\n",
              "      <td>45</td>\n",
              "      <td>1</td>\n",
              "      <td>False</td>\n",
              "      <td>318</td>\n",
              "    </tr>\n",
              "    <tr>\n",
              "      <th>1</th>\n",
              "      <td>2</td>\n",
              "      <td>Ivysaur</td>\n",
              "      <td>Grass</td>\n",
              "      <td>Poison</td>\n",
              "      <td>60</td>\n",
              "      <td>62</td>\n",
              "      <td>63</td>\n",
              "      <td>80</td>\n",
              "      <td>80</td>\n",
              "      <td>60</td>\n",
              "      <td>1</td>\n",
              "      <td>False</td>\n",
              "      <td>405</td>\n",
              "    </tr>\n",
              "    <tr>\n",
              "      <th>2</th>\n",
              "      <td>3</td>\n",
              "      <td>Venusaur</td>\n",
              "      <td>Grass</td>\n",
              "      <td>Poison</td>\n",
              "      <td>80</td>\n",
              "      <td>82</td>\n",
              "      <td>83</td>\n",
              "      <td>100</td>\n",
              "      <td>100</td>\n",
              "      <td>80</td>\n",
              "      <td>1</td>\n",
              "      <td>False</td>\n",
              "      <td>525</td>\n",
              "    </tr>\n",
              "    <tr>\n",
              "      <th>3</th>\n",
              "      <td>4</td>\n",
              "      <td>Mega Venusaur</td>\n",
              "      <td>Grass</td>\n",
              "      <td>Poison</td>\n",
              "      <td>80</td>\n",
              "      <td>100</td>\n",
              "      <td>123</td>\n",
              "      <td>122</td>\n",
              "      <td>120</td>\n",
              "      <td>80</td>\n",
              "      <td>1</td>\n",
              "      <td>False</td>\n",
              "      <td>625</td>\n",
              "    </tr>\n",
              "    <tr>\n",
              "      <th>4</th>\n",
              "      <td>5</td>\n",
              "      <td>Charmander</td>\n",
              "      <td>Fire</td>\n",
              "      <td>-</td>\n",
              "      <td>39</td>\n",
              "      <td>52</td>\n",
              "      <td>43</td>\n",
              "      <td>60</td>\n",
              "      <td>50</td>\n",
              "      <td>65</td>\n",
              "      <td>1</td>\n",
              "      <td>False</td>\n",
              "      <td>309</td>\n",
              "    </tr>\n",
              "  </tbody>\n",
              "</table>\n",
              "</div>"
            ],
            "text/plain": [
              "   #           Name Type 1  Type 2  ...  Speed  Generation  Legendary  Total\n",
              "0  1      Bulbasaur  Grass  Poison  ...     45           1      False    318\n",
              "1  2        Ivysaur  Grass  Poison  ...     60           1      False    405\n",
              "2  3       Venusaur  Grass  Poison  ...     80           1      False    525\n",
              "3  4  Mega Venusaur  Grass  Poison  ...     80           1      False    625\n",
              "4  5     Charmander   Fire       -  ...     65           1      False    309\n",
              "\n",
              "[5 rows x 13 columns]"
            ]
          },
          "metadata": {
            "tags": []
          },
          "execution_count": 10
        }
      ]
    },
    {
      "cell_type": "markdown",
      "metadata": {
        "id": "dL5SGc2ncLf1"
      },
      "source": [
        "Eliminamos el nombre y la generación que no hace falta. Mantenemos el número para luego saber los combates"
      ]
    },
    {
      "cell_type": "code",
      "metadata": {
        "id": "SHMT1OnmcNiP"
      },
      "source": [
        "pokemon = pokemon.drop(columns=['Name', 'Generation'])"
      ],
      "execution_count": null,
      "outputs": []
    },
    {
      "cell_type": "code",
      "metadata": {
        "colab": {
          "base_uri": "https://localhost:8080/",
          "height": 297
        },
        "id": "m41fSFjQae-8",
        "outputId": "f4fe8b4a-c5f4-4df1-a269-832d441d7a89"
      },
      "source": [
        "pokemon.describe()"
      ],
      "execution_count": null,
      "outputs": [
        {
          "output_type": "execute_result",
          "data": {
            "text/html": [
              "<div>\n",
              "<style scoped>\n",
              "    .dataframe tbody tr th:only-of-type {\n",
              "        vertical-align: middle;\n",
              "    }\n",
              "\n",
              "    .dataframe tbody tr th {\n",
              "        vertical-align: top;\n",
              "    }\n",
              "\n",
              "    .dataframe thead th {\n",
              "        text-align: right;\n",
              "    }\n",
              "</style>\n",
              "<table border=\"1\" class=\"dataframe\">\n",
              "  <thead>\n",
              "    <tr style=\"text-align: right;\">\n",
              "      <th></th>\n",
              "      <th>#</th>\n",
              "      <th>HP</th>\n",
              "      <th>Attack</th>\n",
              "      <th>Defense</th>\n",
              "      <th>Sp. Atk</th>\n",
              "      <th>Sp. Def</th>\n",
              "      <th>Speed</th>\n",
              "      <th>Total</th>\n",
              "    </tr>\n",
              "  </thead>\n",
              "  <tbody>\n",
              "    <tr>\n",
              "      <th>count</th>\n",
              "      <td>800.0000</td>\n",
              "      <td>800.000000</td>\n",
              "      <td>800.000000</td>\n",
              "      <td>800.000000</td>\n",
              "      <td>800.000000</td>\n",
              "      <td>800.000000</td>\n",
              "      <td>800.000000</td>\n",
              "      <td>800.00000</td>\n",
              "    </tr>\n",
              "    <tr>\n",
              "      <th>mean</th>\n",
              "      <td>400.5000</td>\n",
              "      <td>69.258750</td>\n",
              "      <td>79.001250</td>\n",
              "      <td>73.842500</td>\n",
              "      <td>72.820000</td>\n",
              "      <td>71.902500</td>\n",
              "      <td>68.277500</td>\n",
              "      <td>435.10250</td>\n",
              "    </tr>\n",
              "    <tr>\n",
              "      <th>std</th>\n",
              "      <td>231.0844</td>\n",
              "      <td>25.534669</td>\n",
              "      <td>32.457366</td>\n",
              "      <td>31.183501</td>\n",
              "      <td>32.722294</td>\n",
              "      <td>27.828916</td>\n",
              "      <td>29.060474</td>\n",
              "      <td>119.96304</td>\n",
              "    </tr>\n",
              "    <tr>\n",
              "      <th>min</th>\n",
              "      <td>1.0000</td>\n",
              "      <td>1.000000</td>\n",
              "      <td>5.000000</td>\n",
              "      <td>5.000000</td>\n",
              "      <td>10.000000</td>\n",
              "      <td>20.000000</td>\n",
              "      <td>5.000000</td>\n",
              "      <td>180.00000</td>\n",
              "    </tr>\n",
              "    <tr>\n",
              "      <th>25%</th>\n",
              "      <td>200.7500</td>\n",
              "      <td>50.000000</td>\n",
              "      <td>55.000000</td>\n",
              "      <td>50.000000</td>\n",
              "      <td>49.750000</td>\n",
              "      <td>50.000000</td>\n",
              "      <td>45.000000</td>\n",
              "      <td>330.00000</td>\n",
              "    </tr>\n",
              "    <tr>\n",
              "      <th>50%</th>\n",
              "      <td>400.5000</td>\n",
              "      <td>65.000000</td>\n",
              "      <td>75.000000</td>\n",
              "      <td>70.000000</td>\n",
              "      <td>65.000000</td>\n",
              "      <td>70.000000</td>\n",
              "      <td>65.000000</td>\n",
              "      <td>450.00000</td>\n",
              "    </tr>\n",
              "    <tr>\n",
              "      <th>75%</th>\n",
              "      <td>600.2500</td>\n",
              "      <td>80.000000</td>\n",
              "      <td>100.000000</td>\n",
              "      <td>90.000000</td>\n",
              "      <td>95.000000</td>\n",
              "      <td>90.000000</td>\n",
              "      <td>90.000000</td>\n",
              "      <td>515.00000</td>\n",
              "    </tr>\n",
              "    <tr>\n",
              "      <th>max</th>\n",
              "      <td>800.0000</td>\n",
              "      <td>255.000000</td>\n",
              "      <td>190.000000</td>\n",
              "      <td>230.000000</td>\n",
              "      <td>194.000000</td>\n",
              "      <td>230.000000</td>\n",
              "      <td>180.000000</td>\n",
              "      <td>780.00000</td>\n",
              "    </tr>\n",
              "  </tbody>\n",
              "</table>\n",
              "</div>"
            ],
            "text/plain": [
              "              #          HP      Attack  ...     Sp. Def       Speed      Total\n",
              "count  800.0000  800.000000  800.000000  ...  800.000000  800.000000  800.00000\n",
              "mean   400.5000   69.258750   79.001250  ...   71.902500   68.277500  435.10250\n",
              "std    231.0844   25.534669   32.457366  ...   27.828916   29.060474  119.96304\n",
              "min      1.0000    1.000000    5.000000  ...   20.000000    5.000000  180.00000\n",
              "25%    200.7500   50.000000   55.000000  ...   50.000000   45.000000  330.00000\n",
              "50%    400.5000   65.000000   75.000000  ...   70.000000   65.000000  450.00000\n",
              "75%    600.2500   80.000000  100.000000  ...   90.000000   90.000000  515.00000\n",
              "max    800.0000  255.000000  190.000000  ...  230.000000  180.000000  780.00000\n",
              "\n",
              "[8 rows x 8 columns]"
            ]
          },
          "metadata": {
            "tags": []
          },
          "execution_count": 12
        }
      ]
    },
    {
      "cell_type": "code",
      "metadata": {
        "colab": {
          "base_uri": "https://localhost:8080/",
          "height": 204
        },
        "id": "s3-IUcuNMEau",
        "outputId": "b0c2534e-caca-4dd2-c24a-d72c8c0fb829"
      },
      "source": [
        "pokemon.head()"
      ],
      "execution_count": null,
      "outputs": [
        {
          "output_type": "execute_result",
          "data": {
            "text/html": [
              "<div>\n",
              "<style scoped>\n",
              "    .dataframe tbody tr th:only-of-type {\n",
              "        vertical-align: middle;\n",
              "    }\n",
              "\n",
              "    .dataframe tbody tr th {\n",
              "        vertical-align: top;\n",
              "    }\n",
              "\n",
              "    .dataframe thead th {\n",
              "        text-align: right;\n",
              "    }\n",
              "</style>\n",
              "<table border=\"1\" class=\"dataframe\">\n",
              "  <thead>\n",
              "    <tr style=\"text-align: right;\">\n",
              "      <th></th>\n",
              "      <th>#</th>\n",
              "      <th>Type 1</th>\n",
              "      <th>Type 2</th>\n",
              "      <th>HP</th>\n",
              "      <th>Attack</th>\n",
              "      <th>Defense</th>\n",
              "      <th>Sp. Atk</th>\n",
              "      <th>Sp. Def</th>\n",
              "      <th>Speed</th>\n",
              "      <th>Legendary</th>\n",
              "      <th>Total</th>\n",
              "    </tr>\n",
              "  </thead>\n",
              "  <tbody>\n",
              "    <tr>\n",
              "      <th>0</th>\n",
              "      <td>1</td>\n",
              "      <td>Grass</td>\n",
              "      <td>Poison</td>\n",
              "      <td>45</td>\n",
              "      <td>49</td>\n",
              "      <td>49</td>\n",
              "      <td>65</td>\n",
              "      <td>65</td>\n",
              "      <td>45</td>\n",
              "      <td>False</td>\n",
              "      <td>318</td>\n",
              "    </tr>\n",
              "    <tr>\n",
              "      <th>1</th>\n",
              "      <td>2</td>\n",
              "      <td>Grass</td>\n",
              "      <td>Poison</td>\n",
              "      <td>60</td>\n",
              "      <td>62</td>\n",
              "      <td>63</td>\n",
              "      <td>80</td>\n",
              "      <td>80</td>\n",
              "      <td>60</td>\n",
              "      <td>False</td>\n",
              "      <td>405</td>\n",
              "    </tr>\n",
              "    <tr>\n",
              "      <th>2</th>\n",
              "      <td>3</td>\n",
              "      <td>Grass</td>\n",
              "      <td>Poison</td>\n",
              "      <td>80</td>\n",
              "      <td>82</td>\n",
              "      <td>83</td>\n",
              "      <td>100</td>\n",
              "      <td>100</td>\n",
              "      <td>80</td>\n",
              "      <td>False</td>\n",
              "      <td>525</td>\n",
              "    </tr>\n",
              "    <tr>\n",
              "      <th>3</th>\n",
              "      <td>4</td>\n",
              "      <td>Grass</td>\n",
              "      <td>Poison</td>\n",
              "      <td>80</td>\n",
              "      <td>100</td>\n",
              "      <td>123</td>\n",
              "      <td>122</td>\n",
              "      <td>120</td>\n",
              "      <td>80</td>\n",
              "      <td>False</td>\n",
              "      <td>625</td>\n",
              "    </tr>\n",
              "    <tr>\n",
              "      <th>4</th>\n",
              "      <td>5</td>\n",
              "      <td>Fire</td>\n",
              "      <td>-</td>\n",
              "      <td>39</td>\n",
              "      <td>52</td>\n",
              "      <td>43</td>\n",
              "      <td>60</td>\n",
              "      <td>50</td>\n",
              "      <td>65</td>\n",
              "      <td>False</td>\n",
              "      <td>309</td>\n",
              "    </tr>\n",
              "  </tbody>\n",
              "</table>\n",
              "</div>"
            ],
            "text/plain": [
              "   # Type 1  Type 2  HP  Attack  ...  Sp. Atk  Sp. Def  Speed  Legendary  Total\n",
              "0  1  Grass  Poison  45      49  ...       65       65     45      False    318\n",
              "1  2  Grass  Poison  60      62  ...       80       80     60      False    405\n",
              "2  3  Grass  Poison  80      82  ...      100      100     80      False    525\n",
              "3  4  Grass  Poison  80     100  ...      122      120     80      False    625\n",
              "4  5   Fire       -  39      52  ...       60       50     65      False    309\n",
              "\n",
              "[5 rows x 11 columns]"
            ]
          },
          "metadata": {
            "tags": []
          },
          "execution_count": 13
        }
      ]
    },
    {
      "cell_type": "markdown",
      "metadata": {
        "id": "YD9troqSgXlL"
      },
      "source": [
        "Discretizamos, ver qué cantidad va mejor. Por ahora pongo 10 "
      ]
    },
    {
      "cell_type": "code",
      "metadata": {
        "id": "Q6ORXMQyfePe"
      },
      "source": [
        "pokemon['HP'] = pd.qcut(pokemon['HP'], 10, labels=False)\n",
        "pokemon['Attack'] = pd.qcut(pokemon['Attack'], 10, labels=False)\n",
        "pokemon['Defense'] = pd.qcut(pokemon['Defense'], 10, labels=False)\n",
        "pokemon['Sp. Atk'] = pd.qcut(pokemon['Sp. Atk'], 10, labels=False)\n",
        "pokemon['Sp. Def'] = pd.qcut(pokemon['Sp. Def'], 10, labels=False)\n",
        "pokemon['Speed'] = pd.qcut(pokemon['Speed'], 10, labels=False)\n",
        "pokemon['Total'] = pd.qcut(pokemon['Total'], 10, labels=False)"
      ],
      "execution_count": null,
      "outputs": []
    },
    {
      "cell_type": "code",
      "metadata": {
        "colab": {
          "base_uri": "https://localhost:8080/",
          "height": 204
        },
        "id": "QuxqDnRolzno",
        "outputId": "b0b2a7ca-29ee-46fc-d5da-97903262679e"
      },
      "source": [
        "pokemon.head()"
      ],
      "execution_count": null,
      "outputs": [
        {
          "output_type": "execute_result",
          "data": {
            "text/html": [
              "<div>\n",
              "<style scoped>\n",
              "    .dataframe tbody tr th:only-of-type {\n",
              "        vertical-align: middle;\n",
              "    }\n",
              "\n",
              "    .dataframe tbody tr th {\n",
              "        vertical-align: top;\n",
              "    }\n",
              "\n",
              "    .dataframe thead th {\n",
              "        text-align: right;\n",
              "    }\n",
              "</style>\n",
              "<table border=\"1\" class=\"dataframe\">\n",
              "  <thead>\n",
              "    <tr style=\"text-align: right;\">\n",
              "      <th></th>\n",
              "      <th>#</th>\n",
              "      <th>Type 1</th>\n",
              "      <th>Type 2</th>\n",
              "      <th>HP</th>\n",
              "      <th>Attack</th>\n",
              "      <th>Defense</th>\n",
              "      <th>Sp. Atk</th>\n",
              "      <th>Sp. Def</th>\n",
              "      <th>Speed</th>\n",
              "      <th>Legendary</th>\n",
              "      <th>Total</th>\n",
              "    </tr>\n",
              "  </thead>\n",
              "  <tbody>\n",
              "    <tr>\n",
              "      <th>0</th>\n",
              "      <td>1</td>\n",
              "      <td>Grass</td>\n",
              "      <td>Poison</td>\n",
              "      <td>1</td>\n",
              "      <td>1</td>\n",
              "      <td>2</td>\n",
              "      <td>4</td>\n",
              "      <td>4</td>\n",
              "      <td>2</td>\n",
              "      <td>False</td>\n",
              "      <td>2</td>\n",
              "    </tr>\n",
              "    <tr>\n",
              "      <th>1</th>\n",
              "      <td>2</td>\n",
              "      <td>Grass</td>\n",
              "      <td>Poison</td>\n",
              "      <td>3</td>\n",
              "      <td>3</td>\n",
              "      <td>4</td>\n",
              "      <td>6</td>\n",
              "      <td>6</td>\n",
              "      <td>4</td>\n",
              "      <td>False</td>\n",
              "      <td>3</td>\n",
              "    </tr>\n",
              "    <tr>\n",
              "      <th>2</th>\n",
              "      <td>3</td>\n",
              "      <td>Grass</td>\n",
              "      <td>Poison</td>\n",
              "      <td>7</td>\n",
              "      <td>5</td>\n",
              "      <td>6</td>\n",
              "      <td>7</td>\n",
              "      <td>8</td>\n",
              "      <td>6</td>\n",
              "      <td>False</td>\n",
              "      <td>7</td>\n",
              "    </tr>\n",
              "    <tr>\n",
              "      <th>3</th>\n",
              "      <td>4</td>\n",
              "      <td>Grass</td>\n",
              "      <td>Poison</td>\n",
              "      <td>7</td>\n",
              "      <td>7</td>\n",
              "      <td>9</td>\n",
              "      <td>9</td>\n",
              "      <td>9</td>\n",
              "      <td>6</td>\n",
              "      <td>False</td>\n",
              "      <td>9</td>\n",
              "    </tr>\n",
              "    <tr>\n",
              "      <th>4</th>\n",
              "      <td>5</td>\n",
              "      <td>Fire</td>\n",
              "      <td>-</td>\n",
              "      <td>0</td>\n",
              "      <td>2</td>\n",
              "      <td>1</td>\n",
              "      <td>3</td>\n",
              "      <td>2</td>\n",
              "      <td>4</td>\n",
              "      <td>False</td>\n",
              "      <td>1</td>\n",
              "    </tr>\n",
              "  </tbody>\n",
              "</table>\n",
              "</div>"
            ],
            "text/plain": [
              "   # Type 1  Type 2  HP  Attack  ...  Sp. Atk  Sp. Def  Speed  Legendary  Total\n",
              "0  1  Grass  Poison   1       1  ...        4        4      2      False      2\n",
              "1  2  Grass  Poison   3       3  ...        6        6      4      False      3\n",
              "2  3  Grass  Poison   7       5  ...        7        8      6      False      7\n",
              "3  4  Grass  Poison   7       7  ...        9        9      6      False      9\n",
              "4  5   Fire       -   0       2  ...        3        2      4      False      1\n",
              "\n",
              "[5 rows x 11 columns]"
            ]
          },
          "metadata": {
            "tags": []
          },
          "execution_count": 15
        }
      ]
    },
    {
      "cell_type": "markdown",
      "metadata": {
        "id": "mNIe-6ExyqeI"
      },
      "source": [
        "Cambiamos los tipos a numéricos"
      ]
    },
    {
      "cell_type": "code",
      "metadata": {
        "colab": {
          "base_uri": "https://localhost:8080/"
        },
        "id": "APlO_AP77Kmf",
        "outputId": "f9e1a1f1-8376-423a-c730-d97cbc189036"
      },
      "source": [
        "pokemon['Type 1'].value_counts()"
      ],
      "execution_count": null,
      "outputs": [
        {
          "output_type": "execute_result",
          "data": {
            "text/plain": [
              "Water       112\n",
              "Normal       98\n",
              "Grass        70\n",
              "Bug          69\n",
              "Psychic      57\n",
              "Fire         52\n",
              "Electric     44\n",
              "Rock         44\n",
              "Dragon       32\n",
              "Ground       32\n",
              "Ghost        32\n",
              "Dark         31\n",
              "Poison       28\n",
              "Steel        27\n",
              "Fighting     27\n",
              "Ice          24\n",
              "Fairy        17\n",
              "Flying        4\n",
              "Name: Type 1, dtype: int64"
            ]
          },
          "metadata": {
            "tags": []
          },
          "execution_count": 16
        }
      ]
    },
    {
      "cell_type": "code",
      "metadata": {
        "colab": {
          "base_uri": "https://localhost:8080/"
        },
        "id": "ynoS9K3T7NBh",
        "outputId": "02d9e8d8-e2f9-4ecb-fb55-da8258003588"
      },
      "source": [
        "pokemon['Type 2'].value_counts()"
      ],
      "execution_count": null,
      "outputs": [
        {
          "output_type": "execute_result",
          "data": {
            "text/plain": [
              "-           386\n",
              "Flying       97\n",
              "Ground       35\n",
              "Poison       34\n",
              "Psychic      33\n",
              "Fighting     26\n",
              "Grass        25\n",
              "Fairy        23\n",
              "Steel        22\n",
              "Dark         20\n",
              "Dragon       18\n",
              "Ice          14\n",
              "Ghost        14\n",
              "Rock         14\n",
              "Water        14\n",
              "Fire         12\n",
              "Electric      6\n",
              "Normal        4\n",
              "Bug           3\n",
              "Name: Type 2, dtype: int64"
            ]
          },
          "metadata": {
            "tags": []
          },
          "execution_count": 17
        }
      ]
    },
    {
      "cell_type": "code",
      "metadata": {
        "colab": {
          "base_uri": "https://localhost:8080/",
          "height": 204
        },
        "id": "RYS2QO7xyqM4",
        "outputId": "89b1e150-e3db-4b6f-ad4a-05d7f389f34b"
      },
      "source": [
        "from sklearn.preprocessing import LabelEncoder\n",
        "\n",
        "lb_make_1 = LabelEncoder()\n",
        "lb_make_2 = LabelEncoder()\n",
        "pokemon[\"Type 1\"] = lb_make_1.fit_transform(pokemon[\"Type 1\"])\n",
        "pokemon[\"Type 2\"] = lb_make_2.fit_transform(pokemon[\"Type 2\"])\n",
        "pokemon.head()"
      ],
      "execution_count": null,
      "outputs": [
        {
          "output_type": "execute_result",
          "data": {
            "text/html": [
              "<div>\n",
              "<style scoped>\n",
              "    .dataframe tbody tr th:only-of-type {\n",
              "        vertical-align: middle;\n",
              "    }\n",
              "\n",
              "    .dataframe tbody tr th {\n",
              "        vertical-align: top;\n",
              "    }\n",
              "\n",
              "    .dataframe thead th {\n",
              "        text-align: right;\n",
              "    }\n",
              "</style>\n",
              "<table border=\"1\" class=\"dataframe\">\n",
              "  <thead>\n",
              "    <tr style=\"text-align: right;\">\n",
              "      <th></th>\n",
              "      <th>#</th>\n",
              "      <th>Type 1</th>\n",
              "      <th>Type 2</th>\n",
              "      <th>HP</th>\n",
              "      <th>Attack</th>\n",
              "      <th>Defense</th>\n",
              "      <th>Sp. Atk</th>\n",
              "      <th>Sp. Def</th>\n",
              "      <th>Speed</th>\n",
              "      <th>Legendary</th>\n",
              "      <th>Total</th>\n",
              "    </tr>\n",
              "  </thead>\n",
              "  <tbody>\n",
              "    <tr>\n",
              "      <th>0</th>\n",
              "      <td>1</td>\n",
              "      <td>9</td>\n",
              "      <td>14</td>\n",
              "      <td>1</td>\n",
              "      <td>1</td>\n",
              "      <td>2</td>\n",
              "      <td>4</td>\n",
              "      <td>4</td>\n",
              "      <td>2</td>\n",
              "      <td>False</td>\n",
              "      <td>2</td>\n",
              "    </tr>\n",
              "    <tr>\n",
              "      <th>1</th>\n",
              "      <td>2</td>\n",
              "      <td>9</td>\n",
              "      <td>14</td>\n",
              "      <td>3</td>\n",
              "      <td>3</td>\n",
              "      <td>4</td>\n",
              "      <td>6</td>\n",
              "      <td>6</td>\n",
              "      <td>4</td>\n",
              "      <td>False</td>\n",
              "      <td>3</td>\n",
              "    </tr>\n",
              "    <tr>\n",
              "      <th>2</th>\n",
              "      <td>3</td>\n",
              "      <td>9</td>\n",
              "      <td>14</td>\n",
              "      <td>7</td>\n",
              "      <td>5</td>\n",
              "      <td>6</td>\n",
              "      <td>7</td>\n",
              "      <td>8</td>\n",
              "      <td>6</td>\n",
              "      <td>False</td>\n",
              "      <td>7</td>\n",
              "    </tr>\n",
              "    <tr>\n",
              "      <th>3</th>\n",
              "      <td>4</td>\n",
              "      <td>9</td>\n",
              "      <td>14</td>\n",
              "      <td>7</td>\n",
              "      <td>7</td>\n",
              "      <td>9</td>\n",
              "      <td>9</td>\n",
              "      <td>9</td>\n",
              "      <td>6</td>\n",
              "      <td>False</td>\n",
              "      <td>9</td>\n",
              "    </tr>\n",
              "    <tr>\n",
              "      <th>4</th>\n",
              "      <td>5</td>\n",
              "      <td>6</td>\n",
              "      <td>0</td>\n",
              "      <td>0</td>\n",
              "      <td>2</td>\n",
              "      <td>1</td>\n",
              "      <td>3</td>\n",
              "      <td>2</td>\n",
              "      <td>4</td>\n",
              "      <td>False</td>\n",
              "      <td>1</td>\n",
              "    </tr>\n",
              "  </tbody>\n",
              "</table>\n",
              "</div>"
            ],
            "text/plain": [
              "   #  Type 1  Type 2  HP  Attack  ...  Sp. Atk  Sp. Def  Speed  Legendary  Total\n",
              "0  1       9      14   1       1  ...        4        4      2      False      2\n",
              "1  2       9      14   3       3  ...        6        6      4      False      3\n",
              "2  3       9      14   7       5  ...        7        8      6      False      7\n",
              "3  4       9      14   7       7  ...        9        9      6      False      9\n",
              "4  5       6       0   0       2  ...        3        2      4      False      1\n",
              "\n",
              "[5 rows x 11 columns]"
            ]
          },
          "metadata": {
            "tags": []
          },
          "execution_count": 18
        }
      ]
    },
    {
      "cell_type": "markdown",
      "metadata": {
        "id": "fI1pEUKQ1BB6"
      },
      "source": [
        "Para saber cómo volver"
      ]
    },
    {
      "cell_type": "code",
      "metadata": {
        "id": "4a1z8S6vy9eC"
      },
      "source": [
        "aux = lb_make_2.inverse_transform(pokemon[\"Type 2\"])"
      ],
      "execution_count": null,
      "outputs": []
    },
    {
      "cell_type": "code",
      "metadata": {
        "colab": {
          "base_uri": "https://localhost:8080/"
        },
        "id": "J1t6L3lf0isp",
        "outputId": "ea3b2408-99b1-4d74-b4e8-85823dffea49"
      },
      "source": [
        "aux[0:5]"
      ],
      "execution_count": null,
      "outputs": [
        {
          "output_type": "execute_result",
          "data": {
            "text/plain": [
              "array(['Poison', 'Poison', 'Poison', 'Poison', '-'], dtype=object)"
            ]
          },
          "metadata": {
            "tags": []
          },
          "execution_count": 135
        }
      ]
    },
    {
      "cell_type": "code",
      "metadata": {
        "id": "nqF0Mm650pbE"
      },
      "source": [
        "aux = lb_make_1.inverse_transform(pokemon[\"Type 1\"])"
      ],
      "execution_count": null,
      "outputs": []
    },
    {
      "cell_type": "code",
      "metadata": {
        "colab": {
          "base_uri": "https://localhost:8080/"
        },
        "id": "tlxW_qnF0rxo",
        "outputId": "cc531f72-66a1-4fad-eef4-1334d3e19d6d"
      },
      "source": [
        "aux[0:5]"
      ],
      "execution_count": null,
      "outputs": [
        {
          "output_type": "execute_result",
          "data": {
            "text/plain": [
              "array(['Grass', 'Grass', 'Grass', 'Grass', 'Fire'], dtype=object)"
            ]
          },
          "metadata": {
            "tags": []
          },
          "execution_count": 137
        }
      ]
    },
    {
      "cell_type": "code",
      "metadata": {
        "colab": {
          "base_uri": "https://localhost:8080/"
        },
        "id": "6RybFAbk3Ld8",
        "outputId": "e188e423-6509-4f9a-c4a7-cb47c888dcab"
      },
      "source": [
        "pokemon['Type 1'].value_counts()"
      ],
      "execution_count": null,
      "outputs": [
        {
          "output_type": "execute_result",
          "data": {
            "text/plain": [
              "17    112\n",
              "12     98\n",
              "9      70\n",
              "0      69\n",
              "14     57\n",
              "6      52\n",
              "15     44\n",
              "3      44\n",
              "10     32\n",
              "2      32\n",
              "8      32\n",
              "1      31\n",
              "13     28\n",
              "16     27\n",
              "5      27\n",
              "11     24\n",
              "4      17\n",
              "7       4\n",
              "Name: Type 1, dtype: int64"
            ]
          },
          "metadata": {
            "tags": []
          },
          "execution_count": 138
        }
      ]
    },
    {
      "cell_type": "code",
      "metadata": {
        "colab": {
          "base_uri": "https://localhost:8080/"
        },
        "id": "0mmOZBp_1mc2",
        "outputId": "87b98527-3406-4e12-ef93-f993e3e01060"
      },
      "source": [
        "pokemon['Type 2'].value_counts()"
      ],
      "execution_count": null,
      "outputs": [
        {
          "output_type": "execute_result",
          "data": {
            "text/plain": [
              "0     386\n",
              "8      97\n",
              "11     35\n",
              "14     34\n",
              "15     33\n",
              "6      26\n",
              "10     25\n",
              "5      23\n",
              "17     22\n",
              "2      20\n",
              "3      18\n",
              "18     14\n",
              "12     14\n",
              "16     14\n",
              "9      14\n",
              "7      12\n",
              "4       6\n",
              "13      4\n",
              "1       3\n",
              "Name: Type 2, dtype: int64"
            ]
          },
          "metadata": {
            "tags": []
          },
          "execution_count": 139
        }
      ]
    },
    {
      "cell_type": "markdown",
      "metadata": {
        "id": "JLbuv7aBl2Uq"
      },
      "source": [
        "# Pruebas predecir los combates"
      ]
    },
    {
      "cell_type": "markdown",
      "metadata": {
        "id": "W_enrHw2mI-7"
      },
      "source": [
        "Hacemos pruebas para ver cómo funciona esto. Construimos dataframes según algunas catacterísticas para ver cuáles se acercan más"
      ]
    },
    {
      "cell_type": "markdown",
      "metadata": {
        "id": "a46yNdhA0GBw"
      },
      "source": [
        "## Random Forest\n"
      ]
    },
    {
      "cell_type": "code",
      "metadata": {
        "id": "yqtSzQhZwn7q"
      },
      "source": [
        "from sklearn import tree\n",
        "from sklearn.model_selection import cross_val_score, KFold, train_test_split\n",
        "from sklearn import metrics\n",
        "from sklearn.ensemble import RandomForestClassifier\n",
        "from sklearn.metrics import accuracy_score"
      ],
      "execution_count": null,
      "outputs": []
    },
    {
      "cell_type": "code",
      "metadata": {
        "id": "rdT4ZTbAQLVR"
      },
      "source": [
        "'''\n",
        "Separamos las columnas para predecir de la columna 'clase'\n",
        "'''\n",
        "seed = 77\n",
        "test = 0.2\n",
        "def splitClase(df):\n",
        "  datos = df.iloc[:,1:] # La columna WINNER SIEMPRE DEBE DE SER LA PRIMERA\n",
        "  labels = df['Winner']\n",
        "  return datos, labels\n",
        "\n",
        "\n",
        "def construirDataFrame(df, caracteristicas):\n",
        "  combats_aux = {'Winner':[]}\n",
        "\n",
        "  for i in caracteristicas:\n",
        "    combats_aux[i+'_1'] = []\n",
        "    combats_aux[i+'_2'] = []\n",
        "\n",
        "  for index, row in combats.iterrows():\n",
        "      first = row['First_pokemon']\n",
        "      second = row['Second_pokemon']\n",
        "      winner = row['Winner']\n",
        "\n",
        "      ## Creamos una fila con las características deseadas y el ganador\n",
        "      for i in caracteristicas:\n",
        "        combats_aux[i+'_1'].append(pokemon.iloc[first-1][i])\n",
        "        combats_aux[i+'_2'].append(pokemon.iloc[second-1][i])\n",
        "\n",
        "      if winner == first:\n",
        "        combats_aux['Winner'].append(1)\n",
        "      else:\n",
        "        combats_aux['Winner'].append(0)\n",
        "\n",
        "  combats_total = pd.DataFrame(combats_aux)\n",
        "\n",
        "  return combats_total\n",
        "\n",
        "def construirDataFrameTest(df, caracteristicas):\n",
        "  combats_aux = {}\n",
        "\n",
        "  for i in caracteristicas:\n",
        "    combats_aux[i+'_1'] = []\n",
        "    combats_aux[i+'_2'] = []\n",
        "\n",
        "  for index, row in df.iterrows():\n",
        "      first = row['First_pokemon']\n",
        "      second = row['Second_pokemon']\n",
        "\n",
        "      for i in caracteristicas:\n",
        "        combats_aux[i+'_1'].append(pokemon.iloc[first-1][i])\n",
        "        combats_aux[i+'_2'].append(pokemon.iloc[second-1][i])\n",
        "\n",
        "  combats_total = pd.DataFrame(combats_aux)\n",
        "\n",
        "  return combats_total\n",
        "\n",
        "def RandomForestCaracteristicas(df, caracteristicas_eliminar):\n",
        "\n",
        "  combats_total = df.copy()\n",
        "\n",
        "  # Eliminamos las características del dataframe\n",
        "  for i in caracteristicas_eliminar:\n",
        "    combats_total = combats_total.drop(columns=[i+'_1', i+'_2'])\n",
        "\n",
        "  print(\"Ya hemos construido el Dataframe. Ahora entrenamos el modelo.\")\n",
        "  ## Separamos la columna del ganador\n",
        "  data, label = splitClase(combats_total)\n",
        "\n",
        "  ## Separamos conjuntos de entrenamiento y prueba\n",
        "  datos_train, datos_test, labels_train, labels_test = train_test_split( data, label, test_size=test, random_state=seed)\n",
        "\n",
        "  clf = RandomForestClassifier(n_estimators=100)\n",
        "  model = clf.fit(datos_train, labels_train) #training\n",
        "  pred = model.predict(datos_test) #predicting on validation set\n",
        "\n",
        "  #Exactitud y matrices de confusión\n",
        "  print('Accuracy of ', accuracy_score(pred, labels_test)*100)\n",
        "  print('--------')\n",
        "  print(metrics.confusion_matrix(labels_test, pred ))\n",
        "  print(metrics.classification_report(labels_test, pred))  \n",
        "\n",
        "  # Tasas de falsos positivos, verdaeros positivos y área bajo al curva\n",
        "  fpr, tpr, _ = metrics.roc_curve(labels_test, pred)\n",
        "  area = metrics.roc_auc_score(labels_test, pred)\n",
        "\n",
        "  return model, fpr, tpr, area"
      ],
      "execution_count": null,
      "outputs": []
    },
    {
      "cell_type": "code",
      "metadata": {
        "id": "1PY3lAoaY_Lj"
      },
      "source": [
        "def predecirCombate(model, df_test, caracteristicas_eliminar):\n",
        "  # Construimos el dataframe \n",
        "\n",
        "  combats_total = df_test.copy()\n",
        "\n",
        "  # Eliminamos las características del dataframe\n",
        "  for i in caracteristicas_eliminar:\n",
        "    combats_total = combats_total.drop(columns=[i+'_1', i+'_2'])\n",
        "\n",
        "  # Predecimos\n",
        "  pred = model.predict(combats_total) #predicting on validation set\n",
        "\n",
        "  print(pred)\n",
        "  return pred\n"
      ],
      "execution_count": null,
      "outputs": []
    },
    {
      "cell_type": "code",
      "metadata": {
        "id": "hvkrVhP9s2dq"
      },
      "source": [
        "pokemon_nuevo = construirDataFrame(pokemon, ['Type 1', 'Type 2', 'HP', 'Attack', 'Defense', 'Sp. Atk', 'Sp. Def', 'Speed', 'Legendary', 'Total'])"
      ],
      "execution_count": null,
      "outputs": []
    },
    {
      "cell_type": "code",
      "metadata": {
        "colab": {
          "base_uri": "https://localhost:8080/",
          "height": 221
        },
        "id": "Xsd7fa3yuNvX",
        "outputId": "8f89d2b7-07fd-4cd2-f9b4-84cffb4d6db9"
      },
      "source": [
        "pokemon_nuevo.head()"
      ],
      "execution_count": null,
      "outputs": [
        {
          "output_type": "execute_result",
          "data": {
            "text/html": [
              "<div>\n",
              "<style scoped>\n",
              "    .dataframe tbody tr th:only-of-type {\n",
              "        vertical-align: middle;\n",
              "    }\n",
              "\n",
              "    .dataframe tbody tr th {\n",
              "        vertical-align: top;\n",
              "    }\n",
              "\n",
              "    .dataframe thead th {\n",
              "        text-align: right;\n",
              "    }\n",
              "</style>\n",
              "<table border=\"1\" class=\"dataframe\">\n",
              "  <thead>\n",
              "    <tr style=\"text-align: right;\">\n",
              "      <th></th>\n",
              "      <th>Winner</th>\n",
              "      <th>Type 1_1</th>\n",
              "      <th>Type 1_2</th>\n",
              "      <th>Type 2_1</th>\n",
              "      <th>Type 2_2</th>\n",
              "      <th>HP_1</th>\n",
              "      <th>HP_2</th>\n",
              "      <th>Attack_1</th>\n",
              "      <th>Attack_2</th>\n",
              "      <th>Defense_1</th>\n",
              "      <th>Defense_2</th>\n",
              "      <th>Sp. Atk_1</th>\n",
              "      <th>Sp. Atk_2</th>\n",
              "      <th>Sp. Def_1</th>\n",
              "      <th>Sp. Def_2</th>\n",
              "      <th>Speed_1</th>\n",
              "      <th>Speed_2</th>\n",
              "      <th>Legendary_1</th>\n",
              "      <th>Legendary_2</th>\n",
              "      <th>Total_1</th>\n",
              "      <th>Total_2</th>\n",
              "    </tr>\n",
              "  </thead>\n",
              "  <tbody>\n",
              "    <tr>\n",
              "      <th>0</th>\n",
              "      <td>0</td>\n",
              "      <td>15</td>\n",
              "      <td>9</td>\n",
              "      <td>11</td>\n",
              "      <td>2</td>\n",
              "      <td>1</td>\n",
              "      <td>5</td>\n",
              "      <td>3</td>\n",
              "      <td>4</td>\n",
              "      <td>2</td>\n",
              "      <td>0</td>\n",
              "      <td>1</td>\n",
              "      <td>3</td>\n",
              "      <td>2</td>\n",
              "      <td>0</td>\n",
              "      <td>1</td>\n",
              "      <td>4</td>\n",
              "      <td>False</td>\n",
              "      <td>False</td>\n",
              "      <td>1</td>\n",
              "      <td>2</td>\n",
              "    </tr>\n",
              "    <tr>\n",
              "      <th>1</th>\n",
              "      <td>0</td>\n",
              "      <td>9</td>\n",
              "      <td>15</td>\n",
              "      <td>6</td>\n",
              "      <td>6</td>\n",
              "      <td>8</td>\n",
              "      <td>8</td>\n",
              "      <td>6</td>\n",
              "      <td>9</td>\n",
              "      <td>5</td>\n",
              "      <td>7</td>\n",
              "      <td>7</td>\n",
              "      <td>5</td>\n",
              "      <td>9</td>\n",
              "      <td>7</td>\n",
              "      <td>9</td>\n",
              "      <td>9</td>\n",
              "      <td>True</td>\n",
              "      <td>True</td>\n",
              "      <td>8</td>\n",
              "      <td>8</td>\n",
              "    </tr>\n",
              "    <tr>\n",
              "      <th>2</th>\n",
              "      <td>0</td>\n",
              "      <td>4</td>\n",
              "      <td>14</td>\n",
              "      <td>8</td>\n",
              "      <td>0</td>\n",
              "      <td>2</td>\n",
              "      <td>6</td>\n",
              "      <td>0</td>\n",
              "      <td>4</td>\n",
              "      <td>6</td>\n",
              "      <td>5</td>\n",
              "      <td>6</td>\n",
              "      <td>9</td>\n",
              "      <td>8</td>\n",
              "      <td>7</td>\n",
              "      <td>1</td>\n",
              "      <td>1</td>\n",
              "      <td>False</td>\n",
              "      <td>False</td>\n",
              "      <td>3</td>\n",
              "      <td>6</td>\n",
              "    </tr>\n",
              "    <tr>\n",
              "      <th>3</th>\n",
              "      <td>0</td>\n",
              "      <td>6</td>\n",
              "      <td>2</td>\n",
              "      <td>0</td>\n",
              "      <td>0</td>\n",
              "      <td>0</td>\n",
              "      <td>6</td>\n",
              "      <td>0</td>\n",
              "      <td>8</td>\n",
              "      <td>0</td>\n",
              "      <td>7</td>\n",
              "      <td>5</td>\n",
              "      <td>3</td>\n",
              "      <td>0</td>\n",
              "      <td>7</td>\n",
              "      <td>0</td>\n",
              "      <td>2</td>\n",
              "      <td>False</td>\n",
              "      <td>False</td>\n",
              "      <td>0</td>\n",
              "      <td>6</td>\n",
              "    </tr>\n",
              "    <tr>\n",
              "      <th>4</th>\n",
              "      <td>1</td>\n",
              "      <td>15</td>\n",
              "      <td>0</td>\n",
              "      <td>18</td>\n",
              "      <td>16</td>\n",
              "      <td>5</td>\n",
              "      <td>0</td>\n",
              "      <td>2</td>\n",
              "      <td>0</td>\n",
              "      <td>9</td>\n",
              "      <td>9</td>\n",
              "      <td>8</td>\n",
              "      <td>0</td>\n",
              "      <td>4</td>\n",
              "      <td>9</td>\n",
              "      <td>3</td>\n",
              "      <td>0</td>\n",
              "      <td>False</td>\n",
              "      <td>False</td>\n",
              "      <td>6</td>\n",
              "      <td>7</td>\n",
              "    </tr>\n",
              "  </tbody>\n",
              "</table>\n",
              "</div>"
            ],
            "text/plain": [
              "   Winner  Type 1_1  Type 1_2  ...  Legendary_2  Total_1  Total_2\n",
              "0       0        15         9  ...        False        1        2\n",
              "1       0         9        15  ...         True        8        8\n",
              "2       0         4        14  ...        False        3        6\n",
              "3       0         6         2  ...        False        0        6\n",
              "4       1        15         0  ...        False        6        7\n",
              "\n",
              "[5 rows x 21 columns]"
            ]
          },
          "metadata": {
            "tags": []
          },
          "execution_count": 23
        }
      ]
    },
    {
      "cell_type": "code",
      "metadata": {
        "colab": {
          "base_uri": "https://localhost:8080/",
          "height": 204
        },
        "id": "BmNyEYvLJJLz",
        "outputId": "64168462-eaef-4bdb-f06f-add10103ccb0"
      },
      "source": [
        "combats.head()"
      ],
      "execution_count": null,
      "outputs": [
        {
          "output_type": "execute_result",
          "data": {
            "text/html": [
              "<div>\n",
              "<style scoped>\n",
              "    .dataframe tbody tr th:only-of-type {\n",
              "        vertical-align: middle;\n",
              "    }\n",
              "\n",
              "    .dataframe tbody tr th {\n",
              "        vertical-align: top;\n",
              "    }\n",
              "\n",
              "    .dataframe thead th {\n",
              "        text-align: right;\n",
              "    }\n",
              "</style>\n",
              "<table border=\"1\" class=\"dataframe\">\n",
              "  <thead>\n",
              "    <tr style=\"text-align: right;\">\n",
              "      <th></th>\n",
              "      <th>First_pokemon</th>\n",
              "      <th>Second_pokemon</th>\n",
              "      <th>Winner</th>\n",
              "    </tr>\n",
              "  </thead>\n",
              "  <tbody>\n",
              "    <tr>\n",
              "      <th>0</th>\n",
              "      <td>266</td>\n",
              "      <td>298</td>\n",
              "      <td>298</td>\n",
              "    </tr>\n",
              "    <tr>\n",
              "      <th>1</th>\n",
              "      <td>702</td>\n",
              "      <td>701</td>\n",
              "      <td>701</td>\n",
              "    </tr>\n",
              "    <tr>\n",
              "      <th>2</th>\n",
              "      <td>191</td>\n",
              "      <td>668</td>\n",
              "      <td>668</td>\n",
              "    </tr>\n",
              "    <tr>\n",
              "      <th>3</th>\n",
              "      <td>237</td>\n",
              "      <td>683</td>\n",
              "      <td>683</td>\n",
              "    </tr>\n",
              "    <tr>\n",
              "      <th>4</th>\n",
              "      <td>151</td>\n",
              "      <td>231</td>\n",
              "      <td>151</td>\n",
              "    </tr>\n",
              "  </tbody>\n",
              "</table>\n",
              "</div>"
            ],
            "text/plain": [
              "   First_pokemon  Second_pokemon  Winner\n",
              "0            266             298     298\n",
              "1            702             701     701\n",
              "2            191             668     668\n",
              "3            237             683     683\n",
              "4            151             231     151"
            ]
          },
          "metadata": {
            "tags": []
          },
          "execution_count": 39
        }
      ]
    },
    {
      "cell_type": "code",
      "metadata": {
        "colab": {
          "base_uri": "https://localhost:8080/"
        },
        "id": "ZdIDTELxuBBR",
        "outputId": "eab95fd0-7329-400a-caf0-2cbdcd699772"
      },
      "source": [
        "# Type 1\n",
        "model_rf1, fpr_rf1, tpr_rf1, area_rf1 = RandomForestCaracteristicas(pokemon_nuevo, ['Type 2', 'HP', 'Attack', 'Defense', 'Sp. Atk', 'Sp. Def', 'Speed', 'Legendary', 'Total'])\n",
        "area_rf1"
      ],
      "execution_count": null,
      "outputs": [
        {
          "output_type": "stream",
          "text": [
            "Ya hemos construido el Dataframe. Ahora entrenamos el modelo.\n",
            "Accuracy of  59.199999999999996\n",
            "--------\n",
            "[[3577 1662]\n",
            " [2418 2343]]\n",
            "              precision    recall  f1-score   support\n",
            "\n",
            "           0       0.60      0.68      0.64      5239\n",
            "           1       0.59      0.49      0.53      4761\n",
            "\n",
            "    accuracy                           0.59     10000\n",
            "   macro avg       0.59      0.59      0.59     10000\n",
            "weighted avg       0.59      0.59      0.59     10000\n",
            "\n"
          ],
          "name": "stdout"
        },
        {
          "output_type": "execute_result",
          "data": {
            "text/plain": [
              "0.587443694851745"
            ]
          },
          "metadata": {
            "tags": []
          },
          "execution_count": 53
        }
      ]
    },
    {
      "cell_type": "code",
      "metadata": {
        "colab": {
          "base_uri": "https://localhost:8080/"
        },
        "id": "GaoNg4hLSPmw",
        "outputId": "fac7fae4-3272-4bd6-8773-3e6330a1aec1"
      },
      "source": [
        "# Type 1 + Type 2\n",
        "model_2, fpr_rf2, tpr_rf2, area_rf2 = RandomForestCaracteristicas(pokemon_nuevo, ['HP', 'Attack', 'Defense', 'Sp. Atk', 'Sp. Def', 'Speed', 'Legendary', 'Total'])"
      ],
      "execution_count": null,
      "outputs": [
        {
          "output_type": "stream",
          "text": [
            "Ya hemos construido el Dataframe. Ahora entrenamos el modelo.\n",
            "Accuracy of  66.85\n",
            "--------\n",
            "[[3562 1677]\n",
            " [1638 3123]]\n",
            "              precision    recall  f1-score   support\n",
            "\n",
            "           0       0.69      0.68      0.68      5239\n",
            "           1       0.65      0.66      0.65      4761\n",
            "\n",
            "    accuracy                           0.67     10000\n",
            "   macro avg       0.67      0.67      0.67     10000\n",
            "weighted avg       0.67      0.67      0.67     10000\n",
            "\n"
          ],
          "name": "stdout"
        }
      ]
    },
    {
      "cell_type": "code",
      "metadata": {
        "colab": {
          "base_uri": "https://localhost:8080/"
        },
        "id": "sdgO3-b2DQ4r",
        "outputId": "2ebed23a-4a6c-4b2f-82af-622cdf7fab45"
      },
      "source": [
        "area_rf2"
      ],
      "execution_count": null,
      "outputs": [
        {
          "output_type": "execute_result",
          "data": {
            "text/plain": [
              "0.6679276878984178"
            ]
          },
          "metadata": {
            "tags": []
          },
          "execution_count": 71
        }
      ]
    },
    {
      "cell_type": "code",
      "metadata": {
        "colab": {
          "base_uri": "https://localhost:8080/"
        },
        "id": "E_ReexfWShmd",
        "outputId": "b4fd5548-149c-4eaa-c821-4a417c444e46"
      },
      "source": [
        "# Total + Legendary\n",
        "model_3, fpr_rf3, tpr_rf3, area_rf3 = RandomForestCaracteristicas(pokemon_nuevo, ['Type 1', 'Type 2', 'HP', 'Attack', 'Defense', 'Sp. Atk', 'Sp. Def', 'Speed'])"
      ],
      "execution_count": null,
      "outputs": [
        {
          "output_type": "stream",
          "text": [
            "Ya hemos construido el Dataframe. Ahora entrenamos el modelo.\n",
            "Accuracy of  69.35\n",
            "--------\n",
            "[[3860 1379]\n",
            " [1686 3075]]\n",
            "              precision    recall  f1-score   support\n",
            "\n",
            "           0       0.70      0.74      0.72      5239\n",
            "           1       0.69      0.65      0.67      4761\n",
            "\n",
            "    accuracy                           0.69     10000\n",
            "   macro avg       0.69      0.69      0.69     10000\n",
            "weighted avg       0.69      0.69      0.69     10000\n",
            "\n"
          ],
          "name": "stdout"
        }
      ]
    },
    {
      "cell_type": "code",
      "metadata": {
        "colab": {
          "base_uri": "https://localhost:8080/"
        },
        "id": "al3ina3bDUI_",
        "outputId": "fbf1d4b1-595d-4fc8-f25e-d6afbb175d0e"
      },
      "source": [
        "area_rf3"
      ],
      "execution_count": null,
      "outputs": [
        {
          "output_type": "execute_result",
          "data": {
            "text/plain": [
              "0.691327272204624"
            ]
          },
          "metadata": {
            "tags": []
          },
          "execution_count": 72
        }
      ]
    },
    {
      "cell_type": "code",
      "metadata": {
        "colab": {
          "base_uri": "https://localhost:8080/"
        },
        "id": "v9XVW7_BMXzf",
        "outputId": "6ee77570-4b88-4d3d-c180-a35b4b446688"
      },
      "source": [
        "# 'Type 1', 'Type 2', 'Legendary', 'Total'\n",
        "model_4, fpr_rf4, tpr_rf4, area_rf4 = RandomForestCaracteristicas(pokemon_nuevo, ['HP', 'Attack', 'Defense', 'Sp. Atk', 'Sp. Def', 'Speed'])"
      ],
      "execution_count": null,
      "outputs": [
        {
          "output_type": "stream",
          "text": [
            "Ya hemos construido el Dataframe. Ahora entrenamos el modelo.\n",
            "Accuracy of  75.79\n",
            "--------\n",
            "[[4097 1142]\n",
            " [1279 3482]]\n",
            "              precision    recall  f1-score   support\n",
            "\n",
            "           0       0.76      0.78      0.77      5239\n",
            "           1       0.75      0.73      0.74      4761\n",
            "\n",
            "    accuracy                           0.76     10000\n",
            "   macro avg       0.76      0.76      0.76     10000\n",
            "weighted avg       0.76      0.76      0.76     10000\n",
            "\n"
          ],
          "name": "stdout"
        }
      ]
    },
    {
      "cell_type": "code",
      "metadata": {
        "colab": {
          "base_uri": "https://localhost:8080/"
        },
        "id": "AkDzvMSXDXI9",
        "outputId": "53bd1930-693f-4776-c12e-81e8f0767bb1"
      },
      "source": [
        "area_rf4"
      ],
      "execution_count": null,
      "outputs": [
        {
          "output_type": "execute_result",
          "data": {
            "text/plain": [
              "0.7566892137832204"
            ]
          },
          "metadata": {
            "tags": []
          },
          "execution_count": 73
        }
      ]
    },
    {
      "cell_type": "code",
      "metadata": {
        "colab": {
          "base_uri": "https://localhost:8080/"
        },
        "id": "Lb1rc91pMzFA",
        "outputId": "82ebc4d9-b531-467f-ae1b-80244bf705e5"
      },
      "source": [
        "# 'Type 1', 'Type 2', 'HP', 'Attack', 'Defense', 'Sp. Atk', 'Sp. Def', 'Speed', 'Legendary'\n",
        "model_5, fpr_rf5, tpr_rf5, area_rf5 = RandomForestCaracteristicas(pokemon_nuevo, ['Total'])"
      ],
      "execution_count": null,
      "outputs": [
        {
          "output_type": "stream",
          "text": [
            "Ya hemos construido el Dataframe. Ahora entrenamos el modelo.\n",
            "Accuracy of  93.15\n",
            "--------\n",
            "[[4904  335]\n",
            " [ 350 4411]]\n",
            "              precision    recall  f1-score   support\n",
            "\n",
            "           0       0.93      0.94      0.93      5239\n",
            "           1       0.93      0.93      0.93      4761\n",
            "\n",
            "    accuracy                           0.93     10000\n",
            "   macro avg       0.93      0.93      0.93     10000\n",
            "weighted avg       0.93      0.93      0.93     10000\n",
            "\n"
          ],
          "name": "stdout"
        }
      ]
    },
    {
      "cell_type": "code",
      "metadata": {
        "colab": {
          "base_uri": "https://localhost:8080/"
        },
        "id": "AzCDobCcDZ1O",
        "outputId": "ac40bab9-1cb2-4d8e-b095-8a6fcb88c82d"
      },
      "source": [
        "area_rf5"
      ],
      "execution_count": null,
      "outputs": [
        {
          "output_type": "execute_result",
          "data": {
            "text/plain": [
              "0.9317296732265751"
            ]
          },
          "metadata": {
            "tags": []
          },
          "execution_count": 74
        }
      ]
    },
    {
      "cell_type": "code",
      "metadata": {
        "colab": {
          "base_uri": "https://localhost:8080/"
        },
        "id": "6_hmQr44NjGT",
        "outputId": "512e0f18-aaed-4cc0-c413-ef3b7d0addaa"
      },
      "source": [
        "# 'HP', 'Attack', 'Defense', 'Sp. Atk', 'Sp. Def', 'Speed', 'Legendary'\n",
        "model_6, fpr_rf6, tpr_rf6, area_rf6 = RandomForestCaracteristicas(pokemon_nuevo, ['Type 1', 'Type 2','Total'])"
      ],
      "execution_count": null,
      "outputs": [
        {
          "output_type": "stream",
          "text": [
            "Ya hemos construido el Dataframe. Ahora entrenamos el modelo.\n",
            "Accuracy of  92.75999999999999\n",
            "--------\n",
            "[[4878  361]\n",
            " [ 363 4398]]\n",
            "              precision    recall  f1-score   support\n",
            "\n",
            "           0       0.93      0.93      0.93      5239\n",
            "           1       0.92      0.92      0.92      4761\n",
            "\n",
            "    accuracy                           0.93     10000\n",
            "   macro avg       0.93      0.93      0.93     10000\n",
            "weighted avg       0.93      0.93      0.93     10000\n",
            "\n"
          ],
          "name": "stdout"
        }
      ]
    },
    {
      "cell_type": "code",
      "metadata": {
        "colab": {
          "base_uri": "https://localhost:8080/"
        },
        "id": "6e1xFVMiDcps",
        "outputId": "a38735db-6656-4bac-cf2b-0d09f10de161"
      },
      "source": [
        "area_rf6"
      ],
      "execution_count": null,
      "outputs": [
        {
          "output_type": "execute_result",
          "data": {
            "text/plain": [
              "0.9274246168615901"
            ]
          },
          "metadata": {
            "tags": []
          },
          "execution_count": 75
        }
      ]
    },
    {
      "cell_type": "code",
      "metadata": {
        "colab": {
          "base_uri": "https://localhost:8080/"
        },
        "id": "_HCYNPAOS4_4",
        "outputId": "793be2f5-f9e0-415d-c0c2-23e8eba2ebae"
      },
      "source": [
        "# 'Type 1', 'Type 2', 'HP', 'Attack', 'Defense', 'Sp. Atk', 'Sp. Def', 'Speed', 'Legendary', 'Total'\n",
        "model_7, fpr_rf7, tpr_rf7, area_rf7 = RandomForestCaracteristicas(pokemon_nuevo, [])"
      ],
      "execution_count": null,
      "outputs": [
        {
          "output_type": "stream",
          "text": [
            "Ya hemos construido el Dataframe. Ahora entrenamos el modelo.\n",
            "Accuracy of  92.99\n",
            "--------\n",
            "[[4890  349]\n",
            " [ 352 4409]]\n",
            "              precision    recall  f1-score   support\n",
            "\n",
            "           0       0.93      0.93      0.93      5239\n",
            "           1       0.93      0.93      0.93      4761\n",
            "\n",
            "    accuracy                           0.93     10000\n",
            "   macro avg       0.93      0.93      0.93     10000\n",
            "weighted avg       0.93      0.93      0.93     10000\n",
            "\n"
          ],
          "name": "stdout"
        }
      ]
    },
    {
      "cell_type": "code",
      "metadata": {
        "colab": {
          "base_uri": "https://localhost:8080/"
        },
        "id": "ksDCkavlDfl0",
        "outputId": "4fab2d93-75ad-43c7-d2a4-5bc358dd0d8f"
      },
      "source": [
        "area_rf7"
      ],
      "execution_count": null,
      "outputs": [
        {
          "output_type": "execute_result",
          "data": {
            "text/plain": [
              "0.9297250930816767"
            ]
          },
          "metadata": {
            "tags": []
          },
          "execution_count": 76
        }
      ]
    },
    {
      "cell_type": "code",
      "metadata": {
        "colab": {
          "base_uri": "https://localhost:8080/",
          "height": 295
        },
        "id": "jYWaiANAB7h7",
        "outputId": "6aa10f36-5007-4883-b1ea-485f030f046b"
      },
      "source": [
        "plt.figure(1)\n",
        "plt.plot([0, 1], [0, 1], 'k--')\n",
        "plt.plot(fpr_rf1, tpr_rf1, label='Pruaba 1')\n",
        "plt.plot(fpr_rf2, tpr_rf2, label='Pruaba 2')\n",
        "plt.plot(fpr_rf3, tpr_rf3, label='Pruaba 3')\n",
        "plt.plot(fpr_rf4, tpr_rf4, label='Pruaba 4')\n",
        "plt.plot(fpr_rf5, tpr_rf5, label='Pruaba 5')\n",
        "plt.plot(fpr_rf6, tpr_rf6, label='Pruaba 6')\n",
        "plt.plot(fpr_rf7, tpr_rf4, label='Pruaba 7')\n",
        "plt.xlabel('False positive rate')\n",
        "plt.ylabel('True positive rate')\n",
        "plt.title('ROC curve')\n",
        "plt.legend(loc='best')\n",
        "plt.show()"
      ],
      "execution_count": null,
      "outputs": [
        {
          "output_type": "display_data",
          "data": {
            "image/png": "[encoded data removed]",
            "text/plain": [
              "<Figure size 432x288 with 1 Axes>"
            ]
          },
          "metadata": {
            "tags": [],
            "needs_background": "light"
          }
        }
      ]
    },
    {
      "cell_type": "code",
      "metadata": {
        "id": "HO55qs55v9Ej"
      },
      "source": [
        "test_nuevo = construirDataFrameTest(tests, ['Type 1', 'Type 2', 'HP', 'Attack', 'Defense', 'Sp. Atk', 'Sp. Def', 'Speed', 'Legendary', 'Total'])"
      ],
      "execution_count": null,
      "outputs": []
    },
    {
      "cell_type": "code",
      "metadata": {
        "colab": {
          "base_uri": "https://localhost:8080/",
          "height": 221
        },
        "id": "WwxNsWZUHZLu",
        "outputId": "55d03555-67f5-4be5-ae74-72048b7ed678"
      },
      "source": [
        "test_nuevo.head()"
      ],
      "execution_count": null,
      "outputs": [
        {
          "output_type": "execute_result",
          "data": {
            "text/html": [
              "<div>\n",
              "<style scoped>\n",
              "    .dataframe tbody tr th:only-of-type {\n",
              "        vertical-align: middle;\n",
              "    }\n",
              "\n",
              "    .dataframe tbody tr th {\n",
              "        vertical-align: top;\n",
              "    }\n",
              "\n",
              "    .dataframe thead th {\n",
              "        text-align: right;\n",
              "    }\n",
              "</style>\n",
              "<table border=\"1\" class=\"dataframe\">\n",
              "  <thead>\n",
              "    <tr style=\"text-align: right;\">\n",
              "      <th></th>\n",
              "      <th>Type 1_1</th>\n",
              "      <th>Type 1_2</th>\n",
              "      <th>Type 2_1</th>\n",
              "      <th>Type 2_2</th>\n",
              "      <th>HP_1</th>\n",
              "      <th>HP_2</th>\n",
              "      <th>Attack_1</th>\n",
              "      <th>Attack_2</th>\n",
              "      <th>Defense_1</th>\n",
              "      <th>Defense_2</th>\n",
              "      <th>Sp. Atk_1</th>\n",
              "      <th>Sp. Atk_2</th>\n",
              "      <th>Sp. Def_1</th>\n",
              "      <th>Sp. Def_2</th>\n",
              "      <th>Speed_1</th>\n",
              "      <th>Speed_2</th>\n",
              "      <th>Legendary_1</th>\n",
              "      <th>Legendary_2</th>\n",
              "      <th>Total_1</th>\n",
              "      <th>Total_2</th>\n",
              "    </tr>\n",
              "  </thead>\n",
              "  <tbody>\n",
              "    <tr>\n",
              "      <th>0</th>\n",
              "      <td>17</td>\n",
              "      <td>12</td>\n",
              "      <td>0</td>\n",
              "      <td>0</td>\n",
              "      <td>7</td>\n",
              "      <td>8</td>\n",
              "      <td>6</td>\n",
              "      <td>2</td>\n",
              "      <td>4</td>\n",
              "      <td>5</td>\n",
              "      <td>4</td>\n",
              "      <td>3</td>\n",
              "      <td>6</td>\n",
              "      <td>5</td>\n",
              "      <td>5</td>\n",
              "      <td>0</td>\n",
              "      <td>False</td>\n",
              "      <td>False</td>\n",
              "      <td>4</td>\n",
              "      <td>3</td>\n",
              "    </tr>\n",
              "    <tr>\n",
              "      <th>1</th>\n",
              "      <td>9</td>\n",
              "      <td>17</td>\n",
              "      <td>17</td>\n",
              "      <td>11</td>\n",
              "      <td>6</td>\n",
              "      <td>8</td>\n",
              "      <td>6</td>\n",
              "      <td>5</td>\n",
              "      <td>9</td>\n",
              "      <td>6</td>\n",
              "      <td>3</td>\n",
              "      <td>4</td>\n",
              "      <td>9</td>\n",
              "      <td>4</td>\n",
              "      <td>0</td>\n",
              "      <td>1</td>\n",
              "      <td>False</td>\n",
              "      <td>False</td>\n",
              "      <td>6</td>\n",
              "      <td>4</td>\n",
              "    </tr>\n",
              "    <tr>\n",
              "      <th>2</th>\n",
              "      <td>3</td>\n",
              "      <td>5</td>\n",
              "      <td>8</td>\n",
              "      <td>0</td>\n",
              "      <td>6</td>\n",
              "      <td>1</td>\n",
              "      <td>7</td>\n",
              "      <td>8</td>\n",
              "      <td>4</td>\n",
              "      <td>2</td>\n",
              "      <td>9</td>\n",
              "      <td>0</td>\n",
              "      <td>6</td>\n",
              "      <td>9</td>\n",
              "      <td>8</td>\n",
              "      <td>7</td>\n",
              "      <td>True</td>\n",
              "      <td>False</td>\n",
              "      <td>8</td>\n",
              "      <td>5</td>\n",
              "    </tr>\n",
              "    <tr>\n",
              "      <th>3</th>\n",
              "      <td>3</td>\n",
              "      <td>9</td>\n",
              "      <td>0</td>\n",
              "      <td>0</td>\n",
              "      <td>5</td>\n",
              "      <td>6</td>\n",
              "      <td>2</td>\n",
              "      <td>6</td>\n",
              "      <td>2</td>\n",
              "      <td>4</td>\n",
              "      <td>6</td>\n",
              "      <td>8</td>\n",
              "      <td>3</td>\n",
              "      <td>4</td>\n",
              "      <td>2</td>\n",
              "      <td>4</td>\n",
              "      <td>False</td>\n",
              "      <td>False</td>\n",
              "      <td>3</td>\n",
              "      <td>5</td>\n",
              "    </tr>\n",
              "    <tr>\n",
              "      <th>4</th>\n",
              "      <td>12</td>\n",
              "      <td>17</td>\n",
              "      <td>8</td>\n",
              "      <td>0</td>\n",
              "      <td>0</td>\n",
              "      <td>9</td>\n",
              "      <td>2</td>\n",
              "      <td>4</td>\n",
              "      <td>0</td>\n",
              "      <td>6</td>\n",
              "      <td>0</td>\n",
              "      <td>1</td>\n",
              "      <td>0</td>\n",
              "      <td>1</td>\n",
              "      <td>5</td>\n",
              "      <td>4</td>\n",
              "      <td>False</td>\n",
              "      <td>False</td>\n",
              "      <td>0</td>\n",
              "      <td>5</td>\n",
              "    </tr>\n",
              "  </tbody>\n",
              "</table>\n",
              "</div>"
            ],
            "text/plain": [
              "   Type 1_1  Type 1_2  Type 2_1  ...  Legendary_2  Total_1  Total_2\n",
              "0        17        12         0  ...        False        4        3\n",
              "1         9        17        17  ...        False        6        4\n",
              "2         3         5         8  ...        False        8        5\n",
              "3         3         9         0  ...        False        3        5\n",
              "4        12        17         8  ...        False        0        5\n",
              "\n",
              "[5 rows x 20 columns]"
            ]
          },
          "metadata": {
            "tags": []
          },
          "execution_count": 71
        }
      ]
    },
    {
      "cell_type": "code",
      "metadata": {
        "colab": {
          "base_uri": "https://localhost:8080/"
        },
        "id": "09wdPGKfYzT4",
        "outputId": "8d719ae6-ac19-4f51-be37-2a83e4de4acf"
      },
      "source": [
        "pred = predecirCombate(model_5, \n",
        "                test_nuevo,\n",
        "                ['Total'])"
      ],
      "execution_count": null,
      "outputs": [
        {
          "output_type": "stream",
          "text": [
            "[1 0 1 ... 1 1 0]\n"
          ],
          "name": "stdout"
        }
      ]
    },
    {
      "cell_type": "code",
      "metadata": {
        "colab": {
          "base_uri": "https://localhost:8080/",
          "height": 979
        },
        "id": "u0QICR7lalv8",
        "outputId": "af5ee2fd-09bf-476e-96f2-3576fd827099"
      },
      "source": [
        "tests.head(30)"
      ],
      "execution_count": null,
      "outputs": [
        {
          "output_type": "execute_result",
          "data": {
            "text/html": [
              "<div>\n",
              "<style scoped>\n",
              "    .dataframe tbody tr th:only-of-type {\n",
              "        vertical-align: middle;\n",
              "    }\n",
              "\n",
              "    .dataframe tbody tr th {\n",
              "        vertical-align: top;\n",
              "    }\n",
              "\n",
              "    .dataframe thead th {\n",
              "        text-align: right;\n",
              "    }\n",
              "</style>\n",
              "<table border=\"1\" class=\"dataframe\">\n",
              "  <thead>\n",
              "    <tr style=\"text-align: right;\">\n",
              "      <th></th>\n",
              "      <th>First_pokemon</th>\n",
              "      <th>Second_pokemon</th>\n",
              "    </tr>\n",
              "  </thead>\n",
              "  <tbody>\n",
              "    <tr>\n",
              "      <th>0</th>\n",
              "      <td>129</td>\n",
              "      <td>117</td>\n",
              "    </tr>\n",
              "    <tr>\n",
              "      <th>1</th>\n",
              "      <td>660</td>\n",
              "      <td>211</td>\n",
              "    </tr>\n",
              "    <tr>\n",
              "      <th>2</th>\n",
              "      <td>706</td>\n",
              "      <td>115</td>\n",
              "    </tr>\n",
              "    <tr>\n",
              "      <th>3</th>\n",
              "      <td>195</td>\n",
              "      <td>618</td>\n",
              "    </tr>\n",
              "    <tr>\n",
              "      <th>4</th>\n",
              "      <td>27</td>\n",
              "      <td>656</td>\n",
              "    </tr>\n",
              "    <tr>\n",
              "      <th>5</th>\n",
              "      <td>126</td>\n",
              "      <td>222</td>\n",
              "    </tr>\n",
              "    <tr>\n",
              "      <th>6</th>\n",
              "      <td>436</td>\n",
              "      <td>207</td>\n",
              "    </tr>\n",
              "    <tr>\n",
              "      <th>7</th>\n",
              "      <td>121</td>\n",
              "      <td>36</td>\n",
              "    </tr>\n",
              "    <tr>\n",
              "      <th>8</th>\n",
              "      <td>169</td>\n",
              "      <td>636</td>\n",
              "    </tr>\n",
              "    <tr>\n",
              "      <th>9</th>\n",
              "      <td>302</td>\n",
              "      <td>688</td>\n",
              "    </tr>\n",
              "    <tr>\n",
              "      <th>10</th>\n",
              "      <td>39</td>\n",
              "      <td>380</td>\n",
              "    </tr>\n",
              "    <tr>\n",
              "      <th>11</th>\n",
              "      <td>11</td>\n",
              "      <td>292</td>\n",
              "    </tr>\n",
              "    <tr>\n",
              "      <th>12</th>\n",
              "      <td>228</td>\n",
              "      <td>747</td>\n",
              "    </tr>\n",
              "    <tr>\n",
              "      <th>13</th>\n",
              "      <td>302</td>\n",
              "      <td>763</td>\n",
              "    </tr>\n",
              "    <tr>\n",
              "      <th>14</th>\n",
              "      <td>455</td>\n",
              "      <td>436</td>\n",
              "    </tr>\n",
              "    <tr>\n",
              "      <th>15</th>\n",
              "      <td>381</td>\n",
              "      <td>14</td>\n",
              "    </tr>\n",
              "    <tr>\n",
              "      <th>16</th>\n",
              "      <td>205</td>\n",
              "      <td>710</td>\n",
              "    </tr>\n",
              "    <tr>\n",
              "      <th>17</th>\n",
              "      <td>86</td>\n",
              "      <td>639</td>\n",
              "    </tr>\n",
              "    <tr>\n",
              "      <th>18</th>\n",
              "      <td>128</td>\n",
              "      <td>681</td>\n",
              "    </tr>\n",
              "    <tr>\n",
              "      <th>19</th>\n",
              "      <td>565</td>\n",
              "      <td>570</td>\n",
              "    </tr>\n",
              "    <tr>\n",
              "      <th>20</th>\n",
              "      <td>496</td>\n",
              "      <td>448</td>\n",
              "    </tr>\n",
              "    <tr>\n",
              "      <th>21</th>\n",
              "      <td>36</td>\n",
              "      <td>378</td>\n",
              "    </tr>\n",
              "    <tr>\n",
              "      <th>22</th>\n",
              "      <td>518</td>\n",
              "      <td>284</td>\n",
              "    </tr>\n",
              "    <tr>\n",
              "      <th>23</th>\n",
              "      <td>97</td>\n",
              "      <td>376</td>\n",
              "    </tr>\n",
              "    <tr>\n",
              "      <th>24</th>\n",
              "      <td>690</td>\n",
              "      <td>542</td>\n",
              "    </tr>\n",
              "    <tr>\n",
              "      <th>25</th>\n",
              "      <td>669</td>\n",
              "      <td>482</td>\n",
              "    </tr>\n",
              "    <tr>\n",
              "      <th>26</th>\n",
              "      <td>164</td>\n",
              "      <td>15</td>\n",
              "    </tr>\n",
              "    <tr>\n",
              "      <th>27</th>\n",
              "      <td>521</td>\n",
              "      <td>773</td>\n",
              "    </tr>\n",
              "    <tr>\n",
              "      <th>28</th>\n",
              "      <td>260</td>\n",
              "      <td>107</td>\n",
              "    </tr>\n",
              "    <tr>\n",
              "      <th>29</th>\n",
              "      <td>524</td>\n",
              "      <td>140</td>\n",
              "    </tr>\n",
              "  </tbody>\n",
              "</table>\n",
              "</div>"
            ],
            "text/plain": [
              "    First_pokemon  Second_pokemon\n",
              "0             129             117\n",
              "1             660             211\n",
              "2             706             115\n",
              "3             195             618\n",
              "4              27             656\n",
              "5             126             222\n",
              "6             436             207\n",
              "7             121              36\n",
              "8             169             636\n",
              "9             302             688\n",
              "10             39             380\n",
              "11             11             292\n",
              "12            228             747\n",
              "13            302             763\n",
              "14            455             436\n",
              "15            381              14\n",
              "16            205             710\n",
              "17             86             639\n",
              "18            128             681\n",
              "19            565             570\n",
              "20            496             448\n",
              "21             36             378\n",
              "22            518             284\n",
              "23             97             376\n",
              "24            690             542\n",
              "25            669             482\n",
              "26            164              15\n",
              "27            521             773\n",
              "28            260             107\n",
              "29            524             140"
            ]
          },
          "metadata": {
            "tags": []
          },
          "execution_count": 87
        }
      ]
    },
    {
      "cell_type": "code",
      "metadata": {
        "colab": {
          "base_uri": "https://localhost:8080/"
        },
        "id": "2vjkmP9WNE6V",
        "outputId": "020ec38a-e64c-48cb-8d6a-505fd031a671"
      },
      "source": [
        "pred[0]"
      ],
      "execution_count": null,
      "outputs": [
        {
          "output_type": "execute_result",
          "data": {
            "text/plain": [
              "1"
            ]
          },
          "metadata": {
            "tags": []
          },
          "execution_count": 77
        }
      ]
    },
    {
      "cell_type": "code",
      "metadata": {
        "colab": {
          "base_uri": "https://localhost:8080/"
        },
        "id": "cncg1Q4KMAgP",
        "outputId": "ab4ee9be-d5c5-47c9-bc63-4cdcfa69f7ca"
      },
      "source": [
        "pokemon_original.iloc[128]"
      ],
      "execution_count": null,
      "outputs": [
        {
          "output_type": "execute_result",
          "data": {
            "text/plain": [
              "#                 129\n",
              "Name          Seaking\n",
              "Type 1          Water\n",
              "Type 2            NaN\n",
              "HP                 80\n",
              "Attack             92\n",
              "Defense            65\n",
              "Sp. Atk            65\n",
              "Sp. Def            80\n",
              "Speed              68\n",
              "Generation          1\n",
              "Legendary       False\n",
              "Name: 128, dtype: object"
            ]
          },
          "metadata": {
            "tags": []
          },
          "execution_count": 78
        }
      ]
    },
    {
      "cell_type": "code",
      "metadata": {
        "colab": {
          "base_uri": "https://localhost:8080/"
        },
        "id": "bt-sabrINJpH",
        "outputId": "df289e6d-9047-455b-9de6-9ec813cd243f"
      },
      "source": [
        "pokemon_original.iloc[116]"
      ],
      "execution_count": null,
      "outputs": [
        {
          "output_type": "execute_result",
          "data": {
            "text/plain": [
              "#                   117\n",
              "Name          Lickitung\n",
              "Type 1           Normal\n",
              "Type 2              NaN\n",
              "HP                   90\n",
              "Attack               55\n",
              "Defense              75\n",
              "Sp. Atk              60\n",
              "Sp. Def              75\n",
              "Speed                30\n",
              "Generation            1\n",
              "Legendary         False\n",
              "Name: 116, dtype: object"
            ]
          },
          "metadata": {
            "tags": []
          },
          "execution_count": 79
        }
      ]
    },
    {
      "cell_type": "code",
      "metadata": {
        "colab": {
          "base_uri": "https://localhost:8080/"
        },
        "id": "lCYWMFS3H9fm",
        "outputId": "e361784f-7a56-4eef-9881-df07e82353af"
      },
      "source": [
        "pred[26]"
      ],
      "execution_count": null,
      "outputs": [
        {
          "output_type": "execute_result",
          "data": {
            "text/plain": [
              "1"
            ]
          },
          "metadata": {
            "tags": []
          },
          "execution_count": 88
        }
      ]
    },
    {
      "cell_type": "code",
      "metadata": {
        "colab": {
          "base_uri": "https://localhost:8080/"
        },
        "id": "4XVMsXGJauA8",
        "outputId": "1b3fb181-1324-44bc-eddb-509c45b81cfa"
      },
      "source": [
        "pokemon_original.iloc[163]"
      ],
      "execution_count": null,
      "outputs": [
        {
          "output_type": "execute_result",
          "data": {
            "text/plain": [
              "#                       164\n",
              "Name          Mega Mewtwo X\n",
              "Type 1              Psychic\n",
              "Type 2             Fighting\n",
              "HP                      106\n",
              "Attack                  190\n",
              "Defense                 100\n",
              "Sp. Atk                 154\n",
              "Sp. Def                 100\n",
              "Speed                   130\n",
              "Generation                1\n",
              "Legendary              True\n",
              "Name: 163, dtype: object"
            ]
          },
          "metadata": {
            "tags": []
          },
          "execution_count": 89
        }
      ]
    },
    {
      "cell_type": "code",
      "metadata": {
        "colab": {
          "base_uri": "https://localhost:8080/"
        },
        "id": "qLHkAoEaaw_7",
        "outputId": "e60bcc46-55e4-4feb-d799-001787557ced"
      },
      "source": [
        "pokemon_original.iloc[14]"
      ],
      "execution_count": null,
      "outputs": [
        {
          "output_type": "execute_result",
          "data": {
            "text/plain": [
              "#                  15\n",
              "Name          Metapod\n",
              "Type 1            Bug\n",
              "Type 2            NaN\n",
              "HP                 50\n",
              "Attack             20\n",
              "Defense            55\n",
              "Sp. Atk            25\n",
              "Sp. Def            25\n",
              "Speed              30\n",
              "Generation          1\n",
              "Legendary       False\n",
              "Name: 14, dtype: object"
            ]
          },
          "metadata": {
            "tags": []
          },
          "execution_count": 90
        }
      ]
    },
    {
      "cell_type": "code",
      "metadata": {
        "colab": {
          "base_uri": "https://localhost:8080/"
        },
        "id": "7-VWAQ9wLbe2",
        "outputId": "e3ccfc89-56b0-499b-e02d-6feb3e51debb"
      },
      "source": [
        "pred[23]"
      ],
      "execution_count": null,
      "outputs": [
        {
          "output_type": "execute_result",
          "data": {
            "text/plain": [
              "0"
            ]
          },
          "metadata": {
            "tags": []
          },
          "execution_count": 91
        }
      ]
    },
    {
      "cell_type": "code",
      "metadata": {
        "colab": {
          "base_uri": "https://localhost:8080/"
        },
        "id": "QLO4Tqg8LeMX",
        "outputId": "3c6f08be-e4f5-4dba-babc-f7635baaca54"
      },
      "source": [
        "pokemon_original.iloc[96]"
      ],
      "execution_count": null,
      "outputs": [
        {
          "output_type": "execute_result",
          "data": {
            "text/plain": [
              "#                 97\n",
              "Name             Muk\n",
              "Type 1        Poison\n",
              "Type 2           NaN\n",
              "HP               105\n",
              "Attack           105\n",
              "Defense           75\n",
              "Sp. Atk           65\n",
              "Sp. Def          100\n",
              "Speed             50\n",
              "Generation         1\n",
              "Legendary      False\n",
              "Name: 96, dtype: object"
            ]
          },
          "metadata": {
            "tags": []
          },
          "execution_count": 92
        }
      ]
    },
    {
      "cell_type": "code",
      "metadata": {
        "colab": {
          "base_uri": "https://localhost:8080/"
        },
        "id": "FbHwWGQgLjGq",
        "outputId": "ef9ef659-1c0c-4dd7-c7b4-cc43d35603ea"
      },
      "source": [
        "pokemon_original.iloc[375]"
      ],
      "execution_count": null,
      "outputs": [
        {
          "output_type": "execute_result",
          "data": {
            "text/plain": [
              "#                 376\n",
              "Name           Baltoy\n",
              "Type 1         Ground\n",
              "Type 2        Psychic\n",
              "HP                 40\n",
              "Attack             40\n",
              "Defense            55\n",
              "Sp. Atk            40\n",
              "Sp. Def            70\n",
              "Speed              55\n",
              "Generation          3\n",
              "Legendary       False\n",
              "Name: 375, dtype: object"
            ]
          },
          "metadata": {
            "tags": []
          },
          "execution_count": 93
        }
      ]
    },
    {
      "cell_type": "markdown",
      "metadata": {
        "id": "rwM1pZMB0pEX"
      },
      "source": [
        "## Validación cruzada para árboles de decisión"
      ]
    },
    {
      "cell_type": "code",
      "metadata": {
        "id": "ayTiL_HJFkf6"
      },
      "source": [
        "pokemon_nuevo_noTotal = pokemon_nuevo.copy()"
      ],
      "execution_count": null,
      "outputs": []
    },
    {
      "cell_type": "code",
      "metadata": {
        "id": "UdMJJkdYFpI7"
      },
      "source": [
        "pokemon_nuevo_noTotal = pokemon_nuevo_noTotal.drop(columns=['Total_1', 'Total_2'])"
      ],
      "execution_count": null,
      "outputs": []
    },
    {
      "cell_type": "code",
      "metadata": {
        "id": "w8dxwVGz0oui"
      },
      "source": [
        "data, label = splitClase(pokemon_nuevo_noTotal)"
      ],
      "execution_count": null,
      "outputs": []
    },
    {
      "cell_type": "code",
      "metadata": {
        "id": "gbnuGJN41Dg3"
      },
      "source": [
        "k_fold = KFold(n_splits=5, shuffle=True, random_state=seed)"
      ],
      "execution_count": null,
      "outputs": []
    },
    {
      "cell_type": "code",
      "metadata": {
        "colab": {
          "base_uri": "https://localhost:8080/"
        },
        "id": "j873HbRk1EVr",
        "outputId": "26dfc82f-a8c2-4208-c636-37d33499aa47"
      },
      "source": [
        "depth = []\n",
        "for i in range(3,15):\n",
        "    clf = tree.DecisionTreeClassifier(max_depth=i, random_state=seed, criterion='entropy')\n",
        "    scores = cross_val_score(estimator=clf, X=data, y=label, cv=k_fold)\n",
        "    depth.append((i,scores.mean(), 'entropy'))\n",
        "    clf = tree.DecisionTreeClassifier(max_depth=i, random_state=seed, criterion='gini')\n",
        "    scores = cross_val_score(estimator=clf, X=data, y=label, cv=k_fold)\n",
        "    depth.append((i,scores.mean(), 'gini'))\n",
        "    #depth.append((i,scores))\n",
        "print(depth)\n"
      ],
      "execution_count": null,
      "outputs": [
        {
          "output_type": "stream",
          "text": [
            "[(3, 0.85054, 'entropy'), (3, 0.85998, 'gini'), (4, 0.88422, 'entropy'), (4, 0.89352, 'gini'), (5, 0.8999799999999999, 'entropy'), (5, 0.9015000000000001, 'gini'), (6, 0.9063399999999999, 'entropy'), (6, 0.9068400000000001, 'gini'), (7, 0.9117200000000001, 'entropy'), (7, 0.9111, 'gini'), (8, 0.9133800000000001, 'entropy'), (8, 0.91286, 'gini'), (9, 0.9141, 'entropy'), (9, 0.9128000000000001, 'gini'), (10, 0.9143000000000001, 'entropy'), (10, 0.91532, 'gini'), (11, 0.9146799999999999, 'entropy'), (11, 0.9171799999999999, 'gini'), (12, 0.91464, 'entropy'), (12, 0.91504, 'gini'), (13, 0.91324, 'entropy'), (13, 0.9131199999999999, 'gini'), (14, 0.91278, 'entropy'), (14, 0.91228, 'gini')]\n"
          ],
          "name": "stdout"
        }
      ]
    },
    {
      "cell_type": "code",
      "metadata": {
        "colab": {
          "base_uri": "https://localhost:8080/"
        },
        "id": "uyPKZ04S1G9x",
        "outputId": "6f849798-9dce-48c7-c4a5-4e11569e3c15"
      },
      "source": [
        "max = -1\n",
        "pos_max = -1\n",
        "for i,j in enumerate(depth):\n",
        "  if j[1] > max:\n",
        "    max = j[1]\n",
        "    pos_max = i\n",
        "\n",
        "print(depth[pos_max])"
      ],
      "execution_count": null,
      "outputs": [
        {
          "output_type": "stream",
          "text": [
            "(11, 0.9171799999999999, 'gini')\n"
          ],
          "name": "stdout"
        }
      ]
    },
    {
      "cell_type": "code",
      "metadata": {
        "id": "NuyWdsCf1Ucf"
      },
      "source": [
        " datos_train, datos_test, labels_train, labels_test = train_test_split( data, label, test_size=test, random_state=seed)"
      ],
      "execution_count": null,
      "outputs": []
    },
    {
      "cell_type": "code",
      "metadata": {
        "id": "oZEAgS4c1YeG"
      },
      "source": [
        "tree_var = tree.DecisionTreeClassifier(max_depth=11, random_state=seed, criterion='gini')\n",
        "tree_var = tree_var.fit(datos_train, labels_train)\n",
        "predictions = tree_var.predict(datos_test)"
      ],
      "execution_count": null,
      "outputs": []
    },
    {
      "cell_type": "code",
      "metadata": {
        "colab": {
          "base_uri": "https://localhost:8080/"
        },
        "id": "T2KRgtM-1c3C",
        "outputId": "cb25a9fb-9a5a-48b4-91a5-11e61addcdee"
      },
      "source": [
        "print('Accuracy of ', accuracy_score(predictions, labels_test)*100)\n",
        "print('--------')\n",
        "print(metrics.confusion_matrix(labels_test, predictions ))\n",
        "print(metrics.classification_report(labels_test, predictions))  "
      ],
      "execution_count": null,
      "outputs": [
        {
          "output_type": "stream",
          "text": [
            "Accuracy of  91.64999999999999\n",
            "--------\n",
            "[[4796  443]\n",
            " [ 392 4369]]\n",
            "              precision    recall  f1-score   support\n",
            "\n",
            "           0       0.92      0.92      0.92      5239\n",
            "           1       0.91      0.92      0.91      4761\n",
            "\n",
            "    accuracy                           0.92     10000\n",
            "   macro avg       0.92      0.92      0.92     10000\n",
            "weighted avg       0.92      0.92      0.92     10000\n",
            "\n"
          ],
          "name": "stdout"
        }
      ]
    },
    {
      "cell_type": "code",
      "metadata": {
        "colab": {
          "base_uri": "https://localhost:8080/"
        },
        "id": "GsIup-vABl-9",
        "outputId": "3ccd918b-e129-45fc-8964-9a9109582f33"
      },
      "source": [
        "fpr_kv, tpr_kv, _ = metrics.roc_curve(labels_test, predictions)\n",
        "area_kv = metrics.roc_auc_score(labels_test, predictions)\n",
        "area_kv"
      ],
      "execution_count": null,
      "outputs": [
        {
          "output_type": "execute_result",
          "data": {
            "text/plain": [
              "0.9165531172243588"
            ]
          },
          "metadata": {
            "tags": []
          },
          "execution_count": 96
        }
      ]
    },
    {
      "cell_type": "markdown",
      "metadata": {
        "id": "z0OsWbcDKDpa"
      },
      "source": [
        "## Red neuronal"
      ]
    },
    {
      "cell_type": "code",
      "metadata": {
        "id": "Yl3KSVpYOE77"
      },
      "source": [
        "from sklearn.neural_network import MLPClassifier"
      ],
      "execution_count": null,
      "outputs": []
    },
    {
      "cell_type": "code",
      "metadata": {
        "id": "4YRnJ45hODEA"
      },
      "source": [
        "def RedNeuronalCaracteristicas(df, caracteristicas_eliminar, clf):\n",
        "\n",
        "  combats_total = df.copy()\n",
        "\n",
        "  # Eliminamos las características del dataframe\n",
        "  for i in caracteristicas_eliminar:\n",
        "    combats_total = combats_total.drop(columns=[i+'_1', i+'_2'])\n",
        "\n",
        "  print(\"Ya hemos construido el Dataframe. Ahora entrenamos el modelo.\")\n",
        "\n",
        "  ## Separamos la columna del ganador\n",
        "  data, label = splitClase(combats_total)\n",
        "\n",
        "  ## Separamos conjuntos de entrenamiento y prueba\n",
        "  datos_train, datos_test, labels_train, labels_test = train_test_split( data, label, test_size=test, random_state=seed)\n",
        "\n",
        "  model = clf.fit(datos_train, labels_train) #training\n",
        "  pred = model.predict(datos_test) #predicting on validation set\n",
        "\n",
        "  print('Accuracy of ', accuracy_score(pred, labels_test)*100)\n",
        "  print('--------')\n",
        "  print(metrics.confusion_matrix(labels_test, pred ))\n",
        "  print(metrics.classification_report(labels_test, pred))  \n",
        "\n",
        "  # Tasas de falsos positivos, verdaeros positivos y área bajo al curva\n",
        "  fpr, tpr, _ = metrics.roc_curve(labels_test, pred)\n",
        "  area = metrics.roc_auc_score(labels_test, pred)\n",
        "\n",
        "  return clf, fpr, tpr, area"
      ],
      "execution_count": null,
      "outputs": []
    },
    {
      "cell_type": "code",
      "metadata": {
        "colab": {
          "base_uri": "https://localhost:8080/"
        },
        "id": "8we8m1T2QbSe",
        "outputId": "173164b9-b7ba-4b74-ce80-69aec7f48928"
      },
      "source": [
        "# 'Type 1', 'Type 2','HP', 'Attack', 'Defense', 'Sp. Atk', 'Sp. Def', 'Speed', 'Legendary', \n",
        "clf = MLPClassifier(solver='adam', alpha=1e-5,\n",
        "                     hidden_layer_sizes=(18,9,5), random_state=seed)\n",
        "clf, fpr_nn, tpr_nn, area_nn = RedNeuronalCaracteristicas(pokemon_nuevo, ['Total'], clf)"
      ],
      "execution_count": null,
      "outputs": [
        {
          "output_type": "stream",
          "text": [
            "Ya hemos construido el Dataframe. Ahora entrenamos el modelo.\n",
            "Accuracy of  91.06\n",
            "--------\n",
            "[[4895  344]\n",
            " [ 550 4211]]\n",
            "              precision    recall  f1-score   support\n",
            "\n",
            "           0       0.90      0.93      0.92      5239\n",
            "           1       0.92      0.88      0.90      4761\n",
            "\n",
            "    accuracy                           0.91     10000\n",
            "   macro avg       0.91      0.91      0.91     10000\n",
            "weighted avg       0.91      0.91      0.91     10000\n",
            "\n"
          ],
          "name": "stdout"
        }
      ]
    },
    {
      "cell_type": "code",
      "metadata": {
        "colab": {
          "base_uri": "https://localhost:8080/"
        },
        "id": "S-cnlMRBN7Gk",
        "outputId": "f9891b52-7d6f-4ca1-a5c4-cfac18a959e0"
      },
      "source": [
        "area_nn"
      ],
      "execution_count": null,
      "outputs": [
        {
          "output_type": "execute_result",
          "data": {
            "text/plain": [
              "0.9094083325345079"
            ]
          },
          "metadata": {
            "tags": []
          },
          "execution_count": 110
        }
      ]
    },
    {
      "cell_type": "markdown",
      "metadata": {
        "id": "7MN1UulzyqIr"
      },
      "source": [
        "## Regresión logística"
      ]
    },
    {
      "cell_type": "code",
      "metadata": {
        "id": "v8__Ck-1y3Kf"
      },
      "source": [
        "from sklearn.linear_model import LogisticRegression"
      ],
      "execution_count": null,
      "outputs": []
    },
    {
      "cell_type": "code",
      "metadata": {
        "id": "-xsxPHjYyjB-"
      },
      "source": [
        "def RegLogisticaCaracteristicas(df, caracteristicas_eliminar):\n",
        "\n",
        "  combats_total = df.copy()\n",
        "\n",
        "  # Eliminamos las características del dataframe\n",
        "  for i in caracteristicas_eliminar:\n",
        "    combats_total = combats_total.drop(columns=[i+'_1', i+'_2'])\n",
        "\n",
        "  print(\"Ya hemos construido el Dataframe. Ahora entrenamos el modelo.\")\n",
        "\n",
        "  ## Separamos la columna del ganador\n",
        "  data, label = splitClase(combats_total)\n",
        "\n",
        "  ## Separamos conjuntos de entrenamiento y prueba\n",
        "  datos_train, datos_test, labels_train, labels_test = train_test_split( data, label, test_size=test, random_state=seed)\n",
        "\n",
        "  logReg = LogisticRegression(max_iter=500, random_state=seed)\n",
        "  logReg = logReg.fit(datos_train, labels_train)\n",
        "  pred = logReg.predict(datos_test)\n",
        "\n",
        "  print('Accuracy of ', accuracy_score(pred, labels_test)*100)\n",
        "  print('--------')\n",
        "  print(metrics.confusion_matrix(labels_test, pred ))\n",
        "  print(metrics.classification_report(labels_test, pred))  \n",
        "\n",
        "  # Tasas de falsos positivos, verdaeros positivos y área bajo al curva\n",
        "  fpr, tpr, _ = metrics.roc_curve(labels_test, pred)\n",
        "  area = metrics.roc_auc_score(labels_test, pred)\n",
        "\n",
        "  return logReg, fpr, tpr, area"
      ],
      "execution_count": null,
      "outputs": []
    },
    {
      "cell_type": "code",
      "metadata": {
        "colab": {
          "base_uri": "https://localhost:8080/"
        },
        "id": "4skwF_TTzELD",
        "outputId": "7b438f37-c96f-4922-ef0d-1f1554f065ca"
      },
      "source": [
        "_, fpr_rg, tpr_rg, area_rg = RegLogisticaCaracteristicas(pokemon_nuevo, ['Total'])"
      ],
      "execution_count": null,
      "outputs": [
        {
          "output_type": "stream",
          "text": [
            "Ya hemos construido el Dataframe. Ahora entrenamos el modelo.\n",
            "Accuracy of  87.67\n",
            "--------\n",
            "[[4630  609]\n",
            " [ 624 4137]]\n",
            "              precision    recall  f1-score   support\n",
            "\n",
            "           0       0.88      0.88      0.88      5239\n",
            "           1       0.87      0.87      0.87      4761\n",
            "\n",
            "    accuracy                           0.88     10000\n",
            "   macro avg       0.88      0.88      0.88     10000\n",
            "weighted avg       0.88      0.88      0.88     10000\n",
            "\n"
          ],
          "name": "stdout"
        }
      ]
    },
    {
      "cell_type": "code",
      "metadata": {
        "colab": {
          "base_uri": "https://localhost:8080/"
        },
        "id": "JwmSfW6jN-Le",
        "outputId": "c0f4d258-b11f-4940-df3d-fa87d40443df"
      },
      "source": [
        "area_rg"
      ],
      "execution_count": null,
      "outputs": [
        {
          "output_type": "execute_result",
          "data": {
            "text/plain": [
              "0.8763457698688272"
            ]
          },
          "metadata": {
            "tags": []
          },
          "execution_count": 111
        }
      ]
    },
    {
      "cell_type": "code",
      "metadata": {
        "colab": {
          "base_uri": "https://localhost:8080/",
          "height": 295
        },
        "id": "y1Af3lfnMnEX",
        "outputId": "c5707fdd-04ab-40ea-bb40-984ee67c5450"
      },
      "source": [
        "plt.figure(1)\n",
        "plt.plot([0, 1], [0, 1], 'k--')\n",
        "plt.plot(fpr_rf5, tpr_rf5, label='RandomForest')\n",
        "plt.plot(fpr_kv, tpr_kv, label='Árbol decisión')\n",
        "plt.plot(fpr_nn, tpr_nn, label='Red neuronal')\n",
        "plt.plot(fpr_rg, tpr_rg, label='Regresión logística')\n",
        "plt.xlabel('False positive rate')\n",
        "plt.ylabel('True positive rate')\n",
        "plt.title('ROC curve')\n",
        "plt.legend(loc='best')\n",
        "plt.show()"
      ],
      "execution_count": null,
      "outputs": [
        {
          "output_type": "display_data",
          "data": {
            "image/png": "[encoded data removed]",
            "text/plain": [
              "<Figure size 432x288 with 1 Axes>"
            ]
          },
          "metadata": {
            "tags": [],
            "needs_background": "light"
          }
        }
      ]
    }
  ]
}